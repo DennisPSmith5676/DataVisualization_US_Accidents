{
 "cells": [
  {
   "cell_type": "code",
   "execution_count": 1,
   "id": "6173b22a",
   "metadata": {},
   "outputs": [],
   "source": [
    "import warnings\n",
    "warnings.filterwarnings('ignore')"
   ]
  },
  {
   "cell_type": "code",
   "execution_count": 2,
   "id": "e53a8d6e",
   "metadata": {},
   "outputs": [],
   "source": [
    "#import dependencies\n",
    "import numpy as np\n",
    "import pandas as pd\n",
    "from pathlib import Path\n",
    "from collections import Counter"
   ]
  },
  {
   "cell_type": "code",
   "execution_count": 3,
   "id": "d5b8cd00",
   "metadata": {},
   "outputs": [],
   "source": [
    "from sklearn.metrics import balanced_accuracy_score\n",
    "from sklearn.metrics import confusion_matrix\n",
    "from imblearn.metrics import classification_report_imbalanced\n",
    "from sklearn.preprocessing import LabelEncoder"
   ]
  },
  {
   "cell_type": "code",
   "execution_count": 4,
   "id": "f31e557c",
   "metadata": {},
   "outputs": [],
   "source": [
    "# Files to laod\n",
    "accident_data= \"DataFile/mock_accident_data.csv\"\n",
    "#accident_data=\"https://umausdata.s3.amazonaws.com/DataFile/mock_accident_data.csv\"\n",
    "accident_df=pd.read_csv(accident_data)"
   ]
  },
  {
   "cell_type": "code",
   "execution_count": 5,
   "id": "27aaf4f9",
   "metadata": {},
   "outputs": [
    {
     "data": {
      "text/html": [
       "<div>\n",
       "<style scoped>\n",
       "    .dataframe tbody tr th:only-of-type {\n",
       "        vertical-align: middle;\n",
       "    }\n",
       "\n",
       "    .dataframe tbody tr th {\n",
       "        vertical-align: top;\n",
       "    }\n",
       "\n",
       "    .dataframe thead th {\n",
       "        text-align: right;\n",
       "    }\n",
       "</style>\n",
       "<table border=\"1\" class=\"dataframe\">\n",
       "  <thead>\n",
       "    <tr style=\"text-align: right;\">\n",
       "      <th></th>\n",
       "      <th>ID</th>\n",
       "      <th>Severity</th>\n",
       "      <th>Start_Time</th>\n",
       "      <th>End_Time</th>\n",
       "      <th>Start_Lat</th>\n",
       "      <th>Start_Lng</th>\n",
       "      <th>End_Lat</th>\n",
       "      <th>End_Lng</th>\n",
       "      <th>Distance(mi)</th>\n",
       "      <th>Description</th>\n",
       "      <th>...</th>\n",
       "      <th>Station</th>\n",
       "      <th>Stop</th>\n",
       "      <th>Traffic_Calming</th>\n",
       "      <th>Traffic_Signal</th>\n",
       "      <th>Turning_Loop</th>\n",
       "      <th>Sunrise_Sunset</th>\n",
       "      <th>Civil_Twilight</th>\n",
       "      <th>Nautical_Twilight</th>\n",
       "      <th>Astronomical_Twilight</th>\n",
       "      <th>Year</th>\n",
       "    </tr>\n",
       "  </thead>\n",
       "  <tbody>\n",
       "    <tr>\n",
       "      <th>0</th>\n",
       "      <td>1417512</td>\n",
       "      <td>2</td>\n",
       "      <td>2021-12-12 13:42:00</td>\n",
       "      <td>2021-12-12 14:18:00</td>\n",
       "      <td>47.761441</td>\n",
       "      <td>-117.407294</td>\n",
       "      <td>47.751161</td>\n",
       "      <td>-117.410884</td>\n",
       "      <td>0.730</td>\n",
       "      <td>Stationary traffic on US-395 N - US-395 S from...</td>\n",
       "      <td>...</td>\n",
       "      <td>False</td>\n",
       "      <td>False</td>\n",
       "      <td>False</td>\n",
       "      <td>False</td>\n",
       "      <td>False</td>\n",
       "      <td>Day</td>\n",
       "      <td>Day</td>\n",
       "      <td>Day</td>\n",
       "      <td>Day</td>\n",
       "      <td>2021</td>\n",
       "    </tr>\n",
       "    <tr>\n",
       "      <th>1</th>\n",
       "      <td>2019639</td>\n",
       "      <td>2</td>\n",
       "      <td>2020-11-26 03:13:27</td>\n",
       "      <td>2020-11-26 06:13:27</td>\n",
       "      <td>45.695947</td>\n",
       "      <td>-111.046103</td>\n",
       "      <td>45.698087</td>\n",
       "      <td>-111.046103</td>\n",
       "      <td>0.148</td>\n",
       "      <td>Incident on I-90 WB near 7TH AVE Drive with ca...</td>\n",
       "      <td>...</td>\n",
       "      <td>False</td>\n",
       "      <td>False</td>\n",
       "      <td>False</td>\n",
       "      <td>True</td>\n",
       "      <td>False</td>\n",
       "      <td>Night</td>\n",
       "      <td>Night</td>\n",
       "      <td>Night</td>\n",
       "      <td>Night</td>\n",
       "      <td>2020</td>\n",
       "    </tr>\n",
       "    <tr>\n",
       "      <th>2</th>\n",
       "      <td>444459</td>\n",
       "      <td>2</td>\n",
       "      <td>2021-08-16 08:06:57</td>\n",
       "      <td>2021-08-16 10:09:50</td>\n",
       "      <td>25.700057</td>\n",
       "      <td>-80.412909</td>\n",
       "      <td>25.699018</td>\n",
       "      <td>-80.414553</td>\n",
       "      <td>0.125</td>\n",
       "      <td>Stationary traffic from SW 135th Ct to SW 73rd...</td>\n",
       "      <td>...</td>\n",
       "      <td>False</td>\n",
       "      <td>False</td>\n",
       "      <td>False</td>\n",
       "      <td>False</td>\n",
       "      <td>False</td>\n",
       "      <td>Day</td>\n",
       "      <td>Day</td>\n",
       "      <td>Day</td>\n",
       "      <td>Day</td>\n",
       "      <td>2021</td>\n",
       "    </tr>\n",
       "    <tr>\n",
       "      <th>3</th>\n",
       "      <td>1218878</td>\n",
       "      <td>2</td>\n",
       "      <td>2021-08-10 13:57:00</td>\n",
       "      <td>2021-08-10 15:37:03</td>\n",
       "      <td>43.618999</td>\n",
       "      <td>-116.243505</td>\n",
       "      <td>43.618958</td>\n",
       "      <td>-116.244466</td>\n",
       "      <td>0.048</td>\n",
       "      <td>Incident on FAIRVIEW AVE WB near ORCHARD ST Dr...</td>\n",
       "      <td>...</td>\n",
       "      <td>True</td>\n",
       "      <td>False</td>\n",
       "      <td>False</td>\n",
       "      <td>True</td>\n",
       "      <td>False</td>\n",
       "      <td>Day</td>\n",
       "      <td>Day</td>\n",
       "      <td>Day</td>\n",
       "      <td>Day</td>\n",
       "      <td>2021</td>\n",
       "    </tr>\n",
       "    <tr>\n",
       "      <th>4</th>\n",
       "      <td>2301904</td>\n",
       "      <td>2</td>\n",
       "      <td>2020-01-15 19:00:00</td>\n",
       "      <td>2020-01-15 19:33:23</td>\n",
       "      <td>38.439847</td>\n",
       "      <td>-121.402796</td>\n",
       "      <td>38.439847</td>\n",
       "      <td>-121.402796</td>\n",
       "      <td>0.000</td>\n",
       "      <td>At Sheldon Rd - Accident.</td>\n",
       "      <td>...</td>\n",
       "      <td>False</td>\n",
       "      <td>False</td>\n",
       "      <td>False</td>\n",
       "      <td>False</td>\n",
       "      <td>False</td>\n",
       "      <td>Night</td>\n",
       "      <td>Night</td>\n",
       "      <td>Night</td>\n",
       "      <td>Night</td>\n",
       "      <td>2020</td>\n",
       "    </tr>\n",
       "  </tbody>\n",
       "</table>\n",
       "<p>5 rows × 47 columns</p>\n",
       "</div>"
      ],
      "text/plain": [
       "        ID  Severity           Start_Time             End_Time  Start_Lat  \\\n",
       "0  1417512         2  2021-12-12 13:42:00  2021-12-12 14:18:00  47.761441   \n",
       "1  2019639         2  2020-11-26 03:13:27  2020-11-26 06:13:27  45.695947   \n",
       "2   444459         2  2021-08-16 08:06:57  2021-08-16 10:09:50  25.700057   \n",
       "3  1218878         2  2021-08-10 13:57:00  2021-08-10 15:37:03  43.618999   \n",
       "4  2301904         2  2020-01-15 19:00:00  2020-01-15 19:33:23  38.439847   \n",
       "\n",
       "    Start_Lng    End_Lat     End_Lng  Distance(mi)  \\\n",
       "0 -117.407294  47.751161 -117.410884         0.730   \n",
       "1 -111.046103  45.698087 -111.046103         0.148   \n",
       "2  -80.412909  25.699018  -80.414553         0.125   \n",
       "3 -116.243505  43.618958 -116.244466         0.048   \n",
       "4 -121.402796  38.439847 -121.402796         0.000   \n",
       "\n",
       "                                         Description  ... Station   Stop  \\\n",
       "0  Stationary traffic on US-395 N - US-395 S from...  ...   False  False   \n",
       "1  Incident on I-90 WB near 7TH AVE Drive with ca...  ...   False  False   \n",
       "2  Stationary traffic from SW 135th Ct to SW 73rd...  ...   False  False   \n",
       "3  Incident on FAIRVIEW AVE WB near ORCHARD ST Dr...  ...    True  False   \n",
       "4                          At Sheldon Rd - Accident.  ...   False  False   \n",
       "\n",
       "  Traffic_Calming Traffic_Signal Turning_Loop Sunrise_Sunset Civil_Twilight  \\\n",
       "0           False          False        False            Day            Day   \n",
       "1           False           True        False          Night          Night   \n",
       "2           False          False        False            Day            Day   \n",
       "3           False           True        False            Day            Day   \n",
       "4           False          False        False          Night          Night   \n",
       "\n",
       "  Nautical_Twilight Astronomical_Twilight  Year  \n",
       "0               Day                   Day  2021  \n",
       "1             Night                 Night  2020  \n",
       "2               Day                   Day  2021  \n",
       "3               Day                   Day  2021  \n",
       "4             Night                 Night  2020  \n",
       "\n",
       "[5 rows x 47 columns]"
      ]
     },
     "execution_count": 5,
     "metadata": {},
     "output_type": "execute_result"
    }
   ],
   "source": [
    "accident_df.head()"
   ]
  },
  {
   "cell_type": "code",
   "execution_count": 6,
   "id": "a0799302",
   "metadata": {},
   "outputs": [
    {
     "name": "stdout",
     "output_type": "stream",
     "text": [
      "<class 'pandas.core.frame.DataFrame'>\n",
      "RangeIndex: 50000 entries, 0 to 49999\n",
      "Data columns (total 47 columns):\n",
      " #   Column                 Non-Null Count  Dtype  \n",
      "---  ------                 --------------  -----  \n",
      " 0   ID                     50000 non-null  int64  \n",
      " 1   Severity               50000 non-null  int64  \n",
      " 2   Start_Time             50000 non-null  object \n",
      " 3   End_Time               50000 non-null  object \n",
      " 4   Start_Lat              50000 non-null  float64\n",
      " 5   Start_Lng              50000 non-null  float64\n",
      " 6   End_Lat                50000 non-null  float64\n",
      " 7   End_Lng                50000 non-null  float64\n",
      " 8   Distance(mi)           50000 non-null  float64\n",
      " 9   Description            50000 non-null  object \n",
      " 10  Street                 50000 non-null  object \n",
      " 11  Side                   50000 non-null  object \n",
      " 12  City                   50000 non-null  object \n",
      " 13  County                 50000 non-null  object \n",
      " 14  State                  50000 non-null  object \n",
      " 15  Zipcode                50000 non-null  object \n",
      " 16  Country                50000 non-null  object \n",
      " 17  Timezone               50000 non-null  object \n",
      " 18  Airport_Code           50000 non-null  object \n",
      " 19  Weather_Timestamp      50000 non-null  object \n",
      " 20  Temperature(F)         50000 non-null  float64\n",
      " 21  Wind_Chill(F)          50000 non-null  float64\n",
      " 22  Humidity(%)            50000 non-null  float64\n",
      " 23  Pressure(in)           50000 non-null  float64\n",
      " 24  Visibility(mi)         50000 non-null  float64\n",
      " 25  Wind_Direction         50000 non-null  object \n",
      " 26  Wind_Speed(mph)        50000 non-null  float64\n",
      " 27  Precipitation(in)      50000 non-null  float64\n",
      " 28  Weather_Condition      50000 non-null  object \n",
      " 29  Amenity                50000 non-null  bool   \n",
      " 30  Bump                   50000 non-null  bool   \n",
      " 31  Crossing               50000 non-null  bool   \n",
      " 32  Give_Way               50000 non-null  bool   \n",
      " 33  Junction               50000 non-null  bool   \n",
      " 34  No_Exit                50000 non-null  bool   \n",
      " 35  Railway                50000 non-null  bool   \n",
      " 36  Roundabout             50000 non-null  bool   \n",
      " 37  Station                50000 non-null  bool   \n",
      " 38  Stop                   50000 non-null  bool   \n",
      " 39  Traffic_Calming        50000 non-null  bool   \n",
      " 40  Traffic_Signal         50000 non-null  bool   \n",
      " 41  Turning_Loop           50000 non-null  bool   \n",
      " 42  Sunrise_Sunset         50000 non-null  object \n",
      " 43  Civil_Twilight         50000 non-null  object \n",
      " 44  Nautical_Twilight      50000 non-null  object \n",
      " 45  Astronomical_Twilight  50000 non-null  object \n",
      " 46  Year                   50000 non-null  int64  \n",
      "dtypes: bool(13), float64(12), int64(3), object(19)\n",
      "memory usage: 13.6+ MB\n"
     ]
    }
   ],
   "source": [
    "accident_df.info()"
   ]
  },
  {
   "cell_type": "code",
   "execution_count": 7,
   "id": "29b02913",
   "metadata": {},
   "outputs": [],
   "source": [
    "#Drop the null columns where all values are null\n",
    "accident_df=accident_df.dropna(axis='columns',how='all')"
   ]
  },
  {
   "cell_type": "code",
   "execution_count": 8,
   "id": "c73223b1",
   "metadata": {},
   "outputs": [
    {
     "data": {
      "text/plain": [
       "(50000, 47)"
      ]
     },
     "execution_count": 8,
     "metadata": {},
     "output_type": "execute_result"
    }
   ],
   "source": [
    "accident_df.shape"
   ]
  },
  {
   "cell_type": "code",
   "execution_count": 9,
   "id": "5d455311",
   "metadata": {},
   "outputs": [],
   "source": [
    "accident_df['Start_Time'] = pd.to_datetime(accident_df['Start_Time'])"
   ]
  },
  {
   "cell_type": "code",
   "execution_count": 10,
   "id": "653b8e06",
   "metadata": {},
   "outputs": [],
   "source": [
    "#accident_df['year'] = pd.DatetimeIndex(accident_df['Start_Time']).year\n",
    "accident_df['Month'] = pd.DatetimeIndex(accident_df['Start_Time']).month\n",
    "accident_df['Day'] = pd.to_datetime(accident_df['Start_Time']).dt.day_name()"
   ]
  },
  {
   "cell_type": "code",
   "execution_count": 11,
   "id": "48c8a61a",
   "metadata": {},
   "outputs": [
    {
     "name": "stdout",
     "output_type": "stream",
     "text": [
      "Index(['ID', 'Severity', 'Start_Time', 'End_Time', 'Start_Lat', 'Start_Lng',\n",
      "       'End_Lat', 'End_Lng', 'Distance(mi)', 'Description', 'Street', 'Side',\n",
      "       'City', 'County', 'State', 'Zipcode', 'Country', 'Timezone',\n",
      "       'Airport_Code', 'Weather_Timestamp', 'Temperature(F)', 'Wind_Chill(F)',\n",
      "       'Humidity(%)', 'Pressure(in)', 'Visibility(mi)', 'Wind_Direction',\n",
      "       'Wind_Speed(mph)', 'Precipitation(in)', 'Weather_Condition', 'Amenity',\n",
      "       'Bump', 'Crossing', 'Give_Way', 'Junction', 'No_Exit', 'Railway',\n",
      "       'Roundabout', 'Station', 'Stop', 'Traffic_Calming', 'Traffic_Signal',\n",
      "       'Turning_Loop', 'Sunrise_Sunset', 'Civil_Twilight', 'Nautical_Twilight',\n",
      "       'Astronomical_Twilight', 'Year', 'Month', 'Day'],\n",
      "      dtype='object')\n"
     ]
    }
   ],
   "source": [
    "print(accident_df.columns)"
   ]
  },
  {
   "cell_type": "code",
   "execution_count": 12,
   "id": "07b1c30d",
   "metadata": {},
   "outputs": [],
   "source": [
    "#drop the non-beneficial columns\n",
    "accident_df=accident_df.drop(columns=['ID','End_Time','End_Lat','End_Lng','Description','Side','Airport_Code','Civil_Twilight','Nautical_Twilight','Astronomical_Twilight',\"Start_Time\",'ID','Weather_Timestamp','Zipcode','Street','Amenity','Bump','Crossing','Give_Way','Junction','No_Exit','Railway','Roundabout','Station','Stop','Traffic_Calming','Traffic_Signal','Turning_Loop','Country'])"
   ]
  },
  {
   "cell_type": "code",
   "execution_count": 13,
   "id": "8a255644",
   "metadata": {},
   "outputs": [
    {
     "data": {
      "text/plain": [
       "(50000, 21)"
      ]
     },
     "execution_count": 13,
     "metadata": {},
     "output_type": "execute_result"
    }
   ],
   "source": [
    "accident_df.shape"
   ]
  },
  {
   "cell_type": "code",
   "execution_count": 14,
   "id": "10be42bd",
   "metadata": {},
   "outputs": [
    {
     "data": {
      "text/plain": [
       "Severity               int64\n",
       "Start_Lat            float64\n",
       "Start_Lng            float64\n",
       "Distance(mi)         float64\n",
       "City                  object\n",
       "County                object\n",
       "State                 object\n",
       "Timezone              object\n",
       "Temperature(F)       float64\n",
       "Wind_Chill(F)        float64\n",
       "Humidity(%)          float64\n",
       "Pressure(in)         float64\n",
       "Visibility(mi)       float64\n",
       "Wind_Direction        object\n",
       "Wind_Speed(mph)      float64\n",
       "Precipitation(in)    float64\n",
       "Weather_Condition     object\n",
       "Sunrise_Sunset        object\n",
       "Year                   int64\n",
       "Month                  int64\n",
       "Day                   object\n",
       "dtype: object"
      ]
     },
     "execution_count": 14,
     "metadata": {},
     "output_type": "execute_result"
    }
   ],
   "source": [
    "accident_df.dtypes"
   ]
  },
  {
   "cell_type": "code",
   "execution_count": 15,
   "id": "6f1be3cb",
   "metadata": {},
   "outputs": [],
   "source": [
    "accident_df=accident_df.drop(columns=[])"
   ]
  },
  {
   "cell_type": "code",
   "execution_count": 16,
   "id": "75d77d39",
   "metadata": {},
   "outputs": [],
   "source": [
    "accident_df=accident_df.dropna()"
   ]
  },
  {
   "cell_type": "code",
   "execution_count": 17,
   "id": "b7e1c8aa",
   "metadata": {},
   "outputs": [
    {
     "data": {
      "text/plain": [
       "2    46476\n",
       "3     1472\n",
       "4     1471\n",
       "1      581\n",
       "Name: Severity, dtype: int64"
      ]
     },
     "execution_count": 17,
     "metadata": {},
     "output_type": "execute_result"
    }
   ],
   "source": [
    "# check Severity column\n",
    "accident_df['Severity'].value_counts()"
   ]
  },
  {
   "cell_type": "markdown",
   "id": "f84e5ea0",
   "metadata": {},
   "source": [
    "#### converting the string values into numerical ones using label encoder"
   ]
  },
  {
   "cell_type": "code",
   "execution_count": 18,
   "id": "d355f475",
   "metadata": {},
   "outputs": [
    {
     "data": {
      "text/plain": [
       "Index(['City', 'County', 'State', 'Timezone', 'Wind_Direction',\n",
       "       'Weather_Condition', 'Sunrise_Sunset', 'Day'],\n",
       "      dtype='object')"
      ]
     },
     "execution_count": 18,
     "metadata": {},
     "output_type": "execute_result"
    }
   ],
   "source": [
    "# To see which columns have categorical value columns\n",
    "X_cat = accident_df.select_dtypes(include='object').columns\n",
    "X_cat"
   ]
  },
  {
   "cell_type": "code",
   "execution_count": 19,
   "id": "515a7b7a",
   "metadata": {},
   "outputs": [
    {
     "name": "stdout",
     "output_type": "stream",
     "text": [
      "City \n",
      " Miami          2290\n",
      "Los Angeles    1311\n",
      "Orlando        1073\n",
      "Dallas          771\n",
      "Houston         652\n",
      "               ... \n",
      "Victoria          1\n",
      "Moyock            1\n",
      "Marrero           1\n",
      "Black Eagle       1\n",
      "Kyle              1\n",
      "Name: City, Length: 4698, dtype: int64\n",
      "--------------------------------------\n",
      "County \n",
      " Los Angeles        3791\n",
      "Miami-Dade         3050\n",
      "Orange             2190\n",
      "San Bernardino     1034\n",
      "Dallas              900\n",
      "                   ... \n",
      "Wapello               1\n",
      "Butts                 1\n",
      "Steuben               1\n",
      "Richmond County       1\n",
      "St. Joseph            1\n",
      "Name: County, Length: 1020, dtype: int64\n",
      "--------------------------------------\n",
      "State \n",
      " CA    13796\n",
      "FL     7915\n",
      "TX     2499\n",
      "OR     2252\n",
      "VA     2033\n",
      "PA     2007\n",
      "MN     1887\n",
      "NY     1868\n",
      "SC     1834\n",
      "NC     1635\n",
      "TN     1048\n",
      "LA      986\n",
      "MD      966\n",
      "NJ      934\n",
      "AZ      911\n",
      "UT      795\n",
      "MI      696\n",
      "CT      525\n",
      "IL      525\n",
      "GA      522\n",
      "WA      465\n",
      "MO      410\n",
      "AL      369\n",
      "MT      335\n",
      "CO      333\n",
      "IN      270\n",
      "OH      257\n",
      "AR      234\n",
      "DC      199\n",
      "IA      176\n",
      "OK      165\n",
      "WV      150\n",
      "ID      142\n",
      "KS      126\n",
      "MS      107\n",
      "NV       85\n",
      "MA       83\n",
      "KY       81\n",
      "DE       68\n",
      "WI       60\n",
      "RI       52\n",
      "NE       51\n",
      "NH       46\n",
      "ND       36\n",
      "NM       26\n",
      "ME       16\n",
      "WY       15\n",
      "VT        7\n",
      "SD        2\n",
      "Name: State, dtype: int64\n",
      "--------------------------------------\n",
      "Timezone \n",
      " US/Eastern     22156\n",
      "US/Pacific     16759\n",
      "US/Central      8451\n",
      "US/Mountain     2634\n",
      "Name: Timezone, dtype: int64\n",
      "--------------------------------------\n",
      "Wind_Direction \n",
      " CALM        9398\n",
      "S           3638\n",
      "W           3570\n",
      "E           2718\n",
      "WNW         2647\n",
      "N           2599\n",
      "NW          2548\n",
      "SSW         2490\n",
      "NNW         2343\n",
      "SW          2307\n",
      "VAR         2284\n",
      "SSE         2268\n",
      "WSW         2167\n",
      "SE          2008\n",
      "ESE         1848\n",
      "ENE         1799\n",
      "NE          1623\n",
      "NNE         1544\n",
      "North         57\n",
      "East          47\n",
      "West          45\n",
      "South         37\n",
      "Variable      15\n",
      "Name: Wind_Direction, dtype: int64\n",
      "--------------------------------------\n",
      "Weather_Condition \n",
      " Fair                            23525\n",
      "Cloudy                           7690\n",
      "Mostly Cloudy                    6521\n",
      "Partly Cloudy                    4390\n",
      "Light Rain                       2324\n",
      "                                ...  \n",
      "Heavy Sleet                         1\n",
      "Light Snow Shower                   1\n",
      "Heavy Thunderstorms and Rain        1\n",
      "Sleet                               1\n",
      "Wintry Mix / Windy                  1\n",
      "Name: Weather_Condition, Length: 71, dtype: int64\n",
      "--------------------------------------\n",
      "Sunrise_Sunset \n",
      " Day      31243\n",
      "Night    18757\n",
      "Name: Sunrise_Sunset, dtype: int64\n",
      "--------------------------------------\n",
      "Day \n",
      " Friday       8740\n",
      "Thursday     7895\n",
      "Wednesday    7888\n",
      "Tuesday      7503\n",
      "Monday       7111\n",
      "Saturday     6093\n",
      "Sunday       4770\n",
      "Name: Day, dtype: int64\n",
      "--------------------------------------\n"
     ]
    }
   ],
   "source": [
    "# examine all the columns\n",
    "for column in accident_df[X_cat]:\n",
    "    print(column,\"\\n\", accident_df[column].value_counts())\n",
    "    print(\"--------------------------------------\")"
   ]
  },
  {
   "cell_type": "code",
   "execution_count": 20,
   "id": "4e62d3a6",
   "metadata": {},
   "outputs": [],
   "source": [
    "from sklearn.preprocessing import LabelEncoder\n",
    "#\n",
    "# Instantiate LabelEncoder\n",
    "#\n",
    "le = LabelEncoder()\n"
   ]
  },
  {
   "cell_type": "code",
   "execution_count": 21,
   "id": "9a135671",
   "metadata": {},
   "outputs": [],
   "source": [
    "# Encode single column City\n",
    "#\n",
    "accident_df.City = le.fit_transform(accident_df.City)\n",
    "#\n",
    "# Print df.head for checking the transformation"
   ]
  },
  {
   "cell_type": "code",
   "execution_count": 22,
   "id": "244cf796",
   "metadata": {},
   "outputs": [
    {
     "data": {
      "text/plain": [
       "0        3976\n",
       "1         426\n",
       "2        2632\n",
       "3         387\n",
       "4        1244\n",
       "         ... \n",
       "49995    2180\n",
       "49996    1293\n",
       "49997    2633\n",
       "49998    2851\n",
       "49999    2070\n",
       "Name: City, Length: 50000, dtype: int32"
      ]
     },
     "execution_count": 22,
     "metadata": {},
     "output_type": "execute_result"
    }
   ],
   "source": [
    "accident_df['City']"
   ]
  },
  {
   "cell_type": "code",
   "execution_count": 67,
   "id": "67745ba6",
   "metadata": {},
   "outputs": [
    {
     "name": "stdout",
     "output_type": "stream",
     "text": [
      "4698\n"
     ]
    }
   ],
   "source": [
    "#accident_df['City'].unique().value_counts\n",
    "print(accident_df['City'].nunique())"
   ]
  },
  {
   "cell_type": "code",
   "execution_count": 23,
   "id": "1b63c1b6",
   "metadata": {},
   "outputs": [],
   "source": [
    "# Encode single column County\n",
    "#\n",
    "accident_df.County = le.fit_transform(accident_df.County)\n",
    "#\n",
    "# Print df.head for checking the transformation"
   ]
  },
  {
   "cell_type": "code",
   "execution_count": 24,
   "id": "7f06a65f",
   "metadata": {},
   "outputs": [
    {
     "data": {
      "text/plain": [
       "0        853\n",
       "1        336\n",
       "2        584\n",
       "3          3\n",
       "4        787\n",
       "        ... \n",
       "49995    663\n",
       "49996    497\n",
       "49997    584\n",
       "49998    809\n",
       "49999    447\n",
       "Name: County, Length: 50000, dtype: int32"
      ]
     },
     "execution_count": 24,
     "metadata": {},
     "output_type": "execute_result"
    }
   ],
   "source": [
    "accident_df['County']"
   ]
  },
  {
   "cell_type": "code",
   "execution_count": 68,
   "id": "5082acb0",
   "metadata": {},
   "outputs": [
    {
     "name": "stdout",
     "output_type": "stream",
     "text": [
      "1020\n"
     ]
    }
   ],
   "source": [
    "print(accident_df['County'].nunique())"
   ]
  },
  {
   "cell_type": "code",
   "execution_count": 25,
   "id": "df784171",
   "metadata": {},
   "outputs": [],
   "source": [
    "# Encode single column State\n",
    "#\n",
    "accident_df.State = le.fit_transform(accident_df.State)\n",
    "#\n",
    "# Print df.head for checking the transformation"
   ]
  },
  {
   "cell_type": "code",
   "execution_count": 26,
   "id": "995ab438",
   "metadata": {},
   "outputs": [
    {
     "data": {
      "text/plain": [
       "0        45\n",
       "1        24\n",
       "2         8\n",
       "3        11\n",
       "4         3\n",
       "         ..\n",
       "49995     3\n",
       "49996    36\n",
       "49997     8\n",
       "49998     8\n",
       "49999    22\n",
       "Name: State, Length: 50000, dtype: int32"
      ]
     },
     "execution_count": 26,
     "metadata": {},
     "output_type": "execute_result"
    }
   ],
   "source": [
    "accident_df['State']"
   ]
  },
  {
   "cell_type": "code",
   "execution_count": 27,
   "id": "1e890226",
   "metadata": {},
   "outputs": [],
   "source": [
    "# Encode single column Timezone \n",
    "#\n",
    "accident_df.Timezone  = le.fit_transform(accident_df.Timezone)\n",
    "#\n",
    "# Print df.head for checking the transformation"
   ]
  },
  {
   "cell_type": "code",
   "execution_count": 28,
   "id": "01b31f54",
   "metadata": {},
   "outputs": [
    {
     "data": {
      "text/plain": [
       "0        3\n",
       "1        2\n",
       "2        1\n",
       "3        2\n",
       "4        3\n",
       "        ..\n",
       "49995    3\n",
       "49996    1\n",
       "49997    1\n",
       "49998    0\n",
       "49999    0\n",
       "Name: Timezone, Length: 50000, dtype: int32"
      ]
     },
     "execution_count": 28,
     "metadata": {},
     "output_type": "execute_result"
    }
   ],
   "source": [
    "accident_df['Timezone']"
   ]
  },
  {
   "cell_type": "code",
   "execution_count": 29,
   "id": "ed789fb5",
   "metadata": {},
   "outputs": [],
   "source": [
    "# Encode single column Wind_Direction \n",
    "#\n",
    "accident_df.Wind_Direction  = le.fit_transform(accident_df.Wind_Direction)\n",
    "#\n",
    "# Print df.head for checking the transformation"
   ]
  },
  {
   "cell_type": "code",
   "execution_count": 30,
   "id": "0c7e2b14",
   "metadata": {},
   "outputs": [
    {
     "data": {
      "text/plain": [
       "0        15\n",
       "1         3\n",
       "2         0\n",
       "3        20\n",
       "4        13\n",
       "         ..\n",
       "49995     0\n",
       "49996     1\n",
       "49997    14\n",
       "49998     6\n",
       "49999     0\n",
       "Name: Wind_Direction, Length: 50000, dtype: int32"
      ]
     },
     "execution_count": 30,
     "metadata": {},
     "output_type": "execute_result"
    }
   ],
   "source": [
    "accident_df['Wind_Direction']"
   ]
  },
  {
   "cell_type": "code",
   "execution_count": 31,
   "id": "f68f954e",
   "metadata": {},
   "outputs": [],
   "source": [
    "# Encode single column Weather_Condition \n",
    "#\n",
    "accident_df.Weather_Condition  = le.fit_transform(accident_df.Weather_Condition)\n",
    "#\n",
    "# Print df.head for checking the transformation"
   ]
  },
  {
   "cell_type": "code",
   "execution_count": 32,
   "id": "4e9b8523",
   "metadata": {},
   "outputs": [
    {
     "data": {
      "text/plain": [
       "0        42\n",
       "1         9\n",
       "2         9\n",
       "3         9\n",
       "4         5\n",
       "         ..\n",
       "49995    46\n",
       "49996     5\n",
       "49997    42\n",
       "49998    42\n",
       "49999    17\n",
       "Name: Weather_Condition, Length: 50000, dtype: int32"
      ]
     },
     "execution_count": 32,
     "metadata": {},
     "output_type": "execute_result"
    }
   ],
   "source": [
    "accident_df['Weather_Condition']"
   ]
  },
  {
   "cell_type": "code",
   "execution_count": 33,
   "id": "14fd67c3",
   "metadata": {},
   "outputs": [],
   "source": [
    "# Encode single column Sunrise_Sunset \n",
    "#\n",
    "accident_df.Sunrise_Sunset  = le.fit_transform(accident_df.Sunrise_Sunset)\n",
    "#\n",
    "# Print df.head for checking the transformation"
   ]
  },
  {
   "cell_type": "code",
   "execution_count": 34,
   "id": "ea355e37",
   "metadata": {},
   "outputs": [
    {
     "data": {
      "text/plain": [
       "0        0\n",
       "1        1\n",
       "2        0\n",
       "3        0\n",
       "4        1\n",
       "        ..\n",
       "49995    1\n",
       "49996    0\n",
       "49997    1\n",
       "49998    0\n",
       "49999    0\n",
       "Name: Sunrise_Sunset, Length: 50000, dtype: int32"
      ]
     },
     "execution_count": 34,
     "metadata": {},
     "output_type": "execute_result"
    }
   ],
   "source": [
    "accident_df['Sunrise_Sunset']"
   ]
  },
  {
   "cell_type": "code",
   "execution_count": 35,
   "id": "ecf029f3",
   "metadata": {},
   "outputs": [],
   "source": [
    "# Encode single column Day \n",
    "#\n",
    "accident_df.Day  = le.fit_transform(accident_df.Day)\n",
    "#\n",
    "# Print df.head for checking the transformation"
   ]
  },
  {
   "cell_type": "code",
   "execution_count": 36,
   "id": "6c3e8c05",
   "metadata": {},
   "outputs": [
    {
     "data": {
      "text/plain": [
       "0        3\n",
       "1        4\n",
       "2        1\n",
       "3        5\n",
       "4        6\n",
       "        ..\n",
       "49995    4\n",
       "49996    4\n",
       "49997    0\n",
       "49998    5\n",
       "49999    6\n",
       "Name: Day, Length: 50000, dtype: int32"
      ]
     },
     "execution_count": 36,
     "metadata": {},
     "output_type": "execute_result"
    }
   ],
   "source": [
    "accident_df['Day']"
   ]
  },
  {
   "cell_type": "code",
   "execution_count": 37,
   "id": "22cf540c",
   "metadata": {},
   "outputs": [
    {
     "data": {
      "text/plain": [
       "Severity               int64\n",
       "Start_Lat            float64\n",
       "Start_Lng            float64\n",
       "Distance(mi)         float64\n",
       "City                   int32\n",
       "County                 int32\n",
       "State                  int32\n",
       "Timezone               int32\n",
       "Temperature(F)       float64\n",
       "Wind_Chill(F)        float64\n",
       "Humidity(%)          float64\n",
       "Pressure(in)         float64\n",
       "Visibility(mi)       float64\n",
       "Wind_Direction         int32\n",
       "Wind_Speed(mph)      float64\n",
       "Precipitation(in)    float64\n",
       "Weather_Condition      int32\n",
       "Sunrise_Sunset         int32\n",
       "Year                   int64\n",
       "Month                  int64\n",
       "Day                    int32\n",
       "dtype: object"
      ]
     },
     "execution_count": 37,
     "metadata": {},
     "output_type": "execute_result"
    }
   ],
   "source": [
    "accident_df.dtypes"
   ]
  },
  {
   "cell_type": "markdown",
   "id": "c9e3ef2b",
   "metadata": {},
   "source": [
    "#### Split the Data into Training and Testing"
   ]
  },
  {
   "cell_type": "code",
   "execution_count": 38,
   "id": "c0c81722",
   "metadata": {},
   "outputs": [
    {
     "data": {
      "text/html": [
       "<div>\n",
       "<style scoped>\n",
       "    .dataframe tbody tr th:only-of-type {\n",
       "        vertical-align: middle;\n",
       "    }\n",
       "\n",
       "    .dataframe tbody tr th {\n",
       "        vertical-align: top;\n",
       "    }\n",
       "\n",
       "    .dataframe thead th {\n",
       "        text-align: right;\n",
       "    }\n",
       "</style>\n",
       "<table border=\"1\" class=\"dataframe\">\n",
       "  <thead>\n",
       "    <tr style=\"text-align: right;\">\n",
       "      <th></th>\n",
       "      <th>Start_Lat</th>\n",
       "      <th>Start_Lng</th>\n",
       "      <th>Distance(mi)</th>\n",
       "      <th>City</th>\n",
       "      <th>County</th>\n",
       "      <th>State</th>\n",
       "      <th>Timezone</th>\n",
       "      <th>Temperature(F)</th>\n",
       "      <th>Wind_Chill(F)</th>\n",
       "      <th>Humidity(%)</th>\n",
       "      <th>Pressure(in)</th>\n",
       "      <th>Visibility(mi)</th>\n",
       "      <th>Wind_Direction</th>\n",
       "      <th>Wind_Speed(mph)</th>\n",
       "      <th>Precipitation(in)</th>\n",
       "      <th>Weather_Condition</th>\n",
       "      <th>Sunrise_Sunset</th>\n",
       "      <th>Year</th>\n",
       "      <th>Month</th>\n",
       "      <th>Day</th>\n",
       "    </tr>\n",
       "  </thead>\n",
       "  <tbody>\n",
       "    <tr>\n",
       "      <th>0</th>\n",
       "      <td>47.761441</td>\n",
       "      <td>-117.407294</td>\n",
       "      <td>0.730</td>\n",
       "      <td>3976</td>\n",
       "      <td>853</td>\n",
       "      <td>45</td>\n",
       "      <td>3</td>\n",
       "      <td>40.0</td>\n",
       "      <td>33.0</td>\n",
       "      <td>68.0</td>\n",
       "      <td>27.63</td>\n",
       "      <td>10.0</td>\n",
       "      <td>15</td>\n",
       "      <td>10.0</td>\n",
       "      <td>0.0</td>\n",
       "      <td>42</td>\n",
       "      <td>0</td>\n",
       "      <td>2021</td>\n",
       "      <td>12</td>\n",
       "      <td>3</td>\n",
       "    </tr>\n",
       "    <tr>\n",
       "      <th>1</th>\n",
       "      <td>45.695947</td>\n",
       "      <td>-111.046103</td>\n",
       "      <td>0.148</td>\n",
       "      <td>426</td>\n",
       "      <td>336</td>\n",
       "      <td>24</td>\n",
       "      <td>2</td>\n",
       "      <td>18.0</td>\n",
       "      <td>10.0</td>\n",
       "      <td>81.0</td>\n",
       "      <td>25.52</td>\n",
       "      <td>10.0</td>\n",
       "      <td>3</td>\n",
       "      <td>6.0</td>\n",
       "      <td>0.0</td>\n",
       "      <td>9</td>\n",
       "      <td>1</td>\n",
       "      <td>2020</td>\n",
       "      <td>11</td>\n",
       "      <td>4</td>\n",
       "    </tr>\n",
       "    <tr>\n",
       "      <th>2</th>\n",
       "      <td>25.700057</td>\n",
       "      <td>-80.412909</td>\n",
       "      <td>0.125</td>\n",
       "      <td>2632</td>\n",
       "      <td>584</td>\n",
       "      <td>8</td>\n",
       "      <td>1</td>\n",
       "      <td>80.0</td>\n",
       "      <td>80.0</td>\n",
       "      <td>90.0</td>\n",
       "      <td>29.94</td>\n",
       "      <td>10.0</td>\n",
       "      <td>0</td>\n",
       "      <td>0.0</td>\n",
       "      <td>0.0</td>\n",
       "      <td>9</td>\n",
       "      <td>0</td>\n",
       "      <td>2021</td>\n",
       "      <td>8</td>\n",
       "      <td>1</td>\n",
       "    </tr>\n",
       "    <tr>\n",
       "      <th>3</th>\n",
       "      <td>43.618999</td>\n",
       "      <td>-116.243505</td>\n",
       "      <td>0.048</td>\n",
       "      <td>387</td>\n",
       "      <td>3</td>\n",
       "      <td>11</td>\n",
       "      <td>2</td>\n",
       "      <td>88.0</td>\n",
       "      <td>88.0</td>\n",
       "      <td>16.0</td>\n",
       "      <td>27.10</td>\n",
       "      <td>10.0</td>\n",
       "      <td>20</td>\n",
       "      <td>8.0</td>\n",
       "      <td>0.0</td>\n",
       "      <td>9</td>\n",
       "      <td>0</td>\n",
       "      <td>2021</td>\n",
       "      <td>8</td>\n",
       "      <td>5</td>\n",
       "    </tr>\n",
       "    <tr>\n",
       "      <th>4</th>\n",
       "      <td>38.439847</td>\n",
       "      <td>-121.402796</td>\n",
       "      <td>0.000</td>\n",
       "      <td>1244</td>\n",
       "      <td>787</td>\n",
       "      <td>3</td>\n",
       "      <td>3</td>\n",
       "      <td>47.0</td>\n",
       "      <td>47.0</td>\n",
       "      <td>71.0</td>\n",
       "      <td>29.95</td>\n",
       "      <td>10.0</td>\n",
       "      <td>13</td>\n",
       "      <td>3.0</td>\n",
       "      <td>0.0</td>\n",
       "      <td>5</td>\n",
       "      <td>1</td>\n",
       "      <td>2020</td>\n",
       "      <td>1</td>\n",
       "      <td>6</td>\n",
       "    </tr>\n",
       "  </tbody>\n",
       "</table>\n",
       "</div>"
      ],
      "text/plain": [
       "   Start_Lat   Start_Lng  Distance(mi)  City  County  State  Timezone  \\\n",
       "0  47.761441 -117.407294         0.730  3976     853     45         3   \n",
       "1  45.695947 -111.046103         0.148   426     336     24         2   \n",
       "2  25.700057  -80.412909         0.125  2632     584      8         1   \n",
       "3  43.618999 -116.243505         0.048   387       3     11         2   \n",
       "4  38.439847 -121.402796         0.000  1244     787      3         3   \n",
       "\n",
       "   Temperature(F)  Wind_Chill(F)  Humidity(%)  Pressure(in)  Visibility(mi)  \\\n",
       "0            40.0           33.0         68.0         27.63            10.0   \n",
       "1            18.0           10.0         81.0         25.52            10.0   \n",
       "2            80.0           80.0         90.0         29.94            10.0   \n",
       "3            88.0           88.0         16.0         27.10            10.0   \n",
       "4            47.0           47.0         71.0         29.95            10.0   \n",
       "\n",
       "   Wind_Direction  Wind_Speed(mph)  Precipitation(in)  Weather_Condition  \\\n",
       "0              15             10.0                0.0                 42   \n",
       "1               3              6.0                0.0                  9   \n",
       "2               0              0.0                0.0                  9   \n",
       "3              20              8.0                0.0                  9   \n",
       "4              13              3.0                0.0                  5   \n",
       "\n",
       "   Sunrise_Sunset  Year  Month  Day  \n",
       "0               0  2021     12    3  \n",
       "1               1  2020     11    4  \n",
       "2               0  2021      8    1  \n",
       "3               0  2021      8    5  \n",
       "4               1  2020      1    6  "
      ]
     },
     "execution_count": 38,
     "metadata": {},
     "output_type": "execute_result"
    }
   ],
   "source": [
    "# Create our features\n",
    "X = accident_df.drop(\"Severity\",axis=1) \n",
    "X.head()"
   ]
  },
  {
   "cell_type": "code",
   "execution_count": 39,
   "id": "c31f1631",
   "metadata": {},
   "outputs": [
    {
     "data": {
      "text/plain": [
       "2    46476\n",
       "3     1472\n",
       "4     1471\n",
       "1      581\n",
       "Name: Severity, dtype: int64"
      ]
     },
     "execution_count": 39,
     "metadata": {},
     "output_type": "execute_result"
    }
   ],
   "source": [
    "#Create our target\n",
    "y = accident_df['Severity']\n",
    "y.value_counts()"
   ]
  },
  {
   "cell_type": "code",
   "execution_count": 40,
   "id": "a1cdfb3c",
   "metadata": {},
   "outputs": [
    {
     "data": {
      "text/plain": [
       "(50000, 20)"
      ]
     },
     "execution_count": 40,
     "metadata": {},
     "output_type": "execute_result"
    }
   ],
   "source": [
    "# examine shape of X\n",
    "\n",
    "X.shape"
   ]
  },
  {
   "cell_type": "code",
   "execution_count": null,
   "id": "add4c602",
   "metadata": {},
   "outputs": [],
   "source": []
  },
  {
   "cell_type": "code",
   "execution_count": 41,
   "id": "227d2ec6",
   "metadata": {},
   "outputs": [
    {
     "data": {
      "text/plain": [
       "(50000,)"
      ]
     },
     "execution_count": 41,
     "metadata": {},
     "output_type": "execute_result"
    }
   ],
   "source": [
    "y.shape"
   ]
  },
  {
   "cell_type": "markdown",
   "id": "18aae6d6",
   "metadata": {},
   "source": [
    "#### Split encoded Data into Training and Testing"
   ]
  },
  {
   "cell_type": "code",
   "execution_count": 42,
   "id": "6ef58a4e",
   "metadata": {},
   "outputs": [],
   "source": [
    "from sklearn.model_selection import train_test_split\n",
    "X_train,X_test,y_train,y_test = train_test_split(X,y, random_state = 1)"
   ]
  },
  {
   "cell_type": "code",
   "execution_count": 43,
   "id": "f396e3ba",
   "metadata": {},
   "outputs": [],
   "source": [
    "X_train = X_train.replace((np.inf, -np.inf, np.nan), 0).reset_index(drop=True)"
   ]
  },
  {
   "cell_type": "code",
   "execution_count": 44,
   "id": "b487746a",
   "metadata": {},
   "outputs": [
    {
     "data": {
      "text/plain": [
       "2    34849\n",
       "3     1100\n",
       "4     1097\n",
       "1      454\n",
       "Name: Severity, dtype: int64"
      ]
     },
     "execution_count": 44,
     "metadata": {},
     "output_type": "execute_result"
    }
   ],
   "source": [
    "y_train.value_counts()"
   ]
  },
  {
   "cell_type": "code",
   "execution_count": 45,
   "id": "e6267391",
   "metadata": {},
   "outputs": [
    {
     "data": {
      "image/png": "[encoded data removed]",
      "text/plain": [
       "<Figure size 720x576 with 1 Axes>"
      ]
     },
     "metadata": {
      "needs_background": "light"
     },
     "output_type": "display_data"
    }
   ],
   "source": [
    "import matplotlib.pyplot \n",
    "from scipy import stats\n",
    "import matplotlib.pyplot as plt\n",
    "import seaborn as sns\n",
    "\n",
    "severity_counts = y_train.value_counts()\n",
    "\n",
    "plt.figure(figsize=(10, 8))\n",
    "plt.title(\"Histogram for the severity\")\n",
    "sns.barplot(severity_counts.index, severity_counts.values)\n",
    "plt.xlabel(\"Severity\")\n",
    "plt.ylabel(\"Value\")\n",
    "plt.show()"
   ]
  },
  {
   "cell_type": "markdown",
   "id": "1a668d31",
   "metadata": {},
   "source": [
    "#### Naive Random Oversampling"
   ]
  },
  {
   "cell_type": "code",
   "execution_count": 46,
   "id": "adc08ccf",
   "metadata": {},
   "outputs": [],
   "source": [
    "# Resample the training data with the RandomOversampler\n",
    "from imblearn.over_sampling import RandomOverSampler\n",
    "ros = RandomOverSampler(random_state=1)\n",
    "X_resampled,y_resampled =ros.fit_resample(X_train,y_train)"
   ]
  },
  {
   "cell_type": "code",
   "execution_count": 47,
   "id": "eadaca2e",
   "metadata": {},
   "outputs": [
    {
     "data": {
      "text/plain": [
       "Counter({2: 34849, 4: 34849, 3: 34849, 1: 34849})"
      ]
     },
     "execution_count": 47,
     "metadata": {},
     "output_type": "execute_result"
    }
   ],
   "source": [
    "# what is the \"balance\" or mix between Severity\n",
    "Counter(y_resampled)"
   ]
  },
  {
   "cell_type": "code",
   "execution_count": 48,
   "id": "09b641ff",
   "metadata": {},
   "outputs": [
    {
     "data": {
      "image/png": "[encoded data removed]",
      "text/plain": [
       "<Figure size 720x576 with 1 Axes>"
      ]
     },
     "metadata": {
      "needs_background": "light"
     },
     "output_type": "display_data"
    }
   ],
   "source": [
    "severity_counts = y_resampled.value_counts()\n",
    "\n",
    "plt.figure(figsize=(10, 8))\n",
    "plt.title(\"Histogram for the severity\")\n",
    "sns.barplot(severity_counts.index, severity_counts.values)\n",
    "plt.xlabel(\"Severity\")\n",
    "plt.ylabel(\"Value\")\n",
    "plt.show()"
   ]
  },
  {
   "cell_type": "markdown",
   "id": "be89b395",
   "metadata": {},
   "source": [
    "#### Logistic Regression"
   ]
  },
  {
   "cell_type": "code",
   "execution_count": 49,
   "id": "3d2c21d6",
   "metadata": {},
   "outputs": [],
   "source": [
    "# Train the Logistic Regression model using the resampled data\n",
    "#model\n",
    "from sklearn.linear_model import LogisticRegression\n",
    "\n",
    "clf = LogisticRegression(solver='lbfgs',random_state=1)\n",
    "#fit\n",
    "clf.fit(X_resampled,y_resampled)\n",
    "#predict using the predict method\n",
    "y_pred = clf.predict(X_test)"
   ]
  },
  {
   "cell_type": "code",
   "execution_count": 50,
   "id": "04fcb51e",
   "metadata": {},
   "outputs": [
    {
     "data": {
      "text/plain": [
       "0.3846465252859053"
      ]
     },
     "execution_count": 50,
     "metadata": {},
     "output_type": "execute_result"
    }
   ],
   "source": [
    "# Calculated the balanced accuracy score\n",
    "from sklearn.metrics import balanced_accuracy_score\n",
    "balanced_accuracy_score(y_test,y_pred)\n"
   ]
  },
  {
   "cell_type": "code",
   "execution_count": 51,
   "id": "cae2e05c",
   "metadata": {},
   "outputs": [
    {
     "data": {
      "text/plain": [
       "array([[  54,   31,   25,   17],\n",
       "       [2594, 4063, 1854, 3116],\n",
       "       [  81,   53,  133,  105],\n",
       "       [  50,   84,   88,  152]], dtype=int64)"
      ]
     },
     "execution_count": 51,
     "metadata": {},
     "output_type": "execute_result"
    }
   ],
   "source": [
    "# Display the confusion matrix\n",
    "cm = confusion_matrix(y_test,y_pred,labels=clf.classes_)\n",
    "cm"
   ]
  },
  {
   "cell_type": "code",
   "execution_count": 52,
   "id": "37f47f31",
   "metadata": {},
   "outputs": [
    {
     "data": {
      "text/plain": [
       "<sklearn.metrics._plot.confusion_matrix.ConfusionMatrixDisplay at 0x2135c908bb0>"
      ]
     },
     "execution_count": 52,
     "metadata": {},
     "output_type": "execute_result"
    },
    {
     "data": {
      "image/png": "[encoded data removed]",
      "text/plain": [
       "<Figure size 432x288 with 2 Axes>"
      ]
     },
     "metadata": {
      "needs_background": "light"
     },
     "output_type": "display_data"
    }
   ],
   "source": [
    "from sklearn.metrics import ConfusionMatrixDisplay\n",
    "disp = ConfusionMatrixDisplay(confusion_matrix=cm,display_labels= clf.classes_)\n",
    "disp.plot()"
   ]
  },
  {
   "cell_type": "code",
   "execution_count": 53,
   "id": "28187356",
   "metadata": {},
   "outputs": [
    {
     "name": "stdout",
     "output_type": "stream",
     "text": [
      "                   pre       rec       spe        f1       geo       iba       sup\n",
      "\n",
      "          1       0.02      0.43      0.78      0.04      0.58      0.32       127\n",
      "          2       0.96      0.35      0.81      0.51      0.53      0.27     11627\n",
      "          3       0.06      0.36      0.84      0.11      0.55      0.29       372\n",
      "          4       0.04      0.41      0.73      0.08      0.55      0.29       374\n",
      "\n",
      "avg / total       0.90      0.35      0.81      0.48      0.53      0.27     12500\n",
      "\n"
     ]
    }
   ],
   "source": [
    "# Print the imbalanced classification report\n",
    "print(classification_report_imbalanced(y_test, y_pred))"
   ]
  },
  {
   "cell_type": "markdown",
   "id": "e33f8f86",
   "metadata": {},
   "source": [
    "#### Balanced Random Forest Classifier"
   ]
  },
  {
   "cell_type": "code",
   "execution_count": 54,
   "id": "2c54ad2f",
   "metadata": {},
   "outputs": [],
   "source": [
    "from imblearn.ensemble import BalancedRandomForestClassifier\n",
    "from imblearn.metrics import classification_report_imbalanced\n",
    "from imblearn.ensemble import EasyEnsembleClassifier"
   ]
  },
  {
   "cell_type": "code",
   "execution_count": 55,
   "id": "3404a2e3",
   "metadata": {},
   "outputs": [],
   "source": [
    "# Resample the training data with the BalancedRandomForestClassifier\n",
    "\n",
    "#model\n",
    "brf_model = BalancedRandomForestClassifier(random_state=1, n_estimators=100)\n",
    "#fit\n",
    "brf_model = brf_model.fit(X_train, y_train)\n",
    "\n",
    "#predict\n",
    "predictions = brf_model.predict(X_test)"
   ]
  },
  {
   "cell_type": "code",
   "execution_count": 56,
   "id": "ee2c3a07",
   "metadata": {},
   "outputs": [
    {
     "data": {
      "text/plain": [
       "0.7067954759316919"
      ]
     },
     "execution_count": 56,
     "metadata": {},
     "output_type": "execute_result"
    }
   ],
   "source": [
    "# Calculated the balanced accuracy score\n",
    "balanced_accuracy_score(y_test,predictions)\n"
   ]
  },
  {
   "cell_type": "code",
   "execution_count": 57,
   "id": "42fb8bf6",
   "metadata": {},
   "outputs": [
    {
     "data": {
      "text/html": [
       "<div>\n",
       "<style scoped>\n",
       "    .dataframe tbody tr th:only-of-type {\n",
       "        vertical-align: middle;\n",
       "    }\n",
       "\n",
       "    .dataframe tbody tr th {\n",
       "        vertical-align: top;\n",
       "    }\n",
       "\n",
       "    .dataframe thead th {\n",
       "        text-align: right;\n",
       "    }\n",
       "</style>\n",
       "<table border=\"1\" class=\"dataframe\">\n",
       "  <thead>\n",
       "    <tr style=\"text-align: right;\">\n",
       "      <th></th>\n",
       "      <th>Predicted 0</th>\n",
       "      <th>Predicted 1</th>\n",
       "      <th>Predicted 2</th>\n",
       "      <th>Predicted 3</th>\n",
       "    </tr>\n",
       "  </thead>\n",
       "  <tbody>\n",
       "    <tr>\n",
       "      <th>Actual 0</th>\n",
       "      <td>110</td>\n",
       "      <td>0</td>\n",
       "      <td>16</td>\n",
       "      <td>1</td>\n",
       "    </tr>\n",
       "    <tr>\n",
       "      <th>Actual 1</th>\n",
       "      <td>432</td>\n",
       "      <td>8644</td>\n",
       "      <td>612</td>\n",
       "      <td>1939</td>\n",
       "    </tr>\n",
       "    <tr>\n",
       "      <th>Actual 2</th>\n",
       "      <td>42</td>\n",
       "      <td>6</td>\n",
       "      <td>257</td>\n",
       "      <td>67</td>\n",
       "    </tr>\n",
       "    <tr>\n",
       "      <th>Actual 3</th>\n",
       "      <td>14</td>\n",
       "      <td>76</td>\n",
       "      <td>87</td>\n",
       "      <td>197</td>\n",
       "    </tr>\n",
       "  </tbody>\n",
       "</table>\n",
       "</div>"
      ],
      "text/plain": [
       "          Predicted 0  Predicted 1  Predicted 2  Predicted 3\n",
       "Actual 0          110            0           16            1\n",
       "Actual 1          432         8644          612         1939\n",
       "Actual 2           42            6          257           67\n",
       "Actual 3           14           76           87          197"
      ]
     },
     "execution_count": 57,
     "metadata": {},
     "output_type": "execute_result"
    }
   ],
   "source": [
    "# Calculating the confusion matrix.\n",
    "cm = confusion_matrix(y_test, predictions)\n",
    "\n",
    "# Create a DataFrame from the confusion matrix.\n",
    "cm_df = pd.DataFrame(\n",
    "    cm, index=[\"Actual 0\", \"Actual 1\",\"Actual 2\", \"Actual 3\"], columns=[\"Predicted 0\", \"Predicted 1\",\"Predicted 2\", \"Predicted 3\"])\n",
    "\n",
    "cm_df"
   ]
  },
  {
   "cell_type": "code",
   "execution_count": 58,
   "id": "5d118bc9",
   "metadata": {},
   "outputs": [
    {
     "name": "stdout",
     "output_type": "stream",
     "text": [
      "                   pre       rec       spe        f1       geo       iba       sup\n",
      "\n",
      "          1       0.18      0.87      0.96      0.30      0.91      0.82       127\n",
      "          2       0.99      0.74      0.91      0.85      0.82      0.66     11627\n",
      "          3       0.26      0.69      0.94      0.38      0.81      0.63       372\n",
      "          4       0.09      0.53      0.83      0.15      0.66      0.43       374\n",
      "\n",
      "avg / total       0.93      0.74      0.91      0.81      0.82      0.66     12500\n",
      "\n"
     ]
    }
   ],
   "source": [
    "# Print the imbalanced classification report\n",
    "print(classification_report_imbalanced(y_test, predictions))"
   ]
  },
  {
   "cell_type": "code",
   "execution_count": 59,
   "id": "ee6e7958",
   "metadata": {},
   "outputs": [
    {
     "data": {
      "text/plain": [
       "[(0.1298314765901459, 'Distance(mi)'),\n",
       " (0.12040415431667235, 'Year'),\n",
       " (0.09189580543220492, 'Start_Lat'),\n",
       " (0.089422828271737, 'Start_Lng'),\n",
       " (0.07841387706974325, 'Month'),\n",
       " (0.05714636012285446, 'Pressure(in)'),\n",
       " (0.05098709084414206, 'City'),\n",
       " (0.04868508954439991, 'County'),\n",
       " (0.04736508425299026, 'State'),\n",
       " (0.045756480184360314, 'Humidity(%)'),\n",
       " (0.03998547075593196, 'Wind_Chill(F)'),\n",
       " (0.037967674922839, 'Temperature(F)'),\n",
       " (0.03273780580983489, 'Wind_Speed(mph)'),\n",
       " (0.03154047859772386, 'Wind_Direction'),\n",
       " (0.024249964590154757, 'Day'),\n",
       " (0.022483086441661707, 'Timezone'),\n",
       " (0.022247200335873785, 'Weather_Condition'),\n",
       " (0.011414998346191748, 'Visibility(mi)'),\n",
       " (0.010825210697208642, 'Sunrise_Sunset'),\n",
       " (0.006639862873329306, 'Precipitation(in)')]"
      ]
     },
     "execution_count": 59,
     "metadata": {},
     "output_type": "execute_result"
    }
   ],
   "source": [
    "# We can sort the features by their importance.\n",
    "sorted (zip(brf_model.feature_importances_,X.columns),reverse=True)"
   ]
  },
  {
   "cell_type": "code",
   "execution_count": 60,
   "id": "4df21dcf",
   "metadata": {},
   "outputs": [
    {
     "data": {
      "image/png": "[encoded data removed]",
      "text/plain": [
       "<Figure size 1080x720 with 1 Axes>"
      ]
     },
     "metadata": {
      "needs_background": "light"
     },
     "output_type": "display_data"
    }
   ],
   "source": [
    "importances = pd.DataFrame(np.zeros((X_train.shape[1], 1)), columns=[\"importance\"], index=X_train.columns)\n",
    "\n",
    "importances.iloc[:,0] = brf_model.feature_importances_\n",
    "\n",
    "importances = importances.sort_values(by=\"importance\", ascending=False)[:30]\n",
    "\n",
    "plt.figure(figsize=(15, 10))\n",
    "sns.barplot(x=\"importance\", y=importances.index, data=importances)\n",
    "plt.show()"
   ]
  },
  {
   "cell_type": "code",
   "execution_count": 61,
   "id": "7a5ca15b",
   "metadata": {},
   "outputs": [
    {
     "ename": "NameError",
     "evalue": "name 'accuracy' is not defined",
     "output_type": "error",
     "traceback": [
      "\u001b[1;31m---------------------------------------------------------------------------\u001b[0m",
      "\u001b[1;31mNameError\u001b[0m                                 Traceback (most recent call last)",
      "\u001b[1;32m~\\AppData\\Local\\Temp/ipykernel_16712/501067555.py\u001b[0m in \u001b[0;36m<module>\u001b[1;34m\u001b[0m\n\u001b[0;32m      1\u001b[0m \u001b[0mplt\u001b[0m\u001b[1;33m.\u001b[0m\u001b[0mfigure\u001b[0m\u001b[1;33m(\u001b[0m\u001b[0mfigsize\u001b[0m\u001b[1;33m=\u001b[0m\u001b[1;33m(\u001b[0m\u001b[1;36m20\u001b[0m\u001b[1;33m,\u001b[0m \u001b[1;36m8\u001b[0m\u001b[1;33m)\u001b[0m\u001b[1;33m)\u001b[0m\u001b[1;33m\u001b[0m\u001b[1;33m\u001b[0m\u001b[0m\n\u001b[0;32m      2\u001b[0m \u001b[0mplt\u001b[0m\u001b[1;33m.\u001b[0m\u001b[0mtitle\u001b[0m\u001b[1;33m(\u001b[0m\u001b[1;34m\"Accuracy on Validation set for each model\"\u001b[0m\u001b[1;33m)\u001b[0m\u001b[1;33m\u001b[0m\u001b[1;33m\u001b[0m\u001b[0m\n\u001b[1;32m----> 3\u001b[1;33m \u001b[0msns\u001b[0m\u001b[1;33m.\u001b[0m\u001b[0mbarplot\u001b[0m\u001b[1;33m(\u001b[0m\u001b[0mlist\u001b[0m\u001b[1;33m(\u001b[0m\u001b[0mrange\u001b[0m\u001b[1;33m(\u001b[0m\u001b[0mlen\u001b[0m\u001b[1;33m(\u001b[0m\u001b[0maccuracy\u001b[0m\u001b[1;33m)\u001b[0m\u001b[1;33m)\u001b[0m\u001b[1;33m)\u001b[0m\u001b[1;33m,\u001b[0m \u001b[0mlist\u001b[0m\u001b[1;33m(\u001b[0m\u001b[0maccuracy\u001b[0m\u001b[1;33m.\u001b[0m\u001b[0mvalues\u001b[0m\u001b[1;33m(\u001b[0m\u001b[1;33m)\u001b[0m\u001b[1;33m)\u001b[0m\u001b[1;33m)\u001b[0m\u001b[1;33m\u001b[0m\u001b[1;33m\u001b[0m\u001b[0m\n\u001b[0m\u001b[0;32m      4\u001b[0m \u001b[0mplt\u001b[0m\u001b[1;33m.\u001b[0m\u001b[0mxticks\u001b[0m\u001b[1;33m(\u001b[0m\u001b[0mrange\u001b[0m\u001b[1;33m(\u001b[0m\u001b[0mlen\u001b[0m\u001b[1;33m(\u001b[0m\u001b[0maccuracy\u001b[0m\u001b[1;33m)\u001b[0m\u001b[1;33m)\u001b[0m\u001b[1;33m,\u001b[0m \u001b[0mlabels\u001b[0m\u001b[1;33m=\u001b[0m\u001b[0maccuracy\u001b[0m\u001b[1;33m.\u001b[0m\u001b[0mkeys\u001b[0m\u001b[1;33m(\u001b[0m\u001b[1;33m)\u001b[0m\u001b[1;33m)\u001b[0m\u001b[1;33m\u001b[0m\u001b[1;33m\u001b[0m\u001b[0m\n\u001b[0;32m      5\u001b[0m \u001b[0mplt\u001b[0m\u001b[1;33m.\u001b[0m\u001b[0mshow\u001b[0m\u001b[1;33m(\u001b[0m\u001b[1;33m)\u001b[0m\u001b[1;33m\u001b[0m\u001b[1;33m\u001b[0m\u001b[0m\n",
      "\u001b[1;31mNameError\u001b[0m: name 'accuracy' is not defined"
     ]
    },
    {
     "data": {
      "image/png": "[encoded data removed]",
      "text/plain": [
       "<Figure size 1440x576 with 1 Axes>"
      ]
     },
     "metadata": {
      "needs_background": "light"
     },
     "output_type": "display_data"
    }
   ],
   "source": [
    "plt.figure(figsize=(20, 8))\n",
    "plt.title(\"Accuracy on Validation set for each model\")\n",
    "sns.barplot(list(range(len(accuracy))), list(accuracy.values()))\n",
    "plt.xticks(range(len(accuracy)), labels=accuracy.keys())\n",
    "plt.show()"
   ]
  },
  {
   "cell_type": "code",
   "execution_count": null,
   "id": "ab4d4cc7",
   "metadata": {},
   "outputs": [],
   "source": []
  }
 ],
 "metadata": {
  "kernelspec": {
   "display_name": "mlenv",
   "language": "python",
   "name": "mlenv"
  },
  "language_info": {
   "codemirror_mode": {
    "name": "ipython",
    "version": 3
   },
   "file_extension": ".py",
   "mimetype": "text/x-python",
   "name": "python",
   "nbconvert_exporter": "python",
   "pygments_lexer": "ipython3",
   "version": "3.9.7"
  }
 },
 "nbformat": 4,
 "nbformat_minor": 5
}
