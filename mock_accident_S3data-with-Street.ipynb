{
 "cells": [
  {
   "cell_type": "code",
   "execution_count": 13,
   "id": "6173b22a",
   "metadata": {
    "scrolled": false
   },
   "outputs": [],
   "source": [
    "import warnings\n",
    "warnings.filterwarnings('ignore')"
   ]
  },
  {
   "cell_type": "code",
   "execution_count": 14,
   "id": "e53a8d6e",
   "metadata": {
    "scrolled": false
   },
   "outputs": [],
   "source": [
    "#import dependencies\n",
    "import numpy as np\n",
    "import pandas as pd\n",
    "from pathlib import Path\n",
    "from collections import Counter"
   ]
  },
  {
   "cell_type": "code",
   "execution_count": 15,
   "id": "d5b8cd00",
   "metadata": {
    "scrolled": false
   },
   "outputs": [],
   "source": [
    "from sklearn.metrics import balanced_accuracy_score\n",
    "from sklearn.metrics import confusion_matrix\n",
    "from imblearn.metrics import classification_report_imbalanced\n",
    "from sklearn.preprocessing import LabelEncoder"
   ]
  },
  {
   "cell_type": "code",
   "execution_count": 16,
   "id": "018a7c6e",
   "metadata": {
    "scrolled": false
   },
   "outputs": [],
   "source": [
    "from scipy import stats\n",
    "import matplotlib.pyplot as plt\n",
    "import seaborn as sns"
   ]
  },
  {
   "cell_type": "markdown",
   "id": "59e73064",
   "metadata": {},
   "source": [
    "## how Severity the Accidents is ?"
   ]
  },
  {
   "cell_type": "code",
   "execution_count": 17,
   "id": "f31e557c",
   "metadata": {
    "scrolled": false
   },
   "outputs": [],
   "source": [
    "# Files to laod\n",
    "#accident_data= \"DataFile/mock_accident_data.csv\"\n",
    "\n",
    "accident_data=\"https://umausdata.s3.amazonaws.com/DataFile/mock_accident_data.csv\"\n",
    "accident_df=pd.read_csv(accident_data)"
   ]
  },
  {
   "cell_type": "code",
   "execution_count": 18,
   "id": "27aaf4f9",
   "metadata": {
    "scrolled": false
   },
   "outputs": [
    {
     "data": {
      "text/html": [
       "<div>\n",
       "<style scoped>\n",
       "    .dataframe tbody tr th:only-of-type {\n",
       "        vertical-align: middle;\n",
       "    }\n",
       "\n",
       "    .dataframe tbody tr th {\n",
       "        vertical-align: top;\n",
       "    }\n",
       "\n",
       "    .dataframe thead th {\n",
       "        text-align: right;\n",
       "    }\n",
       "</style>\n",
       "<table border=\"1\" class=\"dataframe\">\n",
       "  <thead>\n",
       "    <tr style=\"text-align: right;\">\n",
       "      <th></th>\n",
       "      <th>ID</th>\n",
       "      <th>Severity</th>\n",
       "      <th>Start_Time</th>\n",
       "      <th>End_Time</th>\n",
       "      <th>Start_Lat</th>\n",
       "      <th>Start_Lng</th>\n",
       "      <th>Distance(mi)</th>\n",
       "      <th>Street</th>\n",
       "      <th>Side</th>\n",
       "      <th>City</th>\n",
       "      <th>...</th>\n",
       "      <th>Traffic_Calming</th>\n",
       "      <th>Traffic_Signal</th>\n",
       "      <th>Turning_Loop</th>\n",
       "      <th>Sunrise_Sunset</th>\n",
       "      <th>Year</th>\n",
       "      <th>Month</th>\n",
       "      <th>Day</th>\n",
       "      <th>Hour</th>\n",
       "      <th>Weekday</th>\n",
       "      <th>time_duration</th>\n",
       "    </tr>\n",
       "  </thead>\n",
       "  <tbody>\n",
       "    <tr>\n",
       "      <th>0</th>\n",
       "      <td>1502402</td>\n",
       "      <td>2</td>\n",
       "      <td>2021-03-18 12:40:52</td>\n",
       "      <td>2021-03-18 14:41:21</td>\n",
       "      <td>32.649949</td>\n",
       "      <td>-96.840110</td>\n",
       "      <td>0.032</td>\n",
       "      <td>S Polk St</td>\n",
       "      <td>R</td>\n",
       "      <td>Dallas</td>\n",
       "      <td>...</td>\n",
       "      <td>False</td>\n",
       "      <td>False</td>\n",
       "      <td>False</td>\n",
       "      <td>Day</td>\n",
       "      <td>2021</td>\n",
       "      <td>Mar</td>\n",
       "      <td>18</td>\n",
       "      <td>12</td>\n",
       "      <td>Thu</td>\n",
       "      <td>120.0</td>\n",
       "    </tr>\n",
       "    <tr>\n",
       "      <th>1</th>\n",
       "      <td>2046004</td>\n",
       "      <td>2</td>\n",
       "      <td>2020-10-07 18:51:00</td>\n",
       "      <td>2020-10-07 20:09:48</td>\n",
       "      <td>37.496093</td>\n",
       "      <td>-120.871708</td>\n",
       "      <td>0.130</td>\n",
       "      <td>CA-99 N</td>\n",
       "      <td>R</td>\n",
       "      <td>Turlock</td>\n",
       "      <td>...</td>\n",
       "      <td>False</td>\n",
       "      <td>False</td>\n",
       "      <td>False</td>\n",
       "      <td>Night</td>\n",
       "      <td>2020</td>\n",
       "      <td>Oct</td>\n",
       "      <td>7</td>\n",
       "      <td>18</td>\n",
       "      <td>Wed</td>\n",
       "      <td>79.0</td>\n",
       "    </tr>\n",
       "    <tr>\n",
       "      <th>2</th>\n",
       "      <td>1837738</td>\n",
       "      <td>2</td>\n",
       "      <td>2020-12-31 13:47:30</td>\n",
       "      <td>2021-01-01 03:05:51</td>\n",
       "      <td>35.798227</td>\n",
       "      <td>-78.558346</td>\n",
       "      <td>0.267</td>\n",
       "      <td>New Bern Ave</td>\n",
       "      <td>L</td>\n",
       "      <td>Raleigh</td>\n",
       "      <td>...</td>\n",
       "      <td>False</td>\n",
       "      <td>False</td>\n",
       "      <td>False</td>\n",
       "      <td>Day</td>\n",
       "      <td>2020</td>\n",
       "      <td>Dec</td>\n",
       "      <td>31</td>\n",
       "      <td>13</td>\n",
       "      <td>Thu</td>\n",
       "      <td>798.0</td>\n",
       "    </tr>\n",
       "    <tr>\n",
       "      <th>3</th>\n",
       "      <td>2132032</td>\n",
       "      <td>3</td>\n",
       "      <td>2020-05-22 14:11:55</td>\n",
       "      <td>2020-05-22 15:28:28</td>\n",
       "      <td>42.006400</td>\n",
       "      <td>-71.224580</td>\n",
       "      <td>0.000</td>\n",
       "      <td>I-495 S</td>\n",
       "      <td>R</td>\n",
       "      <td>Mansfield</td>\n",
       "      <td>...</td>\n",
       "      <td>False</td>\n",
       "      <td>False</td>\n",
       "      <td>False</td>\n",
       "      <td>Day</td>\n",
       "      <td>2020</td>\n",
       "      <td>May</td>\n",
       "      <td>22</td>\n",
       "      <td>14</td>\n",
       "      <td>Fri</td>\n",
       "      <td>77.0</td>\n",
       "    </tr>\n",
       "    <tr>\n",
       "      <th>4</th>\n",
       "      <td>2225114</td>\n",
       "      <td>4</td>\n",
       "      <td>2020-03-28 03:16:31</td>\n",
       "      <td>2020-03-28 03:46:31</td>\n",
       "      <td>43.682980</td>\n",
       "      <td>-88.442100</td>\n",
       "      <td>0.003</td>\n",
       "      <td>I-41 S</td>\n",
       "      <td>R</td>\n",
       "      <td>Fond du Lac</td>\n",
       "      <td>...</td>\n",
       "      <td>False</td>\n",
       "      <td>False</td>\n",
       "      <td>False</td>\n",
       "      <td>Night</td>\n",
       "      <td>2020</td>\n",
       "      <td>Mar</td>\n",
       "      <td>28</td>\n",
       "      <td>3</td>\n",
       "      <td>Sat</td>\n",
       "      <td>30.0</td>\n",
       "    </tr>\n",
       "  </tbody>\n",
       "</table>\n",
       "<p>5 rows × 43 columns</p>\n",
       "</div>"
      ],
      "text/plain": [
       "        ID  Severity           Start_Time             End_Time  Start_Lat  \\\n",
       "0  1502402         2  2021-03-18 12:40:52  2021-03-18 14:41:21  32.649949   \n",
       "1  2046004         2  2020-10-07 18:51:00  2020-10-07 20:09:48  37.496093   \n",
       "2  1837738         2  2020-12-31 13:47:30  2021-01-01 03:05:51  35.798227   \n",
       "3  2132032         3  2020-05-22 14:11:55  2020-05-22 15:28:28  42.006400   \n",
       "4  2225114         4  2020-03-28 03:16:31  2020-03-28 03:46:31  43.682980   \n",
       "\n",
       "    Start_Lng  Distance(mi)         Street Side         City  ...  \\\n",
       "0  -96.840110         0.032      S Polk St    R       Dallas  ...   \n",
       "1 -120.871708         0.130        CA-99 N    R      Turlock  ...   \n",
       "2  -78.558346         0.267   New Bern Ave    L      Raleigh  ...   \n",
       "3  -71.224580         0.000        I-495 S    R    Mansfield  ...   \n",
       "4  -88.442100         0.003         I-41 S    R  Fond du Lac  ...   \n",
       "\n",
       "  Traffic_Calming Traffic_Signal Turning_Loop Sunrise_Sunset  Year  Month  \\\n",
       "0           False          False        False            Day  2021    Mar   \n",
       "1           False          False        False          Night  2020    Oct   \n",
       "2           False          False        False            Day  2020    Dec   \n",
       "3           False          False        False            Day  2020    May   \n",
       "4           False          False        False          Night  2020    Mar   \n",
       "\n",
       "   Day  Hour  Weekday time_duration  \n",
       "0   18    12      Thu         120.0  \n",
       "1    7    18      Wed          79.0  \n",
       "2   31    13      Thu         798.0  \n",
       "3   22    14      Fri          77.0  \n",
       "4   28     3      Sat          30.0  \n",
       "\n",
       "[5 rows x 43 columns]"
      ]
     },
     "execution_count": 18,
     "metadata": {},
     "output_type": "execute_result"
    }
   ],
   "source": [
    "accident_df.head()"
   ]
  },
  {
   "cell_type": "code",
   "execution_count": 19,
   "id": "a0799302",
   "metadata": {
    "scrolled": false
   },
   "outputs": [
    {
     "name": "stdout",
     "output_type": "stream",
     "text": [
      "<class 'pandas.core.frame.DataFrame'>\n",
      "RangeIndex: 50000 entries, 0 to 49999\n",
      "Data columns (total 43 columns):\n",
      " #   Column             Non-Null Count  Dtype  \n",
      "---  ------             --------------  -----  \n",
      " 0   ID                 50000 non-null  int64  \n",
      " 1   Severity           50000 non-null  int64  \n",
      " 2   Start_Time         50000 non-null  object \n",
      " 3   End_Time           50000 non-null  object \n",
      " 4   Start_Lat          50000 non-null  float64\n",
      " 5   Start_Lng          50000 non-null  float64\n",
      " 6   Distance(mi)       50000 non-null  float64\n",
      " 7   Street             50000 non-null  object \n",
      " 8   Side               50000 non-null  object \n",
      " 9   City               50000 non-null  object \n",
      " 10  County             50000 non-null  object \n",
      " 11  State              50000 non-null  object \n",
      " 12  Zipcode            50000 non-null  object \n",
      " 13  Timezone           50000 non-null  object \n",
      " 14  Temperature(F)     50000 non-null  float64\n",
      " 15  Wind_Chill(F)      50000 non-null  float64\n",
      " 16  Humidity(%)        50000 non-null  float64\n",
      " 17  Pressure(in)       50000 non-null  float64\n",
      " 18  Visibility(mi)     50000 non-null  float64\n",
      " 19  Wind_Direction     50000 non-null  object \n",
      " 20  Wind_Speed(mph)    50000 non-null  float64\n",
      " 21  Precipitation(in)  50000 non-null  float64\n",
      " 22  Weather_Condition  50000 non-null  object \n",
      " 23  Amenity            50000 non-null  bool   \n",
      " 24  Bump               50000 non-null  bool   \n",
      " 25  Crossing           50000 non-null  bool   \n",
      " 26  Give_Way           50000 non-null  bool   \n",
      " 27  Junction           50000 non-null  bool   \n",
      " 28  No_Exit            50000 non-null  bool   \n",
      " 29  Railway            50000 non-null  bool   \n",
      " 30  Roundabout         50000 non-null  bool   \n",
      " 31  Station            50000 non-null  bool   \n",
      " 32  Stop               50000 non-null  bool   \n",
      " 33  Traffic_Calming    50000 non-null  bool   \n",
      " 34  Traffic_Signal     50000 non-null  bool   \n",
      " 35  Turning_Loop       50000 non-null  bool   \n",
      " 36  Sunrise_Sunset     50000 non-null  object \n",
      " 37  Year               50000 non-null  int64  \n",
      " 38  Month              50000 non-null  object \n",
      " 39  Day                50000 non-null  int64  \n",
      " 40  Hour               50000 non-null  int64  \n",
      " 41  Weekday            50000 non-null  object \n",
      " 42  time_duration      50000 non-null  float64\n",
      "dtypes: bool(13), float64(11), int64(5), object(14)\n",
      "memory usage: 12.1+ MB\n"
     ]
    }
   ],
   "source": [
    "accident_df.info()"
   ]
  },
  {
   "cell_type": "code",
   "execution_count": 20,
   "id": "29b02913",
   "metadata": {
    "scrolled": false
   },
   "outputs": [],
   "source": [
    "#Drop the null columns where all values are null\n",
    "accident_df=accident_df.dropna(axis='columns',how='all')"
   ]
  },
  {
   "cell_type": "code",
   "execution_count": 21,
   "id": "c73223b1",
   "metadata": {
    "scrolled": false
   },
   "outputs": [
    {
     "data": {
      "text/plain": [
       "(50000, 43)"
      ]
     },
     "execution_count": 21,
     "metadata": {},
     "output_type": "execute_result"
    }
   ],
   "source": [
    "accident_df.shape"
   ]
  },
  {
   "cell_type": "code",
   "execution_count": 22,
   "id": "48c8a61a",
   "metadata": {
    "scrolled": false
   },
   "outputs": [
    {
     "name": "stdout",
     "output_type": "stream",
     "text": [
      "Index(['ID', 'Severity', 'Start_Time', 'End_Time', 'Start_Lat', 'Start_Lng',\n",
      "       'Distance(mi)', 'Street', 'Side', 'City', 'County', 'State', 'Zipcode',\n",
      "       'Timezone', 'Temperature(F)', 'Wind_Chill(F)', 'Humidity(%)',\n",
      "       'Pressure(in)', 'Visibility(mi)', 'Wind_Direction', 'Wind_Speed(mph)',\n",
      "       'Precipitation(in)', 'Weather_Condition', 'Amenity', 'Bump', 'Crossing',\n",
      "       'Give_Way', 'Junction', 'No_Exit', 'Railway', 'Roundabout', 'Station',\n",
      "       'Stop', 'Traffic_Calming', 'Traffic_Signal', 'Turning_Loop',\n",
      "       'Sunrise_Sunset', 'Year', 'Month', 'Day', 'Hour', 'Weekday',\n",
      "       'time_duration'],\n",
      "      dtype='object')\n"
     ]
    }
   ],
   "source": [
    "print(accident_df.columns)"
   ]
  },
  {
   "cell_type": "code",
   "execution_count": 24,
   "id": "07b1c30d",
   "metadata": {
    "scrolled": false
   },
   "outputs": [],
   "source": [
    "#drop the non-beneficial columns\n",
    "accident_df=accident_df.drop(columns=['ID','Start_Time','End_Time','Zipcode'])\n",
    "#reaso for droping columns\n",
    "#ID: since they don't carry any information for the severity\n",
    "#Start_Time,End_Time :because it was decomposed by the time features added before (day, month, weekday,Year)\n",
    "#Zipcode :because we just focus on the City,County,state where the accident happened\n"
   ]
  },
  {
   "cell_type": "code",
   "execution_count": 25,
   "id": "8a255644",
   "metadata": {
    "scrolled": false
   },
   "outputs": [
    {
     "data": {
      "text/plain": [
       "(50000, 39)"
      ]
     },
     "execution_count": 25,
     "metadata": {},
     "output_type": "execute_result"
    }
   ],
   "source": [
    "accident_df.shape"
   ]
  },
  {
   "cell_type": "code",
   "execution_count": 26,
   "id": "10be42bd",
   "metadata": {
    "scrolled": false
   },
   "outputs": [
    {
     "data": {
      "text/plain": [
       "Severity               int64\n",
       "Start_Lat            float64\n",
       "Start_Lng            float64\n",
       "Distance(mi)         float64\n",
       "Street                object\n",
       "Side                  object\n",
       "City                  object\n",
       "County                object\n",
       "State                 object\n",
       "Timezone              object\n",
       "Temperature(F)       float64\n",
       "Wind_Chill(F)        float64\n",
       "Humidity(%)          float64\n",
       "Pressure(in)         float64\n",
       "Visibility(mi)       float64\n",
       "Wind_Direction        object\n",
       "Wind_Speed(mph)      float64\n",
       "Precipitation(in)    float64\n",
       "Weather_Condition     object\n",
       "Amenity                 bool\n",
       "Bump                    bool\n",
       "Crossing                bool\n",
       "Give_Way                bool\n",
       "Junction                bool\n",
       "No_Exit                 bool\n",
       "Railway                 bool\n",
       "Roundabout              bool\n",
       "Station                 bool\n",
       "Stop                    bool\n",
       "Traffic_Calming         bool\n",
       "Traffic_Signal          bool\n",
       "Turning_Loop            bool\n",
       "Sunrise_Sunset        object\n",
       "Year                   int64\n",
       "Month                 object\n",
       "Day                    int64\n",
       "Hour                   int64\n",
       "Weekday               object\n",
       "time_duration        float64\n",
       "dtype: object"
      ]
     },
     "execution_count": 26,
     "metadata": {},
     "output_type": "execute_result"
    }
   ],
   "source": [
    "accident_df.dtypes"
   ]
  },
  {
   "cell_type": "code",
   "execution_count": 27,
   "id": "1f18f1a4",
   "metadata": {
    "scrolled": false
   },
   "outputs": [
    {
     "data": {
      "text/plain": [
       "Severity                 4\n",
       "Start_Lat            46082\n",
       "Start_Lng            46185\n",
       "Distance(mi)          4542\n",
       "Street               17079\n",
       "Side                     2\n",
       "City                  4669\n",
       "County                 992\n",
       "State                   49\n",
       "Timezone                 4\n",
       "Temperature(F)         182\n",
       "Wind_Chill(F)          376\n",
       "Humidity(%)             98\n",
       "Pressure(in)           793\n",
       "Visibility(mi)          36\n",
       "Wind_Direction          23\n",
       "Wind_Speed(mph)         62\n",
       "Precipitation(in)       90\n",
       "Weather_Condition       66\n",
       "Amenity                  2\n",
       "Bump                     2\n",
       "Crossing                 2\n",
       "Give_Way                 2\n",
       "Junction                 2\n",
       "No_Exit                  2\n",
       "Railway                  2\n",
       "Roundabout               2\n",
       "Station                  2\n",
       "Stop                     2\n",
       "Traffic_Calming          2\n",
       "Traffic_Signal           2\n",
       "Turning_Loop             1\n",
       "Sunrise_Sunset           2\n",
       "Year                     6\n",
       "Month                   12\n",
       "Day                     31\n",
       "Hour                    24\n",
       "Weekday                  7\n",
       "time_duration         1374\n",
       "dtype: int64"
      ]
     },
     "execution_count": 27,
     "metadata": {},
     "output_type": "execute_result"
    }
   ],
   "source": [
    "# Determine the number of unique values in each column.\n",
    "accident_df.nunique()"
   ]
  },
  {
   "cell_type": "code",
   "execution_count": 28,
   "id": "b6f350e5",
   "metadata": {},
   "outputs": [],
   "source": [
    "#Drop Null coluns\n",
    "accident_df=accident_df.drop(columns=[])"
   ]
  },
  {
   "cell_type": "code",
   "execution_count": 29,
   "id": "ef8488ca",
   "metadata": {},
   "outputs": [],
   "source": [
    "#Drop Null values\n",
    "accident_df=accident_df.dropna()"
   ]
  },
  {
   "cell_type": "code",
   "execution_count": 30,
   "id": "7c725a9b",
   "metadata": {},
   "outputs": [
    {
     "data": {
      "text/plain": [
       "(50000, 39)"
      ]
     },
     "execution_count": 30,
     "metadata": {},
     "output_type": "execute_result"
    }
   ],
   "source": [
    "accident_df.shape"
   ]
  },
  {
   "cell_type": "code",
   "execution_count": 15,
   "id": "d34e2fc7",
   "metadata": {
    "scrolled": false
   },
   "outputs": [],
   "source": [
    "# examine home _ownwrship\n",
    "street_count=accident_df['Street'].value_counts()"
   ]
  },
  {
   "cell_type": "code",
   "execution_count": 16,
   "id": "d0fb8c82",
   "metadata": {
    "scrolled": true
   },
   "outputs": [
    {
     "data": {
      "text/plain": [
       "[' Jefferson Davis Hwy',\n",
       " ' NE 125th St',\n",
       " 'Adirondack Northway S',\n",
       " 'Beachline Expy',\n",
       " ' S Kirkman Rd',\n",
       " ' State Highway 38',\n",
       " 'US-169 S',\n",
       " 'CA-134 W',\n",
       " ' NE 135th St',\n",
       " 'CA-118 E',\n",
       " 'I-395 S',\n",
       " ' Nolensville Pike',\n",
       " ' Highway 101 S',\n",
       " 'US-30 E',\n",
       " 'FDR Dr S',\n",
       " ' River Rd',\n",
       " ' W Dixie Hwy',\n",
       " ' Highway 1',\n",
       " 'CA-180 W',\n",
       " 'Governor John Davis Lodge Tpke S',\n",
       " 'San Diego Fwy S',\n",
       " ' Redwood Hwy',\n",
       " 'US-6 E',\n",
       " 'Adirondack Northway N',\n",
       " ' Airline Hwy',\n",
       " 'Beltline Hwy N',\n",
       " 'CA-58 W',\n",
       " 'CT-15 N',\n",
       " 'CA-94 E',\n",
       " ' NE 163rd St',\n",
       " 'US-87 N',\n",
       " 'CA-118 W',\n",
       " ' W Manchester Ave',\n",
       " 'I-440 E',\n",
       " ' W Cary St',\n",
       " ' Colima Rd',\n",
       " ' S Azusa Ave',\n",
       " 'GA-407 W',\n",
       " 'I-287 W',\n",
       " ' Creedmoor Rd',\n",
       " 'I-395 N',\n",
       " ' S Claiborne Ave',\n",
       " 'CA-57 N',\n",
       " ' S Figueroa St',\n",
       " 'I-240 E',\n",
       " 'I-664 N',\n",
       " ' NW 103rd St',\n",
       " 'CA-170 S',\n",
       " 'US-52 S',\n",
       " 'Cross Bronx Expy W',\n",
       " ' NW 2nd Ave',\n",
       " ' NE 123rd St',\n",
       " 'Cross Westchester Expy W',\n",
       " 'Hollywood Fwy S',\n",
       " ' N Orange Blossom Trl',\n",
       " 'Lincoln Hwy W',\n",
       " ' Santa Cruz Hwy',\n",
       " ' SW 127th Ave',\n",
       " ' NW 32nd Ave',\n",
       " ' N Alafaya Trl',\n",
       " 'I-79 S',\n",
       " 'US-22 E',\n",
       " 'W Beltway S',\n",
       " ' World Center Dr',\n",
       " 'Kenilworth Ave S',\n",
       " ' Ortega Hwy',\n",
       " 'GA-407 N',\n",
       " 'I-83 S',\n",
       " ' NW 107th Ave',\n",
       " ' N Pine Hills Rd',\n",
       " 'I-110 S',\n",
       " ' Sunset Dr',\n",
       " 'Grand Central Pkwy E',\n",
       " ' SW 104th St',\n",
       " 'N Santiam Hwy',\n",
       " 'US-10 E',\n",
       " ' NW 87th Ave',\n",
       " 'Main St',\n",
       " 'I-49 S',\n",
       " ' Market St',\n",
       " ' University Pkwy',\n",
       " 'Governor John Davis Lodge Tpke N',\n",
       " 'US-10 W',\n",
       " ' W Brandon Blvd',\n",
       " ' SW 112th Ave',\n",
       " ' Highway 9',\n",
       " 'Dolphin Expy W',\n",
       " ' Crain Hwy',\n",
       " ' Florence Ave',\n",
       " ' S Semoran Blvd',\n",
       " 'US-1 N',\n",
       " ' Lee Hwy',\n",
       " ' Conroy Rd',\n",
       " 'I-695 E',\n",
       " ' Ocean Gtwy',\n",
       " 'Central Florida Greeneway N',\n",
       " ' Hillcroft Ave',\n",
       " 'Baltimore Washington Pkwy N',\n",
       " 'CA-41 S',\n",
       " ' Hialeah Gardens Blvd',\n",
       " 'CA-163 N',\n",
       " 'New England Trwy N',\n",
       " ' NW 79th St',\n",
       " 'Grand Central Pkwy W',\n",
       " 'VA Beach Norfolk Expy W',\n",
       " ' Old Hickory Blvd',\n",
       " ' SW 24th St',\n",
       " 'NW 57th Ave',\n",
       " ' State Highway 70',\n",
       " ' Sand Lake Rd',\n",
       " ' Whittier Blvd',\n",
       " ' Ben C Pratt/6 Mile Cypress Pkwy',\n",
       " 'FDR Dr N',\n",
       " ' E Florence Ave',\n",
       " 'I-695 N',\n",
       " ' Washington St',\n",
       " ' Murfreesboro Pike',\n",
       " ' NW 183rd St',\n",
       " 'I-485 N',\n",
       " 'US-22 W',\n",
       " ' NW 7th Ave',\n",
       " ' Columbia River Hwy',\n",
       " 'I-287 N',\n",
       " ' N Highway 97',\n",
       " 'US-30 W',\n",
       " 'MN-77 N',\n",
       " 'AZ-202 Loop W',\n",
       " ' SW 157th Ave',\n",
       " 'Van Wyck Expy S',\n",
       " ' Broadway',\n",
       " ' Soquel Dr',\n",
       " 'I-610 W',\n",
       " 'I-595 E',\n",
       " ' Highway 140',\n",
       " ' N Sharon Amity Rd',\n",
       " 'Cross Bronx Expy E',\n",
       " ' Curry Ford Rd',\n",
       " ' Highway 10',\n",
       " ' Conroy Windermere Rd',\n",
       " 'CA-12 W',\n",
       " 'S Orange Blossom Trl',\n",
       " ' NE 203rd St',\n",
       " ' 53rd Ave E',\n",
       " 'I-465 N',\n",
       " ' Grand Ave',\n",
       " 'Bronx River Pkwy S',\n",
       " 'Northern State Pkwy E',\n",
       " ' Coral Way',\n",
       " 'Baltimore Washington Pkwy S',\n",
       " ' W Slauson Ave',\n",
       " 'I-635 S',\n",
       " ' Highway 62',\n",
       " ' Lee Jackson Memorial Hwy',\n",
       " 'I-93 N',\n",
       " ' Highway 97',\n",
       " 'CA-41 N',\n",
       " 'CA-180 E',\n",
       " 'I-476 N',\n",
       " 'I-287 E',\n",
       " 'I-29 N',\n",
       " 'CA-15 N',\n",
       " 'I-280 E',\n",
       " ' Turkey Lake Rd',\n",
       " 'I-68 E',\n",
       " 'Edsel Ford Fwy E',\n",
       " ' W State Road 84',\n",
       " 'I-684 N',\n",
       " ' N Semoran Blvd',\n",
       " ' Yosemite Blvd',\n",
       " ' SW 184th St',\n",
       " 'CA-85 S',\n",
       " 'I-287 S',\n",
       " ' N Highway 101',\n",
       " 'I-476 S',\n",
       " ' Highway 36',\n",
       " ' SW 147th Ave',\n",
       " 'Beaverton Tigard Fwy N',\n",
       " 'I-69 S',\n",
       " ' County Line Rd',\n",
       " ' S Highway 97',\n",
       " 'CA-22 E',\n",
       " ' Silver Star Rd',\n",
       " ' Florin Rd',\n",
       " ' N Kendall Dr',\n",
       " 'Ronald Reagan Tpke',\n",
       " 'US-1 S',\n",
       " 'CA-2 S',\n",
       " 'CA-24 W',\n",
       " 'I-69 W',\n",
       " 'Lincoln Hwy E',\n",
       " 'UT-201 W',\n",
       " ' Falls of Neuse Rd',\n",
       " 'SW 117th Ave',\n",
       " ' W Okeechobee Rd',\n",
       " ' NW 186th St',\n",
       " ' S Atlantic Blvd',\n",
       " 'Bruce R. Watkins Dr',\n",
       " ' S Santa Fe Ave',\n",
       " 'MN-610 E',\n",
       " 'US-23 S',\n",
       " ' Pacheco Pass Hwy',\n",
       " 'Belt Pkwy W',\n",
       " ' Washington Blvd',\n",
       " 'CA-17 S',\n",
       " ' N Santiam Hwy',\n",
       " ' Lincoln Hwy',\n",
       " ' NW 62nd St',\n",
       " 'I-695 W',\n",
       " ' Highway 41',\n",
       " ' Bell Rd',\n",
       " 'CA-14 S',\n",
       " ' 14th St W',\n",
       " 'US-131 S',\n",
       " ' Ridge Rd',\n",
       " ' Pacific Coast Hwy',\n",
       " 'US Highway 101',\n",
       " 'CA-85 N',\n",
       " 'CA-237 E',\n",
       " 'Henry Shirley Memorial Hwy S',\n",
       " ' State Highway 88',\n",
       " 'I-635 N',\n",
       " ' NW 22nd Ave',\n",
       " 'CA-92 E',\n",
       " ' Providence Rd',\n",
       " ' Napa Vallejo Hwy',\n",
       " 'US-6 W',\n",
       " ' State Road 52',\n",
       " 'Chicago-Kansas City Expressway E',\n",
       " ' Dalles California Hwy',\n",
       " ' US Highway 395',\n",
       " ' Indian Head Hwy',\n",
       " 'E West Expy E',\n",
       " 'SW 88th St',\n",
       " 'Sprain Brook Pkwy S',\n",
       " ' Highway 26',\n",
       " ' US Highway 93 S',\n",
       " ' Highway 178',\n",
       " 'I-696 W',\n",
       " ' Forest Ln',\n",
       " ' S Orange Ave',\n",
       " ' State Highway 299',\n",
       " 'Warm Springs Hwy',\n",
       " 'I-49 N',\n",
       " ' Harry Byrd Hwy',\n",
       " ' W Broad St',\n",
       " 'CA-52 E',\n",
       " ' Hillsboro Pike',\n",
       " 'US-26 E',\n",
       " 'Chrysler Expy N',\n",
       " 'Chrysler Expy S',\n",
       " 'I-93 S',\n",
       " ' State Highway 49',\n",
       " ' S State St',\n",
       " 'I-96 W',\n",
       " ' Overseas Hwy',\n",
       " 'James Lick Fwy N',\n",
       " ' Highway 126',\n",
       " 'CA-58 E',\n",
       " ' Clark Rd',\n",
       " ' John Day Hwy',\n",
       " ' Burbank Blvd',\n",
       " ' Riverside Dr',\n",
       " 'I-79 N',\n",
       " 'Bronx River Pkwy N',\n",
       " 'Highway 99',\n",
       " ' US Highway 2',\n",
       " ' US Highway 22',\n",
       " ' McCoy Rd',\n",
       " 'N South Fwy N',\n",
       " ' Woodruff Rd',\n",
       " 'El Dorado Fwy W',\n",
       " 'I-44 E',\n",
       " ' NW 135th St',\n",
       " ' E Broadway Blvd',\n",
       " 'I-696 E',\n",
       " 'US-191 N',\n",
       " 'I-280 W',\n",
       " 'I-44 W',\n",
       " 'US-212 E',\n",
       " ' Highway 140 W',\n",
       " 'US-395 S',\n",
       " ' N Central Expy',\n",
       " ' Highway 52 Blvd',\n",
       " ' Valley Blvd',\n",
       " ' Old Stage Rd',\n",
       " 'I-485 S',\n",
       " ' Perkins Rd',\n",
       " 'S Dixie Hwy',\n",
       " 'I-610 E',\n",
       " ' SW 120th St',\n",
       " ' Two Notch Rd',\n",
       " 'Van Wyck Expy N',\n",
       " 'Airport Fwy W',\n",
       " ' Wilcrest Dr',\n",
       " ' E Olympic Blvd',\n",
       " ' SW 177th Ave',\n",
       " ' S Redwood Rd',\n",
       " ' E Adamo Dr',\n",
       " 'CA-73 N',\n",
       " ' Gale Ave',\n",
       " ' N New Hope Rd',\n",
       " 'Arizona Veterans Highway',\n",
       " 'N Main St',\n",
       " ' State Route 22',\n",
       " 'Highway 41',\n",
       " 'I-205 E',\n",
       " 'I-215 E',\n",
       " 'US-77 N',\n",
       " ' N Oracle Rd',\n",
       " 'CA-92 W',\n",
       " ' E 71st St',\n",
       " 'E West Expy W',\n",
       " ' S US Highway 301',\n",
       " 'CA-12 E',\n",
       " 'Bill Morris Pkwy',\n",
       " 'S La Cienega Blvd',\n",
       " ' W Century Blvd',\n",
       " 'I-110 N',\n",
       " ' Dessau Rd',\n",
       " 'CA-94 W',\n",
       " ' State Highway 108',\n",
       " ' Grass Valley Hwy',\n",
       " ' Broad St',\n",
       " 'AZ-101 Loop N',\n",
       " 'Airport Fwy E',\n",
       " 'I-71 S',\n",
       " 'Highway 20',\n",
       " ' US Highway 199',\n",
       " ' Little Rd',\n",
       " ' W Vernon Ave',\n",
       " 'CA-2 E',\n",
       " \" Land O'Lakes Blvd\",\n",
       " 'I-494 S',\n",
       " ' Winchester Rd',\n",
       " ' N Dupont Hwy',\n",
       " ' N Stemmons Fwy',\n",
       " ' N Parsons Ave',\n",
       " 'I-664 S',\n",
       " ' State Route 9',\n",
       " ' Cortez Rd W',\n",
       " 'Pacheco Pass Hwy',\n",
       " 'FL-821 N',\n",
       " 'Loop 12 S',\n",
       " 'New York Ave NW',\n",
       " 'Sprain Brook Pkwy N',\n",
       " ' E Millbrook Rd',\n",
       " ' Pacific Hwy',\n",
       " 'G A Treakle Bdg',\n",
       " ' Highway 99',\n",
       " ' Highway 90',\n",
       " 'US-50 E',\n",
       " 'Superstition Fwy W',\n",
       " ' Avalon Blvd',\n",
       " ' Highway 53',\n",
       " ' N Umpqua Hwy',\n",
       " 'M-39 S',\n",
       " 'CA-198 W',\n",
       " ' E 4th St',\n",
       " ' State Highway 252',\n",
       " ' N Tryon St',\n",
       " ' Braddock Rd',\n",
       " ' Hixson Pike',\n",
       " 'NW 186th St',\n",
       " 'I-610 S',\n",
       " 'Briley Pkwy E',\n",
       " 'I-676 W',\n",
       " ' Highway 42',\n",
       " 'I-820 N',\n",
       " ' Highway 22',\n",
       " 'I-278 E',\n",
       " ' Route 9',\n",
       " 'I-540 W',\n",
       " 'Belt Pkwy E',\n",
       " ' N Davis Hwy',\n",
       " ' State Highway 99',\n",
       " ' Oregon Coast Hwy',\n",
       " 'I-820 S',\n",
       " ' 28th St SE',\n",
       " 'CT-2 E',\n",
       " 'CA-110 S',\n",
       " ' W Florence Ave',\n",
       " ' Canal St',\n",
       " ' Plank Rd',\n",
       " 'MN-5 E',\n",
       " 'Pontchartrain Expy W',\n",
       " 'CA-241 N',\n",
       " 'I-205 W',\n",
       " ' SW 57th Ave',\n",
       " 'I-270 S',\n",
       " ' Central Ave',\n",
       " 'Airline Hwy',\n",
       " 'NW 36th St',\n",
       " 'Cross Island Pkwy N',\n",
       " 'VA Beach Norfolk Expy E',\n",
       " 'Columbia River Hwy 2',\n",
       " ' Consulate Dr',\n",
       " 'James Lick Fwy S',\n",
       " 'Tri State Tollway S',\n",
       " 'S John Young Pkwy',\n",
       " 'I-465 E',\n",
       " 'Cross Westchester Expy E',\n",
       " ' SW 67th Ave',\n",
       " 'US-80 W',\n",
       " ' Mount Hood Hwy',\n",
       " ' S Memorial Dr',\n",
       " 'Taconic State Pkwy',\n",
       " 'CA-79 N',\n",
       " ' Bonita Beach Rd',\n",
       " 'TX-1604',\n",
       " 'US Highway 301',\n",
       " 'John Hanson Hwy W',\n",
       " 'N Claiborne Ave',\n",
       " 'Firestone Blvd',\n",
       " 'Prince William Pkwy',\n",
       " 'CT-8 S',\n",
       " ' State Highway 36',\n",
       " ' Jefferson Hwy',\n",
       " ' Telegraph Rd',\n",
       " 'I-240 W',\n",
       " 'Custis Memorial Pkwy E',\n",
       " ' 5th St',\n",
       " ' Asheville Hwy',\n",
       " ' Mobile Hwy',\n",
       " ' US Highway 10',\n",
       " ' Lincoln Hwy E',\n",
       " 'Bangerter Hwy',\n",
       " ' US Highway 19',\n",
       " ' Mulberry Dr',\n",
       " ' Center St',\n",
       " 'I-695 S',\n",
       " ' NW 7th St',\n",
       " ' Highway 23 NE',\n",
       " ' Harbor Blvd',\n",
       " 'I-99 N',\n",
       " ' Highway 49',\n",
       " ' SW 85th Ave',\n",
       " ' Garfield Ave',\n",
       " ' Palm Beach Blvd',\n",
       " ' Wade Hampton Blvd',\n",
       " ' State Highway 60',\n",
       " ' E Slauson Ave',\n",
       " 'US-31 S',\n",
       " ' 3rd Ave',\n",
       " ' S Broadway Ave',\n",
       " ' SE Highway 212',\n",
       " 'AZ-101 Loop W',\n",
       " ' SW Highway 97',\n",
       " ' Cherry Ave',\n",
       " 'TN-153 N',\n",
       " 'I-278 W',\n",
       " 'I-490 W',\n",
       " 'Henry Hudson Pkwy N',\n",
       " 'US-71 N',\n",
       " ' Sunset Rd',\n",
       " 'US-80 E',\n",
       " ' State Highway 120',\n",
       " ' S Broadway',\n",
       " 'El Dorado Fwy E',\n",
       " ' Stockton Blvd',\n",
       " ' York Rd',\n",
       " 'W Sam Houston Tollway S',\n",
       " ' E Market St',\n",
       " 'US Highway 14',\n",
       " ' S Sherwood Forest Blvd',\n",
       " ' W Washington St',\n",
       " ' Green Valley Rd',\n",
       " 'FL-228 E',\n",
       " ' NW 54th St',\n",
       " 'CA-168 W',\n",
       " ' State Highway 299 E',\n",
       " 'Chicago-Kansas City Expressway W',\n",
       " 'I-270 W',\n",
       " 'I-69 E',\n",
       " ' E 70th St',\n",
       " ' S Western Ave',\n",
       " 'I-495 S',\n",
       " 'I-470 E',\n",
       " 'MD-100 E',\n",
       " ' W Taft Vineland Rd',\n",
       " ' Salmon River Hwy',\n",
       " ' Highway 47',\n",
       " ' Highway 30',\n",
       " ' Sea Island Pkwy',\n",
       " ' Martin Luther King Jr Blvd',\n",
       " ' W Cheltenham Ave',\n",
       " 'SW 58th Ter',\n",
       " 'WA-167 N',\n",
       " 'John C Lodge Fwy N',\n",
       " ' E Kings Canyon Rd',\n",
       " 'CA-2 W',\n",
       " ' Bissonnet St',\n",
       " ' Nadeau St',\n",
       " ' N Goldenrod Rd',\n",
       " 'State Road 9',\n",
       " ' Platt Springs Rd',\n",
       " ' SW 97th Ave',\n",
       " ' W 12th St',\n",
       " 'US-12 E',\n",
       " ' 34th St N',\n",
       " 'CA-198 E',\n",
       " ' Dickerson Pike',\n",
       " 'CT-8 N',\n",
       " 'US Highway 395',\n",
       " ' Harrison Blvd',\n",
       " ' Pearblossom Hwy',\n",
       " 'Central Florida Greeneway S',\n",
       " ' Arlington Ave',\n",
       " ' Culver Blvd',\n",
       " ' E Grant Rd',\n",
       " ' Magnolia St',\n",
       " ' Cypress Pkwy',\n",
       " 'I-820 W',\n",
       " 'CA-17 N',\n",
       " 'I-459 S',\n",
       " ' Highway 7',\n",
       " ' 1st St',\n",
       " 'US-202 N',\n",
       " ' Beach Blvd',\n",
       " 'Beaverton Tigard Fwy S',\n",
       " ' S Gessner Rd',\n",
       " 'US-167 S',\n",
       " 'S Central Ave',\n",
       " ' N Dale Mabry Hwy',\n",
       " 'US-90 E',\n",
       " ' Lewiston Hwy',\n",
       " ' US Highway 301 N',\n",
       " 'MN-610 W',\n",
       " ' New Hampshire Ave',\n",
       " 'WA-512 W',\n",
       " ' Essen Ln',\n",
       " 'TX-121 S',\n",
       " 'NW 2nd Ave',\n",
       " 'US-12 W',\n",
       " 'Oregon Coast Hwy',\n",
       " 'N South Fwy S',\n",
       " ' W Highway 98',\n",
       " 'I-690 E',\n",
       " ' NW 47th Ave',\n",
       " ' Crenshaw Blvd',\n",
       " ' S Normandie Ave',\n",
       " ' E Imperial Hwy',\n",
       " 'I-470 W',\n",
       " ' Santiam Hwy',\n",
       " 'Anacostia Fwy N',\n",
       " 'AZ-202 Loop E',\n",
       " 'US-26 W',\n",
       " 'Crenshaw Blvd',\n",
       " ' Cajalco Rd',\n",
       " 'Pottstown Expy W',\n",
       " ' Pleasant Valley Rd',\n",
       " ' E Valencia Rd',\n",
       " ' Cascade Hwy',\n",
       " 'I-787 N',\n",
       " ' US Highway 41 N',\n",
       " 'US-19 N',\n",
       " ' Dumfries Rd',\n",
       " ' W Braker Ln',\n",
       " ' Poole Rd',\n",
       " ' Chimney Rock Rd',\n",
       " 'Crosstown Hwy E',\n",
       " ' Foothill Blvd',\n",
       " 'KS-10 W',\n",
       " ' Gallatin Pike S',\n",
       " 'Valley Blvd',\n",
       " ' State Highway 193',\n",
       " 'CA-170 N',\n",
       " 'John Hanson Hwy E',\n",
       " ' Gulf to Bay Blvd',\n",
       " ' Maricopa Hwy',\n",
       " ' S Kirkwood Rd',\n",
       " ' N 27th Ave',\n",
       " ' Broad River Rd',\n",
       " '53rd Ave E',\n",
       " ' Fullerton Rd',\n",
       " ' Church Rd',\n",
       " ' University Ave',\n",
       " ' US Highway 17',\n",
       " ' Central Oregon Hwy',\n",
       " 'I-285 E',\n",
       " ' State Road 62',\n",
       " 'Pontchartrain Expy E',\n",
       " ' Airport Blvd',\n",
       " ' Watt Ave',\n",
       " 'W Sunset Blvd',\n",
       " ' Washington Ln',\n",
       " 'Sawgrass Expy',\n",
       " 'Harry Byrd Hwy',\n",
       " 'S Dade Expy S',\n",
       " ' Palm Pkwy',\n",
       " 'I-270 N',\n",
       " 'Superstition Fwy E',\n",
       " ' Rosedale Hwy',\n",
       " 'Mopac Expy N',\n",
       " ' NE 167th St',\n",
       " ' N Highway 99W',\n",
       " 'I-459 N',\n",
       " 'CT-2 W',\n",
       " ' Pulaski Hwy',\n",
       " 'Sepulveda Blvd',\n",
       " 'W Okeechobee Rd',\n",
       " ' State Highway 15',\n",
       " ' W Rosecrans Ave',\n",
       " 'Highway 97 N',\n",
       " 'Dallas North Tollway N',\n",
       " 'I-691 E',\n",
       " ' N 1st Ave',\n",
       " ' Buckley Rd',\n",
       " 'GB Alford Hwy',\n",
       " ' Bouquet Canyon Rd',\n",
       " ' SW 42nd St',\n",
       " 'MN-36 E',\n",
       " 'CA-79 S',\n",
       " ' State Highway 74',\n",
       " 'GA-400 S',\n",
       " ' E 22nd St',\n",
       " 'I-435 E',\n",
       " 'Loop 12 N',\n",
       " 'US-50 W',\n",
       " 'W Imperial Hwy',\n",
       " ' Universal Blvd',\n",
       " 'US-69 S',\n",
       " ' Aloma Ave',\n",
       " ' State Highway 160',\n",
       " 'MN-22',\n",
       " 'TX-360 N',\n",
       " 'I-694 S',\n",
       " 'US-202 S',\n",
       " ' SW 136th St',\n",
       " ' State Highway 23',\n",
       " ' McCarter Hwy',\n",
       " 'I-195 W',\n",
       " 'Colima Rd',\n",
       " 'Ocean Gtwy',\n",
       " ' State Highway 210',\n",
       " ' W Ridge Pike',\n",
       " ' NW 17th Ave',\n",
       " 'I-59 N',\n",
       " ' NW 25th St',\n",
       " ' James Madison Hwy',\n",
       " 'Harlem River Dr N',\n",
       " 'I-580 N',\n",
       " 'NJ-3 W',\n",
       " 'Edward J Jeffries Fwy',\n",
       " ' S Congress Ave',\n",
       " ' Perry Creek Rd',\n",
       " 'Cascade Hwy N',\n",
       " ' Charlotte Pike',\n",
       " 'US-222 S',\n",
       " 'Santa Cruz Hwy',\n",
       " ' E Michigan St',\n",
       " ' University Blvd',\n",
       " 'Interstate 80 E',\n",
       " 'I-465 S',\n",
       " ' Avent Ferry Rd',\n",
       " ' SE 82nd Ave',\n",
       " ' S Vermont Ave',\n",
       " ' S Goldenrod Rd',\n",
       " ' Sierra Hwy',\n",
       " ' Hull Street Rd',\n",
       " ' Boggy Creek Rd',\n",
       " ' Eastern Ave',\n",
       " ' Stony Point Rd',\n",
       " ' Fairfax County Pkwy',\n",
       " ' N Capital of Texas Hwy',\n",
       " ' West Blvd',\n",
       " 'I-43 S',\n",
       " ' Miller Dr',\n",
       " ' Greenwell Springs Rd',\n",
       " 'W Sand Lake Rd',\n",
       " 'CA-22 W',\n",
       " ' Lancaster Hwy',\n",
       " 'I-68 W',\n",
       " ' Old Winter Garden Rd',\n",
       " ' W Northwest Hwy',\n",
       " ' 53rd Ave W',\n",
       " 'I-630 E',\n",
       " 'Wilshire Blvd',\n",
       " ' Bethlehem Pike',\n",
       " ' Prescott Rd',\n",
       " 'S Fremont Ave',\n",
       " ' Tamiami Trl S',\n",
       " 'New York Trwy W',\n",
       " ' State St',\n",
       " ' S Union Ave',\n",
       " 'Crain Hwy',\n",
       " 'Westheimer Rd',\n",
       " 'TX-121 N',\n",
       " 'I-787 S',\n",
       " 'Saw Mill River Pkwy N',\n",
       " ' Firestone Blvd',\n",
       " ' Johnson Memorial Dr',\n",
       " 'US-52 N',\n",
       " 'I-205 N',\n",
       " 'Vietnam Veterans Memorial Hwy',\n",
       " ' N Claiborne Ave',\n",
       " 'Carquinez Brg E',\n",
       " 'I-465 W',\n",
       " ' Monterey Salinas Hwy',\n",
       " ' S La Brea Ave',\n",
       " ' W Jackson St',\n",
       " 'Santiam Hwy',\n",
       " 'Hutchinson River Pkwy N',\n",
       " ' E Osceola Pkwy',\n",
       " 'Ulmerton Rd',\n",
       " ' N 19th Ave',\n",
       " 'Daniel Webster Western Beltway S',\n",
       " 'Conroy Rd',\n",
       " 'I-270 E',\n",
       " ' Walnut Hill Ln',\n",
       " ' Mills Ave',\n",
       " 'Ochoco Hwy',\n",
       " ' Beneva Rd',\n",
       " ' State Highway 22',\n",
       " ' Clemson Rd',\n",
       " ' Calvine Rd',\n",
       " 'I-74 E',\n",
       " 'I-380 N',\n",
       " 'CA-56 E',\n",
       " 'Coatesville Downingtown Byp E',\n",
       " ' Harding Pl',\n",
       " ' Vineland Rd',\n",
       " ' Maple Ave',\n",
       " ' US Highway 301',\n",
       " ' Branch Ave',\n",
       " 'AL-8 W',\n",
       " ' US Highway 285',\n",
       " 'SW 67th Ave',\n",
       " 'US-41 S',\n",
       " 'E Colonial Dr',\n",
       " ' E El Segundo Blvd',\n",
       " ' US Highway 9',\n",
       " 'El Toro Rd',\n",
       " ' State Route 12',\n",
       " ' Lebanon Rd',\n",
       " 'Long Beach Blvd',\n",
       " 'S Brookhurst Rd',\n",
       " 'I-105 E',\n",
       " 'Snapper Creek Expy W',\n",
       " ' Rea Rd',\n",
       " 'US-40 W',\n",
       " ' Tampa Rd',\n",
       " ' NE 183rd St',\n",
       " ' 2nd Ave',\n",
       " ' University City Blvd',\n",
       " 'San Bernardino Fwy W',\n",
       " 'Fairfax County Pkwy',\n",
       " 'US-35 W',\n",
       " 'Central Fwy',\n",
       " ' Cleveland Ave',\n",
       " ' Sunrise Blvd',\n",
       " 'SW 40th St',\n",
       " 'Harry Byrd Hwy W',\n",
       " ' Highway 2',\n",
       " ' King St',\n",
       " ' Causeway Blvd',\n",
       " ' Pioneer Blvd',\n",
       " ' E 3rd St',\n",
       " 'UT-201 E',\n",
       " ' E Speedway Blvd',\n",
       " ' N Pacific Hwy',\n",
       " 'US-59 N',\n",
       " 'John C Lodge Fwy S',\n",
       " ' Old River Rd',\n",
       " ' Highway 95',\n",
       " ' Abrams Rd',\n",
       " 'International Dr',\n",
       " ' State Highway 16',\n",
       " 'Glenwood Ave',\n",
       " ' City Creek Rd',\n",
       " 'CA-65 N',\n",
       " 'I-495 N',\n",
       " ' Bonita Beach Rd SE',\n",
       " ' E 11th St',\n",
       " 'Cascade Hwy S',\n",
       " ' N Foster Dr',\n",
       " 'WA-18 W',\n",
       " 'Pearl Harbor Memorial Highway',\n",
       " ' El Camino Real',\n",
       " 'CA-120 E',\n",
       " ' Greenwood Rd',\n",
       " 'Meadowbrook Pkwy N',\n",
       " 'TX-360 S',\n",
       " 'Highway 7',\n",
       " ' Chef Menteur Hwy',\n",
       " ' Southwest Fwy',\n",
       " 'CA-178 E',\n",
       " 'CA-71 N',\n",
       " 'I-290 E',\n",
       " ' Jackson Ave',\n",
       " ' North Fwy',\n",
       " ' Highway 29',\n",
       " 'Arlington Ave',\n",
       " 'I-225 S',\n",
       " ' Dick Pond Rd',\n",
       " ' Miramar Rd',\n",
       " ' Marguerite Pkwy',\n",
       " ' Highway 169',\n",
       " ' Lee Dr',\n",
       " ' State Highway 96',\n",
       " ' US Highway 93 N',\n",
       " 'I-610 N',\n",
       " ' Tyvola Rd',\n",
       " 'CA-20',\n",
       " ' Highway 6',\n",
       " ' College Dr',\n",
       " ' Monroe Ave',\n",
       " 'Pacific Coast Hwy',\n",
       " ' Highway 72 W',\n",
       " ' Bellaire Blvd',\n",
       " 'Central Oregon Hwy',\n",
       " ' W Sugar Creek Rd',\n",
       " ' State Highway 97',\n",
       " 'Dan Ryan Expy S',\n",
       " ' Laurel St',\n",
       " ' Atlantic Ave',\n",
       " ' Hoxie Ave',\n",
       " ' Santa Monica Blvd',\n",
       " ' Bangerter Hwy',\n",
       " 'US-87 S',\n",
       " ' Cedar Ave',\n",
       " ' Skyline Blvd',\n",
       " ' Gulf Fwy',\n",
       " 'Old Oregon Trl',\n",
       " ' S Hampton Rd',\n",
       " 'Fisher Fwy N',\n",
       " 'AL-4 W',\n",
       " 'S Highway 97',\n",
       " 'I-430 N',\n",
       " ' Midlothian Tpke',\n",
       " 'Pulaski Skwy S',\n",
       " ' Capital Cir NE',\n",
       " ' US Highway 89',\n",
       " ' Brent Ln',\n",
       " ' Huntingdon Pike',\n",
       " 'Lyndon B Johnson Fwy',\n",
       " 'I-190 S',\n",
       " ' W Sam Houston Pkwy S',\n",
       " ' Gulf Breeze Pkwy',\n",
       " ' State Route 7',\n",
       " 'Salmon River Hwy',\n",
       " 'State Route 17',\n",
       " 'State Route 4',\n",
       " 'State Route 3',\n",
       " 'MacArthur Cswy W',\n",
       " 'Stemmons Fwy N',\n",
       " ' W McDowell Rd',\n",
       " 'Bergen Passaic Expy E',\n",
       " 'Detroit Toledo Expy N',\n",
       " 'MN-62 E',\n",
       " 'US-287 S',\n",
       " 'Suitland Pkwy',\n",
       " ' Burton St SW',\n",
       " 'N Santiam Hwy E',\n",
       " ' Richmond Rd',\n",
       " 'CT-9 S',\n",
       " ' E Telegraph Rd',\n",
       " ' Chestnut St',\n",
       " 'I-385 S',\n",
       " 'I-99 S',\n",
       " ' Augusta Rd',\n",
       " ' S Mission Rd',\n",
       " ' Freedom Dr',\n",
       " ' Strickland Rd',\n",
       " 'Sully Rd',\n",
       " ' W Oak Ridge Rd',\n",
       " 'US Highway 1',\n",
       " 'FL-7',\n",
       " ' Fruitville Rd',\n",
       " ' E 1st St',\n",
       " ' Olive Dr',\n",
       " 'I-435 W',\n",
       " ' Shoreline Hwy',\n",
       " ' Highway 395',\n",
       " ' Gold Hill Rd',\n",
       " 'Highway 95 S',\n",
       " ' Highland Ave',\n",
       " 'Santa Monica Blvd',\n",
       " 'SW 154th St',\n",
       " ' N Palafox St',\n",
       " ' Crows Landing Rd',\n",
       " ' W Bethany Home Rd',\n",
       " ' Youree Dr',\n",
       " ' N Monroe St',\n",
       " ' Mission Rd',\n",
       " 'Baltimore National Pike W',\n",
       " ' Kingsley Ave',\n",
       " 'Glen Burnie Byp N',\n",
       " 'Grand Ave',\n",
       " ' Fremont Hwy',\n",
       " ' Highway 10 NW',\n",
       " ' Skippack Pike',\n",
       " ' Division Ave S',\n",
       " 'Clark Rd',\n",
       " ' Immokalee Rd',\n",
       " ' Landstar Blvd',\n",
       " ' Lake Ave',\n",
       " 'Beach Blvd',\n",
       " ' US Highway 12',\n",
       " 'Riverside Dr',\n",
       " 'GA-405 N',\n",
       " ' Murphy Rd',\n",
       " 'GA-404 W',\n",
       " 'Pulaski Skwy N',\n",
       " ' Pine Forest Rd',\n",
       " ' Orange St',\n",
       " ' W Whitesbridge Ave',\n",
       " 'Joshua Forest Scenic Rd',\n",
       " ' Georgia Ave',\n",
       " 'Saw Mill River Pkwy S',\n",
       " ' Santa Fe Ave',\n",
       " 'CA-87 N',\n",
       " ' Lemmon Ave',\n",
       " ' Saint Helena Hwy',\n",
       " ' US Highway 2 E',\n",
       " ' Fondren Rd',\n",
       " 'Exton Byp E',\n",
       " ' Byron Hwy',\n",
       " ' E Gage Ave',\n",
       " ' Highway 99 E',\n",
       " ' Midway Rd',\n",
       " ' 8th Ave S',\n",
       " ' Bluebonnet Blvd',\n",
       " 'Woodruff Ave',\n",
       " ' Santa Fe Dr',\n",
       " 'Jamboree Rd',\n",
       " ' Corkscrew Rd',\n",
       " ' Washington Ave',\n",
       " 'Veterans Expy S',\n",
       " ' E 21st St',\n",
       " ' N Highway 231',\n",
       " ' W Speedway Blvd',\n",
       " ' Hall Rd',\n",
       " ' Park Ave',\n",
       " ' Wilson River Hwy',\n",
       " ' Anderson Hwy',\n",
       " 'Boggy Creek Rd',\n",
       " ' Highway 395 S',\n",
       " ' US Highway 231',\n",
       " ' US Highway 98 W',\n",
       " ' Idlewild Rd',\n",
       " ' State Route 17',\n",
       " 'Highway 101',\n",
       " 'US-64 W',\n",
       " ' North St',\n",
       " ' Highway 101 N',\n",
       " ' W Prince Rd',\n",
       " ' W Imperial Hwy',\n",
       " ' Elm St',\n",
       " ' Highway 168',\n",
       " 'NY-7 W',\n",
       " 'Interstate 90',\n",
       " ' Pelham Rd',\n",
       " ' US Highway 14',\n",
       " 'Ventura Fwy E',\n",
       " 'NW 25th St',\n",
       " ' E 92nd St',\n",
       " ' New York Ave NE',\n",
       " 'I-276 W',\n",
       " 'I-380 S',\n",
       " 'Pioneer Blvd',\n",
       " 'Dallas North Tollway S',\n",
       " 'Sunset Hwy W',\n",
       " 'Piestewa Fwy S',\n",
       " ' Bryant St',\n",
       " 'N Highway 101',\n",
       " ' S Cleveland Ave',\n",
       " 'Buick Fwy S',\n",
       " ' Howe Ave',\n",
       " 'NW Wilson River Hwy',\n",
       " 'Long Beach Fwy S',\n",
       " 'I-676 E',\n",
       " 'Hutchinson River Pkwy S',\n",
       " ' Easton Rd',\n",
       " ' Richmond Ave',\n",
       " ' Katy Fwy',\n",
       " ' E River Rd',\n",
       " 'US-15 N',\n",
       " 'Hance Deck Park Tunnel',\n",
       " ' State Highway 18',\n",
       " ' San Pablo Dam Rd',\n",
       " ' NW 37th Ave',\n",
       " ' Lafayette St',\n",
       " ' Arden Way',\n",
       " 'Hawn Fwy W',\n",
       " 'Sears Point Rd',\n",
       " ' S US Highway 41',\n",
       " ' Charleston Hwy',\n",
       " 'I-285 N',\n",
       " ' McFarland Blvd E',\n",
       " ' White Horse Rd',\n",
       " 'Mopac Expy S',\n",
       " ' W Hillsborough Ave',\n",
       " 'Harlem River Dr S',\n",
       " ' Berryville Pike',\n",
       " ' S Myrtle Ave',\n",
       " ' Highland Rd',\n",
       " ' Compton Ave',\n",
       " ' E Highway 501',\n",
       " ' FM 969',\n",
       " ' S Mingo Rd',\n",
       " ...]"
      ]
     },
     "execution_count": 16,
     "metadata": {},
     "output_type": "execute_result"
    }
   ],
   "source": [
    "list(street_count[street_count<20].index)"
   ]
  },
  {
   "cell_type": "code",
   "execution_count": 17,
   "id": "f7f74f4f",
   "metadata": {
    "scrolled": false
   },
   "outputs": [
    {
     "data": {
      "text/plain": [
       "Other                    30747\n",
       "I-5 N                      666\n",
       "I-95 N                     652\n",
       "I-95 S                     602\n",
       "I-5 S                      560\n",
       "                         ...  \n",
       " SW 56th St                 20\n",
       " NW 119th St                20\n",
       "Edsel Ford Fwy W            20\n",
       "George Washington Brg       20\n",
       "State Highway 1             20\n",
       "Name: Street, Length: 291, dtype: int64"
      ]
     },
     "execution_count": 17,
     "metadata": {},
     "output_type": "execute_result"
    }
   ],
   "source": [
    "# Determine which values to replace if counts are less than ...? less than 20\n",
    "replace_street = list(street_count[street_count<20].index)\n",
    "\n",
    "# Replace in dataframe\n",
    "for street in replace_street:\n",
    "    accident_df.Street = accident_df.Street.replace(street,\"Other\")\n",
    "    \n",
    "# Check to make sure binning was successful\n",
    "accident_df.Street.value_counts()"
   ]
  },
  {
   "cell_type": "code",
   "execution_count": null,
   "id": "8287ec9c",
   "metadata": {
    "scrolled": false
   },
   "outputs": [],
   "source": []
  },
  {
   "cell_type": "code",
   "execution_count": 19,
   "id": "75d77d39",
   "metadata": {
    "scrolled": false
   },
   "outputs": [],
   "source": []
  },
  {
   "cell_type": "code",
   "execution_count": 20,
   "id": "60a30c9f",
   "metadata": {
    "scrolled": false
   },
   "outputs": [],
   "source": [
    "# accident_df.to_csv('C:/Users/Helanga/Desktop/THe_Final_Project_Data_Visualization/DataFile/mock_accident_Cleaneddata.csv', sep=',',encoding='utf-8',header='true')"
   ]
  },
  {
   "cell_type": "code",
   "execution_count": 21,
   "id": "10e75b33",
   "metadata": {
    "scrolled": false
   },
   "outputs": [],
   "source": [
    "#replace all bollean values to integer\n",
    "accident_df.replace({False: 0, True: 1}, inplace=True)"
   ]
  },
  {
   "cell_type": "code",
   "execution_count": 22,
   "id": "3a1b25ff",
   "metadata": {
    "scrolled": false
   },
   "outputs": [
    {
     "data": {
      "text/plain": [
       "Severity               int64\n",
       "Start_Lat            float64\n",
       "Start_Lng            float64\n",
       "Distance(mi)         float64\n",
       "Street                object\n",
       "Side                  object\n",
       "City                  object\n",
       "County                object\n",
       "State                 object\n",
       "Timezone              object\n",
       "Temperature(F)       float64\n",
       "Wind_Chill(F)        float64\n",
       "Humidity(%)          float64\n",
       "Pressure(in)         float64\n",
       "Visibility(mi)       float64\n",
       "Wind_Direction        object\n",
       "Wind_Speed(mph)      float64\n",
       "Precipitation(in)    float64\n",
       "Weather_Condition     object\n",
       "Amenity                int64\n",
       "Bump                   int64\n",
       "Crossing               int64\n",
       "Give_Way               int64\n",
       "Junction               int64\n",
       "No_Exit                int64\n",
       "Railway                int64\n",
       "Roundabout             int64\n",
       "Station                int64\n",
       "Stop                   int64\n",
       "Traffic_Calming        int64\n",
       "Traffic_Signal         int64\n",
       "Turning_Loop           int64\n",
       "Sunrise_Sunset        object\n",
       "Year                   int64\n",
       "Month                 object\n",
       "Day                    int64\n",
       "Hour                   int64\n",
       "Weekday               object\n",
       "time_duration        float64\n",
       "dtype: object"
      ]
     },
     "execution_count": 22,
     "metadata": {},
     "output_type": "execute_result"
    }
   ],
   "source": [
    "accident_df.dtypes"
   ]
  },
  {
   "cell_type": "code",
   "execution_count": 23,
   "id": "b7e1c8aa",
   "metadata": {
    "scrolled": false
   },
   "outputs": [
    {
     "data": {
      "text/plain": [
       "2    46626\n",
       "4     1425\n",
       "3     1410\n",
       "1      539\n",
       "Name: Severity, dtype: int64"
      ]
     },
     "execution_count": 23,
     "metadata": {},
     "output_type": "execute_result"
    }
   ],
   "source": [
    "# check Severity column\n",
    "accident_df['Severity'].value_counts()"
   ]
  },
  {
   "cell_type": "markdown",
   "id": "f84e5ea0",
   "metadata": {},
   "source": [
    "#### converting the string values into numerical ones using label encoder"
   ]
  },
  {
   "cell_type": "code",
   "execution_count": 24,
   "id": "d355f475",
   "metadata": {
    "scrolled": false
   },
   "outputs": [
    {
     "data": {
      "text/plain": [
       "Index(['Street', 'Side', 'City', 'County', 'State', 'Timezone',\n",
       "       'Wind_Direction', 'Weather_Condition', 'Sunrise_Sunset', 'Month',\n",
       "       'Weekday'],\n",
       "      dtype='object')"
      ]
     },
     "execution_count": 24,
     "metadata": {},
     "output_type": "execute_result"
    }
   ],
   "source": [
    "# To see which columns have categorical value columns\n",
    "X_cat = accident_df.select_dtypes(include='object').columns\n",
    "X_cat"
   ]
  },
  {
   "cell_type": "code",
   "execution_count": 25,
   "id": "515a7b7a",
   "metadata": {
    "scrolled": true
   },
   "outputs": [
    {
     "name": "stdout",
     "output_type": "stream",
     "text": [
      "Street \n",
      " Other                    30747\n",
      "I-5 N                      666\n",
      "I-95 N                     652\n",
      "I-95 S                     602\n",
      "I-5 S                      560\n",
      "                         ...  \n",
      " SW 56th St                 20\n",
      " NW 119th St                20\n",
      "Edsel Ford Fwy W            20\n",
      "George Washington Brg       20\n",
      "State Highway 1             20\n",
      "Name: Street, Length: 291, dtype: int64\n",
      "--------------------------------------\n",
      "Side \n",
      " R    40600\n",
      "L     9400\n",
      "Name: Side, dtype: int64\n",
      "--------------------------------------\n",
      "City \n",
      " Miami          2174\n",
      "Los Angeles    1290\n",
      "Orlando        1082\n",
      "Dallas          725\n",
      "Houston         672\n",
      "               ... \n",
      "Reidsville        1\n",
      "Laceyville        1\n",
      "Watkins           1\n",
      "Tonto Basin       1\n",
      "Anna              1\n",
      "Name: City, Length: 4669, dtype: int64\n",
      "--------------------------------------\n",
      "County \n",
      " Los Angeles        3714\n",
      "Miami-Dade         2934\n",
      "Orange             2185\n",
      "San Bernardino     1048\n",
      "San Diego           942\n",
      "                   ... \n",
      "Acadia                1\n",
      "Chelan                1\n",
      "Independence          1\n",
      "Richmond County       1\n",
      "Mahaska               1\n",
      "Name: County, Length: 992, dtype: int64\n",
      "--------------------------------------\n",
      "State \n",
      " CA    13747\n",
      "FL     7869\n",
      "TX     2459\n",
      "OR     2252\n",
      "VA     2028\n",
      "PA     2002\n",
      "MN     1987\n",
      "NY     1891\n",
      "SC     1793\n",
      "NC     1708\n",
      "TN     1060\n",
      "LA     1029\n",
      "MD      935\n",
      "AZ      892\n",
      "NJ      885\n",
      "UT      830\n",
      "MI      691\n",
      "CT      552\n",
      "IL      511\n",
      "GA      506\n",
      "WA      448\n",
      "MO      420\n",
      "CO      389\n",
      "AL      361\n",
      "MT      349\n",
      "OH      287\n",
      "IN      252\n",
      "DC      192\n",
      "AR      190\n",
      "IA      182\n",
      "OK      161\n",
      "WV      148\n",
      "KS      143\n",
      "ID      136\n",
      "MS       95\n",
      "MA       89\n",
      "NV       86\n",
      "DE       78\n",
      "KY       64\n",
      "WI       57\n",
      "NE       54\n",
      "RI       42\n",
      "NH       37\n",
      "ND       37\n",
      "NM       37\n",
      "ME       17\n",
      "WY       15\n",
      "VT        4\n",
      "SD        3\n",
      "Name: State, dtype: int64\n",
      "--------------------------------------\n",
      "Timezone \n",
      " US/Eastern     22024\n",
      "US/Pacific     16754\n",
      "US/Central      8529\n",
      "US/Mountain     2693\n",
      "Name: Timezone, dtype: int64\n",
      "--------------------------------------\n",
      "Wind_Direction \n",
      " CALM        9218\n",
      "S           3717\n",
      "W           3645\n",
      "E           2727\n",
      "N           2652\n",
      "WNW         2569\n",
      "NW          2559\n",
      "SSW         2381\n",
      "NNW         2308\n",
      "VAR         2306\n",
      "WSW         2285\n",
      "SSE         2265\n",
      "SW          2238\n",
      "SE          1964\n",
      "ESE         1894\n",
      "ENE         1781\n",
      "NE          1759\n",
      "NNE         1566\n",
      "North         53\n",
      "West          37\n",
      "South         35\n",
      "East          30\n",
      "Variable      11\n",
      "Name: Wind_Direction, dtype: int64\n",
      "--------------------------------------\n",
      "Weather_Condition \n",
      " Fair                           23536\n",
      "Cloudy                          7644\n",
      "Mostly Cloudy                   6480\n",
      "Partly Cloudy                   4383\n",
      "Light Rain                      2400\n",
      "                               ...  \n",
      "Smoke / Windy                      1\n",
      "Freezing Rain                      1\n",
      "Light Blowing Snow                 1\n",
      "Widespread Dust / Windy            1\n",
      "Light Freezing Rain / Windy        1\n",
      "Name: Weather_Condition, Length: 66, dtype: int64\n",
      "--------------------------------------\n",
      "Sunrise_Sunset \n",
      " Day      31048\n",
      "Night    18952\n",
      "Name: Sunrise_Sunset, dtype: int64\n",
      "--------------------------------------\n",
      "Month \n",
      " Dec    9093\n",
      "Nov    6733\n",
      "Oct    5387\n",
      "Sep    4193\n",
      "Jun    4059\n",
      "Feb    3281\n",
      "Jan    3224\n",
      "May    3146\n",
      "Aug    3006\n",
      "Apr    2925\n",
      "Jul    2485\n",
      "Mar    2468\n",
      "Name: Month, dtype: int64\n",
      "--------------------------------------\n",
      "Weekday \n",
      " Fri    8626\n",
      "Thu    8004\n",
      "Wed    7778\n",
      "Tue    7352\n",
      "Mon    7165\n",
      "Sat    6086\n",
      "Sun    4989\n",
      "Name: Weekday, dtype: int64\n",
      "--------------------------------------\n"
     ]
    }
   ],
   "source": [
    "# examine all the columns\n",
    "for column in accident_df[X_cat]:\n",
    "    print(column,\"\\n\", accident_df[column].value_counts())\n",
    "    print(\"--------------------------------------\")"
   ]
  },
  {
   "cell_type": "code",
   "execution_count": 26,
   "id": "4e62d3a6",
   "metadata": {
    "scrolled": false
   },
   "outputs": [],
   "source": [
    "from sklearn.preprocessing import LabelEncoder\n",
    "#\n",
    "# Instantiate LabelEncoder\n",
    "#\n",
    "le = LabelEncoder()\n"
   ]
  },
  {
   "cell_type": "code",
   "execution_count": 27,
   "id": "1ae46f6c",
   "metadata": {
    "scrolled": false
   },
   "outputs": [],
   "source": [
    "# Encode single column Side\n",
    "#\n",
    "accident_df.Street = le.fit_transform(accident_df.Street)\n",
    "#\n",
    "# Print df.head for checking the transformatio"
   ]
  },
  {
   "cell_type": "code",
   "execution_count": 28,
   "id": "02565d00",
   "metadata": {
    "scrolled": false
   },
   "outputs": [
    {
     "data": {
      "text/plain": [
       "0        270\n",
       "1         98\n",
       "2         31\n",
       "3        270\n",
       "4        270\n",
       "        ... \n",
       "49995    270\n",
       "49996    270\n",
       "49997    198\n",
       "49998     83\n",
       "49999    270\n",
       "Name: Street, Length: 50000, dtype: int32"
      ]
     },
     "execution_count": 28,
     "metadata": {},
     "output_type": "execute_result"
    }
   ],
   "source": [
    "accident_df['Street']"
   ]
  },
  {
   "cell_type": "code",
   "execution_count": 29,
   "id": "02bc6f9d",
   "metadata": {
    "scrolled": false
   },
   "outputs": [
    {
     "name": "stdout",
     "output_type": "stream",
     "text": [
      "291\n"
     ]
    }
   ],
   "source": [
    "print(accident_df['Street'].nunique())"
   ]
  },
  {
   "cell_type": "code",
   "execution_count": 30,
   "id": "38370f0d",
   "metadata": {
    "scrolled": false
   },
   "outputs": [],
   "source": [
    "# Encode single column Side\n",
    "#\n",
    "accident_df.Side = le.fit_transform(accident_df.Side)\n",
    "#\n",
    "# Print df.head for checking the transformation"
   ]
  },
  {
   "cell_type": "code",
   "execution_count": 31,
   "id": "b7a194e2",
   "metadata": {
    "scrolled": false
   },
   "outputs": [
    {
     "data": {
      "text/plain": [
       "0        1\n",
       "1        1\n",
       "2        0\n",
       "3        1\n",
       "4        1\n",
       "        ..\n",
       "49995    1\n",
       "49996    1\n",
       "49997    1\n",
       "49998    1\n",
       "49999    0\n",
       "Name: Side, Length: 50000, dtype: int32"
      ]
     },
     "execution_count": 31,
     "metadata": {},
     "output_type": "execute_result"
    }
   ],
   "source": [
    "accident_df['Side']"
   ]
  },
  {
   "cell_type": "code",
   "execution_count": 32,
   "id": "9a135671",
   "metadata": {
    "scrolled": false
   },
   "outputs": [],
   "source": [
    "# Encode single column City\n",
    "#\n",
    "accident_df.City = le.fit_transform(accident_df.City)\n",
    "#\n",
    "# Print df.head for checking the transformation"
   ]
  },
  {
   "cell_type": "code",
   "execution_count": 33,
   "id": "244cf796",
   "metadata": {
    "scrolled": false
   },
   "outputs": [
    {
     "data": {
      "text/plain": [
       "0        1003\n",
       "1        4227\n",
       "2        3433\n",
       "3        2515\n",
       "4        1412\n",
       "         ... \n",
       "49995    3586\n",
       "49996    4439\n",
       "49997    1933\n",
       "49998    3684\n",
       "49999     488\n",
       "Name: City, Length: 50000, dtype: int32"
      ]
     },
     "execution_count": 33,
     "metadata": {},
     "output_type": "execute_result"
    }
   ],
   "source": [
    "accident_df['City']"
   ]
  },
  {
   "cell_type": "code",
   "execution_count": 34,
   "id": "67745ba6",
   "metadata": {
    "scrolled": false
   },
   "outputs": [
    {
     "name": "stdout",
     "output_type": "stream",
     "text": [
      "4669\n"
     ]
    }
   ],
   "source": [
    "#accident_df['City'].unique().value_counts\n",
    "print(accident_df['City'].nunique())"
   ]
  },
  {
   "cell_type": "code",
   "execution_count": 35,
   "id": "1b63c1b6",
   "metadata": {
    "scrolled": false
   },
   "outputs": [],
   "source": [
    "# Encode single column County\n",
    "#\n",
    "accident_df.County = le.fit_transform(accident_df.County)\n",
    "#\n",
    "# Print df.head for checking the transformation"
   ]
  },
  {
   "cell_type": "code",
   "execution_count": 36,
   "id": "7f06a65f",
   "metadata": {
    "scrolled": false
   },
   "outputs": [
    {
     "data": {
      "text/plain": [
       "0        248\n",
       "1        854\n",
       "2        930\n",
       "3        106\n",
       "4        328\n",
       "        ... \n",
       "49995    480\n",
       "49996    176\n",
       "49997    397\n",
       "49998    780\n",
       "49999    108\n",
       "Name: County, Length: 50000, dtype: int32"
      ]
     },
     "execution_count": 36,
     "metadata": {},
     "output_type": "execute_result"
    }
   ],
   "source": [
    "accident_df['County']"
   ]
  },
  {
   "cell_type": "code",
   "execution_count": 37,
   "id": "5082acb0",
   "metadata": {
    "scrolled": false
   },
   "outputs": [
    {
     "name": "stdout",
     "output_type": "stream",
     "text": [
      "992\n"
     ]
    }
   ],
   "source": [
    "print(accident_df['County'].nunique())"
   ]
  },
  {
   "cell_type": "code",
   "execution_count": 38,
   "id": "df784171",
   "metadata": {
    "scrolled": false
   },
   "outputs": [],
   "source": [
    "# Encode single column State\n",
    "#\n",
    "accident_df.State = le.fit_transform(accident_df.State)\n",
    "#\n",
    "# Print df.head for checking the transformation"
   ]
  },
  {
   "cell_type": "code",
   "execution_count": 39,
   "id": "995ab438",
   "metadata": {
    "scrolled": false
   },
   "outputs": [
    {
     "data": {
      "text/plain": [
       "0        41\n",
       "1         3\n",
       "2        25\n",
       "3        17\n",
       "4        46\n",
       "         ..\n",
       "49995     3\n",
       "49996    36\n",
       "49997    41\n",
       "49998     3\n",
       "49999    32\n",
       "Name: State, Length: 50000, dtype: int32"
      ]
     },
     "execution_count": 39,
     "metadata": {},
     "output_type": "execute_result"
    }
   ],
   "source": [
    "accident_df['State']"
   ]
  },
  {
   "cell_type": "code",
   "execution_count": 40,
   "id": "1e890226",
   "metadata": {
    "scrolled": false
   },
   "outputs": [],
   "source": [
    "# Encode single column Timezone \n",
    "#\n",
    "accident_df.Timezone  = le.fit_transform(accident_df.Timezone)\n",
    "#\n",
    "# Print df.head for checking the transformation"
   ]
  },
  {
   "cell_type": "code",
   "execution_count": 41,
   "id": "01b31f54",
   "metadata": {
    "scrolled": false
   },
   "outputs": [
    {
     "data": {
      "text/plain": [
       "0        0\n",
       "1        3\n",
       "2        1\n",
       "3        1\n",
       "4        0\n",
       "        ..\n",
       "49995    3\n",
       "49996    1\n",
       "49997    0\n",
       "49998    3\n",
       "49999    1\n",
       "Name: Timezone, Length: 50000, dtype: int32"
      ]
     },
     "execution_count": 41,
     "metadata": {},
     "output_type": "execute_result"
    }
   ],
   "source": [
    "accident_df['Timezone']"
   ]
  },
  {
   "cell_type": "code",
   "execution_count": 42,
   "id": "ed789fb5",
   "metadata": {
    "scrolled": false
   },
   "outputs": [],
   "source": [
    "# Encode single column Wind_Direction \n",
    "#\n",
    "accident_df.Wind_Direction  = le.fit_transform(accident_df.Wind_Direction)\n",
    "#\n",
    "# Print df.head for checking the transformation"
   ]
  },
  {
   "cell_type": "code",
   "execution_count": 43,
   "id": "0c7e2b14",
   "metadata": {
    "scrolled": false
   },
   "outputs": [
    {
     "data": {
      "text/plain": [
       "0         9\n",
       "1         5\n",
       "2        21\n",
       "3        19\n",
       "4         7\n",
       "         ..\n",
       "49995     0\n",
       "49996     8\n",
       "49997     5\n",
       "49998     5\n",
       "49999     2\n",
       "Name: Wind_Direction, Length: 50000, dtype: int32"
      ]
     },
     "execution_count": 43,
     "metadata": {},
     "output_type": "execute_result"
    }
   ],
   "source": [
    "accident_df['Wind_Direction']"
   ]
  },
  {
   "cell_type": "code",
   "execution_count": 44,
   "id": "f68f954e",
   "metadata": {
    "scrolled": false
   },
   "outputs": [],
   "source": [
    "# Encode single column Weather_Condition \n",
    "#\n",
    "accident_df.Weather_Condition  = le.fit_transform(accident_df.Weather_Condition)\n",
    "#\n",
    "# Print df.head for checking the transformation"
   ]
  },
  {
   "cell_type": "code",
   "execution_count": 45,
   "id": "4e9b8523",
   "metadata": {
    "scrolled": false
   },
   "outputs": [
    {
     "data": {
      "text/plain": [
       "0        41\n",
       "1         9\n",
       "2        31\n",
       "3         9\n",
       "4        48\n",
       "         ..\n",
       "49995     5\n",
       "49996    41\n",
       "49997     9\n",
       "49998     5\n",
       "49999    48\n",
       "Name: Weather_Condition, Length: 50000, dtype: int32"
      ]
     },
     "execution_count": 45,
     "metadata": {},
     "output_type": "execute_result"
    }
   ],
   "source": [
    "accident_df['Weather_Condition']"
   ]
  },
  {
   "cell_type": "code",
   "execution_count": 46,
   "id": "14fd67c3",
   "metadata": {
    "scrolled": false
   },
   "outputs": [],
   "source": [
    "# Encode single column Sunrise_Sunset \n",
    "#\n",
    "accident_df.Sunrise_Sunset  = le.fit_transform(accident_df.Sunrise_Sunset)\n",
    "#\n",
    "# Print df.head for checking the transformation"
   ]
  },
  {
   "cell_type": "code",
   "execution_count": 47,
   "id": "ea355e37",
   "metadata": {
    "scrolled": false
   },
   "outputs": [
    {
     "data": {
      "text/plain": [
       "0        0\n",
       "1        1\n",
       "2        0\n",
       "3        0\n",
       "4        1\n",
       "        ..\n",
       "49995    1\n",
       "49996    0\n",
       "49997    0\n",
       "49998    1\n",
       "49999    1\n",
       "Name: Sunrise_Sunset, Length: 50000, dtype: int32"
      ]
     },
     "execution_count": 47,
     "metadata": {},
     "output_type": "execute_result"
    }
   ],
   "source": [
    "accident_df['Sunrise_Sunset']"
   ]
  },
  {
   "cell_type": "code",
   "execution_count": 48,
   "id": "ecf029f3",
   "metadata": {
    "scrolled": false
   },
   "outputs": [],
   "source": [
    "# Encode single column Day \n",
    "#\n",
    "accident_df.Weekday  = le.fit_transform(accident_df.Weekday)\n",
    "#\n",
    "# Print df.head for checking the transformation"
   ]
  },
  {
   "cell_type": "code",
   "execution_count": 49,
   "id": "6c3e8c05",
   "metadata": {
    "scrolled": false
   },
   "outputs": [
    {
     "data": {
      "text/plain": [
       "0        4\n",
       "1        6\n",
       "2        4\n",
       "3        0\n",
       "4        2\n",
       "        ..\n",
       "49995    1\n",
       "49996    0\n",
       "49997    5\n",
       "49998    5\n",
       "49999    0\n",
       "Name: Weekday, Length: 50000, dtype: int32"
      ]
     },
     "execution_count": 49,
     "metadata": {},
     "output_type": "execute_result"
    }
   ],
   "source": [
    "accident_df['Weekday']"
   ]
  },
  {
   "cell_type": "code",
   "execution_count": 50,
   "id": "5e0241c2",
   "metadata": {},
   "outputs": [],
   "source": [
    "# Encode single column Day \n",
    "#\n",
    "accident_df.Month  = le.fit_transform(accident_df.Month)\n",
    "#\n",
    "# Print df.head for checking the transformation"
   ]
  },
  {
   "cell_type": "code",
   "execution_count": 51,
   "id": "3fc06685",
   "metadata": {},
   "outputs": [
    {
     "data": {
      "text/plain": [
       "0         7\n",
       "1        10\n",
       "2         2\n",
       "3         8\n",
       "4         7\n",
       "         ..\n",
       "49995     2\n",
       "49996     5\n",
       "49997    10\n",
       "49998     9\n",
       "49999     7\n",
       "Name: Month, Length: 50000, dtype: int32"
      ]
     },
     "execution_count": 51,
     "metadata": {},
     "output_type": "execute_result"
    }
   ],
   "source": [
    "accident_df['Month']"
   ]
  },
  {
   "cell_type": "code",
   "execution_count": 52,
   "id": "22cf540c",
   "metadata": {
    "scrolled": false
   },
   "outputs": [
    {
     "data": {
      "text/plain": [
       "Severity               int64\n",
       "Start_Lat            float64\n",
       "Start_Lng            float64\n",
       "Distance(mi)         float64\n",
       "Street                 int32\n",
       "Side                   int32\n",
       "City                   int32\n",
       "County                 int32\n",
       "State                  int32\n",
       "Timezone               int32\n",
       "Temperature(F)       float64\n",
       "Wind_Chill(F)        float64\n",
       "Humidity(%)          float64\n",
       "Pressure(in)         float64\n",
       "Visibility(mi)       float64\n",
       "Wind_Direction         int32\n",
       "Wind_Speed(mph)      float64\n",
       "Precipitation(in)    float64\n",
       "Weather_Condition      int32\n",
       "Amenity                int64\n",
       "Bump                   int64\n",
       "Crossing               int64\n",
       "Give_Way               int64\n",
       "Junction               int64\n",
       "No_Exit                int64\n",
       "Railway                int64\n",
       "Roundabout             int64\n",
       "Station                int64\n",
       "Stop                   int64\n",
       "Traffic_Calming        int64\n",
       "Traffic_Signal         int64\n",
       "Turning_Loop           int64\n",
       "Sunrise_Sunset         int32\n",
       "Year                   int64\n",
       "Month                  int32\n",
       "Day                    int64\n",
       "Hour                   int64\n",
       "Weekday                int32\n",
       "time_duration        float64\n",
       "dtype: object"
      ]
     },
     "execution_count": 52,
     "metadata": {},
     "output_type": "execute_result"
    }
   ],
   "source": [
    "accident_df.dtypes"
   ]
  },
  {
   "cell_type": "markdown",
   "id": "c9e3ef2b",
   "metadata": {},
   "source": [
    "#### Split the Data into Training and Testing"
   ]
  },
  {
   "cell_type": "code",
   "execution_count": 53,
   "id": "c0c81722",
   "metadata": {
    "scrolled": false
   },
   "outputs": [
    {
     "data": {
      "text/html": [
       "<div>\n",
       "<style scoped>\n",
       "    .dataframe tbody tr th:only-of-type {\n",
       "        vertical-align: middle;\n",
       "    }\n",
       "\n",
       "    .dataframe tbody tr th {\n",
       "        vertical-align: top;\n",
       "    }\n",
       "\n",
       "    .dataframe thead th {\n",
       "        text-align: right;\n",
       "    }\n",
       "</style>\n",
       "<table border=\"1\" class=\"dataframe\">\n",
       "  <thead>\n",
       "    <tr style=\"text-align: right;\">\n",
       "      <th></th>\n",
       "      <th>Start_Lat</th>\n",
       "      <th>Start_Lng</th>\n",
       "      <th>Distance(mi)</th>\n",
       "      <th>Street</th>\n",
       "      <th>Side</th>\n",
       "      <th>City</th>\n",
       "      <th>County</th>\n",
       "      <th>State</th>\n",
       "      <th>Timezone</th>\n",
       "      <th>Temperature(F)</th>\n",
       "      <th>...</th>\n",
       "      <th>Traffic_Calming</th>\n",
       "      <th>Traffic_Signal</th>\n",
       "      <th>Turning_Loop</th>\n",
       "      <th>Sunrise_Sunset</th>\n",
       "      <th>Year</th>\n",
       "      <th>Month</th>\n",
       "      <th>Day</th>\n",
       "      <th>Hour</th>\n",
       "      <th>Weekday</th>\n",
       "      <th>time_duration</th>\n",
       "    </tr>\n",
       "  </thead>\n",
       "  <tbody>\n",
       "    <tr>\n",
       "      <th>0</th>\n",
       "      <td>32.649949</td>\n",
       "      <td>-96.840110</td>\n",
       "      <td>0.032</td>\n",
       "      <td>270</td>\n",
       "      <td>1</td>\n",
       "      <td>1003</td>\n",
       "      <td>248</td>\n",
       "      <td>41</td>\n",
       "      <td>0</td>\n",
       "      <td>55.0</td>\n",
       "      <td>...</td>\n",
       "      <td>0</td>\n",
       "      <td>0</td>\n",
       "      <td>0</td>\n",
       "      <td>0</td>\n",
       "      <td>2021</td>\n",
       "      <td>7</td>\n",
       "      <td>18</td>\n",
       "      <td>12</td>\n",
       "      <td>4</td>\n",
       "      <td>120.0</td>\n",
       "    </tr>\n",
       "    <tr>\n",
       "      <th>1</th>\n",
       "      <td>37.496093</td>\n",
       "      <td>-120.871708</td>\n",
       "      <td>0.130</td>\n",
       "      <td>98</td>\n",
       "      <td>1</td>\n",
       "      <td>4227</td>\n",
       "      <td>854</td>\n",
       "      <td>3</td>\n",
       "      <td>3</td>\n",
       "      <td>76.0</td>\n",
       "      <td>...</td>\n",
       "      <td>0</td>\n",
       "      <td>0</td>\n",
       "      <td>0</td>\n",
       "      <td>1</td>\n",
       "      <td>2020</td>\n",
       "      <td>10</td>\n",
       "      <td>7</td>\n",
       "      <td>18</td>\n",
       "      <td>6</td>\n",
       "      <td>79.0</td>\n",
       "    </tr>\n",
       "    <tr>\n",
       "      <th>2</th>\n",
       "      <td>35.798227</td>\n",
       "      <td>-78.558346</td>\n",
       "      <td>0.267</td>\n",
       "      <td>31</td>\n",
       "      <td>0</td>\n",
       "      <td>3433</td>\n",
       "      <td>930</td>\n",
       "      <td>25</td>\n",
       "      <td>1</td>\n",
       "      <td>53.0</td>\n",
       "      <td>...</td>\n",
       "      <td>0</td>\n",
       "      <td>0</td>\n",
       "      <td>0</td>\n",
       "      <td>0</td>\n",
       "      <td>2020</td>\n",
       "      <td>2</td>\n",
       "      <td>31</td>\n",
       "      <td>13</td>\n",
       "      <td>4</td>\n",
       "      <td>798.0</td>\n",
       "    </tr>\n",
       "    <tr>\n",
       "      <th>3</th>\n",
       "      <td>42.006400</td>\n",
       "      <td>-71.224580</td>\n",
       "      <td>0.000</td>\n",
       "      <td>270</td>\n",
       "      <td>1</td>\n",
       "      <td>2515</td>\n",
       "      <td>106</td>\n",
       "      <td>17</td>\n",
       "      <td>1</td>\n",
       "      <td>82.0</td>\n",
       "      <td>...</td>\n",
       "      <td>0</td>\n",
       "      <td>0</td>\n",
       "      <td>0</td>\n",
       "      <td>0</td>\n",
       "      <td>2020</td>\n",
       "      <td>8</td>\n",
       "      <td>22</td>\n",
       "      <td>14</td>\n",
       "      <td>0</td>\n",
       "      <td>77.0</td>\n",
       "    </tr>\n",
       "    <tr>\n",
       "      <th>4</th>\n",
       "      <td>43.682980</td>\n",
       "      <td>-88.442100</td>\n",
       "      <td>0.003</td>\n",
       "      <td>270</td>\n",
       "      <td>1</td>\n",
       "      <td>1412</td>\n",
       "      <td>328</td>\n",
       "      <td>46</td>\n",
       "      <td>0</td>\n",
       "      <td>42.0</td>\n",
       "      <td>...</td>\n",
       "      <td>0</td>\n",
       "      <td>0</td>\n",
       "      <td>0</td>\n",
       "      <td>1</td>\n",
       "      <td>2020</td>\n",
       "      <td>7</td>\n",
       "      <td>28</td>\n",
       "      <td>3</td>\n",
       "      <td>2</td>\n",
       "      <td>30.0</td>\n",
       "    </tr>\n",
       "  </tbody>\n",
       "</table>\n",
       "<p>5 rows × 38 columns</p>\n",
       "</div>"
      ],
      "text/plain": [
       "   Start_Lat   Start_Lng  Distance(mi)  Street  Side  City  County  State  \\\n",
       "0  32.649949  -96.840110         0.032     270     1  1003     248     41   \n",
       "1  37.496093 -120.871708         0.130      98     1  4227     854      3   \n",
       "2  35.798227  -78.558346         0.267      31     0  3433     930     25   \n",
       "3  42.006400  -71.224580         0.000     270     1  2515     106     17   \n",
       "4  43.682980  -88.442100         0.003     270     1  1412     328     46   \n",
       "\n",
       "   Timezone  Temperature(F)  ...  Traffic_Calming  Traffic_Signal  \\\n",
       "0         0            55.0  ...                0               0   \n",
       "1         3            76.0  ...                0               0   \n",
       "2         1            53.0  ...                0               0   \n",
       "3         1            82.0  ...                0               0   \n",
       "4         0            42.0  ...                0               0   \n",
       "\n",
       "   Turning_Loop  Sunrise_Sunset  Year  Month  Day  Hour  Weekday  \\\n",
       "0             0               0  2021      7   18    12        4   \n",
       "1             0               1  2020     10    7    18        6   \n",
       "2             0               0  2020      2   31    13        4   \n",
       "3             0               0  2020      8   22    14        0   \n",
       "4             0               1  2020      7   28     3        2   \n",
       "\n",
       "   time_duration  \n",
       "0          120.0  \n",
       "1           79.0  \n",
       "2          798.0  \n",
       "3           77.0  \n",
       "4           30.0  \n",
       "\n",
       "[5 rows x 38 columns]"
      ]
     },
     "execution_count": 53,
     "metadata": {},
     "output_type": "execute_result"
    }
   ],
   "source": [
    "# Create our features\n",
    "X = accident_df.drop(\"Severity\",axis=1) \n",
    "X.head()"
   ]
  },
  {
   "cell_type": "code",
   "execution_count": 54,
   "id": "216c2b01",
   "metadata": {
    "scrolled": false
   },
   "outputs": [
    {
     "data": {
      "text/html": [
       "<div>\n",
       "<style scoped>\n",
       "    .dataframe tbody tr th:only-of-type {\n",
       "        vertical-align: middle;\n",
       "    }\n",
       "\n",
       "    .dataframe tbody tr th {\n",
       "        vertical-align: top;\n",
       "    }\n",
       "\n",
       "    .dataframe thead th {\n",
       "        text-align: right;\n",
       "    }\n",
       "</style>\n",
       "<table border=\"1\" class=\"dataframe\">\n",
       "  <thead>\n",
       "    <tr style=\"text-align: right;\">\n",
       "      <th></th>\n",
       "      <th>Start_Lat</th>\n",
       "      <th>Start_Lng</th>\n",
       "      <th>Distance(mi)</th>\n",
       "      <th>Street</th>\n",
       "      <th>Side</th>\n",
       "      <th>City</th>\n",
       "      <th>County</th>\n",
       "      <th>State</th>\n",
       "      <th>Timezone</th>\n",
       "      <th>Temperature(F)</th>\n",
       "      <th>...</th>\n",
       "      <th>Traffic_Calming</th>\n",
       "      <th>Traffic_Signal</th>\n",
       "      <th>Turning_Loop</th>\n",
       "      <th>Sunrise_Sunset</th>\n",
       "      <th>Year</th>\n",
       "      <th>Month</th>\n",
       "      <th>Day</th>\n",
       "      <th>Hour</th>\n",
       "      <th>Weekday</th>\n",
       "      <th>time_duration</th>\n",
       "    </tr>\n",
       "  </thead>\n",
       "  <tbody>\n",
       "    <tr>\n",
       "      <th>count</th>\n",
       "      <td>50000.000000</td>\n",
       "      <td>50000.000000</td>\n",
       "      <td>50000.000000</td>\n",
       "      <td>50000.000000</td>\n",
       "      <td>50000.000000</td>\n",
       "      <td>50000.000000</td>\n",
       "      <td>50000.000000</td>\n",
       "      <td>50000.000000</td>\n",
       "      <td>50000.000000</td>\n",
       "      <td>50000.000000</td>\n",
       "      <td>...</td>\n",
       "      <td>50000.000000</td>\n",
       "      <td>50000.000000</td>\n",
       "      <td>50000.0</td>\n",
       "      <td>50000.000000</td>\n",
       "      <td>50000.000000</td>\n",
       "      <td>50000.000000</td>\n",
       "      <td>50000.000000</td>\n",
       "      <td>50000.000000</td>\n",
       "      <td>50000.00000</td>\n",
       "      <td>50000.000000</td>\n",
       "    </tr>\n",
       "    <tr>\n",
       "      <th>mean</th>\n",
       "      <td>36.025829</td>\n",
       "      <td>-96.711552</td>\n",
       "      <td>0.692360</td>\n",
       "      <td>232.059020</td>\n",
       "      <td>0.812000</td>\n",
       "      <td>2390.560020</td>\n",
       "      <td>544.188860</td>\n",
       "      <td>18.211340</td>\n",
       "      <td>1.553440</td>\n",
       "      <td>61.779638</td>\n",
       "      <td>...</td>\n",
       "      <td>0.000680</td>\n",
       "      <td>0.093560</td>\n",
       "      <td>0.0</td>\n",
       "      <td>0.379040</td>\n",
       "      <td>2020.532160</td>\n",
       "      <td>5.674880</td>\n",
       "      <td>16.109420</td>\n",
       "      <td>12.898580</td>\n",
       "      <td>2.99496</td>\n",
       "      <td>340.250860</td>\n",
       "    </tr>\n",
       "    <tr>\n",
       "      <th>std</th>\n",
       "      <td>5.470312</td>\n",
       "      <td>18.240538</td>\n",
       "      <td>1.434331</td>\n",
       "      <td>66.793292</td>\n",
       "      <td>0.390716</td>\n",
       "      <td>1278.324348</td>\n",
       "      <td>242.670168</td>\n",
       "      <td>15.113075</td>\n",
       "      <td>1.121824</td>\n",
       "      <td>18.569929</td>\n",
       "      <td>...</td>\n",
       "      <td>0.026068</td>\n",
       "      <td>0.291219</td>\n",
       "      <td>0.0</td>\n",
       "      <td>0.485153</td>\n",
       "      <td>0.721593</td>\n",
       "      <td>3.555957</td>\n",
       "      <td>8.714551</td>\n",
       "      <td>5.927471</td>\n",
       "      <td>2.09665</td>\n",
       "      <td>9160.559685</td>\n",
       "    </tr>\n",
       "    <tr>\n",
       "      <th>min</th>\n",
       "      <td>24.601611</td>\n",
       "      <td>-124.496920</td>\n",
       "      <td>0.000000</td>\n",
       "      <td>0.000000</td>\n",
       "      <td>0.000000</td>\n",
       "      <td>0.000000</td>\n",
       "      <td>0.000000</td>\n",
       "      <td>0.000000</td>\n",
       "      <td>0.000000</td>\n",
       "      <td>-25.000000</td>\n",
       "      <td>...</td>\n",
       "      <td>0.000000</td>\n",
       "      <td>0.000000</td>\n",
       "      <td>0.0</td>\n",
       "      <td>0.000000</td>\n",
       "      <td>2016.000000</td>\n",
       "      <td>0.000000</td>\n",
       "      <td>1.000000</td>\n",
       "      <td>0.000000</td>\n",
       "      <td>0.00000</td>\n",
       "      <td>2.000000</td>\n",
       "    </tr>\n",
       "    <tr>\n",
       "      <th>25%</th>\n",
       "      <td>32.959975</td>\n",
       "      <td>-117.968920</td>\n",
       "      <td>0.047000</td>\n",
       "      <td>213.000000</td>\n",
       "      <td>1.000000</td>\n",
       "      <td>1337.000000</td>\n",
       "      <td>383.000000</td>\n",
       "      <td>3.000000</td>\n",
       "      <td>1.000000</td>\n",
       "      <td>50.000000</td>\n",
       "      <td>...</td>\n",
       "      <td>0.000000</td>\n",
       "      <td>0.000000</td>\n",
       "      <td>0.0</td>\n",
       "      <td>0.000000</td>\n",
       "      <td>2020.000000</td>\n",
       "      <td>2.000000</td>\n",
       "      <td>9.000000</td>\n",
       "      <td>8.000000</td>\n",
       "      <td>1.00000</td>\n",
       "      <td>73.000000</td>\n",
       "    </tr>\n",
       "    <tr>\n",
       "      <th>50%</th>\n",
       "      <td>35.731735</td>\n",
       "      <td>-91.144941</td>\n",
       "      <td>0.211000</td>\n",
       "      <td>270.000000</td>\n",
       "      <td>1.000000</td>\n",
       "      <td>2621.000000</td>\n",
       "      <td>580.000000</td>\n",
       "      <td>11.000000</td>\n",
       "      <td>1.000000</td>\n",
       "      <td>64.000000</td>\n",
       "      <td>...</td>\n",
       "      <td>0.000000</td>\n",
       "      <td>0.000000</td>\n",
       "      <td>0.0</td>\n",
       "      <td>0.000000</td>\n",
       "      <td>2021.000000</td>\n",
       "      <td>6.000000</td>\n",
       "      <td>16.000000</td>\n",
       "      <td>14.000000</td>\n",
       "      <td>3.00000</td>\n",
       "      <td>105.000000</td>\n",
       "    </tr>\n",
       "    <tr>\n",
       "      <th>75%</th>\n",
       "      <td>40.088786</td>\n",
       "      <td>-80.347276</td>\n",
       "      <td>0.788000</td>\n",
       "      <td>270.000000</td>\n",
       "      <td>1.000000</td>\n",
       "      <td>3462.000000</td>\n",
       "      <td>738.000000</td>\n",
       "      <td>35.000000</td>\n",
       "      <td>3.000000</td>\n",
       "      <td>76.000000</td>\n",
       "      <td>...</td>\n",
       "      <td>0.000000</td>\n",
       "      <td>0.000000</td>\n",
       "      <td>0.0</td>\n",
       "      <td>1.000000</td>\n",
       "      <td>2021.000000</td>\n",
       "      <td>9.000000</td>\n",
       "      <td>23.000000</td>\n",
       "      <td>17.000000</td>\n",
       "      <td>5.00000</td>\n",
       "      <td>154.000000</td>\n",
       "    </tr>\n",
       "    <tr>\n",
       "      <th>max</th>\n",
       "      <td>48.964400</td>\n",
       "      <td>-67.841889</td>\n",
       "      <td>66.563000</td>\n",
       "      <td>290.000000</td>\n",
       "      <td>1.000000</td>\n",
       "      <td>4668.000000</td>\n",
       "      <td>991.000000</td>\n",
       "      <td>48.000000</td>\n",
       "      <td>3.000000</td>\n",
       "      <td>114.000000</td>\n",
       "      <td>...</td>\n",
       "      <td>1.000000</td>\n",
       "      <td>1.000000</td>\n",
       "      <td>0.0</td>\n",
       "      <td>1.000000</td>\n",
       "      <td>2021.000000</td>\n",
       "      <td>11.000000</td>\n",
       "      <td>31.000000</td>\n",
       "      <td>23.000000</td>\n",
       "      <td>6.00000</td>\n",
       "      <td>602987.000000</td>\n",
       "    </tr>\n",
       "  </tbody>\n",
       "</table>\n",
       "<p>8 rows × 38 columns</p>\n",
       "</div>"
      ],
      "text/plain": [
       "          Start_Lat     Start_Lng  Distance(mi)        Street          Side  \\\n",
       "count  50000.000000  50000.000000  50000.000000  50000.000000  50000.000000   \n",
       "mean      36.025829    -96.711552      0.692360    232.059020      0.812000   \n",
       "std        5.470312     18.240538      1.434331     66.793292      0.390716   \n",
       "min       24.601611   -124.496920      0.000000      0.000000      0.000000   \n",
       "25%       32.959975   -117.968920      0.047000    213.000000      1.000000   \n",
       "50%       35.731735    -91.144941      0.211000    270.000000      1.000000   \n",
       "75%       40.088786    -80.347276      0.788000    270.000000      1.000000   \n",
       "max       48.964400    -67.841889     66.563000    290.000000      1.000000   \n",
       "\n",
       "               City        County         State      Timezone  Temperature(F)  \\\n",
       "count  50000.000000  50000.000000  50000.000000  50000.000000    50000.000000   \n",
       "mean    2390.560020    544.188860     18.211340      1.553440       61.779638   \n",
       "std     1278.324348    242.670168     15.113075      1.121824       18.569929   \n",
       "min        0.000000      0.000000      0.000000      0.000000      -25.000000   \n",
       "25%     1337.000000    383.000000      3.000000      1.000000       50.000000   \n",
       "50%     2621.000000    580.000000     11.000000      1.000000       64.000000   \n",
       "75%     3462.000000    738.000000     35.000000      3.000000       76.000000   \n",
       "max     4668.000000    991.000000     48.000000      3.000000      114.000000   \n",
       "\n",
       "       ...  Traffic_Calming  Traffic_Signal  Turning_Loop  Sunrise_Sunset  \\\n",
       "count  ...     50000.000000    50000.000000       50000.0    50000.000000   \n",
       "mean   ...         0.000680        0.093560           0.0        0.379040   \n",
       "std    ...         0.026068        0.291219           0.0        0.485153   \n",
       "min    ...         0.000000        0.000000           0.0        0.000000   \n",
       "25%    ...         0.000000        0.000000           0.0        0.000000   \n",
       "50%    ...         0.000000        0.000000           0.0        0.000000   \n",
       "75%    ...         0.000000        0.000000           0.0        1.000000   \n",
       "max    ...         1.000000        1.000000           0.0        1.000000   \n",
       "\n",
       "               Year         Month           Day          Hour      Weekday  \\\n",
       "count  50000.000000  50000.000000  50000.000000  50000.000000  50000.00000   \n",
       "mean    2020.532160      5.674880     16.109420     12.898580      2.99496   \n",
       "std        0.721593      3.555957      8.714551      5.927471      2.09665   \n",
       "min     2016.000000      0.000000      1.000000      0.000000      0.00000   \n",
       "25%     2020.000000      2.000000      9.000000      8.000000      1.00000   \n",
       "50%     2021.000000      6.000000     16.000000     14.000000      3.00000   \n",
       "75%     2021.000000      9.000000     23.000000     17.000000      5.00000   \n",
       "max     2021.000000     11.000000     31.000000     23.000000      6.00000   \n",
       "\n",
       "       time_duration  \n",
       "count   50000.000000  \n",
       "mean      340.250860  \n",
       "std      9160.559685  \n",
       "min         2.000000  \n",
       "25%        73.000000  \n",
       "50%       105.000000  \n",
       "75%       154.000000  \n",
       "max    602987.000000  \n",
       "\n",
       "[8 rows x 38 columns]"
      ]
     },
     "execution_count": 54,
     "metadata": {},
     "output_type": "execute_result"
    }
   ],
   "source": [
    "X.describe()"
   ]
  },
  {
   "cell_type": "code",
   "execution_count": 55,
   "id": "c31f1631",
   "metadata": {
    "scrolled": false
   },
   "outputs": [
    {
     "data": {
      "text/plain": [
       "2    46626\n",
       "4     1425\n",
       "3     1410\n",
       "1      539\n",
       "Name: Severity, dtype: int64"
      ]
     },
     "execution_count": 55,
     "metadata": {},
     "output_type": "execute_result"
    }
   ],
   "source": [
    "#Create our target\n",
    "y = accident_df['Severity']\n",
    "y.value_counts()"
   ]
  },
  {
   "cell_type": "code",
   "execution_count": 56,
   "id": "a1cdfb3c",
   "metadata": {
    "scrolled": false
   },
   "outputs": [
    {
     "data": {
      "text/plain": [
       "(50000, 38)"
      ]
     },
     "execution_count": 56,
     "metadata": {},
     "output_type": "execute_result"
    }
   ],
   "source": [
    "# examine shape of X\n",
    "\n",
    "X.shape"
   ]
  },
  {
   "cell_type": "code",
   "execution_count": null,
   "id": "add4c602",
   "metadata": {
    "scrolled": false
   },
   "outputs": [],
   "source": []
  },
  {
   "cell_type": "code",
   "execution_count": 57,
   "id": "227d2ec6",
   "metadata": {
    "scrolled": false
   },
   "outputs": [
    {
     "data": {
      "text/plain": [
       "(50000,)"
      ]
     },
     "execution_count": 57,
     "metadata": {},
     "output_type": "execute_result"
    }
   ],
   "source": [
    "y.shape"
   ]
  },
  {
   "cell_type": "markdown",
   "id": "18aae6d6",
   "metadata": {},
   "source": [
    "#### Split encoded Data into Training and Testing"
   ]
  },
  {
   "cell_type": "code",
   "execution_count": 58,
   "id": "6ef58a4e",
   "metadata": {
    "scrolled": false
   },
   "outputs": [],
   "source": [
    "from sklearn.model_selection import train_test_split\n",
    "X_train,X_test,y_train,y_test = train_test_split(X,y, random_state = 1)"
   ]
  },
  {
   "cell_type": "code",
   "execution_count": 59,
   "id": "f396e3ba",
   "metadata": {
    "scrolled": false
   },
   "outputs": [],
   "source": [
    "X_train = X_train.replace((np.inf, -np.inf, np.nan), 0).reset_index(drop=True)"
   ]
  },
  {
   "cell_type": "code",
   "execution_count": 60,
   "id": "b487746a",
   "metadata": {
    "scrolled": false
   },
   "outputs": [
    {
     "data": {
      "text/plain": [
       "2    34977\n",
       "4     1067\n",
       "3     1045\n",
       "1      411\n",
       "Name: Severity, dtype: int64"
      ]
     },
     "execution_count": 60,
     "metadata": {},
     "output_type": "execute_result"
    }
   ],
   "source": [
    "y_train.value_counts()"
   ]
  },
  {
   "cell_type": "code",
   "execution_count": 61,
   "id": "e6267391",
   "metadata": {
    "scrolled": false
   },
   "outputs": [
    {
     "data": {
      "image/png": "[encoded data removed]",
      "text/plain": [
       "<Figure size 720x576 with 1 Axes>"
      ]
     },
     "metadata": {
      "needs_background": "light"
     },
     "output_type": "display_data"
    }
   ],
   "source": [
    "# imbalanced data set\n",
    "import matplotlib.pyplot \n",
    "from scipy import stats\n",
    "import matplotlib.pyplot as plt\n",
    "import seaborn as sns\n",
    "\n",
    "severity_counts = y_train.value_counts()\n",
    "\n",
    "plt.figure(figsize=(10, 8))\n",
    "plt.title(\"Histogram for the severity\")\n",
    "sns.barplot(severity_counts.index, severity_counts.values)\n",
    "plt.xlabel(\"Severity\")\n",
    "plt.ylabel(\"Value\")\n",
    "plt.show()"
   ]
  },
  {
   "cell_type": "code",
   "execution_count": 62,
   "id": "b7e9c2f6",
   "metadata": {
    "scrolled": false
   },
   "outputs": [],
   "source": [
    "#logistic regression before resampling"
   ]
  },
  {
   "cell_type": "markdown",
   "id": "b857e746",
   "metadata": {},
   "source": [
    "### Oversampling\n",
    "###### In this section, compared two oversampling algorithms to determine which algorithm results in the best performance.And oversampled the data using the naive random oversampling algorithm and the SMOTE algorithm. \n"
   ]
  },
  {
   "cell_type": "markdown",
   "id": "1a668d31",
   "metadata": {},
   "source": [
    "#### Naive Random Oversampling"
   ]
  },
  {
   "cell_type": "code",
   "execution_count": 63,
   "id": "adc08ccf",
   "metadata": {
    "scrolled": false
   },
   "outputs": [],
   "source": [
    "# Resample the training data with the RandomOversampler\n",
    "from imblearn.over_sampling import RandomOverSampler\n",
    "ros = RandomOverSampler(random_state=1)\n",
    "X_resampled,y_resampled =ros.fit_resample(X_train,y_train)"
   ]
  },
  {
   "cell_type": "code",
   "execution_count": 64,
   "id": "eadaca2e",
   "metadata": {
    "scrolled": false
   },
   "outputs": [
    {
     "data": {
      "text/plain": [
       "Counter({2: 34977, 4: 34977, 3: 34977, 1: 34977})"
      ]
     },
     "execution_count": 64,
     "metadata": {},
     "output_type": "execute_result"
    }
   ],
   "source": [
    "# what is the \"balance\" or mix between Severity\n",
    "Counter(y_resampled)"
   ]
  },
  {
   "cell_type": "code",
   "execution_count": 65,
   "id": "09b641ff",
   "metadata": {
    "scrolled": false
   },
   "outputs": [
    {
     "data": {
      "image/png": "[encoded data removed]",
      "text/plain": [
       "<Figure size 720x576 with 1 Axes>"
      ]
     },
     "metadata": {
      "needs_background": "light"
     },
     "output_type": "display_data"
    }
   ],
   "source": [
    "severity_counts = y_resampled.value_counts()\n",
    "\n",
    "plt.figure(figsize=(10, 8))\n",
    "plt.title(\"Histogram for the severity\")\n",
    "sns.barplot(severity_counts.index, severity_counts.values)\n",
    "plt.xlabel(\"Severity\")\n",
    "plt.ylabel(\"Value\")\n",
    "plt.show()"
   ]
  },
  {
   "cell_type": "code",
   "execution_count": 66,
   "id": "ea26d41a",
   "metadata": {
    "scrolled": false
   },
   "outputs": [],
   "source": [
    "# Train the Logistic Regression model using the resampled data\n",
    "#model\n",
    "from sklearn.linear_model import LogisticRegression\n",
    "\n",
    "clf = LogisticRegression(solver='lbfgs',random_state=1)\n",
    "#fit\n",
    "clf.fit(X_resampled,y_resampled)\n",
    "#predict using the predict method\n",
    "y_pred = clf.predict(X_test)"
   ]
  },
  {
   "cell_type": "code",
   "execution_count": 67,
   "id": "44532482",
   "metadata": {
    "scrolled": false
   },
   "outputs": [
    {
     "data": {
      "text/plain": [
       "0.5237097201215136"
      ]
     },
     "execution_count": 67,
     "metadata": {},
     "output_type": "execute_result"
    }
   ],
   "source": [
    "# Calculated the balanced accuracy score\n",
    "from sklearn.metrics import balanced_accuracy_score\n",
    "balanced_accuracy_score(y_test,y_pred)"
   ]
  },
  {
   "cell_type": "code",
   "execution_count": 68,
   "id": "41669d1c",
   "metadata": {
    "scrolled": false
   },
   "outputs": [
    {
     "data": {
      "text/plain": [
       "array([[  94,    3,   28,    3],\n",
       "       [1406, 4459, 1301, 4483],\n",
       "       [ 111,   19,  208,   27],\n",
       "       [  64,   57,   91,  146]], dtype=int64)"
      ]
     },
     "execution_count": 68,
     "metadata": {},
     "output_type": "execute_result"
    }
   ],
   "source": [
    "# Display the confusion matrix\n",
    "cm = confusion_matrix(y_test,y_pred,labels=clf.classes_)\n",
    "cm"
   ]
  },
  {
   "cell_type": "code",
   "execution_count": 69,
   "id": "40814afe",
   "metadata": {
    "scrolled": false
   },
   "outputs": [
    {
     "data": {
      "text/plain": [
       "<sklearn.metrics._plot.confusion_matrix.ConfusionMatrixDisplay at 0x1fd025d3b80>"
      ]
     },
     "execution_count": 69,
     "metadata": {},
     "output_type": "execute_result"
    },
    {
     "data": {
      "image/png": "[encoded data removed]",
      "text/plain": [
       "<Figure size 432x288 with 2 Axes>"
      ]
     },
     "metadata": {
      "needs_background": "light"
     },
     "output_type": "display_data"
    }
   ],
   "source": [
    "from sklearn.metrics import ConfusionMatrixDisplay\n",
    "disp = ConfusionMatrixDisplay(confusion_matrix=cm,display_labels= clf.classes_)\n",
    "disp.plot()"
   ]
  },
  {
   "cell_type": "code",
   "execution_count": 70,
   "id": "b033de07",
   "metadata": {
    "scrolled": false
   },
   "outputs": [
    {
     "name": "stdout",
     "output_type": "stream",
     "text": [
      "                   pre       rec       spe        f1       geo       iba       sup\n",
      "\n",
      "          1       0.06      0.73      0.87      0.10      0.80      0.63       128\n",
      "          2       0.98      0.38      0.91      0.55      0.59      0.33     11649\n",
      "          3       0.13      0.57      0.88      0.21      0.71      0.49       365\n",
      "          4       0.03      0.41      0.63      0.06      0.51      0.25       358\n",
      "\n",
      "avg / total       0.92      0.39      0.90      0.52      0.59      0.33     12500\n",
      "\n"
     ]
    }
   ],
   "source": [
    "# Print the imbalanced classification report\n",
    "print(classification_report_imbalanced(y_test, y_pred))"
   ]
  },
  {
   "cell_type": "markdown",
   "id": "ff056c82",
   "metadata": {},
   "source": [
    "#### SMOTE Oversampling"
   ]
  },
  {
   "cell_type": "code",
   "execution_count": 71,
   "id": "e54f7816",
   "metadata": {
    "scrolled": false
   },
   "outputs": [],
   "source": [
    "# Resample the training data with SMOTE\n",
    "from imblearn.over_sampling import SMOTE\n",
    "X_resampled, y_resampled = SMOTE(random_state=1,\n",
    "sampling_strategy='auto').fit_resample(\n",
    "   X_train, y_train)"
   ]
  },
  {
   "cell_type": "code",
   "execution_count": 72,
   "id": "0a2f9081",
   "metadata": {
    "scrolled": false
   },
   "outputs": [
    {
     "data": {
      "text/plain": [
       "Counter({2: 34977, 4: 34977, 3: 34977, 1: 34977})"
      ]
     },
     "execution_count": 72,
     "metadata": {},
     "output_type": "execute_result"
    }
   ],
   "source": [
    "#check the balance of Loan_status\n",
    "Counter(y_resampled)"
   ]
  },
  {
   "cell_type": "code",
   "execution_count": 73,
   "id": "2ed2c0ba",
   "metadata": {
    "scrolled": false
   },
   "outputs": [
    {
     "data": {
      "image/png": "[encoded data removed]",
      "text/plain": [
       "<Figure size 720x576 with 1 Axes>"
      ]
     },
     "metadata": {
      "needs_background": "light"
     },
     "output_type": "display_data"
    }
   ],
   "source": [
    "severity_counts = y_resampled.value_counts()\n",
    "\n",
    "plt.figure(figsize=(10, 8))\n",
    "plt.title(\"Histogram for the severity\")\n",
    "sns.barplot(severity_counts.index, severity_counts.values)\n",
    "plt.xlabel(\"Severity\")\n",
    "plt.ylabel(\"Value\")\n",
    "plt.show()"
   ]
  },
  {
   "cell_type": "code",
   "execution_count": 74,
   "id": "b3d8c75e",
   "metadata": {
    "scrolled": false
   },
   "outputs": [],
   "source": [
    "# Train the Logistic Regression model using the resampled data\n",
    "#model\n",
    "clf = LogisticRegression(solver='lbfgs', random_state=1)\n",
    "\n",
    "#train/fit\n",
    "clf.fit(X_resampled, y_resampled)\n",
    "\n",
    "#predict\n",
    "y_pred = clf.predict(X_test)"
   ]
  },
  {
   "cell_type": "code",
   "execution_count": 75,
   "id": "2643abfc",
   "metadata": {
    "scrolled": false
   },
   "outputs": [
    {
     "data": {
      "text/plain": [
       "0.5133252552369428"
      ]
     },
     "execution_count": 75,
     "metadata": {},
     "output_type": "execute_result"
    }
   ],
   "source": [
    "# Calculated the balanced accuracy score\n",
    "balanced_accuracy_score(y_test, y_pred)"
   ]
  },
  {
   "cell_type": "code",
   "execution_count": 76,
   "id": "5eb139d6",
   "metadata": {
    "scrolled": false
   },
   "outputs": [
    {
     "data": {
      "text/plain": [
       "array([[  96,    7,   23,    2],\n",
       "       [1344, 4397, 1193, 4715],\n",
       "       [ 113,   30,  185,   37],\n",
       "       [  61,   66,   81,  150]], dtype=int64)"
      ]
     },
     "execution_count": 76,
     "metadata": {},
     "output_type": "execute_result"
    }
   ],
   "source": [
    "# Display the confusion matrix\n",
    "confusion_matrix(y_test, y_pred)"
   ]
  },
  {
   "cell_type": "code",
   "execution_count": 77,
   "id": "91e1cbc7",
   "metadata": {
    "scrolled": false
   },
   "outputs": [
    {
     "data": {
      "text/plain": [
       "<sklearn.metrics._plot.confusion_matrix.ConfusionMatrixDisplay at 0x1fd032c4130>"
      ]
     },
     "execution_count": 77,
     "metadata": {},
     "output_type": "execute_result"
    },
    {
     "data": {
      "image/png": "[encoded data removed]",
      "text/plain": [
       "<Figure size 432x288 with 2 Axes>"
      ]
     },
     "metadata": {
      "needs_background": "light"
     },
     "output_type": "display_data"
    }
   ],
   "source": [
    "disp = ConfusionMatrixDisplay(confusion_matrix=cm,display_labels= clf.classes_)\n",
    "disp.plot()"
   ]
  },
  {
   "cell_type": "code",
   "execution_count": 78,
   "id": "5cb6e013",
   "metadata": {
    "scrolled": false
   },
   "outputs": [
    {
     "name": "stdout",
     "output_type": "stream",
     "text": [
      "                   pre       rec       spe        f1       geo       iba       sup\n",
      "\n",
      "          1       0.06      0.75      0.88      0.11      0.81      0.65       128\n",
      "          2       0.98      0.38      0.88      0.54      0.58      0.32     11649\n",
      "          3       0.12      0.51      0.89      0.20      0.67      0.44       365\n",
      "          4       0.03      0.42      0.61      0.06      0.50      0.25       358\n",
      "\n",
      "avg / total       0.92      0.39      0.87      0.52      0.58      0.32     12500\n",
      "\n"
     ]
    }
   ],
   "source": [
    "# Print the imbalanced classification report\n",
    "print(classification_report_imbalanced(y_test, y_pred))"
   ]
  },
  {
   "cell_type": "markdown",
   "id": "8e7ea752",
   "metadata": {},
   "source": [
    "### Undersampling\n",
    "###### In this section, tested an undersampling algorithms to determine which algorithm results in the best performance compared to the oversampling algorithms above.  undersampled the data using the Cluster Centroids algorithm"
   ]
  },
  {
   "cell_type": "markdown",
   "id": "efca2e8f",
   "metadata": {},
   "source": [
    "#### ClusterCentroids resampler"
   ]
  },
  {
   "cell_type": "code",
   "execution_count": 79,
   "id": "a92d0513",
   "metadata": {
    "scrolled": false
   },
   "outputs": [],
   "source": [
    "# Resample the data using the ClusterCentroids resampler\n",
    "# Warning: This is a large dataset, and this step may take some time to complete\n",
    "from imblearn.under_sampling import ClusterCentroids\n",
    "cc = ClusterCentroids(random_state=1)\n",
    "X_resampled, y_resampled = cc.fit_resample(X_train, y_train)"
   ]
  },
  {
   "cell_type": "markdown",
   "id": "76e13d22",
   "metadata": {},
   "source": [
    "#### Logistic Regression using the resampled data"
   ]
  },
  {
   "cell_type": "code",
   "execution_count": 80,
   "id": "3d2c21d6",
   "metadata": {
    "scrolled": false
   },
   "outputs": [],
   "source": [
    "# Train the Logistic Regression model using the resampled data\n",
    "#model\n",
    "from sklearn.linear_model import LogisticRegression\n",
    "\n",
    "clf = LogisticRegression(solver='lbfgs',random_state=1)\n",
    "#fit\n",
    "clf.fit(X_resampled,y_resampled)\n",
    "#predict using the predict method\n",
    "y_pred = clf.predict(X_test)"
   ]
  },
  {
   "cell_type": "code",
   "execution_count": 81,
   "id": "04fcb51e",
   "metadata": {
    "scrolled": false
   },
   "outputs": [
    {
     "data": {
      "text/plain": [
       "0.46333736087558186"
      ]
     },
     "execution_count": 81,
     "metadata": {},
     "output_type": "execute_result"
    }
   ],
   "source": [
    "# Calculated the balanced accuracy score\n",
    "from sklearn.metrics import balanced_accuracy_score\n",
    "balanced_accuracy_score(y_test,y_pred)\n"
   ]
  },
  {
   "cell_type": "code",
   "execution_count": 82,
   "id": "cae2e05c",
   "metadata": {
    "scrolled": false
   },
   "outputs": [
    {
     "data": {
      "text/plain": [
       "array([[ 106,    0,   19,    3],\n",
       "       [1667, 3351, 4428, 2203],\n",
       "       [ 181,   14,  154,   16],\n",
       "       [  87,   42,  116,  113]], dtype=int64)"
      ]
     },
     "execution_count": 82,
     "metadata": {},
     "output_type": "execute_result"
    }
   ],
   "source": [
    "# Display the confusion matrix\n",
    "cm = confusion_matrix(y_test,y_pred,labels=clf.classes_)\n",
    "cm"
   ]
  },
  {
   "cell_type": "code",
   "execution_count": 83,
   "id": "37f47f31",
   "metadata": {
    "scrolled": false
   },
   "outputs": [
    {
     "data": {
      "text/plain": [
       "<sklearn.metrics._plot.confusion_matrix.ConfusionMatrixDisplay at 0x1fd00b21790>"
      ]
     },
     "execution_count": 83,
     "metadata": {},
     "output_type": "execute_result"
    },
    {
     "data": {
      "image/png": "[encoded data removed]",
      "text/plain": [
       "<Figure size 432x288 with 2 Axes>"
      ]
     },
     "metadata": {
      "needs_background": "light"
     },
     "output_type": "display_data"
    }
   ],
   "source": [
    "from sklearn.metrics import ConfusionMatrixDisplay\n",
    "disp = ConfusionMatrixDisplay(confusion_matrix=cm,display_labels= clf.classes_)\n",
    "disp.plot()"
   ]
  },
  {
   "cell_type": "code",
   "execution_count": 84,
   "id": "676ff2b5",
   "metadata": {
    "scrolled": false
   },
   "outputs": [
    {
     "name": "stdout",
     "output_type": "stream",
     "text": [
      "                   pre       rec       spe        f1       geo       iba       sup\n",
      "\n",
      "          1       0.05      0.83      0.84      0.10      0.84      0.70       128\n",
      "          2       0.98      0.29      0.93      0.45      0.52      0.25     11649\n",
      "          3       0.03      0.42      0.62      0.06      0.51      0.26       365\n",
      "          4       0.05      0.32      0.82      0.08      0.51      0.24       358\n",
      "\n",
      "avg / total       0.92      0.30      0.92      0.42      0.52      0.26     12500\n",
      "\n"
     ]
    }
   ],
   "source": [
    "# Print the imbalanced classification report\n",
    "from imblearn.metrics import classification_report_imbalanced\n",
    "print(classification_report_imbalanced(y_test, y_pred))"
   ]
  },
  {
   "cell_type": "markdown",
   "id": "9eaf4d32",
   "metadata": {},
   "source": [
    "#### Combination (Over and Under) Sampling\n",
    "###### In this section, tested a combination over- and under-sampling algorithm to determine if the algorithm results in the best performance compared to the other sampling algorithms above.  Resampled the data using the SMOTEENN algorithm ."
   ]
  },
  {
   "cell_type": "markdown",
   "id": "08a7ec64",
   "metadata": {},
   "source": [
    "##### SMOTEENN algorithm"
   ]
  },
  {
   "cell_type": "code",
   "execution_count": 85,
   "id": "fa50e9b8",
   "metadata": {
    "scrolled": false
   },
   "outputs": [
    {
     "data": {
      "text/plain": [
       "Counter({1: 34918, 2: 26416, 3: 34468, 4: 34278})"
      ]
     },
     "execution_count": 85,
     "metadata": {},
     "output_type": "execute_result"
    }
   ],
   "source": [
    "# Resample the training data with SMOTEENN\n",
    "# Warning: This is a large dataset, and this step may take some time to complete\n",
    "\n",
    "                                                    \n",
    "from imblearn.combine import SMOTEENN\n",
    "smote_enn = SMOTEENN(random_state=0)\n",
    "X_resampled, y_resampled = smote_enn.fit_resample(X_train, y_train)       \n",
    "Counter(y_resampled)"
   ]
  },
  {
   "cell_type": "code",
   "execution_count": 86,
   "id": "def21b03",
   "metadata": {
    "scrolled": false
   },
   "outputs": [
    {
     "data": {
      "image/png": "[encoded data removed]",
      "text/plain": [
       "<Figure size 720x576 with 1 Axes>"
      ]
     },
     "metadata": {
      "needs_background": "light"
     },
     "output_type": "display_data"
    }
   ],
   "source": [
    "severity_counts = y_resampled.value_counts()\n",
    "\n",
    "plt.figure(figsize=(10, 8))\n",
    "plt.title(\"Histogram for the severity\")\n",
    "sns.barplot(severity_counts.index, severity_counts.values)\n",
    "plt.xlabel(\"Severity\")\n",
    "plt.ylabel(\"Value\")\n",
    "plt.show()"
   ]
  },
  {
   "cell_type": "markdown",
   "id": "f3783b9e",
   "metadata": {},
   "source": [
    "#### Logistic Regression using the resampled(Over and Under) data"
   ]
  },
  {
   "cell_type": "code",
   "execution_count": 87,
   "id": "9db72dfd",
   "metadata": {
    "scrolled": false
   },
   "outputs": [],
   "source": [
    "# Train the Logistic Regression model using the resampled data\n",
    "from sklearn.linear_model import LogisticRegression\n",
    "#model\n",
    "clf = LogisticRegression(solver='lbfgs', random_state=1)\n",
    "#fit\n",
    "clf.fit(X_resampled, y_resampled)\n",
    "#predict\n",
    "y_pred = clf.predict(X_test)"
   ]
  },
  {
   "cell_type": "code",
   "execution_count": 88,
   "id": "22617689",
   "metadata": {
    "scrolled": false
   },
   "outputs": [
    {
     "data": {
      "text/plain": [
       "0.5101917307947101"
      ]
     },
     "execution_count": 88,
     "metadata": {},
     "output_type": "execute_result"
    }
   ],
   "source": [
    "# Calculated the balanced accuracy score\n",
    "from sklearn.metrics import balanced_accuracy_score\n",
    "balanced_accuracy_score(y_test, y_pred)"
   ]
  },
  {
   "cell_type": "code",
   "execution_count": 89,
   "id": "9f22ad14",
   "metadata": {
    "scrolled": false
   },
   "outputs": [
    {
     "data": {
      "text/plain": [
       "array([[  97,    5,   22,    4],\n",
       "       [1405, 3257, 1234, 5753],\n",
       "       [ 107,   22,  198,   38],\n",
       "       [  61,   46,   86,  165]], dtype=int64)"
      ]
     },
     "execution_count": 89,
     "metadata": {},
     "output_type": "execute_result"
    }
   ],
   "source": [
    "# Display the confusion matrix\n",
    "from sklearn.metrics import confusion_matrix\n",
    "cm = confusion_matrix(y_test, y_pred,labels=clf.classes_)\n",
    "cm"
   ]
  },
  {
   "cell_type": "code",
   "execution_count": 90,
   "id": "0a9290fb",
   "metadata": {
    "scrolled": false
   },
   "outputs": [
    {
     "data": {
      "text/plain": [
       "<sklearn.metrics._plot.confusion_matrix.ConfusionMatrixDisplay at 0x1fd037ca880>"
      ]
     },
     "execution_count": 90,
     "metadata": {},
     "output_type": "execute_result"
    },
    {
     "data": {
      "image/png": "[encoded data removed]",
      "text/plain": [
       "<Figure size 432x288 with 2 Axes>"
      ]
     },
     "metadata": {
      "needs_background": "light"
     },
     "output_type": "display_data"
    }
   ],
   "source": [
    "disp = ConfusionMatrixDisplay(confusion_matrix=cm,display_labels= clf.classes_)\n",
    "disp.plot()"
   ]
  },
  {
   "cell_type": "code",
   "execution_count": 91,
   "id": "3e336026",
   "metadata": {
    "scrolled": false
   },
   "outputs": [
    {
     "name": "stdout",
     "output_type": "stream",
     "text": [
      "                   pre       rec       spe        f1       geo       iba       sup\n",
      "\n",
      "          1       0.06      0.76      0.87      0.11      0.81      0.65       128\n",
      "          2       0.98      0.28      0.91      0.43      0.51      0.24     11649\n",
      "          3       0.13      0.54      0.89      0.21      0.69      0.47       365\n",
      "          4       0.03      0.46      0.52      0.05      0.49      0.24       358\n",
      "\n",
      "avg / total       0.92      0.30      0.90      0.41      0.51      0.25     12500\n",
      "\n"
     ]
    }
   ],
   "source": [
    "# Print the imbalanced classification report\n",
    "from imblearn.metrics import classification_report_imbalanced\n",
    "print(classification_report_imbalanced(y_test, y_pred))"
   ]
  },
  {
   "cell_type": "markdown",
   "id": "62740077",
   "metadata": {},
   "source": [
    "#### Ensemble Learners\n",
    "###### In this section,  compared two ensemble algorithms to determine which algorithm results in the best performance. trained a Balanced Random Forest Classifier and an Easy Ensemble AdaBoost classifier ."
   ]
  },
  {
   "cell_type": "markdown",
   "id": "e33f8f86",
   "metadata": {},
   "source": [
    "#### Balanced Random Forest Classifier"
   ]
  },
  {
   "cell_type": "code",
   "execution_count": 92,
   "id": "2c54ad2f",
   "metadata": {
    "scrolled": false
   },
   "outputs": [],
   "source": [
    "from imblearn.ensemble import BalancedRandomForestClassifier\n",
    "from imblearn.metrics import classification_report_imbalanced\n",
    "from imblearn.ensemble import EasyEnsembleClassifier"
   ]
  },
  {
   "cell_type": "code",
   "execution_count": 93,
   "id": "3404a2e3",
   "metadata": {
    "scrolled": false
   },
   "outputs": [],
   "source": [
    "# Resample the training data with the BalancedRandomForestClassifier\n",
    "\n",
    "#model\n",
    "brf_model = BalancedRandomForestClassifier(random_state=1, n_estimators=100)\n",
    "#fit\n",
    "brf_model = brf_model.fit(X_train, y_train)\n",
    "\n",
    "#predict\n",
    "predictions = brf_model.predict(X_test)\n"
   ]
  },
  {
   "cell_type": "code",
   "execution_count": 94,
   "id": "ee2c3a07",
   "metadata": {
    "scrolled": false
   },
   "outputs": [
    {
     "data": {
      "text/plain": [
       "0.7453219663254573"
      ]
     },
     "execution_count": 94,
     "metadata": {},
     "output_type": "execute_result"
    }
   ],
   "source": [
    "# Calculated the balanced accuracy score\n",
    "balanced_accuracy_score(y_test,predictions)\n"
   ]
  },
  {
   "cell_type": "code",
   "execution_count": 95,
   "id": "42fb8bf6",
   "metadata": {
    "scrolled": false
   },
   "outputs": [
    {
     "data": {
      "text/html": [
       "<div>\n",
       "<style scoped>\n",
       "    .dataframe tbody tr th:only-of-type {\n",
       "        vertical-align: middle;\n",
       "    }\n",
       "\n",
       "    .dataframe tbody tr th {\n",
       "        vertical-align: top;\n",
       "    }\n",
       "\n",
       "    .dataframe thead th {\n",
       "        text-align: right;\n",
       "    }\n",
       "</style>\n",
       "<table border=\"1\" class=\"dataframe\">\n",
       "  <thead>\n",
       "    <tr style=\"text-align: right;\">\n",
       "      <th></th>\n",
       "      <th>Predicted 0</th>\n",
       "      <th>Predicted 1</th>\n",
       "      <th>Predicted 2</th>\n",
       "      <th>Predicted 3</th>\n",
       "    </tr>\n",
       "  </thead>\n",
       "  <tbody>\n",
       "    <tr>\n",
       "      <th>Actual 0</th>\n",
       "      <td>117</td>\n",
       "      <td>0</td>\n",
       "      <td>11</td>\n",
       "      <td>0</td>\n",
       "    </tr>\n",
       "    <tr>\n",
       "      <th>Actual 1</th>\n",
       "      <td>362</td>\n",
       "      <td>9179</td>\n",
       "      <td>491</td>\n",
       "      <td>1617</td>\n",
       "    </tr>\n",
       "    <tr>\n",
       "      <th>Actual 2</th>\n",
       "      <td>42</td>\n",
       "      <td>15</td>\n",
       "      <td>262</td>\n",
       "      <td>46</td>\n",
       "    </tr>\n",
       "    <tr>\n",
       "      <th>Actual 3</th>\n",
       "      <td>12</td>\n",
       "      <td>78</td>\n",
       "      <td>67</td>\n",
       "      <td>201</td>\n",
       "    </tr>\n",
       "  </tbody>\n",
       "</table>\n",
       "</div>"
      ],
      "text/plain": [
       "          Predicted 0  Predicted 1  Predicted 2  Predicted 3\n",
       "Actual 0          117            0           11            0\n",
       "Actual 1          362         9179          491         1617\n",
       "Actual 2           42           15          262           46\n",
       "Actual 3           12           78           67          201"
      ]
     },
     "execution_count": 95,
     "metadata": {},
     "output_type": "execute_result"
    }
   ],
   "source": [
    "# Calculating the confusion matrix.\n",
    "cm = confusion_matrix(y_test, predictions)\n",
    "\n",
    "# Create a DataFrame from the confusion matrix.\n",
    "cm_df = pd.DataFrame(\n",
    "    cm, index=[\"Actual 0\", \"Actual 1\",\"Actual 2\", \"Actual 3\"], columns=[\"Predicted 0\", \"Predicted 1\",\"Predicted 2\", \"Predicted 3\"])\n",
    "\n",
    "cm_df"
   ]
  },
  {
   "cell_type": "code",
   "execution_count": 96,
   "id": "5d118bc9",
   "metadata": {
    "scrolled": false
   },
   "outputs": [
    {
     "name": "stdout",
     "output_type": "stream",
     "text": [
      "                   pre       rec       spe        f1       geo       iba       sup\n",
      "\n",
      "          1       0.22      0.91      0.97      0.35      0.94      0.88       128\n",
      "          2       0.99      0.79      0.89      0.88      0.84      0.69     11649\n",
      "          3       0.32      0.72      0.95      0.44      0.83      0.67       365\n",
      "          4       0.11      0.56      0.86      0.18      0.70      0.47       358\n",
      "\n",
      "avg / total       0.94      0.78      0.89      0.84      0.83      0.69     12500\n",
      "\n"
     ]
    }
   ],
   "source": [
    "# Print the imbalanced classification report\n",
    "print(classification_report_imbalanced(y_test, predictions))"
   ]
  },
  {
   "cell_type": "code",
   "execution_count": 97,
   "id": "ee6e7958",
   "metadata": {
    "scrolled": false
   },
   "outputs": [
    {
     "data": {
      "text/plain": [
       "[(0.10573568123429763, 'time_duration'),\n",
       " (0.09762413915760933, 'Distance(mi)'),\n",
       " (0.09626506760179798, 'Year'),\n",
       " (0.07413045150827781, 'Start_Lng'),\n",
       " (0.0697138882914525, 'Start_Lat'),\n",
       " (0.044686873296526056, 'State'),\n",
       " (0.0431121156907785, 'Pressure(in)'),\n",
       " (0.04091787279716245, 'City'),\n",
       " (0.03762099763809671, 'County'),\n",
       " (0.03669367440609891, 'Humidity(%)'),\n",
       " (0.033442233688844455, 'Wind_Chill(F)'),\n",
       " (0.03342731393588581, 'Month'),\n",
       " (0.03203534767496442, 'Temperature(F)'),\n",
       " (0.0303271483492361, 'Hour'),\n",
       " (0.028911774900505165, 'Day'),\n",
       " (0.024596055886940065, 'Wind_Speed(mph)'),\n",
       " (0.024132367658789344, 'Wind_Direction'),\n",
       " (0.022567112646750733, 'Timezone'),\n",
       " (0.0223682744919483, 'Street'),\n",
       " (0.01753760706759764, 'Weekday'),\n",
       " (0.017140811424003293, 'Weather_Condition'),\n",
       " (0.01611630065102096, 'Traffic_Signal'),\n",
       " (0.010077034951576596, 'Crossing'),\n",
       " (0.009796091901636392, 'Visibility(mi)'),\n",
       " (0.008050505873450626, 'Side'),\n",
       " (0.007027901669062507, 'Sunrise_Sunset'),\n",
       " (0.005892407607795929, 'Precipitation(in)'),\n",
       " (0.005445371616426587, 'Junction'),\n",
       " (0.001337691852757539, 'Station'),\n",
       " (0.0012960175209482622, 'Stop'),\n",
       " (0.0010026394940384985, 'Amenity'),\n",
       " (0.0005432805385709484, 'Railway'),\n",
       " (0.0003785709766549728, 'Give_Way'),\n",
       " (4.905029487132743e-05, 'No_Exit'),\n",
       " (3.2570362574140554e-07, 'Bump'),\n",
       " (0.0, 'Turning_Loop'),\n",
       " (0.0, 'Traffic_Calming'),\n",
       " (0.0, 'Roundabout')]"
      ]
     },
     "execution_count": 97,
     "metadata": {},
     "output_type": "execute_result"
    }
   ],
   "source": [
    "# We can sort the features by their importance.\n",
    "sorted (zip(brf_model.feature_importances_,X.columns),reverse=True)"
   ]
  },
  {
   "cell_type": "code",
   "execution_count": 98,
   "id": "4df21dcf",
   "metadata": {
    "scrolled": true
   },
   "outputs": [
    {
     "data": {
      "image/png": "[encoded data removed]",
      "text/plain": [
       "<Figure size 1080x720 with 1 Axes>"
      ]
     },
     "metadata": {
      "needs_background": "light"
     },
     "output_type": "display_data"
    }
   ],
   "source": [
    "importances = pd.DataFrame(np.zeros((X_train.shape[1], 1)), columns=[\"importance\"], index=X_train.columns)\n",
    "\n",
    "importances.iloc[:,0] = brf_model.feature_importances_\n",
    "\n",
    "importances = importances.sort_values(by=\"importance\", ascending=False)[:40]\n",
    "\n",
    "plt.figure(figsize=(15, 10))\n",
    "sns.barplot(x=\"importance\", y=importances.index, data=importances)\n",
    "plt.show()"
   ]
  },
  {
   "cell_type": "code",
   "execution_count": null,
   "id": "a8ab2431",
   "metadata": {
    "scrolled": false
   },
   "outputs": [],
   "source": []
  },
  {
   "cell_type": "code",
   "execution_count": 99,
   "id": "7a5ca15b",
   "metadata": {
    "scrolled": false
   },
   "outputs": [
    {
     "ename": "NameError",
     "evalue": "name 'accuracy' is not defined",
     "output_type": "error",
     "traceback": [
      "\u001b[1;31m---------------------------------------------------------------------------\u001b[0m",
      "\u001b[1;31mNameError\u001b[0m                                 Traceback (most recent call last)",
      "\u001b[1;32m~\\AppData\\Local\\Temp/ipykernel_22092/501067555.py\u001b[0m in \u001b[0;36m<module>\u001b[1;34m\u001b[0m\n\u001b[0;32m      1\u001b[0m \u001b[0mplt\u001b[0m\u001b[1;33m.\u001b[0m\u001b[0mfigure\u001b[0m\u001b[1;33m(\u001b[0m\u001b[0mfigsize\u001b[0m\u001b[1;33m=\u001b[0m\u001b[1;33m(\u001b[0m\u001b[1;36m20\u001b[0m\u001b[1;33m,\u001b[0m \u001b[1;36m8\u001b[0m\u001b[1;33m)\u001b[0m\u001b[1;33m)\u001b[0m\u001b[1;33m\u001b[0m\u001b[1;33m\u001b[0m\u001b[0m\n\u001b[0;32m      2\u001b[0m \u001b[0mplt\u001b[0m\u001b[1;33m.\u001b[0m\u001b[0mtitle\u001b[0m\u001b[1;33m(\u001b[0m\u001b[1;34m\"Accuracy on Validation set for each model\"\u001b[0m\u001b[1;33m)\u001b[0m\u001b[1;33m\u001b[0m\u001b[1;33m\u001b[0m\u001b[0m\n\u001b[1;32m----> 3\u001b[1;33m \u001b[0msns\u001b[0m\u001b[1;33m.\u001b[0m\u001b[0mbarplot\u001b[0m\u001b[1;33m(\u001b[0m\u001b[0mlist\u001b[0m\u001b[1;33m(\u001b[0m\u001b[0mrange\u001b[0m\u001b[1;33m(\u001b[0m\u001b[0mlen\u001b[0m\u001b[1;33m(\u001b[0m\u001b[0maccuracy\u001b[0m\u001b[1;33m)\u001b[0m\u001b[1;33m)\u001b[0m\u001b[1;33m)\u001b[0m\u001b[1;33m,\u001b[0m \u001b[0mlist\u001b[0m\u001b[1;33m(\u001b[0m\u001b[0maccuracy\u001b[0m\u001b[1;33m.\u001b[0m\u001b[0mvalues\u001b[0m\u001b[1;33m(\u001b[0m\u001b[1;33m)\u001b[0m\u001b[1;33m)\u001b[0m\u001b[1;33m)\u001b[0m\u001b[1;33m\u001b[0m\u001b[1;33m\u001b[0m\u001b[0m\n\u001b[0m\u001b[0;32m      4\u001b[0m \u001b[0mplt\u001b[0m\u001b[1;33m.\u001b[0m\u001b[0mxticks\u001b[0m\u001b[1;33m(\u001b[0m\u001b[0mrange\u001b[0m\u001b[1;33m(\u001b[0m\u001b[0mlen\u001b[0m\u001b[1;33m(\u001b[0m\u001b[0maccuracy\u001b[0m\u001b[1;33m)\u001b[0m\u001b[1;33m)\u001b[0m\u001b[1;33m,\u001b[0m \u001b[0mlabels\u001b[0m\u001b[1;33m=\u001b[0m\u001b[0maccuracy\u001b[0m\u001b[1;33m.\u001b[0m\u001b[0mkeys\u001b[0m\u001b[1;33m(\u001b[0m\u001b[1;33m)\u001b[0m\u001b[1;33m)\u001b[0m\u001b[1;33m\u001b[0m\u001b[1;33m\u001b[0m\u001b[0m\n\u001b[0;32m      5\u001b[0m \u001b[0mplt\u001b[0m\u001b[1;33m.\u001b[0m\u001b[0mshow\u001b[0m\u001b[1;33m(\u001b[0m\u001b[1;33m)\u001b[0m\u001b[1;33m\u001b[0m\u001b[1;33m\u001b[0m\u001b[0m\n",
      "\u001b[1;31mNameError\u001b[0m: name 'accuracy' is not defined"
     ]
    },
    {
     "data": {
      "image/png": "[encoded data removed]",
      "text/plain": [
       "<Figure size 1440x576 with 1 Axes>"
      ]
     },
     "metadata": {
      "needs_background": "light"
     },
     "output_type": "display_data"
    }
   ],
   "source": [
    "plt.figure(figsize=(20, 8))\n",
    "plt.title(\"Accuracy on Validation set for each model\")\n",
    "sns.barplot(list(range(len(accuracy))), list(accuracy.values()))\n",
    "plt.xticks(range(len(accuracy)), labels=accuracy.keys())\n",
    "plt.show()"
   ]
  },
  {
   "cell_type": "markdown",
   "id": "cd211aa5",
   "metadata": {},
   "source": [
    "#### Easy Ensemble AdaBoost classifier ."
   ]
  },
  {
   "cell_type": "code",
   "execution_count": null,
   "id": "4b8049c6",
   "metadata": {
    "scrolled": false
   },
   "outputs": [],
   "source": [
    "# Train the EasyEnsembleClassifier\n",
    "# YOUR CODE HERE\n",
    "from imblearn.ensemble import EasyEnsembleClassifier\n",
    "#model\n",
    "ee_clf = EasyEnsembleClassifier(n_estimators=100,random_state=1)\n",
    "#fit/train\n",
    "ee_clf.fit(X_train,y_train)\n",
    "#predict\n",
    "y_pred=ee_clf.predict(X_test)"
   ]
  },
  {
   "cell_type": "code",
   "execution_count": null,
   "id": "cdafda25",
   "metadata": {
    "scrolled": false
   },
   "outputs": [],
   "source": [
    "# Calculated the balanced accuracy score\n",
    "balanced_accuracy_score(y_test,y_pred)"
   ]
  },
  {
   "cell_type": "code",
   "execution_count": null,
   "id": "2ddcf88b",
   "metadata": {
    "scrolled": false
   },
   "outputs": [],
   "source": [
    "# Display the confusion matrix\n",
    "confusion_matrix(y_test,y_pred)"
   ]
  },
  {
   "cell_type": "code",
   "execution_count": null,
   "id": "7163a57a",
   "metadata": {
    "scrolled": false
   },
   "outputs": [],
   "source": [
    "# Print the imbalanced classification report\n",
    "print(classification_report_imbalanced(y_test, y_pred))"
   ]
  },
  {
   "cell_type": "code",
   "execution_count": null,
   "id": "9c33a6ca",
   "metadata": {
    "scrolled": false
   },
   "outputs": [],
   "source": [
    "y_pred = ee_clf.predict(X_train)\n",
    "\n",
    "accuracy[\"AdaBoost\"] = accuracy_score(y_validate, y_pred)\n",
    "f1[\"AdaBoost\"] = f1_score(y_validate, y_pred, average=\"macro\")\n",
    "\n",
    "print(classification_report(y_train, rfc.predict(X_train)))\n",
    "print(classification_report(y_test, y_pred))"
   ]
  },
  {
   "cell_type": "code",
   "execution_count": null,
   "id": "9423cf70",
   "metadata": {
    "scrolled": false
   },
   "outputs": [],
   "source": [
    "plt.figure(figsize=(20, 8))\n",
    "plt.title(\"F1 Score on Validation set for each model\")\n",
    "sns.barplot(list(range(len(f1))), list(f1.values()))\n",
    "plt.xticks(range(len(f1)), labels=f1.keys())\n",
    "plt.show()"
   ]
  },
  {
   "cell_type": "code",
   "execution_count": null,
   "id": "b9cb4539",
   "metadata": {
    "scrolled": false
   },
   "outputs": [],
   "source": [
    "plt.figure(figsize=(20, 8))\n",
    "plt.title(\"Accuracy on Validation set for each model\")\n",
    "sns.barplot(list(range(len(accuracy))), list(accuracy.values()))\n",
    "plt.xticks(range(len(accuracy)), labels=accuracy.keys())\n",
    "plt.show()"
   ]
  },
  {
   "cell_type": "code",
   "execution_count": null,
   "id": "5c8d0b03",
   "metadata": {},
   "outputs": [],
   "source": []
  }
 ],
 "metadata": {
  "kernelspec": {
   "display_name": "mlenv",
   "language": "python",
   "name": "mlenv"
  },
  "language_info": {
   "codemirror_mode": {
    "name": "ipython",
    "version": 3
   },
   "file_extension": ".py",
   "mimetype": "text/x-python",
   "name": "python",
   "nbconvert_exporter": "python",
   "pygments_lexer": "ipython3",
   "version": "3.9.7"
  }
 },
 "nbformat": 4,
 "nbformat_minor": 5
}
