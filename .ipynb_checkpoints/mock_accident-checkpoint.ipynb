{
 "cells": [
  {
   "cell_type": "code",
   "execution_count": 116,
   "id": "6173b22a",
   "metadata": {
    "scrolled": false
   },
   "outputs": [],
   "source": [
    "import warnings\n",
    "warnings.filterwarnings('ignore')"
   ]
  },
  {
   "cell_type": "code",
   "execution_count": 117,
   "id": "e53a8d6e",
   "metadata": {
    "scrolled": false
   },
   "outputs": [],
   "source": [
    "#import dependencies\n",
    "import numpy as np\n",
    "import pandas as pd\n",
    "from pathlib import Path\n",
    "from collections import Counter\n",
    "from config import awspassword"
   ]
  },
  {
   "cell_type": "code",
   "execution_count": 118,
   "id": "d5b8cd00",
   "metadata": {
    "scrolled": false
   },
   "outputs": [],
   "source": [
    "from sklearn.metrics import balanced_accuracy_score\n",
    "from sklearn.metrics import confusion_matrix\n",
    "from imblearn.metrics import classification_report_imbalanced\n",
    "from sklearn.preprocessing import LabelEncoder"
   ]
  },
  {
   "cell_type": "code",
   "execution_count": 119,
   "id": "018a7c6e",
   "metadata": {
    "scrolled": false
   },
   "outputs": [],
   "source": [
    "from scipy import stats\n",
    "import matplotlib.pyplot as plt\n",
    "import seaborn as sns"
   ]
  },
  {
   "cell_type": "code",
   "execution_count": 120,
   "id": "33ec3813",
   "metadata": {},
   "outputs": [],
   "source": [
    "import sqlalchemy \n",
    "import pandas"
   ]
  },
  {
   "cell_type": "code",
   "execution_count": 121,
   "id": "fdb4f4f5",
   "metadata": {},
   "outputs": [],
   "source": [
    "#### DB Connection configuration\n",
    "username = \"postgres\"\n",
    "password = awspassword\n",
    "endpoint = \"us-accident.cnnhjjyro1tm.us-east-1.rds.amazonaws.com\"  # something like amazonaws.com:5432\n",
    "dbname   = \"US_Accident\""
   ]
  },
  {
   "cell_type": "code",
   "execution_count": 122,
   "id": "741a2a19",
   "metadata": {},
   "outputs": [],
   "source": [
    "## Connect to Db\n",
    "con = sqlalchemy.create_engine(\"postgresql://%s:%s@%s/%s\" % (username, password, endpoint, dbname))"
   ]
  },
  {
   "cell_type": "code",
   "execution_count": 123,
   "id": "45a20867",
   "metadata": {},
   "outputs": [
    {
     "name": "stdout",
     "output_type": "stream",
     "text": [
      "         index       ID  Severity          Start_Time            End_Time  \\\n",
      "0      2565499  2565500         4 2018-12-27 15:16:00 2018-12-27 15:45:26   \n",
      "1      2227498  2227499         2 2020-03-30 11:39:13 2020-03-30 12:09:13   \n",
      "2      2265137  2265138         1 2020-04-19 22:50:11 2020-04-19 23:20:11   \n",
      "3       632007   632008         2 2021-12-18 03:30:17 2021-12-18 05:31:28   \n",
      "4      1486973  1486974         2 2021-05-26 14:01:53 2021-05-26 16:05:53   \n",
      "...        ...      ...       ...                 ...                 ...   \n",
      "49995  1689248  1689249         2 2021-02-12 15:37:00 2021-02-12 16:58:54   \n",
      "49996  1140100  1140101         2 2021-10-22 20:07:00 2021-10-22 23:03:51   \n",
      "49997   237035   237036         2 2021-12-10 11:59:22 2021-12-10 13:17:26   \n",
      "49998  2293039  2293040         2 2020-01-09 19:49:00 2020-01-09 21:03:01   \n",
      "49999  1224025  1224026         2 2021-10-29 21:28:00 2021-10-29 22:43:46   \n",
      "\n",
      "       Start_Lat   Start_Lng  Distance(mi)              Street Side  ...  \\\n",
      "0      42.852850  -85.530930         0.968  Paul B Henry Fwy W    R  ...   \n",
      "1      37.605350  -77.455000         0.000            Brook Rd    R  ...   \n",
      "2      33.385630 -111.895600         0.000  Superstition Fwy E    R  ...   \n",
      "3      44.969210  -93.287802         0.583              I-94 E    R  ...   \n",
      "4      35.215672  -80.782154         0.111         Central Ave    L  ...   \n",
      "...          ...         ...           ...                 ...  ...  ...   \n",
      "49995  32.998176 -111.749271         1.435              I-10 E    R  ...   \n",
      "49996  40.626301 -116.924753         0.889              I-80 E    R  ...   \n",
      "49997  36.141889  -86.640624         0.044       Elm Hill Pike    R  ...   \n",
      "49998  43.772090  -91.475630         0.000    State Highway 16    R  ...   \n",
      "49999  28.426805  -81.370046         0.066        S Orange Ave    R  ...   \n",
      "\n",
      "      Traffic_Calming Traffic_Signal Turning_Loop Sunrise_Sunset  Year  Month  \\\n",
      "0               False          False        False            Day  2018    Dec   \n",
      "1               False          False        False            Day  2020    Mar   \n",
      "2               False          False        False          Night  2020    Apr   \n",
      "3               False           True        False          Night  2021    Dec   \n",
      "4               False          False        False            Day  2021    May   \n",
      "...               ...            ...          ...            ...   ...    ...   \n",
      "49995           False          False        False            Day  2021    Feb   \n",
      "49996           False          False        False          Night  2021    Oct   \n",
      "49997           False          False        False            Day  2021    Dec   \n",
      "49998           False          False        False          Night  2020    Jan   \n",
      "49999           False          False        False          Night  2021    Oct   \n",
      "\n",
      "       Day  Hour  Weekday  time_duration  \n",
      "0       27    15      Thu           29.0  \n",
      "1       30    11      Mon           30.0  \n",
      "2       19    22      Sun           30.0  \n",
      "3       18     3      Sat          121.0  \n",
      "4       26    14      Wed          124.0  \n",
      "...    ...   ...      ...            ...  \n",
      "49995   12    15      Fri           82.0  \n",
      "49996   22    20      Fri          177.0  \n",
      "49997   10    11      Fri           78.0  \n",
      "49998    9    19      Thu           74.0  \n",
      "49999   29    21      Fri           76.0  \n",
      "\n",
      "[50000 rows x 44 columns]\n"
     ]
    }
   ],
   "source": [
    "## Get Data\n",
    "accident_df = pandas.read_sql(\"select * from mock_accident;\", con)\n",
    "print(accident_df)"
   ]
  },
  {
   "cell_type": "markdown",
   "id": "2ab77949",
   "metadata": {},
   "source": [
    "### How Severity the Accidents is ?"
   ]
  },
  {
   "cell_type": "code",
   "execution_count": 10,
   "id": "5ba4a6cd",
   "metadata": {},
   "outputs": [
    {
     "data": {
      "text/html": [
       "<div>\n",
       "<style scoped>\n",
       "    .dataframe tbody tr th:only-of-type {\n",
       "        vertical-align: middle;\n",
       "    }\n",
       "\n",
       "    .dataframe tbody tr th {\n",
       "        vertical-align: top;\n",
       "    }\n",
       "\n",
       "    .dataframe thead th {\n",
       "        text-align: right;\n",
       "    }\n",
       "</style>\n",
       "<table border=\"1\" class=\"dataframe\">\n",
       "  <thead>\n",
       "    <tr style=\"text-align: right;\">\n",
       "      <th></th>\n",
       "      <th>index</th>\n",
       "      <th>ID</th>\n",
       "      <th>Severity</th>\n",
       "      <th>Start_Time</th>\n",
       "      <th>End_Time</th>\n",
       "      <th>Start_Lat</th>\n",
       "      <th>Start_Lng</th>\n",
       "      <th>Distance(mi)</th>\n",
       "      <th>Street</th>\n",
       "      <th>Side</th>\n",
       "      <th>...</th>\n",
       "      <th>Traffic_Calming</th>\n",
       "      <th>Traffic_Signal</th>\n",
       "      <th>Turning_Loop</th>\n",
       "      <th>Sunrise_Sunset</th>\n",
       "      <th>Year</th>\n",
       "      <th>Month</th>\n",
       "      <th>Day</th>\n",
       "      <th>Hour</th>\n",
       "      <th>Weekday</th>\n",
       "      <th>time_duration</th>\n",
       "    </tr>\n",
       "  </thead>\n",
       "  <tbody>\n",
       "    <tr>\n",
       "      <th>0</th>\n",
       "      <td>2565499</td>\n",
       "      <td>2565500</td>\n",
       "      <td>4</td>\n",
       "      <td>2018-12-27 15:16:00</td>\n",
       "      <td>2018-12-27 15:45:26</td>\n",
       "      <td>42.852850</td>\n",
       "      <td>-85.530930</td>\n",
       "      <td>0.968</td>\n",
       "      <td>Paul B Henry Fwy W</td>\n",
       "      <td>R</td>\n",
       "      <td>...</td>\n",
       "      <td>False</td>\n",
       "      <td>False</td>\n",
       "      <td>False</td>\n",
       "      <td>Day</td>\n",
       "      <td>2018</td>\n",
       "      <td>Dec</td>\n",
       "      <td>27</td>\n",
       "      <td>15</td>\n",
       "      <td>Thu</td>\n",
       "      <td>29.0</td>\n",
       "    </tr>\n",
       "    <tr>\n",
       "      <th>1</th>\n",
       "      <td>2227498</td>\n",
       "      <td>2227499</td>\n",
       "      <td>2</td>\n",
       "      <td>2020-03-30 11:39:13</td>\n",
       "      <td>2020-03-30 12:09:13</td>\n",
       "      <td>37.605350</td>\n",
       "      <td>-77.455000</td>\n",
       "      <td>0.000</td>\n",
       "      <td>Brook Rd</td>\n",
       "      <td>R</td>\n",
       "      <td>...</td>\n",
       "      <td>False</td>\n",
       "      <td>False</td>\n",
       "      <td>False</td>\n",
       "      <td>Day</td>\n",
       "      <td>2020</td>\n",
       "      <td>Mar</td>\n",
       "      <td>30</td>\n",
       "      <td>11</td>\n",
       "      <td>Mon</td>\n",
       "      <td>30.0</td>\n",
       "    </tr>\n",
       "    <tr>\n",
       "      <th>2</th>\n",
       "      <td>2265137</td>\n",
       "      <td>2265138</td>\n",
       "      <td>1</td>\n",
       "      <td>2020-04-19 22:50:11</td>\n",
       "      <td>2020-04-19 23:20:11</td>\n",
       "      <td>33.385630</td>\n",
       "      <td>-111.895600</td>\n",
       "      <td>0.000</td>\n",
       "      <td>Superstition Fwy E</td>\n",
       "      <td>R</td>\n",
       "      <td>...</td>\n",
       "      <td>False</td>\n",
       "      <td>False</td>\n",
       "      <td>False</td>\n",
       "      <td>Night</td>\n",
       "      <td>2020</td>\n",
       "      <td>Apr</td>\n",
       "      <td>19</td>\n",
       "      <td>22</td>\n",
       "      <td>Sun</td>\n",
       "      <td>30.0</td>\n",
       "    </tr>\n",
       "    <tr>\n",
       "      <th>3</th>\n",
       "      <td>632007</td>\n",
       "      <td>632008</td>\n",
       "      <td>2</td>\n",
       "      <td>2021-12-18 03:30:17</td>\n",
       "      <td>2021-12-18 05:31:28</td>\n",
       "      <td>44.969210</td>\n",
       "      <td>-93.287802</td>\n",
       "      <td>0.583</td>\n",
       "      <td>I-94 E</td>\n",
       "      <td>R</td>\n",
       "      <td>...</td>\n",
       "      <td>False</td>\n",
       "      <td>True</td>\n",
       "      <td>False</td>\n",
       "      <td>Night</td>\n",
       "      <td>2021</td>\n",
       "      <td>Dec</td>\n",
       "      <td>18</td>\n",
       "      <td>3</td>\n",
       "      <td>Sat</td>\n",
       "      <td>121.0</td>\n",
       "    </tr>\n",
       "    <tr>\n",
       "      <th>4</th>\n",
       "      <td>1486973</td>\n",
       "      <td>1486974</td>\n",
       "      <td>2</td>\n",
       "      <td>2021-05-26 14:01:53</td>\n",
       "      <td>2021-05-26 16:05:53</td>\n",
       "      <td>35.215672</td>\n",
       "      <td>-80.782154</td>\n",
       "      <td>0.111</td>\n",
       "      <td>Central Ave</td>\n",
       "      <td>L</td>\n",
       "      <td>...</td>\n",
       "      <td>False</td>\n",
       "      <td>False</td>\n",
       "      <td>False</td>\n",
       "      <td>Day</td>\n",
       "      <td>2021</td>\n",
       "      <td>May</td>\n",
       "      <td>26</td>\n",
       "      <td>14</td>\n",
       "      <td>Wed</td>\n",
       "      <td>124.0</td>\n",
       "    </tr>\n",
       "  </tbody>\n",
       "</table>\n",
       "<p>5 rows × 44 columns</p>\n",
       "</div>"
      ],
      "text/plain": [
       "     index       ID  Severity          Start_Time            End_Time  \\\n",
       "0  2565499  2565500         4 2018-12-27 15:16:00 2018-12-27 15:45:26   \n",
       "1  2227498  2227499         2 2020-03-30 11:39:13 2020-03-30 12:09:13   \n",
       "2  2265137  2265138         1 2020-04-19 22:50:11 2020-04-19 23:20:11   \n",
       "3   632007   632008         2 2021-12-18 03:30:17 2021-12-18 05:31:28   \n",
       "4  1486973  1486974         2 2021-05-26 14:01:53 2021-05-26 16:05:53   \n",
       "\n",
       "   Start_Lat   Start_Lng  Distance(mi)              Street Side  ...  \\\n",
       "0  42.852850  -85.530930         0.968  Paul B Henry Fwy W    R  ...   \n",
       "1  37.605350  -77.455000         0.000            Brook Rd    R  ...   \n",
       "2  33.385630 -111.895600         0.000  Superstition Fwy E    R  ...   \n",
       "3  44.969210  -93.287802         0.583              I-94 E    R  ...   \n",
       "4  35.215672  -80.782154         0.111         Central Ave    L  ...   \n",
       "\n",
       "  Traffic_Calming Traffic_Signal Turning_Loop Sunrise_Sunset  Year  Month  \\\n",
       "0           False          False        False            Day  2018    Dec   \n",
       "1           False          False        False            Day  2020    Mar   \n",
       "2           False          False        False          Night  2020    Apr   \n",
       "3           False           True        False          Night  2021    Dec   \n",
       "4           False          False        False            Day  2021    May   \n",
       "\n",
       "   Day  Hour  Weekday  time_duration  \n",
       "0   27    15      Thu           29.0  \n",
       "1   30    11      Mon           30.0  \n",
       "2   19    22      Sun           30.0  \n",
       "3   18     3      Sat          121.0  \n",
       "4   26    14      Wed          124.0  \n",
       "\n",
       "[5 rows x 44 columns]"
      ]
     },
     "execution_count": 10,
     "metadata": {},
     "output_type": "execute_result"
    }
   ],
   "source": [
    "accident_df.head()"
   ]
  },
  {
   "cell_type": "code",
   "execution_count": 11,
   "id": "f31e557c",
   "metadata": {
    "scrolled": false
   },
   "outputs": [],
   "source": [
    "# Files to laod\n",
    "#accident_data= \"DataFile/mock_accident_data.csv\"\n",
    "\n",
    "#accident_data=\"https://umausdata.s3.amazonaws.com/DataFile/mock_accident_data.csv\"\n",
    "#accident_df=pd.read_csv(accident_data)"
   ]
  },
  {
   "cell_type": "code",
   "execution_count": 12,
   "id": "a0799302",
   "metadata": {
    "scrolled": false
   },
   "outputs": [
    {
     "name": "stdout",
     "output_type": "stream",
     "text": [
      "<class 'pandas.core.frame.DataFrame'>\n",
      "RangeIndex: 50000 entries, 0 to 49999\n",
      "Data columns (total 44 columns):\n",
      " #   Column             Non-Null Count  Dtype         \n",
      "---  ------             --------------  -----         \n",
      " 0   index              50000 non-null  int64         \n",
      " 1   ID                 50000 non-null  int64         \n",
      " 2   Severity           50000 non-null  int64         \n",
      " 3   Start_Time         50000 non-null  datetime64[ns]\n",
      " 4   End_Time           50000 non-null  datetime64[ns]\n",
      " 5   Start_Lat          50000 non-null  float64       \n",
      " 6   Start_Lng          50000 non-null  float64       \n",
      " 7   Distance(mi)       50000 non-null  float64       \n",
      " 8   Street             50000 non-null  object        \n",
      " 9   Side               50000 non-null  object        \n",
      " 10  City               50000 non-null  object        \n",
      " 11  County             50000 non-null  object        \n",
      " 12  State              50000 non-null  object        \n",
      " 13  Zipcode            50000 non-null  object        \n",
      " 14  Timezone           50000 non-null  object        \n",
      " 15  Temperature(F)     50000 non-null  float64       \n",
      " 16  Wind_Chill(F)      50000 non-null  float64       \n",
      " 17  Humidity(%)        50000 non-null  float64       \n",
      " 18  Pressure(in)       50000 non-null  float64       \n",
      " 19  Visibility(mi)     50000 non-null  float64       \n",
      " 20  Wind_Direction     50000 non-null  object        \n",
      " 21  Wind_Speed(mph)    50000 non-null  float64       \n",
      " 22  Precipitation(in)  50000 non-null  float64       \n",
      " 23  Weather_Condition  50000 non-null  object        \n",
      " 24  Amenity            50000 non-null  bool          \n",
      " 25  Bump               50000 non-null  bool          \n",
      " 26  Crossing           50000 non-null  bool          \n",
      " 27  Give_Way           50000 non-null  bool          \n",
      " 28  Junction           50000 non-null  bool          \n",
      " 29  No_Exit            50000 non-null  bool          \n",
      " 30  Railway            50000 non-null  bool          \n",
      " 31  Roundabout         50000 non-null  bool          \n",
      " 32  Station            50000 non-null  bool          \n",
      " 33  Stop               50000 non-null  bool          \n",
      " 34  Traffic_Calming    50000 non-null  bool          \n",
      " 35  Traffic_Signal     50000 non-null  bool          \n",
      " 36  Turning_Loop       50000 non-null  bool          \n",
      " 37  Sunrise_Sunset     50000 non-null  object        \n",
      " 38  Year               50000 non-null  int64         \n",
      " 39  Month              50000 non-null  object        \n",
      " 40  Day                50000 non-null  int64         \n",
      " 41  Hour               50000 non-null  int64         \n",
      " 42  Weekday            50000 non-null  object        \n",
      " 43  time_duration      50000 non-null  float64       \n",
      "dtypes: bool(13), datetime64[ns](2), float64(11), int64(6), object(12)\n",
      "memory usage: 12.4+ MB\n"
     ]
    }
   ],
   "source": [
    "accident_df.info()"
   ]
  },
  {
   "cell_type": "code",
   "execution_count": 13,
   "id": "29b02913",
   "metadata": {
    "scrolled": false
   },
   "outputs": [],
   "source": [
    "#Drop the null columns where all values are null\n",
    "accident_df=accident_df.dropna(axis='columns',how='all')"
   ]
  },
  {
   "cell_type": "code",
   "execution_count": 14,
   "id": "c73223b1",
   "metadata": {
    "scrolled": false
   },
   "outputs": [
    {
     "data": {
      "text/plain": [
       "(50000, 44)"
      ]
     },
     "execution_count": 14,
     "metadata": {},
     "output_type": "execute_result"
    }
   ],
   "source": [
    "accident_df.shape"
   ]
  },
  {
   "cell_type": "code",
   "execution_count": 15,
   "id": "48c8a61a",
   "metadata": {
    "scrolled": false
   },
   "outputs": [
    {
     "name": "stdout",
     "output_type": "stream",
     "text": [
      "Index(['index', 'ID', 'Severity', 'Start_Time', 'End_Time', 'Start_Lat',\n",
      "       'Start_Lng', 'Distance(mi)', 'Street', 'Side', 'City', 'County',\n",
      "       'State', 'Zipcode', 'Timezone', 'Temperature(F)', 'Wind_Chill(F)',\n",
      "       'Humidity(%)', 'Pressure(in)', 'Visibility(mi)', 'Wind_Direction',\n",
      "       'Wind_Speed(mph)', 'Precipitation(in)', 'Weather_Condition', 'Amenity',\n",
      "       'Bump', 'Crossing', 'Give_Way', 'Junction', 'No_Exit', 'Railway',\n",
      "       'Roundabout', 'Station', 'Stop', 'Traffic_Calming', 'Traffic_Signal',\n",
      "       'Turning_Loop', 'Sunrise_Sunset', 'Year', 'Month', 'Day', 'Hour',\n",
      "       'Weekday', 'time_duration'],\n",
      "      dtype='object')\n"
     ]
    }
   ],
   "source": [
    "print(accident_df.columns)"
   ]
  },
  {
   "cell_type": "code",
   "execution_count": 16,
   "id": "07b1c30d",
   "metadata": {
    "scrolled": false
   },
   "outputs": [],
   "source": [
    "#drop the non-beneficial columns\n",
    "accident_df=accident_df.drop(columns=['ID','Start_Time','End_Time','Zipcode','index'])\n",
    "#reaso for droping columns\n",
    "#ID: since they don't carry any information for the severity\n",
    "#Start_Time,End_Time :because it was decomposed by the time features added before (day, month, weekday,Year)\n",
    "#Zipcode :because we just focus on the City,County,state where the accident happened\n"
   ]
  },
  {
   "cell_type": "code",
   "execution_count": 17,
   "id": "8a255644",
   "metadata": {
    "scrolled": false
   },
   "outputs": [
    {
     "data": {
      "text/plain": [
       "(50000, 39)"
      ]
     },
     "execution_count": 17,
     "metadata": {},
     "output_type": "execute_result"
    }
   ],
   "source": [
    "accident_df.shape"
   ]
  },
  {
   "cell_type": "code",
   "execution_count": 18,
   "id": "10be42bd",
   "metadata": {
    "scrolled": false
   },
   "outputs": [
    {
     "data": {
      "text/plain": [
       "Severity               int64\n",
       "Start_Lat            float64\n",
       "Start_Lng            float64\n",
       "Distance(mi)         float64\n",
       "Street                object\n",
       "Side                  object\n",
       "City                  object\n",
       "County                object\n",
       "State                 object\n",
       "Timezone              object\n",
       "Temperature(F)       float64\n",
       "Wind_Chill(F)        float64\n",
       "Humidity(%)          float64\n",
       "Pressure(in)         float64\n",
       "Visibility(mi)       float64\n",
       "Wind_Direction        object\n",
       "Wind_Speed(mph)      float64\n",
       "Precipitation(in)    float64\n",
       "Weather_Condition     object\n",
       "Amenity                 bool\n",
       "Bump                    bool\n",
       "Crossing                bool\n",
       "Give_Way                bool\n",
       "Junction                bool\n",
       "No_Exit                 bool\n",
       "Railway                 bool\n",
       "Roundabout              bool\n",
       "Station                 bool\n",
       "Stop                    bool\n",
       "Traffic_Calming         bool\n",
       "Traffic_Signal          bool\n",
       "Turning_Loop            bool\n",
       "Sunrise_Sunset        object\n",
       "Year                   int64\n",
       "Month                 object\n",
       "Day                    int64\n",
       "Hour                   int64\n",
       "Weekday               object\n",
       "time_duration        float64\n",
       "dtype: object"
      ]
     },
     "execution_count": 18,
     "metadata": {},
     "output_type": "execute_result"
    }
   ],
   "source": [
    "accident_df.dtypes"
   ]
  },
  {
   "cell_type": "code",
   "execution_count": 19,
   "id": "1f18f1a4",
   "metadata": {
    "scrolled": false
   },
   "outputs": [
    {
     "data": {
      "text/plain": [
       "Severity                 4\n",
       "Start_Lat            46110\n",
       "Start_Lng            46177\n",
       "Distance(mi)          4540\n",
       "Street               17038\n",
       "Side                     2\n",
       "City                  4683\n",
       "County                 989\n",
       "State                   49\n",
       "Timezone                 4\n",
       "Temperature(F)         174\n",
       "Wind_Chill(F)          374\n",
       "Humidity(%)            100\n",
       "Pressure(in)           781\n",
       "Visibility(mi)          34\n",
       "Wind_Direction          23\n",
       "Wind_Speed(mph)         64\n",
       "Precipitation(in)       91\n",
       "Weather_Condition       70\n",
       "Amenity                  2\n",
       "Bump                     2\n",
       "Crossing                 2\n",
       "Give_Way                 2\n",
       "Junction                 2\n",
       "No_Exit                  2\n",
       "Railway                  2\n",
       "Roundabout               2\n",
       "Station                  2\n",
       "Stop                     2\n",
       "Traffic_Calming          2\n",
       "Traffic_Signal           2\n",
       "Turning_Loop             1\n",
       "Sunrise_Sunset           2\n",
       "Year                     6\n",
       "Month                   12\n",
       "Day                     31\n",
       "Hour                    24\n",
       "Weekday                  7\n",
       "time_duration         1384\n",
       "dtype: int64"
      ]
     },
     "execution_count": 19,
     "metadata": {},
     "output_type": "execute_result"
    }
   ],
   "source": [
    "# Determine the number of unique values in each column.\n",
    "accident_df.nunique()"
   ]
  },
  {
   "cell_type": "code",
   "execution_count": 20,
   "id": "da864755",
   "metadata": {},
   "outputs": [],
   "source": [
    "#Drop Null coluns\n",
    "accident_df=accident_df.drop(columns=[])"
   ]
  },
  {
   "cell_type": "code",
   "execution_count": 21,
   "id": "82eeeccd",
   "metadata": {},
   "outputs": [],
   "source": [
    "#Drop Null values\n",
    "accident_df=accident_df.dropna()"
   ]
  },
  {
   "cell_type": "code",
   "execution_count": 22,
   "id": "67074200",
   "metadata": {},
   "outputs": [
    {
     "data": {
      "text/plain": [
       "(50000, 39)"
      ]
     },
     "execution_count": 22,
     "metadata": {},
     "output_type": "execute_result"
    }
   ],
   "source": [
    "accident_df.shape"
   ]
  },
  {
   "cell_type": "code",
   "execution_count": 23,
   "id": "d34e2fc7",
   "metadata": {
    "scrolled": false
   },
   "outputs": [],
   "source": [
    "# examine home _ownwrship\n",
    "street_count=accident_df['Street'].value_counts()"
   ]
  },
  {
   "cell_type": "code",
   "execution_count": 24,
   "id": "d0fb8c82",
   "metadata": {
    "scrolled": true
   },
   "outputs": [
    {
     "data": {
      "text/plain": [
       "[' W Cary St',\n",
       " 'I-465 E',\n",
       " 'CA-24 W',\n",
       " 'I-440 E',\n",
       " 'Capital City Fwy W',\n",
       " 'I-440 W',\n",
       " 'VA Beach Norfolk Expy E',\n",
       " ' W Slauson Ave',\n",
       " 'CA-15 S',\n",
       " ' NE Miami Gardens Dr',\n",
       " 'Ronald Reagan Tpke',\n",
       " 'CA-1 S',\n",
       " 'I-93 N',\n",
       " 'I-435 S',\n",
       " ' US Highway 301 S',\n",
       " 'Grand Central Pkwy W',\n",
       " 'CA-2 S',\n",
       " ' NW 67th Ave',\n",
       " 'US-131 S',\n",
       " ' SW 40th St',\n",
       " ' Ben C Pratt/6 Mile Cypress Pkwy',\n",
       " ' World Center Dr',\n",
       " 'CA-58 W',\n",
       " 'I-476 N',\n",
       " ' NW 167th St',\n",
       " 'Governor John Davis Lodge Tpke S',\n",
       " 'I-69 N',\n",
       " ' NW 183rd St',\n",
       " 'CA-180 W',\n",
       " 'Chrysler Expy N',\n",
       " ' Highway 1',\n",
       " ' Lee Hwy',\n",
       " 'US-22 E',\n",
       " ' Murfreesboro Pike',\n",
       " 'I-190 N',\n",
       " ' NE 123rd St',\n",
       " ' S Azusa Ave',\n",
       " 'Cross Westchester Expy W',\n",
       " 'Tom Landry Fwy',\n",
       " ' Airline Hwy',\n",
       " 'I-45 S',\n",
       " ' Highway 58',\n",
       " ' Washington Blvd',\n",
       " ' 53rd Ave E',\n",
       " ' N Pine Hills Rd',\n",
       " 'Belt Pkwy E',\n",
       " ' N Hiawassee Rd',\n",
       " 'Black Canyon Fwy N',\n",
       " ' NW 107th Ave',\n",
       " ' Broadway',\n",
       " ' US Highway 19',\n",
       " ' Highway 101 S',\n",
       " 'Adirondack Northway S',\n",
       " ' Blanding Blvd',\n",
       " 'GA-407 W',\n",
       " ' W Cheltenham Ave',\n",
       " ' Hillcroft Ave',\n",
       " 'GA-407 N',\n",
       " ' N Alafaya Trl',\n",
       " ' Albemarle Rd',\n",
       " 'US-50 W',\n",
       " ' University Pkwy',\n",
       " ' Westheimer Rd',\n",
       " 'I-610 E',\n",
       " 'Santa Ana Fwy N',\n",
       " 'CA-94 E',\n",
       " ' Colima Rd',\n",
       " 'CA-16 E',\n",
       " 'I-595 E',\n",
       " 'I-79 S',\n",
       " ' State Highway 38',\n",
       " ' Mount Hood Hwy',\n",
       " 'I-240 E',\n",
       " 'I-79 N',\n",
       " 'I-635 S',\n",
       " ' Highway 26',\n",
       " ' US Highway 1',\n",
       " ' Fruitville Rd',\n",
       " ' W Irlo Bronson Memorial Hwy',\n",
       " 'Chrysler Expy S',\n",
       " 'US-23 S',\n",
       " 'Southern State Pkwy W',\n",
       " 'AZ-101 Loop W',\n",
       " ' Lake Underhill Rd',\n",
       " 'I-280 E',\n",
       " ' SW 67th Ave',\n",
       " 'I-696 E',\n",
       " ' Cedar Ave',\n",
       " ' Crain Hwy',\n",
       " ' NW 22nd Ave',\n",
       " 'I-44 W',\n",
       " 'AZ-101 Loop S',\n",
       " 'AZ-202 Loop W',\n",
       " 'I-395 S',\n",
       " 'I-12 W',\n",
       " 'US-169 S',\n",
       " 'Hollywood Fwy S',\n",
       " 'SW 117th Ave',\n",
       " ' S Figueroa St',\n",
       " 'Beltline Hwy N',\n",
       " 'US-1 N',\n",
       " ' N John Young Pkwy',\n",
       " 'I-280 W',\n",
       " ' Highway 30',\n",
       " ' Madison Ave',\n",
       " ' NE 203rd St',\n",
       " 'US-52 N',\n",
       " 'Baltimore Washington Pkwy N',\n",
       " 'Lincoln Hwy E',\n",
       " 'CA-163 N',\n",
       " ' NW 135th St',\n",
       " ' SW 152nd St',\n",
       " 'US-6 W',\n",
       " 'I-485 S',\n",
       " ' NW 79th St',\n",
       " 'I-240 W',\n",
       " 'George Washington Brg',\n",
       " 'US-30 W',\n",
       " 'I-610 W',\n",
       " 'US-10 E',\n",
       " 'US-22 W',\n",
       " 'CA-41 N',\n",
       " ' Two Notch Rd',\n",
       " 'Beltline Hwy S',\n",
       " 'I-635 N',\n",
       " ' Highway 126',\n",
       " ' South Blvd',\n",
       " 'S Orange Blossom Trl',\n",
       " 'I-190 S',\n",
       " 'I-380 N',\n",
       " ' Coral Way',\n",
       " ' SW 147th Ave',\n",
       " ' Perkins Rd',\n",
       " 'Superstition Fwy E',\n",
       " 'I-287 N',\n",
       " ' Valley Blvd',\n",
       " 'Bruce R. Watkins Dr',\n",
       " 'Adirondack Northway N',\n",
       " 'Taconic State Pkwy N',\n",
       " ' University Blvd',\n",
       " ' Highway 169',\n",
       " 'I-664 N',\n",
       " ' Creedmoor Rd',\n",
       " 'NW 36th St',\n",
       " ' SW 104th St',\n",
       " 'I-376 W',\n",
       " ' S Orange Ave',\n",
       " 'Crosstown Hwy W',\n",
       " ' W Imperial Hwy',\n",
       " ' State Highway 99',\n",
       " 'I-465 N',\n",
       " 'Black Canyon Fwy S',\n",
       " ' Highway 62',\n",
       " 'Baltimore Washington Pkwy S',\n",
       " ' Lee Jackson Memorial Hwy',\n",
       " ' McKenzie Hwy',\n",
       " ' Bethlehem Pike',\n",
       " ' Conroy Rd',\n",
       " 'E Beltway N',\n",
       " 'US-10 W',\n",
       " 'FDR Dr S',\n",
       " ' NW 62nd St',\n",
       " 'Superstition Fwy W',\n",
       " 'Edsel Ford Fwy E',\n",
       " ' Pacific Coast Hwy',\n",
       " ' Beneva Rd',\n",
       " ' Highway 42',\n",
       " ' SW 24th St',\n",
       " 'CA-170 S',\n",
       " 'US Highway 1',\n",
       " 'US-52 S',\n",
       " ' E Highway 501',\n",
       " ' Telegraph Rd',\n",
       " 'US-6 E',\n",
       " 'US-1 S',\n",
       " ' W Vernon Ave',\n",
       " ' S Claiborne Ave',\n",
       " 'US-23 N',\n",
       " 'I-684 N',\n",
       " 'I-494 N',\n",
       " 'Van Wyck Expy N',\n",
       " 'I-695 W',\n",
       " ' N Central Expy',\n",
       " ' Power Inn Rd',\n",
       " 'CT-8 N',\n",
       " 'Van Wyck Expy S',\n",
       " ' Cortez Rd W',\n",
       " 'Grand Central Pkwy E',\n",
       " 'MN-610 E',\n",
       " 'Lincoln Hwy W',\n",
       " ' N Oracle Rd',\n",
       " 'FDR Dr N',\n",
       " 'CA-12 E',\n",
       " ' New Bern Ave',\n",
       " ' S Broadway',\n",
       " 'US-131 N',\n",
       " ' US Highway 50',\n",
       " 'I-69 S',\n",
       " 'New England Trwy N',\n",
       " 'MacArthur Cswy W',\n",
       " 'I-435 N',\n",
       " ' N Sharon Amity Rd',\n",
       " 'CA-94 W',\n",
       " ' Woodruff Rd',\n",
       " ' W Okeechobee Rd',\n",
       " ' 53rd Ave W',\n",
       " ' S Gessner Rd',\n",
       " 'I-96 W',\n",
       " ' Florin Rd',\n",
       " ' Salmon River Hwy',\n",
       " ' N Goldenrod Rd',\n",
       " 'I-215 E',\n",
       " ' McCoy Rd',\n",
       " ' Centreville Rd',\n",
       " 'I-69 W',\n",
       " ' Brainerd Rd',\n",
       " ' Conroy Windermere Rd',\n",
       " ' State Highway 108',\n",
       " 'Taconic State Pkwy',\n",
       " 'Edward J Jeffries Fwy',\n",
       " 'I-664 S',\n",
       " ' Sierra Hwy',\n",
       " ' SW 57th Ave',\n",
       " ' Ocean Gtwy',\n",
       " 'Main St',\n",
       " 'Henry Shirley Memorial Hwy S',\n",
       " 'Beaverton Tigard Fwy S',\n",
       " 'I-476 S',\n",
       " ' N Interstate 35',\n",
       " 'Firestone Blvd',\n",
       " ' W Broad St',\n",
       " ' Lincoln Hwy',\n",
       " 'US-87 N',\n",
       " 'I-694 S',\n",
       " ' S Central Ave',\n",
       " ' N Parsons Ave',\n",
       " ' New Hampshire Ave',\n",
       " ' Highway 22',\n",
       " ' S Redwood Rd',\n",
       " ' 28th St SE',\n",
       " 'I-495 N',\n",
       " ' Highway 53',\n",
       " ' Foothill Blvd',\n",
       " 'Wilshire Blvd',\n",
       " 'Highway 99',\n",
       " ' SW 85th Ave',\n",
       " ' State Highway 22',\n",
       " 'Cross Bronx Expy W',\n",
       " 'I-110 N',\n",
       " 'Prince William Pkwy',\n",
       " ' Broad St',\n",
       " 'CA-12 W',\n",
       " 'Sprain Brook Pkwy N',\n",
       " 'AZ-101 Loop N',\n",
       " 'W Okeechobee Rd',\n",
       " 'S Central Ave',\n",
       " 'CA-41 S',\n",
       " 'Chicago-Kansas City Expressway W',\n",
       " ' E Highway 20',\n",
       " 'GA-407 S',\n",
       " 'I-71 N',\n",
       " 'Arizona Veterans Highway',\n",
       " ' US Highway 14',\n",
       " 'W Irlo Bronson Memorial Hwy',\n",
       " 'Dalles California Hwy',\n",
       " ' N Lamar Blvd',\n",
       " ' Highway 52 Blvd',\n",
       " ' Jefferson Hwy',\n",
       " ' N Umpqua Hwy',\n",
       " 'NW 57th Ave',\n",
       " 'CA-79 N',\n",
       " ' Augusta Rd',\n",
       " ' Falls of Neuse Rd',\n",
       " ' Highway 9',\n",
       " 'Central Ave',\n",
       " ' Nolensville Pike',\n",
       " 'TX-121 S',\n",
       " ' E Independence Blvd',\n",
       " ' SW 39th St',\n",
       " ' Broad River Rd',\n",
       " 'I-59 N',\n",
       " ' Oregon Coast Hwy',\n",
       " ' NW 87th Ave',\n",
       " ' E 14th St',\n",
       " 'I-490 W',\n",
       " ' Whittier Blvd',\n",
       " 'CA-22 E',\n",
       " 'Hutchinson River Pkwy N',\n",
       " ' Curry Ford Rd',\n",
       " 'CA-110 S',\n",
       " 'I-490 E',\n",
       " 'Bill Morris Pkwy',\n",
       " 'CA-17 S',\n",
       " ' Rim of the World Hwy',\n",
       " 'UT-201 W',\n",
       " ' Highway 97',\n",
       " 'John Hanson Hwy W',\n",
       " ' N Tryon St',\n",
       " 'E West Expy E',\n",
       " ' Providence Rd',\n",
       " ' SW 120th St',\n",
       " 'CA-85 S',\n",
       " ' NW 103rd St',\n",
       " ' Fondren Rd',\n",
       " 'James Lick Fwy S',\n",
       " 'AZ-202 Loop E',\n",
       " 'I-485 N',\n",
       " ' N Kendall Dr',\n",
       " ' Stockton Blvd',\n",
       " 'G A Treakle Bdg',\n",
       " 'I-44 E',\n",
       " 'I-93 S',\n",
       " ' City Creek Rd',\n",
       " ' Route 9',\n",
       " ' US Highway 101',\n",
       " 'S Dixie Hwy',\n",
       " ' NW 186th St',\n",
       " ' NW Sunset Hwy',\n",
       " 'CA-92 W',\n",
       " ' SW 157th Ave',\n",
       " 'Highway 36 W',\n",
       " 'Piestewa Fwy S',\n",
       " 'I-695 E',\n",
       " ' Clackamas Hwy',\n",
       " 'Loop 12 S',\n",
       " ' E Adamo Dr',\n",
       " 'Dallas North Tollway N',\n",
       " ' Lincoln Blvd',\n",
       " ' Tamiami Trl S',\n",
       " ' Columbia River Hwy',\n",
       " ' State Road 535',\n",
       " ' US Highway 199',\n",
       " 'El Dorado Fwy W',\n",
       " 'MN-62 E',\n",
       " 'WA-167 N',\n",
       " ' NE 125th St',\n",
       " 'Highway 13 W',\n",
       " ' Highway 99',\n",
       " ' Quail Roost Dr',\n",
       " ' E 22nd St',\n",
       " ' State Highway 70',\n",
       " 'I-49 S',\n",
       " 'Daniel Webster Western Beltway S',\n",
       " 'Cross Bronx Expy E',\n",
       " ' N Semoran Blvd',\n",
       " ' W Florence Ave',\n",
       " 'NW 2nd Ave',\n",
       " ' Ox Rd',\n",
       " ' W Gage Ave',\n",
       " 'Airline Hwy',\n",
       " 'Bruckner Expy W',\n",
       " ' Garfield Ave',\n",
       " ' State Highway 12',\n",
       " ' N Stemmons Fwy',\n",
       " 'US-202 N',\n",
       " ' York Rd',\n",
       " 'I-380 S',\n",
       " ' Old Hickory Blvd',\n",
       " ' E Broadway Blvd',\n",
       " ' Highway 35',\n",
       " ' NW 54th St',\n",
       " ' S State St',\n",
       " 'Sully Rd',\n",
       " ' Franklin Blvd',\n",
       " ' W Dixie Hwy',\n",
       " ' Clarcona Ocoee Rd',\n",
       " ' E 70th St',\n",
       " 'AZ-101 Loop E',\n",
       " ' Bluebonnet Blvd',\n",
       " 'I-278 E',\n",
       " ' SW 127th Ave',\n",
       " 'Chicago-Kansas City Expressway E',\n",
       " ' Ventura Blvd',\n",
       " 'I-270 N',\n",
       " ' Braddock Rd',\n",
       " ' E El Segundo Blvd',\n",
       " ' S Atlantic Blvd',\n",
       " ' SW 42nd St',\n",
       " 'Coatesville Downingtown Byp E',\n",
       " ' State Highway 120',\n",
       " 'Long Beach Blvd',\n",
       " 'CA-242 N',\n",
       " ' Old Winter Garden Rd',\n",
       " 'I-459 S',\n",
       " ' Highway 140',\n",
       " 'Northern State Pkwy E',\n",
       " ' Grand Ave',\n",
       " 'I-676 E',\n",
       " 'Baltimore National Pike E',\n",
       " 'SW 8th St',\n",
       " 'I-394 W',\n",
       " 'Santiam Hwy',\n",
       " ' County Line Rd',\n",
       " 'Tri State Tollway S',\n",
       " ' Highway 36',\n",
       " ' S Western Ave',\n",
       " ' State Road 52',\n",
       " 'Kenilworth Ave S',\n",
       " ' Rosedale Hwy',\n",
       " ' W State St',\n",
       " ' Silver Star Rd',\n",
       " ' NE 167th St',\n",
       " 'Hutchinson River Pkwy S',\n",
       " ' Virginia Beach Blvd',\n",
       " 'S Dade Expy S',\n",
       " ' State Highway 23',\n",
       " ' NW 25th St',\n",
       " 'John Hanson Hwy E',\n",
       " ' Central Florida Pkwy',\n",
       " ' Inwood Rd',\n",
       " 'Central Fwy',\n",
       " 'CA-116 W',\n",
       " 'CA-12',\n",
       " ' Hillsboro Pike',\n",
       " 'I-494 S',\n",
       " ' W 12th St',\n",
       " ' E Parmer Ln',\n",
       " ' Sepulveda Blvd',\n",
       " 'N South Fwy S',\n",
       " 'I-430 N',\n",
       " ' Pacheco Pass Hwy',\n",
       " ' Wilson River Hwy',\n",
       " 'Piestewa Fwy N',\n",
       " 'Santa Cruz Hwy',\n",
       " 'CA-180 E',\n",
       " ' Highway 41',\n",
       " 'Pacific Highway 1 N',\n",
       " ' S University Dr',\n",
       " 'Bronx River Pkwy S',\n",
       " ' Fullerton Rd',\n",
       " 'Pomona Fwy W',\n",
       " ' Gale Ave',\n",
       " ' S Mission Rd',\n",
       " ' S Sherwood Forest Blvd',\n",
       " ' Santiam Hwy',\n",
       " 'Dallas North Tollway S',\n",
       " ' Highway 12',\n",
       " ' State St',\n",
       " ' Bonita Beach Rd',\n",
       " 'US-212 E',\n",
       " ' N Highway 97',\n",
       " 'Anacostia Fwy S',\n",
       " 'Wade Ave',\n",
       " 'CA-92 E',\n",
       " ' Ulmerton Rd',\n",
       " 'Highway 395',\n",
       " ' Conway Rd',\n",
       " 'Martin Luther King Jr Memorial Fwy',\n",
       " ' N Poinciana Blvd',\n",
       " ' Columbia Ave',\n",
       " ' US Highway 301',\n",
       " ' Perry Creek Rd',\n",
       " 'US-19 N',\n",
       " ' State Highway 15',\n",
       " ' NE 124th St',\n",
       " ' Watt Ave',\n",
       " 'E Main St',\n",
       " ' Washington St',\n",
       " 'Bruckner Expy E',\n",
       " ' Washington Ave',\n",
       " ' SW 184th St',\n",
       " 'Shakopee Byp N',\n",
       " 'CA-126 W',\n",
       " ' Highway 49',\n",
       " ' 5th St',\n",
       " 'UT-201 E',\n",
       " 'I-195 W',\n",
       " 'US-26 E',\n",
       " ' Central Oregon Hwy',\n",
       " 'US-395 S',\n",
       " ' Plank Rd',\n",
       " ' Clark Rd',\n",
       " 'CA-120 E',\n",
       " 'CA-170 N',\n",
       " ' W State Road 84',\n",
       " 'I-610 S',\n",
       " ' Market St',\n",
       " '53rd Ave E',\n",
       " ' Bee Ridge Rd',\n",
       " 'Riverside Dr',\n",
       " ' State Highway 16',\n",
       " 'I-88 W',\n",
       " 'Sawgrass Expy',\n",
       " 'Pacific Highway 1 S',\n",
       " 'MN-610 W',\n",
       " ' E 4th St',\n",
       " 'I-465 W',\n",
       " ' Louisburg Rd',\n",
       " 'N Santiam Hwy',\n",
       " ' Sand Lake Rd',\n",
       " ' State Highway 252',\n",
       " ' Highway 33',\n",
       " 'Pearl Harbor Memorial Highway',\n",
       " ' State Highway 18',\n",
       " 'Fairfax County Pkwy',\n",
       " ' Green Valley Rd',\n",
       " ' Overseas Hwy',\n",
       " 'NY-17 W',\n",
       " 'NJ-3 W',\n",
       " 'Hialeah Expy',\n",
       " ' Harry Byrd Hwy',\n",
       " ' Leesburg Pike',\n",
       " 'I-287 S',\n",
       " ' US Highway 290 E',\n",
       " ' Harbor Blvd',\n",
       " ' W Ridge Rd',\n",
       " 'Pulaski Skwy S',\n",
       " ' NW 17th Ave',\n",
       " ' Mobile Hwy',\n",
       " 'Harrisburg Expy E',\n",
       " 'CA-120 W',\n",
       " ' Bay Rd',\n",
       " ' Charlotte Hwy',\n",
       " 'I-459 N',\n",
       " ' Cajalco Rd',\n",
       " 'I-225 N',\n",
       " ' Southern Blvd',\n",
       " ' Howe Ave',\n",
       " 'US-40 E',\n",
       " ' 3rd Ave',\n",
       " 'GA-400 S',\n",
       " 'N Main St',\n",
       " 'I-464 N',\n",
       " ' Georgetown Pike',\n",
       " ' E 3rd St',\n",
       " 'I-265 E',\n",
       " 'US-20 W',\n",
       " 'I-385 N',\n",
       " ' SW 97th Ave',\n",
       " 'S La Cienega Blvd',\n",
       " ' Highway 29',\n",
       " ' State Route 20',\n",
       " ' Byron Hwy',\n",
       " ' Lee Rd',\n",
       " ' Pioneer Blvd',\n",
       " 'I-695 S',\n",
       " ' Idlewild Rd',\n",
       " 'US-60 E',\n",
       " ' N 35th Ave',\n",
       " 'Highway 7',\n",
       " 'MD-100 E',\n",
       " 'Bend Pkwy',\n",
       " 'I-278 W',\n",
       " ' Highway 72 W',\n",
       " 'SW 127th Ave',\n",
       " 'MN-77 N',\n",
       " ' Fair Oaks Blvd',\n",
       " ' W Century Blvd',\n",
       " 'Columbia River Hwy 2',\n",
       " 'N Umpqua Hwy',\n",
       " ' Harwin Dr',\n",
       " ' W Oakland Park Blvd',\n",
       " 'I-780 W',\n",
       " ' Monroe Rd',\n",
       " 'I-68 E',\n",
       " ' Lyndon B Johnson Fwy',\n",
       " 'I-670 E',\n",
       " 'CA-65 S',\n",
       " 'Artesia Blvd',\n",
       " 'Bangerter Hwy',\n",
       " 'Capital Blvd',\n",
       " 'E West Expy W',\n",
       " ' Clemson Rd',\n",
       " 'Cross Westchester Expy E',\n",
       " ' Vineland Rd',\n",
       " 'Lincoln Hwy',\n",
       " ' Gulf Breeze Pkwy',\n",
       " ' N Orange Blossom Trl',\n",
       " ' E Grant Rd',\n",
       " ' E Florence Ave',\n",
       " ' N Tamiami Trl',\n",
       " ' E Riverside Dr',\n",
       " 'CA-73 N',\n",
       " 'Cross County Pkwy W',\n",
       " 'I-695 N',\n",
       " ' W Sugar Creek Rd',\n",
       " 'Fisher Fwy N',\n",
       " ' Courthouse Rd',\n",
       " ' Gerber Rd',\n",
       " 'W Sand Lake Rd',\n",
       " 'CA-52 W',\n",
       " 'NW 72nd Ave',\n",
       " ' Highway 212',\n",
       " ' Chimney Rock Rd',\n",
       " ' NE 183rd St',\n",
       " ' Verdin Rd',\n",
       " 'CA-242 S',\n",
       " ' Wallace Rd NW',\n",
       " ' Airport Blvd',\n",
       " ' Dewey Ave',\n",
       " ' Sharon Rd',\n",
       " 'Gerald R Ford Fwy W',\n",
       " 'State Highway 36',\n",
       " 'US-202 S',\n",
       " ' W Northwest Hwy',\n",
       " 'Branch Ave N',\n",
       " ' Highland Ave',\n",
       " ' SW Highway 97',\n",
       " ' State Highway 160',\n",
       " 'Harbor Blvd',\n",
       " ' W Prince Rd',\n",
       " ' Government St',\n",
       " ' N Palafox St',\n",
       " 'Cross Island Pkwy N',\n",
       " 'Belt Pkwy W',\n",
       " 'Rosemead Blvd',\n",
       " ' State Highway 74',\n",
       " ' Crater Lake Hwy',\n",
       " ' University Ave',\n",
       " 'PA-28 S',\n",
       " 'Georgia Ave',\n",
       " ' Santa Fe Ave',\n",
       " 'GA-404 E',\n",
       " 'Sears Point Rd',\n",
       " ' Wake Forest Rd',\n",
       " ' Westpark Dr',\n",
       " ' Dorchester Rd',\n",
       " 'GA-400 N',\n",
       " ' Hard Scrabble Rd',\n",
       " ' Wilcrest Dr',\n",
       " 'James Lick Fwy N',\n",
       " ' Branch Ave',\n",
       " ' Asheville Hwy',\n",
       " 'N South Fwy N',\n",
       " ' Midlothian Tpke',\n",
       " ' NW 122nd St',\n",
       " ' Highway 178',\n",
       " 'Pontchartrain Expy E',\n",
       " 'Ochoco Hwy',\n",
       " ' S Carrollton Ave',\n",
       " 'N Santiam Hwy E',\n",
       " ' Cameron Rd',\n",
       " ' Firestone Blvd',\n",
       " ' Bell Rd',\n",
       " ' National Blvd',\n",
       " 'State Route 17',\n",
       " ' Avenue 12',\n",
       " ' Ortega Hwy',\n",
       " ' Virgil H Goode Hwy',\n",
       " 'NW 107th Ave',\n",
       " ' N Broad St',\n",
       " 'FL-417 N',\n",
       " ' US Highway 41 N',\n",
       " ' W Taft Vineland Rd',\n",
       " ' Pine Island Rd',\n",
       " 'New York Ave NW',\n",
       " ' Strickland Rd',\n",
       " ' 14th St W',\n",
       " ' SW 136th St',\n",
       " ' SW 122nd Ave',\n",
       " 'I-595 W',\n",
       " 'Central Florida Greeneway S',\n",
       " ' Beechnut St',\n",
       " ' Shoreline Hwy',\n",
       " ' Warrenton Rd',\n",
       " 'Bergen Passaic Expy W',\n",
       " ' State Highway 200',\n",
       " ' Hecker Pass Rd',\n",
       " ' Highway 90',\n",
       " 'CA-71 N',\n",
       " ' S Vermont Ave',\n",
       " 'I-89 N',\n",
       " ' Pulaski Hwy',\n",
       " ' S 6th St',\n",
       " 'Santa Ana Fwy S',\n",
       " 'I-215 W',\n",
       " 'Adlai E Stevenson Expy N',\n",
       " 'Randy Papé Beltline E',\n",
       " 'Meadowbrook Pkwy N',\n",
       " 'CO-470 E',\n",
       " 'Airport Fwy E',\n",
       " 'State Road 54',\n",
       " 'CA-2 W',\n",
       " 'Guadalupe Pkwy S',\n",
       " 'SW Canyon Rd',\n",
       " ' Sawtelle Blvd',\n",
       " 'Sunset Hwy W',\n",
       " ' S Highway 101',\n",
       " ' W Wheatland Rd',\n",
       " 'I-430 S',\n",
       " ' Oak St',\n",
       " 'FL-228 E',\n",
       " ' Sunset Ave',\n",
       " 'I-820 N',\n",
       " 'I-780 E',\n",
       " 'I-238 N',\n",
       " 'US-67 S',\n",
       " ' Park Rd',\n",
       " ' 8th Ave S',\n",
       " 'US-87 S',\n",
       " 'US Highway 19 N',\n",
       " 'I-74 E',\n",
       " 'Highway 41',\n",
       " 'I-240 S',\n",
       " 'I-540 W',\n",
       " 'US Highway 14',\n",
       " 'New York Trwy W',\n",
       " 'I-264 E',\n",
       " 'TX-360 N',\n",
       " ' Pineville-Matthews Rd',\n",
       " ' State Highway 73',\n",
       " ' S Conway Rd',\n",
       " 'PA-283 E',\n",
       " 'Crain Hwy',\n",
       " ' US Highway 130',\n",
       " 'I-205 E',\n",
       " ' Highway 7',\n",
       " ' 66th St',\n",
       " ' 7th Standard Rd',\n",
       " ' Cortez Blvd',\n",
       " 'MN-5 E',\n",
       " 'Cross County Pkwy E',\n",
       " ' Palm Pkwy',\n",
       " 'CA-71 S',\n",
       " ' W Front St',\n",
       " ' Eastway Dr',\n",
       " ' Pacific Ave S',\n",
       " 'S Fremont Ave',\n",
       " 'M-14 E',\n",
       " ' Chef Menteur Hwy',\n",
       " ' Immokalee Rd',\n",
       " 'San Gabriel River Fwy N',\n",
       " 'Pomona Fwy E',\n",
       " 'CT-2 W',\n",
       " ' US 71',\n",
       " ' Fairfax County Pkwy',\n",
       " ' S Lake Dr',\n",
       " ' State Highway 36',\n",
       " ' N Florida Ave',\n",
       " 'W Flagler St',\n",
       " 'Bergen Passaic Expy E',\n",
       " 'I-71 S',\n",
       " 'CA-15 N',\n",
       " 'Brookhurst St',\n",
       " ' US Highway 1 S',\n",
       " 'State Route 201',\n",
       " ' Dessau Rd',\n",
       " ' NW Pacific Coast Hwy',\n",
       " ' Lakewood Blvd',\n",
       " ' Platt Springs Rd',\n",
       " ' Richmond Rd',\n",
       " ' 4th Ave S',\n",
       " ' Atlantic Ave',\n",
       " 'CA-22 W',\n",
       " 'US-80 E',\n",
       " ' Airport Rd',\n",
       " ' Ludlam Rd',\n",
       " ' Horsham Rd',\n",
       " ' State Highway 371',\n",
       " 'Beach Blvd',\n",
       " ' N Santiam Hwy',\n",
       " ' Grass Valley Hwy',\n",
       " ' Charleston Hwy',\n",
       " ' Maze Blvd',\n",
       " ' Martin Luther King Jr Blvd',\n",
       " 'I-495 S',\n",
       " 'Daniel Webster Western Beltway N',\n",
       " 'US-15 S',\n",
       " ' Hialeah Gardens Blvd',\n",
       " ' W Blue Ridge Dr',\n",
       " ' Highland Rd',\n",
       " 'Mopac Expy N',\n",
       " ' Highway 46',\n",
       " 'NW 87th Ave',\n",
       " 'Anacostia Fwy N',\n",
       " ' Peck Rd',\n",
       " 'I-787 N',\n",
       " ' S Kirkwood Rd',\n",
       " 'NJ-139 E',\n",
       " 'Central Florida Greeneway N',\n",
       " ' Highway 42 S',\n",
       " ' NW 79th Ave',\n",
       " ' E 71st St',\n",
       " 'US-35 E',\n",
       " 'I-395 N',\n",
       " ' State Highway 20',\n",
       " 'CA-85 N',\n",
       " 'Knott Ave',\n",
       " ' N State St',\n",
       " ' Wade Hampton Blvd',\n",
       " ' US Highway 10',\n",
       " ' N Highway 1',\n",
       " ' Canal St',\n",
       " 'Southwest Fwy N',\n",
       " ' State Highway 19',\n",
       " 'US-14 E',\n",
       " 'I-235 W',\n",
       " ' N Eagle Rd',\n",
       " ' 1st Ave S',\n",
       " 'I-820 S',\n",
       " ' NW 8th Ave',\n",
       " ' Youree Dr',\n",
       " ' Center St',\n",
       " 'FL-821 N',\n",
       " 'El Dorado Fwy E',\n",
       " ' Gallatin Pike S',\n",
       " ' Pennsylvania Ave',\n",
       " 'Vietnam Veterans Memorial Hwy',\n",
       " 'Center St',\n",
       " 'Cross Island Pkwy S',\n",
       " 'I-205 W',\n",
       " ' 54th Ave N',\n",
       " ' Farrow Rd',\n",
       " ' S Lewis Ave',\n",
       " ' Highway 66',\n",
       " ' E Nine Mile Rd',\n",
       " ' Williams Hwy',\n",
       " 'Cherry Ave',\n",
       " 'Valley Blvd',\n",
       " 'US-52 W',\n",
       " 'I-270 E',\n",
       " 'FL-821 S',\n",
       " 'Henry Watterson Expy W',\n",
       " ' W Highway 4',\n",
       " ' N Davis Hwy',\n",
       " ' S 1900 W',\n",
       " ' Roscoe Blvd',\n",
       " 'Bronx River Pkwy N',\n",
       " 'NE 163rd St',\n",
       " ' Nine Mile Rd',\n",
       " ' Highway 19',\n",
       " 'CA-237 E',\n",
       " ' Richmond Hwy',\n",
       " ' Crown Valley Pkwy',\n",
       " 'NW 135th St',\n",
       " 'I-74 W',\n",
       " 'I-270 S',\n",
       " 'W Imperial Hwy',\n",
       " 'Markley St',\n",
       " ' Leffingwell Rd',\n",
       " ' E Speedway Blvd',\n",
       " ' Universal Blvd',\n",
       " ' Park Ave',\n",
       " ' W Hillsborough Ave',\n",
       " ' Eastern Ave',\n",
       " \" Land O'Lakes Blvd\",\n",
       " ' Jefferson Ave',\n",
       " ' Sunrise Blvd',\n",
       " 'S Dade Expy N',\n",
       " ' Michigan Ave',\n",
       " ' Miller Dr',\n",
       " ' Constitution Hwy',\n",
       " ' Pleasant Valley Rd',\n",
       " 'CT-25 S',\n",
       " ' Rosa L Parks Blvd',\n",
       " 'Claude E Pope Memorial Hwy N',\n",
       " 'GA-5 S',\n",
       " ' SE Powell Blvd',\n",
       " 'Washington St',\n",
       " 'TX-121 N',\n",
       " ' Singleton Blvd',\n",
       " ' Ridge Rd',\n",
       " 'I-435 E',\n",
       " 'CA-52 E',\n",
       " ' Highway 73',\n",
       " ' W Illinois Ave',\n",
       " 'CA-14 S',\n",
       " 'S Orange Ave',\n",
       " ' State Highway 210',\n",
       " 'NJ-21 S',\n",
       " 'Florence Ave',\n",
       " ' Sears Point Rd',\n",
       " ' S Lakewood Dr',\n",
       " ' Florida Blvd',\n",
       " 'US-127 N',\n",
       " 'Palisades Interstate Pkwy N',\n",
       " 'Dr Martin Luther King Jr Expy S',\n",
       " ' Albany Corvallis Hwy',\n",
       " 'Cascade Hwy S',\n",
       " ' E Camelback Rd',\n",
       " ' W Newberry Rd',\n",
       " 'Belvidere Rd',\n",
       " ' W Dekalb Pike',\n",
       " 'Hampton Roads Bridge Tunl E',\n",
       " ' Lake Blvd',\n",
       " ' W Indian School Rd',\n",
       " 'AL-6 W',\n",
       " ' N Highway 101',\n",
       " ' Saint Claude Ave',\n",
       " ' Highway 140 W',\n",
       " ' Wallowa Lake Hwy',\n",
       " 'I-69 E',\n",
       " 'Mission Blvd',\n",
       " ' Highway 395 S',\n",
       " ' US Highway 93 S',\n",
       " ' Dick Pond Rd',\n",
       " 'Winter Run Dr',\n",
       " ' Highway 238',\n",
       " ' 34th St N',\n",
       " ' Fruitridge Rd',\n",
       " 'I-195 N',\n",
       " ' Rossville Blvd',\n",
       " ' Paradise Rd',\n",
       " 'FL-115 S',\n",
       " 'George Washington Memorial Pkwy N',\n",
       " 'Pennsylvania Ave',\n",
       " ' Little Rd',\n",
       " 'Robert F Kennedy Brg W',\n",
       " 'Harlem River Dr N',\n",
       " ' Olive St',\n",
       " ' John Mosby Hwy',\n",
       " ' 66th St N',\n",
       " ' Adams St',\n",
       " ' 6th Ave',\n",
       " 'CA-198 E',\n",
       " ' E Kings Canyon Rd',\n",
       " 'Taconic State Pkwy S',\n",
       " ' S Myrtle Ave',\n",
       " 'I-57 N',\n",
       " ' Harding Pl',\n",
       " 'US-80 W',\n",
       " 'Salmon River Hwy',\n",
       " ' Woodburn-Estacada Hwy',\n",
       " ' Castro Valley Blvd',\n",
       " 'Casciano Memorial Bridge',\n",
       " ' State Highway 33',\n",
       " 'US-183 N',\n",
       " ' Liberty Rd',\n",
       " ' Nicholson Dr',\n",
       " ' N Kings Hwy',\n",
       " ' State Highway 29',\n",
       " ' Wells Branch Pkwy',\n",
       " ' Gallatin Pike N',\n",
       " 'Blanding Blvd',\n",
       " 'Snapper Creek Expy W',\n",
       " 'S Freeway N',\n",
       " 'CA-20',\n",
       " ' 1st St',\n",
       " ' The Old Rd',\n",
       " ' Pelham Rd',\n",
       " ' Highway 14 E',\n",
       " 'US-191 N',\n",
       " 'NJ-440 N',\n",
       " 'Coronado Fwy W',\n",
       " 'US-395 N',\n",
       " ' N Dupont Hwy',\n",
       " 'Governor Mario M. Cuomo Bridge',\n",
       " 'CA-73 S',\n",
       " ' Avalon Blvd',\n",
       " 'CA-79 S',\n",
       " 'TX-71 W',\n",
       " ' W Highway 98',\n",
       " ' San Pablo Dam Rd',\n",
       " ' Orange Ave NE',\n",
       " 'US-287 N',\n",
       " ' W Grand Ave',\n",
       " 'CT-72 E',\n",
       " ' Lafayette St',\n",
       " ' W Market St',\n",
       " ' Lebanon Pike',\n",
       " ' S Santa Fe Ave',\n",
       " 'US-70 W',\n",
       " ' N Graham St',\n",
       " ' E Slauson Ave',\n",
       " ' Westwood Blvd',\n",
       " 'E Colonial Dr',\n",
       " ' Old Bridge Rd',\n",
       " ' S Normandie Ave',\n",
       " ' State Highway 60',\n",
       " ' Katy Fwy',\n",
       " ' Pearblossom Hwy',\n",
       " ' US Highway 285',\n",
       " 'Kenilworth Ave N',\n",
       " 'W Jackson St',\n",
       " ' Bolsa Rd',\n",
       " ' N Dean Rd',\n",
       " ' Old Stage Rd',\n",
       " ' W Manchester Ave',\n",
       " ' Bonny Oaks Dr',\n",
       " ' Bellaire Blvd',\n",
       " ' S Highway 14',\n",
       " ' Bradshaw Rd',\n",
       " ' Route 22',\n",
       " ' State Highway 140',\n",
       " ' Temescal Canyon Rd',\n",
       " ' W Germantown Pike',\n",
       " ' US Highway 101 N',\n",
       " 'Warren Fwy N',\n",
       " 'I-235 E',\n",
       " ' 3rd St',\n",
       " 'Sprain Brook Pkwy S',\n",
       " 'US-20 E',\n",
       " ' North Fwy',\n",
       " ' W Los Angeles Ave',\n",
       " 'Nimitz Fwy S',\n",
       " ' Hixson Pike',\n",
       " ' W Parmer Ln',\n",
       " 'State Highway 299',\n",
       " ' Johnston Rd',\n",
       " ' Monroe Ave',\n",
       " 'N Claiborne Ave',\n",
       " ' S Pacific Hwy W',\n",
       " 'NW 27th Pl',\n",
       " ' Nogales St',\n",
       " 'US-322 E',\n",
       " 'NW 67th Ave',\n",
       " 'I-285 N',\n",
       " ' Cabrillo Hwy',\n",
       " ' James Madison Pkwy',\n",
       " 'E 4th St',\n",
       " ...]"
      ]
     },
     "execution_count": 24,
     "metadata": {},
     "output_type": "execute_result"
    }
   ],
   "source": [
    "list(street_count[street_count<20].index)"
   ]
  },
  {
   "cell_type": "code",
   "execution_count": 25,
   "id": "f7f74f4f",
   "metadata": {
    "scrolled": false
   },
   "outputs": [
    {
     "data": {
      "text/plain": [
       "Other                      30868\n",
       "I-5 N                        702\n",
       "I-95 N                       694\n",
       "I-95 S                       664\n",
       "I-5 S                        534\n",
       "                           ...  \n",
       " Turkey Lake Rd               20\n",
       " Florence Ave                 20\n",
       "I-376 E                       20\n",
       "VA Beach Norfolk Expy W       20\n",
       " NW 72nd Ave                  20\n",
       "Name: Street, Length: 280, dtype: int64"
      ]
     },
     "execution_count": 25,
     "metadata": {},
     "output_type": "execute_result"
    }
   ],
   "source": [
    "# Determine which values to replace if counts are less than ...? less than 20\n",
    "replace_street = list(street_count[street_count<20].index)\n",
    "\n",
    "# Replace in dataframe\n",
    "for street in replace_street:\n",
    "    accident_df.Street = accident_df.Street.replace(street,\"Other\")\n",
    "    \n",
    "# Check to make sure binning was successful\n",
    "accident_df.Street.value_counts()"
   ]
  },
  {
   "cell_type": "code",
   "execution_count": null,
   "id": "8287ec9c",
   "metadata": {
    "scrolled": false
   },
   "outputs": [],
   "source": []
  },
  {
   "cell_type": "code",
   "execution_count": null,
   "id": "75d77d39",
   "metadata": {
    "scrolled": false
   },
   "outputs": [],
   "source": []
  },
  {
   "cell_type": "code",
   "execution_count": 26,
   "id": "60a30c9f",
   "metadata": {
    "scrolled": false
   },
   "outputs": [],
   "source": [
    "# accident_df.to_csv('C:/Users/Helanga/Desktop/THe_Final_Project_Data_Visualization/DataFile/mock_accident_Cleaneddata.csv', sep=',',encoding='utf-8',header='true')"
   ]
  },
  {
   "cell_type": "code",
   "execution_count": 27,
   "id": "10e75b33",
   "metadata": {
    "scrolled": false
   },
   "outputs": [],
   "source": [
    "#replace all bollean values to integer\n",
    "accident_df.replace({False: 0, True: 1}, inplace=True)"
   ]
  },
  {
   "cell_type": "code",
   "execution_count": 28,
   "id": "3a1b25ff",
   "metadata": {
    "scrolled": false
   },
   "outputs": [
    {
     "data": {
      "text/plain": [
       "Severity               int64\n",
       "Start_Lat            float64\n",
       "Start_Lng            float64\n",
       "Distance(mi)         float64\n",
       "Street                object\n",
       "Side                  object\n",
       "City                  object\n",
       "County                object\n",
       "State                 object\n",
       "Timezone              object\n",
       "Temperature(F)       float64\n",
       "Wind_Chill(F)        float64\n",
       "Humidity(%)          float64\n",
       "Pressure(in)         float64\n",
       "Visibility(mi)       float64\n",
       "Wind_Direction        object\n",
       "Wind_Speed(mph)      float64\n",
       "Precipitation(in)    float64\n",
       "Weather_Condition     object\n",
       "Amenity                int64\n",
       "Bump                   int64\n",
       "Crossing               int64\n",
       "Give_Way               int64\n",
       "Junction               int64\n",
       "No_Exit                int64\n",
       "Railway                int64\n",
       "Roundabout             int64\n",
       "Station                int64\n",
       "Stop                   int64\n",
       "Traffic_Calming        int64\n",
       "Traffic_Signal         int64\n",
       "Turning_Loop           int64\n",
       "Sunrise_Sunset        object\n",
       "Year                   int64\n",
       "Month                 object\n",
       "Day                    int64\n",
       "Hour                   int64\n",
       "Weekday               object\n",
       "time_duration        float64\n",
       "dtype: object"
      ]
     },
     "execution_count": 28,
     "metadata": {},
     "output_type": "execute_result"
    }
   ],
   "source": [
    "accident_df.dtypes"
   ]
  },
  {
   "cell_type": "code",
   "execution_count": 29,
   "id": "b7e1c8aa",
   "metadata": {
    "scrolled": false
   },
   "outputs": [
    {
     "data": {
      "text/plain": [
       "2    46633\n",
       "3     1433\n",
       "4     1381\n",
       "1      553\n",
       "Name: Severity, dtype: int64"
      ]
     },
     "execution_count": 29,
     "metadata": {},
     "output_type": "execute_result"
    }
   ],
   "source": [
    "# check Severity column\n",
    "accident_df['Severity'].value_counts()"
   ]
  },
  {
   "cell_type": "markdown",
   "id": "f84e5ea0",
   "metadata": {},
   "source": [
    "#### converting the string values into numerical ones using label encoder"
   ]
  },
  {
   "cell_type": "code",
   "execution_count": 30,
   "id": "d355f475",
   "metadata": {
    "scrolled": false
   },
   "outputs": [
    {
     "data": {
      "text/plain": [
       "Index(['Street', 'Side', 'City', 'County', 'State', 'Timezone',\n",
       "       'Wind_Direction', 'Weather_Condition', 'Sunrise_Sunset', 'Month',\n",
       "       'Weekday'],\n",
       "      dtype='object')"
      ]
     },
     "execution_count": 30,
     "metadata": {},
     "output_type": "execute_result"
    }
   ],
   "source": [
    "# To see which columns have categorical value columns\n",
    "X_cat = accident_df.select_dtypes(include='object').columns\n",
    "X_cat"
   ]
  },
  {
   "cell_type": "code",
   "execution_count": 31,
   "id": "515a7b7a",
   "metadata": {
    "scrolled": false
   },
   "outputs": [
    {
     "name": "stdout",
     "output_type": "stream",
     "text": [
      "Street \n",
      " Other                      30868\n",
      "I-5 N                        702\n",
      "I-95 N                       694\n",
      "I-95 S                       664\n",
      "I-5 S                        534\n",
      "                           ...  \n",
      " Turkey Lake Rd               20\n",
      " Florence Ave                 20\n",
      "I-376 E                       20\n",
      "VA Beach Norfolk Expy W       20\n",
      " NW 72nd Ave                  20\n",
      "Name: Street, Length: 280, dtype: int64\n",
      "--------------------------------------\n",
      "Side \n",
      " R    40519\n",
      "L     9481\n",
      "Name: Side, dtype: int64\n",
      "--------------------------------------\n",
      "City \n",
      " Miami              2364\n",
      "Los Angeles        1268\n",
      "Orlando            1117\n",
      "Dallas              735\n",
      "Houston             639\n",
      "                   ... \n",
      "Foxboro               1\n",
      "Nazareth              1\n",
      "Hettinger             1\n",
      "Toney                 1\n",
      "Battle Mountain       1\n",
      "Name: City, Length: 4683, dtype: int64\n",
      "--------------------------------------\n",
      "County \n",
      " Los Angeles       3679\n",
      "Miami-Dade        3126\n",
      "Orange            2206\n",
      "San Bernardino    1019\n",
      "San Diego          866\n",
      "                  ... \n",
      "Huntington           1\n",
      "Waller               1\n",
      "Person               1\n",
      "Laclede              1\n",
      "Lander               1\n",
      "Name: County, Length: 989, dtype: int64\n",
      "--------------------------------------\n",
      "State \n",
      " CA    13597\n",
      "FL     8105\n",
      "TX     2421\n",
      "OR     2232\n",
      "VA     2088\n",
      "PA     2000\n",
      "SC     1921\n",
      "MN     1873\n",
      "NY     1825\n",
      "NC     1662\n",
      "TN     1070\n",
      "LA     1010\n",
      "AZ      945\n",
      "MD      943\n",
      "NJ      886\n",
      "UT      807\n",
      "MI      711\n",
      "CT      520\n",
      "GA      516\n",
      "IL      503\n",
      "WA      470\n",
      "MO      403\n",
      "AL      382\n",
      "CO      362\n",
      "MT      337\n",
      "OH      270\n",
      "IN      268\n",
      "AR      217\n",
      "IA      192\n",
      "DC      189\n",
      "ID      163\n",
      "OK      155\n",
      "WV      129\n",
      "KS      113\n",
      "MA       93\n",
      "MS       82\n",
      "KY       81\n",
      "DE       78\n",
      "NV       67\n",
      "WI       54\n",
      "NE       53\n",
      "NH       42\n",
      "ND       42\n",
      "NM       39\n",
      "RI       38\n",
      "ME       23\n",
      "WY       10\n",
      "VT        8\n",
      "SD        5\n",
      "Name: State, dtype: int64\n",
      "--------------------------------------\n",
      "Timezone \n",
      " US/Eastern     22386\n",
      "US/Pacific     16549\n",
      "US/Central      8344\n",
      "US/Mountain     2721\n",
      "Name: Timezone, dtype: int64\n",
      "--------------------------------------\n",
      "Wind_Direction \n",
      " CALM        9110\n",
      "S           3757\n",
      "W           3486\n",
      "E           2786\n",
      "WNW         2696\n",
      "N           2685\n",
      "NW          2562\n",
      "SSW         2387\n",
      "SSE         2325\n",
      "VAR         2301\n",
      "SW          2296\n",
      "WSW         2268\n",
      "NNW         2263\n",
      "SE          1968\n",
      "ENE         1877\n",
      "ESE         1845\n",
      "NE          1604\n",
      "NNE         1592\n",
      "North         54\n",
      "West          53\n",
      "South         43\n",
      "East          33\n",
      "Variable       9\n",
      "Name: Wind_Direction, dtype: int64\n",
      "--------------------------------------\n",
      "Weather_Condition \n",
      " Fair                       23385\n",
      "Cloudy                      7695\n",
      "Mostly Cloudy               6520\n",
      "Partly Cloudy               4459\n",
      "Light Rain                  2448\n",
      "                           ...  \n",
      "Scattered Clouds               1\n",
      "Thunderstorm                   1\n",
      "Freezing Drizzle               1\n",
      "Widespread Dust / Windy        1\n",
      "Sand / Dust Whirlwinds         1\n",
      "Name: Weather_Condition, Length: 70, dtype: int64\n",
      "--------------------------------------\n",
      "Sunrise_Sunset \n",
      " Day      31334\n",
      "Night    18666\n",
      "Name: Sunrise_Sunset, dtype: int64\n",
      "--------------------------------------\n",
      "Month \n",
      " Dec    8953\n",
      "Nov    6665\n",
      "Oct    5457\n",
      "Sep    4219\n",
      "Jun    4092\n",
      "May    3314\n",
      "Feb    3257\n",
      "Jan    3248\n",
      "Apr    2959\n",
      "Aug    2876\n",
      "Jul    2498\n",
      "Mar    2462\n",
      "Name: Month, dtype: int64\n",
      "--------------------------------------\n",
      "Weekday \n",
      " Fri    8788\n",
      "Thu    7855\n",
      "Wed    7813\n",
      "Tue    7517\n",
      "Mon    7080\n",
      "Sat    6066\n",
      "Sun    4881\n",
      "Name: Weekday, dtype: int64\n",
      "--------------------------------------\n"
     ]
    }
   ],
   "source": [
    "# examine all the columns\n",
    "for column in accident_df[X_cat]:\n",
    "    print(column,\"\\n\", accident_df[column].value_counts())\n",
    "    print(\"--------------------------------------\")"
   ]
  },
  {
   "cell_type": "code",
   "execution_count": 32,
   "id": "4e62d3a6",
   "metadata": {
    "scrolled": false
   },
   "outputs": [],
   "source": [
    "from sklearn.preprocessing import LabelEncoder\n",
    "#\n",
    "# Instantiate LabelEncoder\n",
    "#\n",
    "le = LabelEncoder()\n"
   ]
  },
  {
   "cell_type": "code",
   "execution_count": 33,
   "id": "1ae46f6c",
   "metadata": {
    "scrolled": false
   },
   "outputs": [],
   "source": [
    "# Encode single column Side\n",
    "#\n",
    "accident_df.Street = le.fit_transform(accident_df.Street)\n",
    "#\n",
    "# Print df.head for checking the transformatio"
   ]
  },
  {
   "cell_type": "code",
   "execution_count": 34,
   "id": "02565d00",
   "metadata": {
    "scrolled": false
   },
   "outputs": [
    {
     "data": {
      "text/plain": [
       "0        261\n",
       "1        261\n",
       "2        261\n",
       "3        249\n",
       "4          3\n",
       "        ... \n",
       "49995    148\n",
       "49996    229\n",
       "49997    261\n",
       "49998    261\n",
       "49999    261\n",
       "Name: Street, Length: 50000, dtype: int32"
      ]
     },
     "execution_count": 34,
     "metadata": {},
     "output_type": "execute_result"
    }
   ],
   "source": [
    "accident_df['Street']"
   ]
  },
  {
   "cell_type": "code",
   "execution_count": 35,
   "id": "02bc6f9d",
   "metadata": {
    "scrolled": false
   },
   "outputs": [
    {
     "name": "stdout",
     "output_type": "stream",
     "text": [
      "280\n"
     ]
    }
   ],
   "source": [
    "print(accident_df['Street'].nunique())"
   ]
  },
  {
   "cell_type": "code",
   "execution_count": 36,
   "id": "38370f0d",
   "metadata": {
    "scrolled": false
   },
   "outputs": [],
   "source": [
    "# Encode single column Side\n",
    "#\n",
    "accident_df.Side = le.fit_transform(accident_df.Side)\n",
    "#\n",
    "# Print df.head for checking the transformation"
   ]
  },
  {
   "cell_type": "code",
   "execution_count": 37,
   "id": "b7a194e2",
   "metadata": {
    "scrolled": false
   },
   "outputs": [
    {
     "data": {
      "text/plain": [
       "0        1\n",
       "1        1\n",
       "2        1\n",
       "3        1\n",
       "4        0\n",
       "        ..\n",
       "49995    1\n",
       "49996    1\n",
       "49997    1\n",
       "49998    1\n",
       "49999    1\n",
       "Name: Side, Length: 50000, dtype: int32"
      ]
     },
     "execution_count": 37,
     "metadata": {},
     "output_type": "execute_result"
    }
   ],
   "source": [
    "accident_df['Side']"
   ]
  },
  {
   "cell_type": "code",
   "execution_count": 38,
   "id": "9a135671",
   "metadata": {
    "scrolled": false
   },
   "outputs": [],
   "source": [
    "# Encode single column City\n",
    "#\n",
    "accident_df.City = le.fit_transform(accident_df.City)\n",
    "#\n",
    "# Print df.head for checking the transformation"
   ]
  },
  {
   "cell_type": "code",
   "execution_count": 39,
   "id": "244cf796",
   "metadata": {
    "scrolled": false
   },
   "outputs": [
    {
     "data": {
      "text/plain": [
       "0         552\n",
       "1        3500\n",
       "2        4126\n",
       "3        2672\n",
       "4         702\n",
       "         ... \n",
       "49995    2495\n",
       "49996     235\n",
       "49997    2834\n",
       "49998    1910\n",
       "49999    3094\n",
       "Name: City, Length: 50000, dtype: int32"
      ]
     },
     "execution_count": 39,
     "metadata": {},
     "output_type": "execute_result"
    }
   ],
   "source": [
    "accident_df['City']"
   ]
  },
  {
   "cell_type": "code",
   "execution_count": 40,
   "id": "67745ba6",
   "metadata": {
    "scrolled": false
   },
   "outputs": [
    {
     "name": "stdout",
     "output_type": "stream",
     "text": [
      "4683\n"
     ]
    }
   ],
   "source": [
    "#accident_df['City'].unique().value_counts\n",
    "print(accident_df['City'].nunique())"
   ]
  },
  {
   "cell_type": "code",
   "execution_count": 41,
   "id": "1b63c1b6",
   "metadata": {
    "scrolled": false
   },
   "outputs": [],
   "source": [
    "# Encode single column County\n",
    "#\n",
    "accident_df.County = le.fit_transform(accident_df.County)\n",
    "#\n",
    "# Print df.head for checking the transformation"
   ]
  },
  {
   "cell_type": "code",
   "execution_count": 42,
   "id": "7f06a65f",
   "metadata": {
    "scrolled": false
   },
   "outputs": [
    {
     "data": {
      "text/plain": [
       "0        460\n",
       "1        400\n",
       "2        541\n",
       "3        399\n",
       "4        560\n",
       "        ... \n",
       "49995    681\n",
       "49996    487\n",
       "49997    237\n",
       "49998    414\n",
       "49999    646\n",
       "Name: County, Length: 50000, dtype: int32"
      ]
     },
     "execution_count": 42,
     "metadata": {},
     "output_type": "execute_result"
    }
   ],
   "source": [
    "accident_df['County']"
   ]
  },
  {
   "cell_type": "code",
   "execution_count": 43,
   "id": "5082acb0",
   "metadata": {
    "scrolled": false
   },
   "outputs": [
    {
     "name": "stdout",
     "output_type": "stream",
     "text": [
      "989\n"
     ]
    }
   ],
   "source": [
    "print(accident_df['County'].nunique())"
   ]
  },
  {
   "cell_type": "code",
   "execution_count": 44,
   "id": "df784171",
   "metadata": {
    "scrolled": false
   },
   "outputs": [],
   "source": [
    "# Encode single column State\n",
    "#\n",
    "accident_df.State = le.fit_transform(accident_df.State)\n",
    "#\n",
    "# Print df.head for checking the transformation"
   ]
  },
  {
   "cell_type": "code",
   "execution_count": 45,
   "id": "995ab438",
   "metadata": {
    "scrolled": false
   },
   "outputs": [
    {
     "data": {
      "text/plain": [
       "0        20\n",
       "1        43\n",
       "2         2\n",
       "3        21\n",
       "4        25\n",
       "         ..\n",
       "49995     2\n",
       "49996    31\n",
       "49997    40\n",
       "49998    21\n",
       "49999     8\n",
       "Name: State, Length: 50000, dtype: int32"
      ]
     },
     "execution_count": 45,
     "metadata": {},
     "output_type": "execute_result"
    }
   ],
   "source": [
    "accident_df['State']"
   ]
  },
  {
   "cell_type": "code",
   "execution_count": 46,
   "id": "1e890226",
   "metadata": {
    "scrolled": false
   },
   "outputs": [],
   "source": [
    "# Encode single column Timezone \n",
    "#\n",
    "accident_df.Timezone  = le.fit_transform(accident_df.Timezone)\n",
    "#\n",
    "# Print df.head for checking the transformation"
   ]
  },
  {
   "cell_type": "code",
   "execution_count": 47,
   "id": "01b31f54",
   "metadata": {
    "scrolled": false
   },
   "outputs": [
    {
     "data": {
      "text/plain": [
       "0        1\n",
       "1        1\n",
       "2        2\n",
       "3        0\n",
       "4        1\n",
       "        ..\n",
       "49995    2\n",
       "49996    3\n",
       "49997    0\n",
       "49998    0\n",
       "49999    1\n",
       "Name: Timezone, Length: 50000, dtype: int32"
      ]
     },
     "execution_count": 47,
     "metadata": {},
     "output_type": "execute_result"
    }
   ],
   "source": [
    "accident_df['Timezone']"
   ]
  },
  {
   "cell_type": "code",
   "execution_count": 48,
   "id": "ed789fb5",
   "metadata": {
    "scrolled": false
   },
   "outputs": [],
   "source": [
    "# Encode single column Wind_Direction \n",
    "#\n",
    "accident_df.Wind_Direction  = le.fit_transform(accident_df.Wind_Direction)\n",
    "#\n",
    "# Print df.head for checking the transformation"
   ]
  },
  {
   "cell_type": "code",
   "execution_count": 49,
   "id": "0c7e2b14",
   "metadata": {
    "scrolled": false
   },
   "outputs": [
    {
     "data": {
      "text/plain": [
       "0        12\n",
       "1        11\n",
       "2        14\n",
       "3         7\n",
       "4        15\n",
       "         ..\n",
       "49995    19\n",
       "49996    20\n",
       "49997    11\n",
       "49998    20\n",
       "49999    11\n",
       "Name: Wind_Direction, Length: 50000, dtype: int32"
      ]
     },
     "execution_count": 49,
     "metadata": {},
     "output_type": "execute_result"
    }
   ],
   "source": [
    "accident_df['Wind_Direction']"
   ]
  },
  {
   "cell_type": "code",
   "execution_count": 50,
   "id": "f68f954e",
   "metadata": {
    "scrolled": false
   },
   "outputs": [],
   "source": [
    "# Encode single column Weather_Condition \n",
    "#\n",
    "accident_df.Weather_Condition  = le.fit_transform(accident_df.Weather_Condition)\n",
    "#\n",
    "# Print df.head for checking the transformation"
   ]
  },
  {
   "cell_type": "code",
   "execution_count": 51,
   "id": "4e9b8523",
   "metadata": {
    "scrolled": false
   },
   "outputs": [
    {
     "data": {
      "text/plain": [
       "0        47\n",
       "1         9\n",
       "2        40\n",
       "3        35\n",
       "4        40\n",
       "         ..\n",
       "49995     9\n",
       "49996     9\n",
       "49997     5\n",
       "49998     9\n",
       "49999    44\n",
       "Name: Weather_Condition, Length: 50000, dtype: int32"
      ]
     },
     "execution_count": 51,
     "metadata": {},
     "output_type": "execute_result"
    }
   ],
   "source": [
    "accident_df['Weather_Condition']"
   ]
  },
  {
   "cell_type": "code",
   "execution_count": 52,
   "id": "14fd67c3",
   "metadata": {
    "scrolled": false
   },
   "outputs": [],
   "source": [
    "# Encode single column Sunrise_Sunset \n",
    "#\n",
    "accident_df.Sunrise_Sunset  = le.fit_transform(accident_df.Sunrise_Sunset)\n",
    "#\n",
    "# Print df.head for checking the transformation"
   ]
  },
  {
   "cell_type": "code",
   "execution_count": 53,
   "id": "ea355e37",
   "metadata": {
    "scrolled": false
   },
   "outputs": [
    {
     "data": {
      "text/plain": [
       "0        0\n",
       "1        0\n",
       "2        1\n",
       "3        1\n",
       "4        0\n",
       "        ..\n",
       "49995    0\n",
       "49996    1\n",
       "49997    0\n",
       "49998    1\n",
       "49999    1\n",
       "Name: Sunrise_Sunset, Length: 50000, dtype: int32"
      ]
     },
     "execution_count": 53,
     "metadata": {},
     "output_type": "execute_result"
    }
   ],
   "source": [
    "accident_df['Sunrise_Sunset']"
   ]
  },
  {
   "cell_type": "code",
   "execution_count": 54,
   "id": "ecf029f3",
   "metadata": {
    "scrolled": false
   },
   "outputs": [],
   "source": [
    "# Encode single column Day \n",
    "#\n",
    "accident_df.Weekday  = le.fit_transform(accident_df.Weekday)\n",
    "#\n",
    "# Print df.head for checking the transformation"
   ]
  },
  {
   "cell_type": "code",
   "execution_count": 55,
   "id": "6c3e8c05",
   "metadata": {
    "scrolled": false
   },
   "outputs": [
    {
     "data": {
      "text/plain": [
       "0        4\n",
       "1        1\n",
       "2        3\n",
       "3        2\n",
       "4        6\n",
       "        ..\n",
       "49995    0\n",
       "49996    0\n",
       "49997    0\n",
       "49998    4\n",
       "49999    0\n",
       "Name: Weekday, Length: 50000, dtype: int32"
      ]
     },
     "execution_count": 55,
     "metadata": {},
     "output_type": "execute_result"
    }
   ],
   "source": [
    "accident_df['Weekday']"
   ]
  },
  {
   "cell_type": "code",
   "execution_count": 56,
   "id": "5e0241c2",
   "metadata": {},
   "outputs": [],
   "source": [
    "# Encode single column Day \n",
    "#\n",
    "accident_df.Month  = le.fit_transform(accident_df.Month)\n",
    "#\n",
    "# Print df.head for checking the transformation"
   ]
  },
  {
   "cell_type": "code",
   "execution_count": 57,
   "id": "3fc06685",
   "metadata": {},
   "outputs": [
    {
     "data": {
      "text/plain": [
       "0         2\n",
       "1         7\n",
       "2         0\n",
       "3         2\n",
       "4         8\n",
       "         ..\n",
       "49995     3\n",
       "49996    10\n",
       "49997     2\n",
       "49998     4\n",
       "49999    10\n",
       "Name: Month, Length: 50000, dtype: int32"
      ]
     },
     "execution_count": 57,
     "metadata": {},
     "output_type": "execute_result"
    }
   ],
   "source": [
    "accident_df['Month']"
   ]
  },
  {
   "cell_type": "code",
   "execution_count": 58,
   "id": "22cf540c",
   "metadata": {
    "scrolled": false
   },
   "outputs": [
    {
     "data": {
      "text/plain": [
       "Severity               int64\n",
       "Start_Lat            float64\n",
       "Start_Lng            float64\n",
       "Distance(mi)         float64\n",
       "Street                 int32\n",
       "Side                   int32\n",
       "City                   int32\n",
       "County                 int32\n",
       "State                  int32\n",
       "Timezone               int32\n",
       "Temperature(F)       float64\n",
       "Wind_Chill(F)        float64\n",
       "Humidity(%)          float64\n",
       "Pressure(in)         float64\n",
       "Visibility(mi)       float64\n",
       "Wind_Direction         int32\n",
       "Wind_Speed(mph)      float64\n",
       "Precipitation(in)    float64\n",
       "Weather_Condition      int32\n",
       "Amenity                int64\n",
       "Bump                   int64\n",
       "Crossing               int64\n",
       "Give_Way               int64\n",
       "Junction               int64\n",
       "No_Exit                int64\n",
       "Railway                int64\n",
       "Roundabout             int64\n",
       "Station                int64\n",
       "Stop                   int64\n",
       "Traffic_Calming        int64\n",
       "Traffic_Signal         int64\n",
       "Turning_Loop           int64\n",
       "Sunrise_Sunset         int32\n",
       "Year                   int64\n",
       "Month                  int32\n",
       "Day                    int64\n",
       "Hour                   int64\n",
       "Weekday                int32\n",
       "time_duration        float64\n",
       "dtype: object"
      ]
     },
     "execution_count": 58,
     "metadata": {},
     "output_type": "execute_result"
    }
   ],
   "source": [
    "accident_df.dtypes"
   ]
  },
  {
   "cell_type": "markdown",
   "id": "c9e3ef2b",
   "metadata": {},
   "source": [
    "#### Split the Data into Training and Testing"
   ]
  },
  {
   "cell_type": "code",
   "execution_count": 59,
   "id": "c0c81722",
   "metadata": {
    "scrolled": false
   },
   "outputs": [
    {
     "data": {
      "text/html": [
       "<div>\n",
       "<style scoped>\n",
       "    .dataframe tbody tr th:only-of-type {\n",
       "        vertical-align: middle;\n",
       "    }\n",
       "\n",
       "    .dataframe tbody tr th {\n",
       "        vertical-align: top;\n",
       "    }\n",
       "\n",
       "    .dataframe thead th {\n",
       "        text-align: right;\n",
       "    }\n",
       "</style>\n",
       "<table border=\"1\" class=\"dataframe\">\n",
       "  <thead>\n",
       "    <tr style=\"text-align: right;\">\n",
       "      <th></th>\n",
       "      <th>Start_Lat</th>\n",
       "      <th>Start_Lng</th>\n",
       "      <th>Distance(mi)</th>\n",
       "      <th>Street</th>\n",
       "      <th>Side</th>\n",
       "      <th>City</th>\n",
       "      <th>County</th>\n",
       "      <th>State</th>\n",
       "      <th>Timezone</th>\n",
       "      <th>Temperature(F)</th>\n",
       "      <th>...</th>\n",
       "      <th>Traffic_Calming</th>\n",
       "      <th>Traffic_Signal</th>\n",
       "      <th>Turning_Loop</th>\n",
       "      <th>Sunrise_Sunset</th>\n",
       "      <th>Year</th>\n",
       "      <th>Month</th>\n",
       "      <th>Day</th>\n",
       "      <th>Hour</th>\n",
       "      <th>Weekday</th>\n",
       "      <th>time_duration</th>\n",
       "    </tr>\n",
       "  </thead>\n",
       "  <tbody>\n",
       "    <tr>\n",
       "      <th>0</th>\n",
       "      <td>42.852850</td>\n",
       "      <td>-85.530930</td>\n",
       "      <td>0.968</td>\n",
       "      <td>261</td>\n",
       "      <td>1</td>\n",
       "      <td>552</td>\n",
       "      <td>460</td>\n",
       "      <td>20</td>\n",
       "      <td>1</td>\n",
       "      <td>41.0</td>\n",
       "      <td>...</td>\n",
       "      <td>0</td>\n",
       "      <td>0</td>\n",
       "      <td>0</td>\n",
       "      <td>0</td>\n",
       "      <td>2018</td>\n",
       "      <td>2</td>\n",
       "      <td>27</td>\n",
       "      <td>15</td>\n",
       "      <td>4</td>\n",
       "      <td>29.0</td>\n",
       "    </tr>\n",
       "    <tr>\n",
       "      <th>1</th>\n",
       "      <td>37.605350</td>\n",
       "      <td>-77.455000</td>\n",
       "      <td>0.000</td>\n",
       "      <td>261</td>\n",
       "      <td>1</td>\n",
       "      <td>3500</td>\n",
       "      <td>400</td>\n",
       "      <td>43</td>\n",
       "      <td>1</td>\n",
       "      <td>64.0</td>\n",
       "      <td>...</td>\n",
       "      <td>0</td>\n",
       "      <td>0</td>\n",
       "      <td>0</td>\n",
       "      <td>0</td>\n",
       "      <td>2020</td>\n",
       "      <td>7</td>\n",
       "      <td>30</td>\n",
       "      <td>11</td>\n",
       "      <td>1</td>\n",
       "      <td>30.0</td>\n",
       "    </tr>\n",
       "    <tr>\n",
       "      <th>2</th>\n",
       "      <td>33.385630</td>\n",
       "      <td>-111.895600</td>\n",
       "      <td>0.000</td>\n",
       "      <td>261</td>\n",
       "      <td>1</td>\n",
       "      <td>4126</td>\n",
       "      <td>541</td>\n",
       "      <td>2</td>\n",
       "      <td>2</td>\n",
       "      <td>73.0</td>\n",
       "      <td>...</td>\n",
       "      <td>0</td>\n",
       "      <td>0</td>\n",
       "      <td>0</td>\n",
       "      <td>1</td>\n",
       "      <td>2020</td>\n",
       "      <td>0</td>\n",
       "      <td>19</td>\n",
       "      <td>22</td>\n",
       "      <td>3</td>\n",
       "      <td>30.0</td>\n",
       "    </tr>\n",
       "    <tr>\n",
       "      <th>3</th>\n",
       "      <td>44.969210</td>\n",
       "      <td>-93.287802</td>\n",
       "      <td>0.583</td>\n",
       "      <td>249</td>\n",
       "      <td>1</td>\n",
       "      <td>2672</td>\n",
       "      <td>399</td>\n",
       "      <td>21</td>\n",
       "      <td>0</td>\n",
       "      <td>18.0</td>\n",
       "      <td>...</td>\n",
       "      <td>0</td>\n",
       "      <td>1</td>\n",
       "      <td>0</td>\n",
       "      <td>1</td>\n",
       "      <td>2021</td>\n",
       "      <td>2</td>\n",
       "      <td>18</td>\n",
       "      <td>3</td>\n",
       "      <td>2</td>\n",
       "      <td>121.0</td>\n",
       "    </tr>\n",
       "    <tr>\n",
       "      <th>4</th>\n",
       "      <td>35.215672</td>\n",
       "      <td>-80.782154</td>\n",
       "      <td>0.111</td>\n",
       "      <td>3</td>\n",
       "      <td>0</td>\n",
       "      <td>702</td>\n",
       "      <td>560</td>\n",
       "      <td>25</td>\n",
       "      <td>1</td>\n",
       "      <td>92.0</td>\n",
       "      <td>...</td>\n",
       "      <td>0</td>\n",
       "      <td>0</td>\n",
       "      <td>0</td>\n",
       "      <td>0</td>\n",
       "      <td>2021</td>\n",
       "      <td>8</td>\n",
       "      <td>26</td>\n",
       "      <td>14</td>\n",
       "      <td>6</td>\n",
       "      <td>124.0</td>\n",
       "    </tr>\n",
       "  </tbody>\n",
       "</table>\n",
       "<p>5 rows × 38 columns</p>\n",
       "</div>"
      ],
      "text/plain": [
       "   Start_Lat   Start_Lng  Distance(mi)  Street  Side  City  County  State  \\\n",
       "0  42.852850  -85.530930         0.968     261     1   552     460     20   \n",
       "1  37.605350  -77.455000         0.000     261     1  3500     400     43   \n",
       "2  33.385630 -111.895600         0.000     261     1  4126     541      2   \n",
       "3  44.969210  -93.287802         0.583     249     1  2672     399     21   \n",
       "4  35.215672  -80.782154         0.111       3     0   702     560     25   \n",
       "\n",
       "   Timezone  Temperature(F)  ...  Traffic_Calming  Traffic_Signal  \\\n",
       "0         1            41.0  ...                0               0   \n",
       "1         1            64.0  ...                0               0   \n",
       "2         2            73.0  ...                0               0   \n",
       "3         0            18.0  ...                0               1   \n",
       "4         1            92.0  ...                0               0   \n",
       "\n",
       "   Turning_Loop  Sunrise_Sunset  Year  Month  Day  Hour  Weekday  \\\n",
       "0             0               0  2018      2   27    15        4   \n",
       "1             0               0  2020      7   30    11        1   \n",
       "2             0               1  2020      0   19    22        3   \n",
       "3             0               1  2021      2   18     3        2   \n",
       "4             0               0  2021      8   26    14        6   \n",
       "\n",
       "   time_duration  \n",
       "0           29.0  \n",
       "1           30.0  \n",
       "2           30.0  \n",
       "3          121.0  \n",
       "4          124.0  \n",
       "\n",
       "[5 rows x 38 columns]"
      ]
     },
     "execution_count": 59,
     "metadata": {},
     "output_type": "execute_result"
    }
   ],
   "source": [
    "# Create our features\n",
    "X = accident_df.drop(\"Severity\",axis=1) \n",
    "X.head()"
   ]
  },
  {
   "cell_type": "code",
   "execution_count": 60,
   "id": "216c2b01",
   "metadata": {
    "scrolled": false
   },
   "outputs": [
    {
     "data": {
      "text/html": [
       "<div>\n",
       "<style scoped>\n",
       "    .dataframe tbody tr th:only-of-type {\n",
       "        vertical-align: middle;\n",
       "    }\n",
       "\n",
       "    .dataframe tbody tr th {\n",
       "        vertical-align: top;\n",
       "    }\n",
       "\n",
       "    .dataframe thead th {\n",
       "        text-align: right;\n",
       "    }\n",
       "</style>\n",
       "<table border=\"1\" class=\"dataframe\">\n",
       "  <thead>\n",
       "    <tr style=\"text-align: right;\">\n",
       "      <th></th>\n",
       "      <th>Start_Lat</th>\n",
       "      <th>Start_Lng</th>\n",
       "      <th>Distance(mi)</th>\n",
       "      <th>Street</th>\n",
       "      <th>Side</th>\n",
       "      <th>City</th>\n",
       "      <th>County</th>\n",
       "      <th>State</th>\n",
       "      <th>Timezone</th>\n",
       "      <th>Temperature(F)</th>\n",
       "      <th>...</th>\n",
       "      <th>Traffic_Calming</th>\n",
       "      <th>Traffic_Signal</th>\n",
       "      <th>Turning_Loop</th>\n",
       "      <th>Sunrise_Sunset</th>\n",
       "      <th>Year</th>\n",
       "      <th>Month</th>\n",
       "      <th>Day</th>\n",
       "      <th>Hour</th>\n",
       "      <th>Weekday</th>\n",
       "      <th>time_duration</th>\n",
       "    </tr>\n",
       "  </thead>\n",
       "  <tbody>\n",
       "    <tr>\n",
       "      <th>count</th>\n",
       "      <td>50000.000000</td>\n",
       "      <td>50000.000000</td>\n",
       "      <td>50000.000000</td>\n",
       "      <td>50000.000000</td>\n",
       "      <td>50000.000000</td>\n",
       "      <td>50000.000000</td>\n",
       "      <td>50000.000000</td>\n",
       "      <td>50000.000000</td>\n",
       "      <td>50000.000000</td>\n",
       "      <td>50000.000000</td>\n",
       "      <td>...</td>\n",
       "      <td>50000.000000</td>\n",
       "      <td>50000.000000</td>\n",
       "      <td>50000.0</td>\n",
       "      <td>50000.000000</td>\n",
       "      <td>50000.000000</td>\n",
       "      <td>50000.00000</td>\n",
       "      <td>50000.000000</td>\n",
       "      <td>50000.000000</td>\n",
       "      <td>50000.000000</td>\n",
       "      <td>50000.00000</td>\n",
       "    </tr>\n",
       "    <tr>\n",
       "      <th>mean</th>\n",
       "      <td>35.960047</td>\n",
       "      <td>-96.577087</td>\n",
       "      <td>0.693420</td>\n",
       "      <td>224.700060</td>\n",
       "      <td>0.810380</td>\n",
       "      <td>2381.384340</td>\n",
       "      <td>529.069920</td>\n",
       "      <td>18.188840</td>\n",
       "      <td>1.549500</td>\n",
       "      <td>61.935894</td>\n",
       "      <td>...</td>\n",
       "      <td>0.000760</td>\n",
       "      <td>0.097980</td>\n",
       "      <td>0.0</td>\n",
       "      <td>0.373320</td>\n",
       "      <td>2020.530420</td>\n",
       "      <td>5.70594</td>\n",
       "      <td>16.217660</td>\n",
       "      <td>12.881380</td>\n",
       "      <td>2.994760</td>\n",
       "      <td>319.40340</td>\n",
       "    </tr>\n",
       "    <tr>\n",
       "      <th>std</th>\n",
       "      <td>5.502761</td>\n",
       "      <td>18.254669</td>\n",
       "      <td>1.425562</td>\n",
       "      <td>64.227333</td>\n",
       "      <td>0.392004</td>\n",
       "      <td>1279.966268</td>\n",
       "      <td>241.238326</td>\n",
       "      <td>15.135792</td>\n",
       "      <td>1.115031</td>\n",
       "      <td>18.523858</td>\n",
       "      <td>...</td>\n",
       "      <td>0.027558</td>\n",
       "      <td>0.297291</td>\n",
       "      <td>0.0</td>\n",
       "      <td>0.483691</td>\n",
       "      <td>0.723744</td>\n",
       "      <td>3.55149</td>\n",
       "      <td>8.681357</td>\n",
       "      <td>5.901204</td>\n",
       "      <td>2.105807</td>\n",
       "      <td>8459.43657</td>\n",
       "    </tr>\n",
       "    <tr>\n",
       "      <th>min</th>\n",
       "      <td>24.574762</td>\n",
       "      <td>-124.495510</td>\n",
       "      <td>0.000000</td>\n",
       "      <td>0.000000</td>\n",
       "      <td>0.000000</td>\n",
       "      <td>0.000000</td>\n",
       "      <td>0.000000</td>\n",
       "      <td>0.000000</td>\n",
       "      <td>0.000000</td>\n",
       "      <td>-25.000000</td>\n",
       "      <td>...</td>\n",
       "      <td>0.000000</td>\n",
       "      <td>0.000000</td>\n",
       "      <td>0.0</td>\n",
       "      <td>0.000000</td>\n",
       "      <td>2016.000000</td>\n",
       "      <td>0.00000</td>\n",
       "      <td>1.000000</td>\n",
       "      <td>0.000000</td>\n",
       "      <td>0.000000</td>\n",
       "      <td>4.00000</td>\n",
       "    </tr>\n",
       "    <tr>\n",
       "      <th>25%</th>\n",
       "      <td>32.912523</td>\n",
       "      <td>-117.972069</td>\n",
       "      <td>0.047000</td>\n",
       "      <td>206.000000</td>\n",
       "      <td>1.000000</td>\n",
       "      <td>1312.000000</td>\n",
       "      <td>366.000000</td>\n",
       "      <td>3.000000</td>\n",
       "      <td>1.000000</td>\n",
       "      <td>50.000000</td>\n",
       "      <td>...</td>\n",
       "      <td>0.000000</td>\n",
       "      <td>0.000000</td>\n",
       "      <td>0.0</td>\n",
       "      <td>0.000000</td>\n",
       "      <td>2020.000000</td>\n",
       "      <td>2.00000</td>\n",
       "      <td>9.000000</td>\n",
       "      <td>8.000000</td>\n",
       "      <td>1.000000</td>\n",
       "      <td>73.00000</td>\n",
       "    </tr>\n",
       "    <tr>\n",
       "      <th>50%</th>\n",
       "      <td>35.604236</td>\n",
       "      <td>-90.533685</td>\n",
       "      <td>0.211000</td>\n",
       "      <td>261.000000</td>\n",
       "      <td>1.000000</td>\n",
       "      <td>2595.000000</td>\n",
       "      <td>560.000000</td>\n",
       "      <td>10.000000</td>\n",
       "      <td>1.000000</td>\n",
       "      <td>64.000000</td>\n",
       "      <td>...</td>\n",
       "      <td>0.000000</td>\n",
       "      <td>0.000000</td>\n",
       "      <td>0.0</td>\n",
       "      <td>0.000000</td>\n",
       "      <td>2021.000000</td>\n",
       "      <td>6.00000</td>\n",
       "      <td>16.000000</td>\n",
       "      <td>14.000000</td>\n",
       "      <td>3.000000</td>\n",
       "      <td>105.00000</td>\n",
       "    </tr>\n",
       "    <tr>\n",
       "      <th>75%</th>\n",
       "      <td>40.047596</td>\n",
       "      <td>-80.333664</td>\n",
       "      <td>0.782000</td>\n",
       "      <td>261.000000</td>\n",
       "      <td>1.000000</td>\n",
       "      <td>3455.000000</td>\n",
       "      <td>717.000000</td>\n",
       "      <td>35.000000</td>\n",
       "      <td>3.000000</td>\n",
       "      <td>76.000000</td>\n",
       "      <td>...</td>\n",
       "      <td>0.000000</td>\n",
       "      <td>0.000000</td>\n",
       "      <td>0.0</td>\n",
       "      <td>1.000000</td>\n",
       "      <td>2021.000000</td>\n",
       "      <td>9.00000</td>\n",
       "      <td>24.000000</td>\n",
       "      <td>17.000000</td>\n",
       "      <td>5.000000</td>\n",
       "      <td>154.00000</td>\n",
       "    </tr>\n",
       "    <tr>\n",
       "      <th>max</th>\n",
       "      <td>48.945947</td>\n",
       "      <td>-68.543684</td>\n",
       "      <td>64.941000</td>\n",
       "      <td>279.000000</td>\n",
       "      <td>1.000000</td>\n",
       "      <td>4682.000000</td>\n",
       "      <td>988.000000</td>\n",
       "      <td>48.000000</td>\n",
       "      <td>3.000000</td>\n",
       "      <td>114.000000</td>\n",
       "      <td>...</td>\n",
       "      <td>1.000000</td>\n",
       "      <td>1.000000</td>\n",
       "      <td>0.0</td>\n",
       "      <td>1.000000</td>\n",
       "      <td>2021.000000</td>\n",
       "      <td>11.00000</td>\n",
       "      <td>31.000000</td>\n",
       "      <td>23.000000</td>\n",
       "      <td>6.000000</td>\n",
       "      <td>525705.00000</td>\n",
       "    </tr>\n",
       "  </tbody>\n",
       "</table>\n",
       "<p>8 rows × 38 columns</p>\n",
       "</div>"
      ],
      "text/plain": [
       "          Start_Lat     Start_Lng  Distance(mi)        Street          Side  \\\n",
       "count  50000.000000  50000.000000  50000.000000  50000.000000  50000.000000   \n",
       "mean      35.960047    -96.577087      0.693420    224.700060      0.810380   \n",
       "std        5.502761     18.254669      1.425562     64.227333      0.392004   \n",
       "min       24.574762   -124.495510      0.000000      0.000000      0.000000   \n",
       "25%       32.912523   -117.972069      0.047000    206.000000      1.000000   \n",
       "50%       35.604236    -90.533685      0.211000    261.000000      1.000000   \n",
       "75%       40.047596    -80.333664      0.782000    261.000000      1.000000   \n",
       "max       48.945947    -68.543684     64.941000    279.000000      1.000000   \n",
       "\n",
       "               City        County         State      Timezone  Temperature(F)  \\\n",
       "count  50000.000000  50000.000000  50000.000000  50000.000000    50000.000000   \n",
       "mean    2381.384340    529.069920     18.188840      1.549500       61.935894   \n",
       "std     1279.966268    241.238326     15.135792      1.115031       18.523858   \n",
       "min        0.000000      0.000000      0.000000      0.000000      -25.000000   \n",
       "25%     1312.000000    366.000000      3.000000      1.000000       50.000000   \n",
       "50%     2595.000000    560.000000     10.000000      1.000000       64.000000   \n",
       "75%     3455.000000    717.000000     35.000000      3.000000       76.000000   \n",
       "max     4682.000000    988.000000     48.000000      3.000000      114.000000   \n",
       "\n",
       "       ...  Traffic_Calming  Traffic_Signal  Turning_Loop  Sunrise_Sunset  \\\n",
       "count  ...     50000.000000    50000.000000       50000.0    50000.000000   \n",
       "mean   ...         0.000760        0.097980           0.0        0.373320   \n",
       "std    ...         0.027558        0.297291           0.0        0.483691   \n",
       "min    ...         0.000000        0.000000           0.0        0.000000   \n",
       "25%    ...         0.000000        0.000000           0.0        0.000000   \n",
       "50%    ...         0.000000        0.000000           0.0        0.000000   \n",
       "75%    ...         0.000000        0.000000           0.0        1.000000   \n",
       "max    ...         1.000000        1.000000           0.0        1.000000   \n",
       "\n",
       "               Year        Month           Day          Hour       Weekday  \\\n",
       "count  50000.000000  50000.00000  50000.000000  50000.000000  50000.000000   \n",
       "mean    2020.530420      5.70594     16.217660     12.881380      2.994760   \n",
       "std        0.723744      3.55149      8.681357      5.901204      2.105807   \n",
       "min     2016.000000      0.00000      1.000000      0.000000      0.000000   \n",
       "25%     2020.000000      2.00000      9.000000      8.000000      1.000000   \n",
       "50%     2021.000000      6.00000     16.000000     14.000000      3.000000   \n",
       "75%     2021.000000      9.00000     24.000000     17.000000      5.000000   \n",
       "max     2021.000000     11.00000     31.000000     23.000000      6.000000   \n",
       "\n",
       "       time_duration  \n",
       "count    50000.00000  \n",
       "mean       319.40340  \n",
       "std       8459.43657  \n",
       "min          4.00000  \n",
       "25%         73.00000  \n",
       "50%        105.00000  \n",
       "75%        154.00000  \n",
       "max     525705.00000  \n",
       "\n",
       "[8 rows x 38 columns]"
      ]
     },
     "execution_count": 60,
     "metadata": {},
     "output_type": "execute_result"
    }
   ],
   "source": [
    "X.describe()"
   ]
  },
  {
   "cell_type": "code",
   "execution_count": 61,
   "id": "5b9f89c9",
   "metadata": {},
   "outputs": [
    {
     "data": {
      "text/plain": [
       "count    50000.000000\n",
       "mean         0.006099\n",
       "std          0.065791\n",
       "min          0.000000\n",
       "25%          0.000000\n",
       "50%          0.000000\n",
       "75%          0.000000\n",
       "max          9.990000\n",
       "Name: Precipitation(in), dtype: float64"
      ]
     },
     "execution_count": 61,
     "metadata": {},
     "output_type": "execute_result"
    }
   ],
   "source": [
    "X['Precipitation(in)'].describe()"
   ]
  },
  {
   "cell_type": "code",
   "execution_count": 62,
   "id": "589f397a",
   "metadata": {},
   "outputs": [
    {
     "data": {
      "text/plain": [
       "count    50000.000000\n",
       "mean        29.370670\n",
       "std          1.097835\n",
       "min         20.250000\n",
       "25%         29.210000\n",
       "50%         29.740000\n",
       "75%         29.970000\n",
       "max         30.700000\n",
       "Name: Pressure(in), dtype: float64"
      ]
     },
     "execution_count": 62,
     "metadata": {},
     "output_type": "execute_result"
    }
   ],
   "source": [
    "X['Pressure(in)'].describe()"
   ]
  },
  {
   "cell_type": "code",
   "execution_count": 63,
   "id": "c31f1631",
   "metadata": {
    "scrolled": false
   },
   "outputs": [
    {
     "data": {
      "text/plain": [
       "2    46633\n",
       "3     1433\n",
       "4     1381\n",
       "1      553\n",
       "Name: Severity, dtype: int64"
      ]
     },
     "execution_count": 63,
     "metadata": {},
     "output_type": "execute_result"
    }
   ],
   "source": [
    "#Create our target\n",
    "y = accident_df['Severity']\n",
    "y.value_counts()"
   ]
  },
  {
   "cell_type": "code",
   "execution_count": 64,
   "id": "a1cdfb3c",
   "metadata": {
    "scrolled": false
   },
   "outputs": [
    {
     "data": {
      "text/plain": [
       "(50000, 38)"
      ]
     },
     "execution_count": 64,
     "metadata": {},
     "output_type": "execute_result"
    }
   ],
   "source": [
    "# examine shape of X\n",
    "\n",
    "X.shape"
   ]
  },
  {
   "cell_type": "code",
   "execution_count": null,
   "id": "add4c602",
   "metadata": {
    "scrolled": false
   },
   "outputs": [],
   "source": []
  },
  {
   "cell_type": "code",
   "execution_count": 65,
   "id": "227d2ec6",
   "metadata": {
    "scrolled": false
   },
   "outputs": [
    {
     "data": {
      "text/plain": [
       "(50000,)"
      ]
     },
     "execution_count": 65,
     "metadata": {},
     "output_type": "execute_result"
    }
   ],
   "source": [
    "y.shape"
   ]
  },
  {
   "cell_type": "markdown",
   "id": "18aae6d6",
   "metadata": {},
   "source": [
    "#### Split encoded Data into Training and Testing"
   ]
  },
  {
   "cell_type": "code",
   "execution_count": 66,
   "id": "6ef58a4e",
   "metadata": {
    "scrolled": false
   },
   "outputs": [],
   "source": [
    "from sklearn.model_selection import train_test_split\n",
    "X_train,X_test,y_train,y_test = train_test_split(X,y, random_state = 1)"
   ]
  },
  {
   "cell_type": "code",
   "execution_count": 67,
   "id": "f396e3ba",
   "metadata": {
    "scrolled": false
   },
   "outputs": [],
   "source": [
    "X_train = X_train.replace((np.inf, -np.inf, np.nan), 0).reset_index(drop=True)"
   ]
  },
  {
   "cell_type": "code",
   "execution_count": 68,
   "id": "b487746a",
   "metadata": {
    "scrolled": false
   },
   "outputs": [
    {
     "data": {
      "text/plain": [
       "2    34947\n",
       "3     1108\n",
       "4     1022\n",
       "1      423\n",
       "Name: Severity, dtype: int64"
      ]
     },
     "execution_count": 68,
     "metadata": {},
     "output_type": "execute_result"
    }
   ],
   "source": [
    "y_train.value_counts()"
   ]
  },
  {
   "cell_type": "code",
   "execution_count": 69,
   "id": "e6267391",
   "metadata": {
    "scrolled": false
   },
   "outputs": [
    {
     "data": {
      "image/png": "[encoded data removed]",
      "text/plain": [
       "<Figure size 720x576 with 1 Axes>"
      ]
     },
     "metadata": {
      "needs_background": "light"
     },
     "output_type": "display_data"
    }
   ],
   "source": [
    "# imbalanced data set\n",
    "import matplotlib.pyplot \n",
    "from scipy import stats\n",
    "import matplotlib.pyplot as plt\n",
    "import seaborn as sns\n",
    "\n",
    "severity_counts = y_train.value_counts()\n",
    "\n",
    "plt.figure(figsize=(10, 8))\n",
    "plt.title(\"Histogram for the severity\")\n",
    "sns.barplot(severity_counts.index, severity_counts.values)\n",
    "plt.xlabel(\"Severity\")\n",
    "plt.ylabel(\"Value\")\n",
    "plt.show()"
   ]
  },
  {
   "cell_type": "code",
   "execution_count": 70,
   "id": "b7e9c2f6",
   "metadata": {
    "scrolled": false
   },
   "outputs": [],
   "source": [
    "#logistic regression before resampling\n",
    "# Train the Logistic Regression model before resampling data\n",
    "#model\n",
    "from sklearn.linear_model import LogisticRegression\n",
    "\n",
    "clf = LogisticRegression(solver='lbfgs',random_state=1)\n",
    "#fit\n",
    "clf.fit(X,y)\n",
    "#predict using the predict method\n",
    "y_pred = clf.predict(X_test)"
   ]
  },
  {
   "cell_type": "code",
   "execution_count": 71,
   "id": "4d999323",
   "metadata": {},
   "outputs": [
    {
     "data": {
      "text/plain": [
       "0.25"
      ]
     },
     "execution_count": 71,
     "metadata": {},
     "output_type": "execute_result"
    }
   ],
   "source": [
    "# Calculated the balanced accuracy score\n",
    "from sklearn.metrics import balanced_accuracy_score\n",
    "balanced_accuracy_score(y_test,y_pred)"
   ]
  },
  {
   "cell_type": "markdown",
   "id": "8946a568",
   "metadata": {},
   "source": [
    "## Handle unbalanced data"
   ]
  },
  {
   "cell_type": "markdown",
   "id": "b857e746",
   "metadata": {},
   "source": [
    "### Oversampling\n",
    "###### In this section, compared two oversampling algorithms to determine which algorithm results in the best performance.And oversampled the data using the naive random oversampling algorithm and the SMOTE algorithm. \n"
   ]
  },
  {
   "cell_type": "markdown",
   "id": "1a668d31",
   "metadata": {},
   "source": [
    "#### Naive Random Oversampling"
   ]
  },
  {
   "cell_type": "code",
   "execution_count": 72,
   "id": "adc08ccf",
   "metadata": {
    "scrolled": false
   },
   "outputs": [],
   "source": [
    "# Resample the training data with the RandomOversampler\n",
    "from imblearn.over_sampling import RandomOverSampler\n",
    "ros = RandomOverSampler(random_state=1)\n",
    "X_resampled,y_resampled =ros.fit_resample(X_train,y_train)"
   ]
  },
  {
   "cell_type": "code",
   "execution_count": 73,
   "id": "eadaca2e",
   "metadata": {
    "scrolled": false
   },
   "outputs": [
    {
     "data": {
      "text/plain": [
       "Counter({2: 34947, 4: 34947, 3: 34947, 1: 34947})"
      ]
     },
     "execution_count": 73,
     "metadata": {},
     "output_type": "execute_result"
    }
   ],
   "source": [
    "# what is the \"balance\" or mix between Severity\n",
    "Counter(y_resampled)"
   ]
  },
  {
   "cell_type": "code",
   "execution_count": 74,
   "id": "09b641ff",
   "metadata": {
    "scrolled": false
   },
   "outputs": [
    {
     "data": {
      "image/png": "[encoded data removed]",
      "text/plain": [
       "<Figure size 720x576 with 1 Axes>"
      ]
     },
     "metadata": {
      "needs_background": "light"
     },
     "output_type": "display_data"
    }
   ],
   "source": [
    "severity_counts = y_resampled.value_counts()\n",
    "\n",
    "plt.figure(figsize=(10, 8))\n",
    "plt.title(\"Histogram for the severity -Naive Random Oversampling \")\n",
    "sns.barplot(severity_counts.index, severity_counts.values)\n",
    "plt.xlabel(\"Severity\")\n",
    "plt.ylabel(\"Value\")\n",
    "plt.show()"
   ]
  },
  {
   "cell_type": "code",
   "execution_count": 75,
   "id": "ea26d41a",
   "metadata": {
    "scrolled": false
   },
   "outputs": [],
   "source": [
    "# Train the Logistic Regression model using the resampled data\n",
    "#model\n",
    "from sklearn.linear_model import LogisticRegression\n",
    "\n",
    "clf = LogisticRegression(solver='lbfgs',random_state=1)\n",
    "#fit\n",
    "clf.fit(X_resampled,y_resampled)\n",
    "#predict using the predict method\n",
    "y_pred = clf.predict(X_test)"
   ]
  },
  {
   "cell_type": "code",
   "execution_count": 76,
   "id": "44532482",
   "metadata": {
    "scrolled": false
   },
   "outputs": [
    {
     "data": {
      "text/plain": [
       "0.46466828975065383"
      ]
     },
     "execution_count": 76,
     "metadata": {},
     "output_type": "execute_result"
    }
   ],
   "source": [
    "# Calculated the balanced accuracy score\n",
    "from sklearn.metrics import balanced_accuracy_score\n",
    "Naive_acuracy = balanced_accuracy_score(y_test,y_pred)\n",
    "Naive_acuracy"
   ]
  },
  {
   "cell_type": "code",
   "execution_count": 77,
   "id": "41669d1c",
   "metadata": {
    "scrolled": false
   },
   "outputs": [
    {
     "data": {
      "text/plain": [
       "array([[  81,    5,   40,    4],\n",
       "       [1600, 3778, 1932, 4376],\n",
       "       [ 112,   13,  177,   23],\n",
       "       [  68,   47,  112,  132]], dtype=int64)"
      ]
     },
     "execution_count": 77,
     "metadata": {},
     "output_type": "execute_result"
    }
   ],
   "source": [
    "# Display the confusion matrix\n",
    "cm = confusion_matrix(y_test,y_pred,labels=clf.classes_)\n",
    "cm"
   ]
  },
  {
   "cell_type": "code",
   "execution_count": 78,
   "id": "40814afe",
   "metadata": {
    "scrolled": false
   },
   "outputs": [
    {
     "data": {
      "text/plain": [
       "<sklearn.metrics._plot.confusion_matrix.ConfusionMatrixDisplay at 0x1df5f1b4f40>"
      ]
     },
     "execution_count": 78,
     "metadata": {},
     "output_type": "execute_result"
    },
    {
     "data": {
      "image/png": "[encoded data removed]",
      "text/plain": [
       "<Figure size 432x288 with 2 Axes>"
      ]
     },
     "metadata": {
      "needs_background": "light"
     },
     "output_type": "display_data"
    }
   ],
   "source": [
    "from sklearn.metrics import ConfusionMatrixDisplay\n",
    "disp = ConfusionMatrixDisplay(confusion_matrix=cm,display_labels= clf.classes_)\n",
    "disp.plot()"
   ]
  },
  {
   "cell_type": "code",
   "execution_count": 79,
   "id": "b033de07",
   "metadata": {
    "scrolled": false
   },
   "outputs": [
    {
     "name": "stdout",
     "output_type": "stream",
     "text": [
      "                   pre       rec       spe        f1       geo       iba       sup\n",
      "\n",
      "          1       0.04      0.62      0.86      0.08      0.73      0.52       130\n",
      "          2       0.98      0.32      0.92      0.49      0.55      0.28     11686\n",
      "          3       0.08      0.54      0.83      0.14      0.67      0.44       325\n",
      "          4       0.03      0.37      0.64      0.05      0.48      0.23       359\n",
      "\n",
      "avg / total       0.92      0.33      0.91      0.46      0.55      0.28     12500\n",
      "\n"
     ]
    }
   ],
   "source": [
    "# Print the imbalanced classification report\n",
    "print(classification_report_imbalanced(y_test, y_pred))"
   ]
  },
  {
   "cell_type": "markdown",
   "id": "ff056c82",
   "metadata": {},
   "source": [
    "#### SMOTE Oversampling"
   ]
  },
  {
   "cell_type": "code",
   "execution_count": 80,
   "id": "e54f7816",
   "metadata": {
    "scrolled": false
   },
   "outputs": [],
   "source": [
    "# Resample the training data with SMOTE\n",
    "from imblearn.over_sampling import SMOTE\n",
    "X_resampled, y_resampled = SMOTE(random_state=1,\n",
    "sampling_strategy='auto').fit_resample(\n",
    "   X_train, y_train)"
   ]
  },
  {
   "cell_type": "code",
   "execution_count": 81,
   "id": "0a2f9081",
   "metadata": {
    "scrolled": false
   },
   "outputs": [
    {
     "data": {
      "text/plain": [
       "Counter({2: 34947, 4: 34947, 3: 34947, 1: 34947})"
      ]
     },
     "execution_count": 81,
     "metadata": {},
     "output_type": "execute_result"
    }
   ],
   "source": [
    "#check the balance of Loan_status\n",
    "Counter(y_resampled)"
   ]
  },
  {
   "cell_type": "code",
   "execution_count": 82,
   "id": "2ed2c0ba",
   "metadata": {
    "scrolled": false
   },
   "outputs": [
    {
     "data": {
      "image/png": "[encoded data removed]",
      "text/plain": [
       "<Figure size 720x576 with 1 Axes>"
      ]
     },
     "metadata": {
      "needs_background": "light"
     },
     "output_type": "display_data"
    }
   ],
   "source": [
    "severity_counts = y_resampled.value_counts()\n",
    "\n",
    "plt.figure(figsize=(10, 8))\n",
    "plt.title(\"Histogram for the severity\")\n",
    "sns.barplot(severity_counts.index, severity_counts.values)\n",
    "plt.xlabel(\"Severity\")\n",
    "plt.ylabel(\"Value\")\n",
    "plt.show()"
   ]
  },
  {
   "cell_type": "code",
   "execution_count": 83,
   "id": "b3d8c75e",
   "metadata": {
    "scrolled": false
   },
   "outputs": [],
   "source": [
    "# Train the Logistic Regression model using the resampled data\n",
    "#model\n",
    "clf = LogisticRegression(solver='lbfgs', random_state=1)\n",
    "\n",
    "#train/fit\n",
    "clf.fit(X_resampled, y_resampled)\n",
    "\n",
    "#predict\n",
    "y_pred = clf.predict(X_test)"
   ]
  },
  {
   "cell_type": "code",
   "execution_count": 84,
   "id": "2643abfc",
   "metadata": {
    "scrolled": false
   },
   "outputs": [],
   "source": [
    "# Calculated the balanced accuracy score\n",
    "SMOTE_acuracy = balanced_accuracy_score(y_test, y_pred)"
   ]
  },
  {
   "cell_type": "code",
   "execution_count": 85,
   "id": "5eb139d6",
   "metadata": {
    "scrolled": false
   },
   "outputs": [
    {
     "data": {
      "text/plain": [
       "array([[  80,    7,   35,    8],\n",
       "       [1214, 4048, 1547, 4877],\n",
       "       [ 111,   32,  147,   35],\n",
       "       [  59,   56,  101,  143]], dtype=int64)"
      ]
     },
     "execution_count": 85,
     "metadata": {},
     "output_type": "execute_result"
    }
   ],
   "source": [
    "# Display the confusion matrix\n",
    "confusion_matrix(y_test, y_pred)"
   ]
  },
  {
   "cell_type": "code",
   "execution_count": 86,
   "id": "91e1cbc7",
   "metadata": {
    "scrolled": false
   },
   "outputs": [
    {
     "data": {
      "text/plain": [
       "<sklearn.metrics._plot.confusion_matrix.ConfusionMatrixDisplay at 0x1df5dff7fa0>"
      ]
     },
     "execution_count": 86,
     "metadata": {},
     "output_type": "execute_result"
    },
    {
     "data": {
      "image/png": "[encoded data removed]",
      "text/plain": [
       "<Figure size 432x288 with 2 Axes>"
      ]
     },
     "metadata": {
      "needs_background": "light"
     },
     "output_type": "display_data"
    }
   ],
   "source": [
    "disp = ConfusionMatrixDisplay(confusion_matrix=cm,display_labels= clf.classes_)\n",
    "disp.plot()"
   ]
  },
  {
   "cell_type": "code",
   "execution_count": 87,
   "id": "5cb6e013",
   "metadata": {
    "scrolled": false
   },
   "outputs": [
    {
     "name": "stdout",
     "output_type": "stream",
     "text": [
      "                   pre       rec       spe        f1       geo       iba       sup\n",
      "\n",
      "          1       0.05      0.62      0.89      0.10      0.74      0.53       130\n",
      "          2       0.98      0.35      0.88      0.51      0.55      0.29     11686\n",
      "          3       0.08      0.45      0.86      0.14      0.62      0.37       325\n",
      "          4       0.03      0.40      0.59      0.05      0.49      0.23       359\n",
      "\n",
      "avg / total       0.92      0.35      0.87      0.48      0.56      0.29     12500\n",
      "\n"
     ]
    }
   ],
   "source": [
    "# Print the imbalanced classification report\n",
    "print(classification_report_imbalanced(y_test, y_pred))"
   ]
  },
  {
   "cell_type": "markdown",
   "id": "8e7ea752",
   "metadata": {},
   "source": [
    "### Undersampling\n",
    "###### In this section, tested an undersampling algorithms to determine which algorithm results in the best performance compared to the oversampling algorithms above.  undersampled the data using the Cluster Centroids algorithm"
   ]
  },
  {
   "cell_type": "markdown",
   "id": "efca2e8f",
   "metadata": {},
   "source": [
    "#### ClusterCentroids resampler"
   ]
  },
  {
   "cell_type": "code",
   "execution_count": 88,
   "id": "a92d0513",
   "metadata": {
    "scrolled": false
   },
   "outputs": [],
   "source": [
    "# Resample the data using the ClusterCentroids resampler\n",
    "# Warning: This is a large dataset, and this step may take some time to complete\n",
    "from imblearn.under_sampling import ClusterCentroids\n",
    "cc = ClusterCentroids(random_state=1)\n",
    "X_resampled, y_resampled = cc.fit_resample(X_train, y_train)"
   ]
  },
  {
   "cell_type": "markdown",
   "id": "76e13d22",
   "metadata": {},
   "source": [
    "#### Logistic Regression using the resampled data"
   ]
  },
  {
   "cell_type": "code",
   "execution_count": 89,
   "id": "3d2c21d6",
   "metadata": {
    "scrolled": false
   },
   "outputs": [],
   "source": [
    "# Train the Logistic Regression model using the resampled data\n",
    "#model\n",
    "from sklearn.linear_model import LogisticRegression\n",
    "\n",
    "clf = LogisticRegression(solver='lbfgs',random_state=1)\n",
    "#fit\n",
    "clf.fit(X_resampled,y_resampled)\n",
    "#predict using the predict method\n",
    "y_pred = clf.predict(X_test)"
   ]
  },
  {
   "cell_type": "code",
   "execution_count": 90,
   "id": "04fcb51e",
   "metadata": {
    "scrolled": false
   },
   "outputs": [
    {
     "data": {
      "text/plain": [
       "0.395312293162405"
      ]
     },
     "execution_count": 90,
     "metadata": {},
     "output_type": "execute_result"
    }
   ],
   "source": [
    "# Calculated the balanced accuracy score\n",
    "from sklearn.metrics import balanced_accuracy_score\n",
    "ClusterCentroids_accuracy = balanced_accuracy_score(y_test,y_pred)\n",
    "ClusterCentroids_accuracy\n"
   ]
  },
  {
   "cell_type": "code",
   "execution_count": 91,
   "id": "cae2e05c",
   "metadata": {
    "scrolled": false
   },
   "outputs": [
    {
     "data": {
      "text/plain": [
       "array([[  99,    3,   26,    2],\n",
       "       [1933, 2290, 4574, 2889],\n",
       "       [ 186,   13,  114,   12],\n",
       "       [ 116,   27,  118,   98]], dtype=int64)"
      ]
     },
     "execution_count": 91,
     "metadata": {},
     "output_type": "execute_result"
    }
   ],
   "source": [
    "# Display the confusion matrix\n",
    "cm = confusion_matrix(y_test,y_pred,labels=clf.classes_)\n",
    "cm"
   ]
  },
  {
   "cell_type": "code",
   "execution_count": 92,
   "id": "37f47f31",
   "metadata": {
    "scrolled": false
   },
   "outputs": [
    {
     "data": {
      "text/plain": [
       "<sklearn.metrics._plot.confusion_matrix.ConfusionMatrixDisplay at 0x1df60dbadf0>"
      ]
     },
     "execution_count": 92,
     "metadata": {},
     "output_type": "execute_result"
    },
    {
     "data": {
      "image/png": "[encoded data removed]",
      "text/plain": [
       "<Figure size 432x288 with 2 Axes>"
      ]
     },
     "metadata": {
      "needs_background": "light"
     },
     "output_type": "display_data"
    }
   ],
   "source": [
    "from sklearn.metrics import ConfusionMatrixDisplay\n",
    "disp = ConfusionMatrixDisplay(confusion_matrix=cm,display_labels= clf.classes_)\n",
    "disp.plot()"
   ]
  },
  {
   "cell_type": "code",
   "execution_count": 93,
   "id": "676ff2b5",
   "metadata": {
    "scrolled": false
   },
   "outputs": [
    {
     "name": "stdout",
     "output_type": "stream",
     "text": [
      "                   pre       rec       spe        f1       geo       iba       sup\n",
      "\n",
      "          1       0.04      0.76      0.82      0.08      0.79      0.62       130\n",
      "          2       0.98      0.20      0.95      0.33      0.43      0.17     11686\n",
      "          3       0.02      0.35      0.61      0.04      0.46      0.21       325\n",
      "          4       0.03      0.27      0.76      0.06      0.46      0.20       359\n",
      "\n",
      "avg / total       0.92      0.21      0.93      0.31      0.44      0.18     12500\n",
      "\n"
     ]
    }
   ],
   "source": [
    "# Print the imbalanced classification report\n",
    "from imblearn.metrics import classification_report_imbalanced\n",
    "print(classification_report_imbalanced(y_test, y_pred))"
   ]
  },
  {
   "cell_type": "markdown",
   "id": "9eaf4d32",
   "metadata": {},
   "source": [
    "#### Combination (Over and Under) Sampling\n",
    "###### In this section, tested a combination over- and under-sampling algorithm to determine if the algorithm results in the best performance compared to the other sampling algorithms above.  Resampled the data using the SMOTEENN algorithm ."
   ]
  },
  {
   "cell_type": "markdown",
   "id": "08a7ec64",
   "metadata": {},
   "source": [
    "##### SMOTEENN algorithm"
   ]
  },
  {
   "cell_type": "code",
   "execution_count": 94,
   "id": "fa50e9b8",
   "metadata": {
    "scrolled": false
   },
   "outputs": [
    {
     "data": {
      "text/plain": [
       "Counter({1: 34844, 2: 26156, 3: 34414, 4: 34205})"
      ]
     },
     "execution_count": 94,
     "metadata": {},
     "output_type": "execute_result"
    }
   ],
   "source": [
    "# Resample the training data with SMOTEENN\n",
    "# Warning: This is a large dataset, and this step may take some time to complete\n",
    "\n",
    "                                                    \n",
    "from imblearn.combine import SMOTEENN\n",
    "smote_enn = SMOTEENN(random_state=0)\n",
    "X_resampled, y_resampled = smote_enn.fit_resample(X_train, y_train)       \n",
    "Counter(y_resampled)"
   ]
  },
  {
   "cell_type": "code",
   "execution_count": 95,
   "id": "def21b03",
   "metadata": {
    "scrolled": false
   },
   "outputs": [
    {
     "data": {
      "image/png": "[encoded data removed]",
      "text/plain": [
       "<Figure size 720x576 with 1 Axes>"
      ]
     },
     "metadata": {
      "needs_background": "light"
     },
     "output_type": "display_data"
    }
   ],
   "source": [
    "severity_counts = y_resampled.value_counts()\n",
    "\n",
    "plt.figure(figsize=(10, 8))\n",
    "plt.title(\"Histogram for the severity\")\n",
    "sns.barplot(severity_counts.index, severity_counts.values)\n",
    "plt.xlabel(\"Severity\")\n",
    "plt.ylabel(\"Value\")\n",
    "plt.show()"
   ]
  },
  {
   "cell_type": "markdown",
   "id": "f3783b9e",
   "metadata": {},
   "source": [
    "#### Logistic Regression using the resampled(Over and Under) data"
   ]
  },
  {
   "cell_type": "code",
   "execution_count": 96,
   "id": "9db72dfd",
   "metadata": {
    "scrolled": false
   },
   "outputs": [],
   "source": [
    "# Train the Logistic Regression model using the resampled data\n",
    "from sklearn.linear_model import LogisticRegression\n",
    "#model\n",
    "clf = LogisticRegression(solver='lbfgs', random_state=1)\n",
    "#fit\n",
    "clf.fit(X_resampled, y_resampled)\n",
    "#predict\n",
    "y_pred = clf.predict(X_test)"
   ]
  },
  {
   "cell_type": "code",
   "execution_count": 97,
   "id": "22617689",
   "metadata": {
    "scrolled": false
   },
   "outputs": [],
   "source": [
    "# Calculated the balanced accuracy score\n",
    "from sklearn.metrics import balanced_accuracy_score\n",
    "SMOTEENN_accuracy = balanced_accuracy_score(y_test, y_pred)"
   ]
  },
  {
   "cell_type": "code",
   "execution_count": 98,
   "id": "9f22ad14",
   "metadata": {
    "scrolled": false
   },
   "outputs": [
    {
     "data": {
      "text/plain": [
       "array([[  83,    6,   33,    8],\n",
       "       [1517, 2629, 1523, 6017],\n",
       "       [ 123,   18,  156,   28],\n",
       "       [  65,   31,  105,  158]], dtype=int64)"
      ]
     },
     "execution_count": 98,
     "metadata": {},
     "output_type": "execute_result"
    }
   ],
   "source": [
    "# Display the confusion matrix\n",
    "from sklearn.metrics import confusion_matrix\n",
    "cm = confusion_matrix(y_test, y_pred,labels=clf.classes_)\n",
    "cm"
   ]
  },
  {
   "cell_type": "code",
   "execution_count": 99,
   "id": "0a9290fb",
   "metadata": {
    "scrolled": false
   },
   "outputs": [
    {
     "data": {
      "text/plain": [
       "<sklearn.metrics._plot.confusion_matrix.ConfusionMatrixDisplay at 0x1df60dba370>"
      ]
     },
     "execution_count": 99,
     "metadata": {},
     "output_type": "execute_result"
    },
    {
     "data": {
      "image/png": "[encoded data removed]",
      "text/plain": [
       "<Figure size 432x288 with 2 Axes>"
      ]
     },
     "metadata": {
      "needs_background": "light"
     },
     "output_type": "display_data"
    }
   ],
   "source": [
    "disp = ConfusionMatrixDisplay(confusion_matrix=cm,display_labels= clf.classes_)\n",
    "disp.plot()"
   ]
  },
  {
   "cell_type": "code",
   "execution_count": 100,
   "id": "3e336026",
   "metadata": {
    "scrolled": false
   },
   "outputs": [
    {
     "name": "stdout",
     "output_type": "stream",
     "text": [
      "                   pre       rec       spe        f1       geo       iba       sup\n",
      "\n",
      "          1       0.05      0.64      0.86      0.09      0.74      0.54       130\n",
      "          2       0.98      0.22      0.93      0.37      0.46      0.19     11686\n",
      "          3       0.09      0.48      0.86      0.15      0.64      0.40       325\n",
      "          4       0.03      0.44      0.50      0.05      0.47      0.22       359\n",
      "\n",
      "avg / total       0.92      0.24      0.92      0.35      0.47      0.20     12500\n",
      "\n"
     ]
    }
   ],
   "source": [
    "# Print the imbalanced classification report\n",
    "from imblearn.metrics import classification_report_imbalanced\n",
    "print(classification_report_imbalanced(y_test, y_pred))"
   ]
  },
  {
   "cell_type": "markdown",
   "id": "62740077",
   "metadata": {},
   "source": [
    "#### Ensemble Learners\n",
    "###### In this section,  compared two ensemble algorithms to determine which algorithm results in the best performance. trained a Balanced Random Forest Classifier and an Easy Ensemble AdaBoost classifier ."
   ]
  },
  {
   "cell_type": "markdown",
   "id": "e33f8f86",
   "metadata": {},
   "source": [
    "#### Balanced Random Forest Classifier"
   ]
  },
  {
   "cell_type": "code",
   "execution_count": 101,
   "id": "2c54ad2f",
   "metadata": {
    "scrolled": false
   },
   "outputs": [],
   "source": [
    "from imblearn.ensemble import BalancedRandomForestClassifier\n",
    "from imblearn.metrics import classification_report_imbalanced\n",
    "from imblearn.ensemble import EasyEnsembleClassifier"
   ]
  },
  {
   "cell_type": "code",
   "execution_count": 102,
   "id": "3404a2e3",
   "metadata": {
    "scrolled": false
   },
   "outputs": [],
   "source": [
    "# Resample the training data with the BalancedRandomForestClassifier\n",
    "\n",
    "#model\n",
    "brf_model = BalancedRandomForestClassifier(random_state=1, n_estimators=100)\n",
    "#fit\n",
    "brf_model = brf_model.fit(X_train, y_train)\n",
    "\n",
    "#predict\n",
    "predictions = brf_model.predict(X_test)\n"
   ]
  },
  {
   "cell_type": "code",
   "execution_count": 103,
   "id": "ee2c3a07",
   "metadata": {
    "scrolled": false
   },
   "outputs": [
    {
     "data": {
      "text/plain": [
       "0.7301946371449983"
      ]
     },
     "execution_count": 103,
     "metadata": {},
     "output_type": "execute_result"
    }
   ],
   "source": [
    "# Calculated the balanced accuracy score\n",
    "RandomForest_accuracy = balanced_accuracy_score(y_test,predictions)\n",
    "RandomForest_accuracy\n",
    "\n"
   ]
  },
  {
   "cell_type": "code",
   "execution_count": 104,
   "id": "42fb8bf6",
   "metadata": {
    "scrolled": false
   },
   "outputs": [
    {
     "data": {
      "text/html": [
       "<div>\n",
       "<style scoped>\n",
       "    .dataframe tbody tr th:only-of-type {\n",
       "        vertical-align: middle;\n",
       "    }\n",
       "\n",
       "    .dataframe tbody tr th {\n",
       "        vertical-align: top;\n",
       "    }\n",
       "\n",
       "    .dataframe thead th {\n",
       "        text-align: right;\n",
       "    }\n",
       "</style>\n",
       "<table border=\"1\" class=\"dataframe\">\n",
       "  <thead>\n",
       "    <tr style=\"text-align: right;\">\n",
       "      <th></th>\n",
       "      <th>Predicted 0</th>\n",
       "      <th>Predicted 1</th>\n",
       "      <th>Predicted 2</th>\n",
       "      <th>Predicted 3</th>\n",
       "    </tr>\n",
       "  </thead>\n",
       "  <tbody>\n",
       "    <tr>\n",
       "      <th>Actual 0</th>\n",
       "      <td>115</td>\n",
       "      <td>0</td>\n",
       "      <td>15</td>\n",
       "      <td>0</td>\n",
       "    </tr>\n",
       "    <tr>\n",
       "      <th>Actual 1</th>\n",
       "      <td>318</td>\n",
       "      <td>9138</td>\n",
       "      <td>585</td>\n",
       "      <td>1645</td>\n",
       "    </tr>\n",
       "    <tr>\n",
       "      <th>Actual 2</th>\n",
       "      <td>33</td>\n",
       "      <td>5</td>\n",
       "      <td>251</td>\n",
       "      <td>36</td>\n",
       "    </tr>\n",
       "    <tr>\n",
       "      <th>Actual 3</th>\n",
       "      <td>9</td>\n",
       "      <td>86</td>\n",
       "      <td>91</td>\n",
       "      <td>173</td>\n",
       "    </tr>\n",
       "  </tbody>\n",
       "</table>\n",
       "</div>"
      ],
      "text/plain": [
       "          Predicted 0  Predicted 1  Predicted 2  Predicted 3\n",
       "Actual 0          115            0           15            0\n",
       "Actual 1          318         9138          585         1645\n",
       "Actual 2           33            5          251           36\n",
       "Actual 3            9           86           91          173"
      ]
     },
     "execution_count": 104,
     "metadata": {},
     "output_type": "execute_result"
    }
   ],
   "source": [
    "# Calculating the confusion matrix.\n",
    "cm = confusion_matrix(y_test, predictions)\n",
    "\n",
    "# Create a DataFrame from the confusion matrix.\n",
    "cm_df = pd.DataFrame(\n",
    "    cm, index=[\"Actual 0\", \"Actual 1\",\"Actual 2\", \"Actual 3\"], columns=[\"Predicted 0\", \"Predicted 1\",\"Predicted 2\", \"Predicted 3\"])\n",
    "\n",
    "cm_df"
   ]
  },
  {
   "cell_type": "code",
   "execution_count": 105,
   "id": "b31ef336",
   "metadata": {},
   "outputs": [
    {
     "data": {
      "text/plain": [
       "<sklearn.metrics._plot.confusion_matrix.ConfusionMatrixDisplay at 0x1df61585310>"
      ]
     },
     "execution_count": 105,
     "metadata": {},
     "output_type": "execute_result"
    },
    {
     "data": {
      "image/png": "[encoded data removed]",
      "text/plain": [
       "<Figure size 432x288 with 2 Axes>"
      ]
     },
     "metadata": {
      "needs_background": "light"
     },
     "output_type": "display_data"
    }
   ],
   "source": [
    "disp = ConfusionMatrixDisplay(confusion_matrix=cm,display_labels= clf.classes_)\n",
    "disp.plot()\n"
   ]
  },
  {
   "cell_type": "code",
   "execution_count": 106,
   "id": "5d118bc9",
   "metadata": {
    "scrolled": false
   },
   "outputs": [
    {
     "name": "stdout",
     "output_type": "stream",
     "text": [
      "                   pre       rec       spe        f1       geo       iba       sup\n",
      "\n",
      "          1       0.24      0.88      0.97      0.38      0.93      0.85       130\n",
      "          2       0.99      0.78      0.89      0.87      0.83      0.69     11686\n",
      "          3       0.27      0.77      0.94      0.40      0.85      0.72       325\n",
      "          4       0.09      0.48      0.86      0.16      0.64      0.40       359\n",
      "\n",
      "avg / total       0.94      0.77      0.89      0.84      0.83      0.68     12500\n",
      "\n"
     ]
    }
   ],
   "source": [
    "# Print the imbalanced classification report\n",
    "print(classification_report_imbalanced(y_test, predictions))"
   ]
  },
  {
   "cell_type": "code",
   "execution_count": 107,
   "id": "ee6e7958",
   "metadata": {
    "scrolled": false
   },
   "outputs": [
    {
     "data": {
      "text/plain": [
       "[(0.11403418985568935, 'time_duration'),\n",
       " (0.09737826767684772, 'Year'),\n",
       " (0.09506848357769203, 'Distance(mi)'),\n",
       " (0.06955088766486782, 'Start_Lng'),\n",
       " (0.06843545500618747, 'Start_Lat'),\n",
       " (0.045104124005234836, 'Pressure(in)'),\n",
       " (0.04408356279110433, 'State'),\n",
       " (0.04132242573463096, 'City'),\n",
       " (0.03791363501486033, 'County'),\n",
       " (0.03477603726220764, 'Humidity(%)'),\n",
       " (0.03409310512078763, 'Wind_Chill(F)'),\n",
       " (0.033399328386035015, 'Temperature(F)'),\n",
       " (0.031891844968789884, 'Month'),\n",
       " (0.02960753264994006, 'Day'),\n",
       " (0.029029978420911148, 'Hour'),\n",
       " (0.02596641114266187, 'Wind_Direction'),\n",
       " (0.024909031453366648, 'Wind_Speed(mph)'),\n",
       " (0.02092110307853314, 'Street'),\n",
       " (0.020184772952991384, 'Weekday'),\n",
       " (0.019790080336104566, 'Timezone'),\n",
       " (0.017526483146989447, 'Weather_Condition'),\n",
       " (0.014103744316206465, 'Crossing'),\n",
       " (0.013490319798678884, 'Traffic_Signal'),\n",
       " (0.008676112823512858, 'Visibility(mi)'),\n",
       " (0.007846240571729151, 'Side'),\n",
       " (0.0063853030069221575, 'Sunrise_Sunset'),\n",
       " (0.0053194413913660085, 'Precipitation(in)'),\n",
       " (0.0050230170914313775, 'Junction'),\n",
       " (0.0011062471506375715, 'Stop'),\n",
       " (0.0010519496451995736, 'Station'),\n",
       " (0.0007642505337690024, 'Railway'),\n",
       " (0.0005941559568638821, 'Amenity'),\n",
       " (0.0003840757234431259, 'Give_Way'),\n",
       " (0.00017680223832429378, 'No_Exit'),\n",
       " (7.620499816122493e-05, 'Traffic_Calming'),\n",
       " (1.5394507321066974e-05, 'Bump'),\n",
       " (0.0, 'Turning_Loop'),\n",
       " (0.0, 'Roundabout')]"
      ]
     },
     "execution_count": 107,
     "metadata": {},
     "output_type": "execute_result"
    }
   ],
   "source": [
    "# We can sort the features by their importance.\n",
    "sorted (zip(brf_model.feature_importances_,X.columns),reverse=True)"
   ]
  },
  {
   "cell_type": "code",
   "execution_count": 108,
   "id": "4df21dcf",
   "metadata": {
    "scrolled": false
   },
   "outputs": [
    {
     "data": {
      "image/png": "[encoded data removed]",
      "text/plain": [
       "<Figure size 1080x720 with 1 Axes>"
      ]
     },
     "metadata": {
      "needs_background": "light"
     },
     "output_type": "display_data"
    }
   ],
   "source": [
    "importances = pd.DataFrame(np.zeros((X_train.shape[1], 1)), columns=[\"importance\"], index=X_train.columns)\n",
    "\n",
    "importances.iloc[:,0] = brf_model.feature_importances_\n",
    "\n",
    "importances = importances.sort_values(by=\"importance\", ascending=False)[:40]\n",
    "\n",
    "plt.figure(figsize=(15, 10))\n",
    "sns.barplot(x=\"importance\", y=importances.index, data=importances)\n",
    "plt.title(\"Features by their importance -Random Forest Classifier\")\n",
    "plt.show()"
   ]
  },
  {
   "cell_type": "markdown",
   "id": "cd211aa5",
   "metadata": {},
   "source": [
    "#### Easy Ensemble AdaBoost classifier ."
   ]
  },
  {
   "cell_type": "code",
   "execution_count": 109,
   "id": "4b8049c6",
   "metadata": {
    "scrolled": false
   },
   "outputs": [],
   "source": [
    "# Train the EasyEnsembleClassifier\n",
    "# YOUR CODE HERE\n",
    "from imblearn.ensemble import EasyEnsembleClassifier\n",
    "#model\n",
    "ee_clf = EasyEnsembleClassifier(n_estimators=100,random_state=1)\n",
    "#fit/train\n",
    "ee_clf.fit(X_train,y_train)\n",
    "#predict\n",
    "y_pred=ee_clf.predict(X_test)"
   ]
  },
  {
   "cell_type": "code",
   "execution_count": 110,
   "id": "cdafda25",
   "metadata": {
    "scrolled": false
   },
   "outputs": [
    {
     "data": {
      "text/plain": [
       "0.6119332082866431"
      ]
     },
     "execution_count": 110,
     "metadata": {},
     "output_type": "execute_result"
    }
   ],
   "source": [
    "# Calculated the balanced accuracy score\n",
    "AdaBoost_classifier_accuracy = balanced_accuracy_score(y_test,y_pred)\n",
    "AdaBoost_classifier_accuracy"
   ]
  },
  {
   "cell_type": "code",
   "execution_count": 111,
   "id": "2ddcf88b",
   "metadata": {
    "scrolled": false
   },
   "outputs": [
    {
     "data": {
      "text/plain": [
       "array([[ 108,    2,   18,    2],\n",
       "       [ 463, 6176,  516, 4531],\n",
       "       [  49,   11,  208,   57],\n",
       "       [   9,   90,   99,  161]], dtype=int64)"
      ]
     },
     "execution_count": 111,
     "metadata": {},
     "output_type": "execute_result"
    }
   ],
   "source": [
    "# Display the confusion matrix\n",
    "confusion_matrix(y_test,y_pred)"
   ]
  },
  {
   "cell_type": "code",
   "execution_count": 112,
   "id": "7163a57a",
   "metadata": {
    "scrolled": false
   },
   "outputs": [
    {
     "name": "stdout",
     "output_type": "stream",
     "text": [
      "                   pre       rec       spe        f1       geo       iba       sup\n",
      "\n",
      "          1       0.17      0.83      0.96      0.28      0.89      0.79       130\n",
      "          2       0.98      0.53      0.87      0.69      0.68      0.45     11686\n",
      "          3       0.25      0.64      0.95      0.36      0.78      0.59       325\n",
      "          4       0.03      0.45      0.62      0.06      0.53      0.27       359\n",
      "\n",
      "avg / total       0.93      0.53      0.87      0.66      0.68      0.45     12500\n",
      "\n"
     ]
    }
   ],
   "source": [
    "# Print the imbalanced classification report\n",
    "print(classification_report_imbalanced(y_test, y_pred))"
   ]
  },
  {
   "cell_type": "code",
   "execution_count": 113,
   "id": "dc394e8e",
   "metadata": {},
   "outputs": [
    {
     "data": {
      "text/html": [
       "<div>\n",
       "<style scoped>\n",
       "    .dataframe tbody tr th:only-of-type {\n",
       "        vertical-align: middle;\n",
       "    }\n",
       "\n",
       "    .dataframe tbody tr th {\n",
       "        vertical-align: top;\n",
       "    }\n",
       "\n",
       "    .dataframe thead th {\n",
       "        text-align: right;\n",
       "    }\n",
       "</style>\n",
       "<table border=\"1\" class=\"dataframe\">\n",
       "  <thead>\n",
       "    <tr style=\"text-align: right;\">\n",
       "      <th></th>\n",
       "      <th>Algorithm</th>\n",
       "      <th>Acuuracy_Score</th>\n",
       "    </tr>\n",
       "  </thead>\n",
       "  <tbody>\n",
       "    <tr>\n",
       "      <th>0</th>\n",
       "      <td>Naive Random Oversampling</td>\n",
       "      <td>46.466829</td>\n",
       "    </tr>\n",
       "    <tr>\n",
       "      <th>1</th>\n",
       "      <td>SMOTE Oversampling</td>\n",
       "      <td>45.310460</td>\n",
       "    </tr>\n",
       "    <tr>\n",
       "      <th>2</th>\n",
       "      <td>ClusterCentroids resampler</td>\n",
       "      <td>39.531229</td>\n",
       "    </tr>\n",
       "    <tr>\n",
       "      <th>3</th>\n",
       "      <td>SMOTEENN algorithm</td>\n",
       "      <td>44.588575</td>\n",
       "    </tr>\n",
       "    <tr>\n",
       "      <th>4</th>\n",
       "      <td>Random Forest Classifier</td>\n",
       "      <td>73.019464</td>\n",
       "    </tr>\n",
       "    <tr>\n",
       "      <th>5</th>\n",
       "      <td>Easy Ensemble AdaBoost classifier</td>\n",
       "      <td>61.193321</td>\n",
       "    </tr>\n",
       "  </tbody>\n",
       "</table>\n",
       "</div>"
      ],
      "text/plain": [
       "                           Algorithm  Acuuracy_Score\n",
       "0          Naive Random Oversampling       46.466829\n",
       "1                 SMOTE Oversampling       45.310460\n",
       "2         ClusterCentroids resampler       39.531229\n",
       "3                 SMOTEENN algorithm       44.588575\n",
       "4           Random Forest Classifier       73.019464\n",
       "5  Easy Ensemble AdaBoost classifier       61.193321"
      ]
     },
     "execution_count": 113,
     "metadata": {},
     "output_type": "execute_result"
    }
   ],
   "source": [
    "# Report\n",
    "#train_data=[(accuracy_train*100), (tree_accuracy_train*100), (rf_train_accuracy*100),(xgb_accuracy_train*100)]\n",
    "accuracy=[(Naive_acuracy*100), (SMOTE_acuracy*100), (ClusterCentroids_accuracy*100),(SMOTEENN_accuracy*100),(RandomForest_accuracy*100),(AdaBoost_classifier_accuracy*100)]\n",
    "\n",
    "#F1_score = [f1_lr,f1_tree,f1_rf,f1_xgb]\n",
    "\n",
    "    \n",
    "df = {'Algorithm': ['Naive Random Oversampling','SMOTE Oversampling','ClusterCentroids resampler','SMOTEENN algorithm','Random Forest Classifier','Easy Ensemble AdaBoost classifier'], \\\n",
    "      'Acuuracy_Score':accuracy}\n",
    "\n",
    "#Report = pd.DataFrame(data=df, columns=['Algorithm','Train Data', 'Test Data', 'F1-score'], index=None)\n",
    "Report = pd.DataFrame(data=df, columns=['Algorithm','Acuuracy_Score'], index=None)\n",
    "Report"
   ]
  },
  {
   "cell_type": "code",
   "execution_count": null,
   "id": "870c9ace",
   "metadata": {},
   "outputs": [],
   "source": []
  }
 ],
 "metadata": {
  "kernelspec": {
   "display_name": "mlenv",
   "language": "python",
   "name": "mlenv"
  },
  "language_info": {
   "codemirror_mode": {
    "name": "ipython",
    "version": 3
   },
   "file_extension": ".py",
   "mimetype": "text/x-python",
   "name": "python",
   "nbconvert_exporter": "python",
   "pygments_lexer": "ipython3",
   "version": "3.9.7"
  }
 },
 "nbformat": 4,
 "nbformat_minor": 5
}
