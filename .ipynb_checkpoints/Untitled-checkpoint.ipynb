{
 "cells": [
  {
   "cell_type": "code",
   "execution_count": 11,
   "id": "e29271fe",
   "metadata": {},
   "outputs": [],
   "source": [
    "import sqlalchemy \n",
    "import pandas"
   ]
  },
  {
   "cell_type": "code",
   "execution_count": 14,
   "id": "6337561d",
   "metadata": {},
   "outputs": [],
   "source": [
    "## DB Connection configuration\n",
    "username = \"postgres\"\n",
    "password = \"usaccident\"\n",
    "endpoint = \"us-accident.cnnhjjyro1tm.us-east-1.rds.amazonaws.com\"  # something like amazonaws.com:5432\n",
    "dbname   = \"US_Accident\""
   ]
  },
  {
   "cell_type": "code",
   "execution_count": 15,
   "id": "08ae3a3c",
   "metadata": {},
   "outputs": [],
   "source": [
    "## Connect to Db\n",
    "con = sqlalchemy.create_engine(\"postgresql://%s:%s@%s/%s\" % (username, password, endpoint, dbname))"
   ]
  },
  {
   "cell_type": "code",
   "execution_count": 16,
   "id": "2dda94ee",
   "metadata": {},
   "outputs": [
    {
     "name": "stdout",
     "output_type": "stream",
     "text": [
      "      count  severity  year\n",
      "0      2202         2  2016\n",
      "1       624         3  2016\n",
      "2       644         4  2016\n",
      "3      4774         2  2017\n",
      "4      1339         3  2017\n",
      "5      1377         4  2017\n",
      "6      6220         2  2018\n",
      "7      1448         3  2018\n",
      "8      1626         4  2018\n",
      "9    159197         2  2019\n",
      "10    20806         3  2019\n",
      "11    16129         4  2019\n",
      "12    23556         1  2020\n",
      "13   489021         2  2020\n",
      "14    40371         3  2020\n",
      "15    20652         4  2020\n",
      "16  1395661         2  2021\n",
      "17    21678         4  2021\n"
     ]
    }
   ],
   "source": [
    "## Get Data\n",
    "data = pandas.read_sql(\"select * from severity_year;\", con)\n",
    "print(data)"
   ]
  },
  {
   "cell_type": "code",
   "execution_count": null,
   "id": "96da9d60",
   "metadata": {},
   "outputs": [],
   "source": []
  }
 ],
 "metadata": {
  "kernelspec": {
   "display_name": "mlenv",
   "language": "python",
   "name": "mlenv"
  },
  "language_info": {
   "codemirror_mode": {
    "name": "ipython",
    "version": 3
   },
   "file_extension": ".py",
   "mimetype": "text/x-python",
   "name": "python",
   "nbconvert_exporter": "python",
   "pygments_lexer": "ipython3",
   "version": "3.9.7"
  }
 },
 "nbformat": 4,
 "nbformat_minor": 5
}
