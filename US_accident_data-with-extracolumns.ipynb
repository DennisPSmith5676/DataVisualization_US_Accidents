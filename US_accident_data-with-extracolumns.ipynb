{
 "cells": [
  {
   "cell_type": "code",
   "execution_count": 1,
   "id": "6173b22a",
   "metadata": {
    "scrolled": true
   },
   "outputs": [],
   "source": [
    "import warnings\n",
    "warnings.filterwarnings('ignore')"
   ]
  },
  {
   "cell_type": "code",
   "execution_count": 2,
   "id": "e53a8d6e",
   "metadata": {
    "scrolled": true
   },
   "outputs": [],
   "source": [
    "#import dependencies\n",
    "import numpy as np\n",
    "import pandas as pd\n",
    "from pathlib import Path\n",
    "from collections import Counter"
   ]
  },
  {
   "cell_type": "code",
   "execution_count": 3,
   "id": "d5b8cd00",
   "metadata": {
    "scrolled": true
   },
   "outputs": [],
   "source": [
    "from sklearn.metrics import balanced_accuracy_score\n",
    "from sklearn.metrics import confusion_matrix\n",
    "from imblearn.metrics import classification_report_imbalanced\n",
    "from sklearn.preprocessing import LabelEncoder"
   ]
  },
  {
   "cell_type": "code",
   "execution_count": 4,
   "id": "018a7c6e",
   "metadata": {
    "scrolled": true
   },
   "outputs": [],
   "source": [
    "from scipy import stats\n",
    "import matplotlib.pyplot as plt\n",
    "import seaborn as sns\n",
    "##"
   ]
  },
  {
   "cell_type": "code",
   "execution_count": 5,
   "id": "f722e39a",
   "metadata": {},
   "outputs": [],
   "source": [
    "import sqlalchemy \n",
    "import pandas"
   ]
  },
  {
   "cell_type": "code",
   "execution_count": 6,
   "id": "0291f2bf",
   "metadata": {},
   "outputs": [],
   "source": [
    "#### DB Connection configuration\n",
    "username = \"postgres\"\n",
    "password = \"usaccident\"\n",
    "endpoint = \"us-accident.cnnhjjyro1tm.us-east-1.rds.amazonaws.com\"  # something like amazonaws.com:5432\n",
    "dbname   = \"US_Accident\""
   ]
  },
  {
   "cell_type": "code",
   "execution_count": 7,
   "id": "c8ab26b2",
   "metadata": {},
   "outputs": [],
   "source": [
    "## Connect to Db\n",
    "con = sqlalchemy.create_engine(\"postgresql://%s:%s@%s/%s\" % (username, password, endpoint, dbname))"
   ]
  },
  {
   "cell_type": "code",
   "execution_count": 8,
   "id": "386f0133",
   "metadata": {},
   "outputs": [],
   "source": [
    "## Get Data\n",
    "accident_df = pandas.read_sql(\"select * from clean_accident_data;\", con)\n",
    "#print(accident_df)"
   ]
  },
  {
   "cell_type": "markdown",
   "id": "59e73064",
   "metadata": {},
   "source": [
    "## How Severity the Accidents is ?"
   ]
  },
  {
   "cell_type": "code",
   "execution_count": 9,
   "id": "f31e557c",
   "metadata": {
    "scrolled": true
   },
   "outputs": [],
   "source": [
    "# Files to laod\n",
    "#accident_data= \"DataFile/mock_accident_data.csv\"\n",
    "#accident_data= \"DataFile/US_Accidents_Dec21_updated.csv\"\n",
    "#accident_data=\"https://umausdata.s3.amazonaws.com/DataFile/mock_accident_data.csv\"\n",
    "#accident_df=pd.read_csv(accident_data)"
   ]
  },
  {
   "cell_type": "code",
   "execution_count": 10,
   "id": "27aaf4f9",
   "metadata": {
    "scrolled": true
   },
   "outputs": [
    {
     "data": {
      "text/html": [
       "<div>\n",
       "<style scoped>\n",
       "    .dataframe tbody tr th:only-of-type {\n",
       "        vertical-align: middle;\n",
       "    }\n",
       "\n",
       "    .dataframe tbody tr th {\n",
       "        vertical-align: top;\n",
       "    }\n",
       "\n",
       "    .dataframe thead th {\n",
       "        text-align: right;\n",
       "    }\n",
       "</style>\n",
       "<table border=\"1\" class=\"dataframe\">\n",
       "  <thead>\n",
       "    <tr style=\"text-align: right;\">\n",
       "      <th></th>\n",
       "      <th>index</th>\n",
       "      <th>ID</th>\n",
       "      <th>Severity</th>\n",
       "      <th>Start_Time</th>\n",
       "      <th>End_Time</th>\n",
       "      <th>Start_Lat</th>\n",
       "      <th>Start_Lng</th>\n",
       "      <th>Distance(mi)</th>\n",
       "      <th>Street</th>\n",
       "      <th>Side</th>\n",
       "      <th>...</th>\n",
       "      <th>Traffic_Calming</th>\n",
       "      <th>Traffic_Signal</th>\n",
       "      <th>Turning_Loop</th>\n",
       "      <th>Sunrise_Sunset</th>\n",
       "      <th>Year</th>\n",
       "      <th>Month</th>\n",
       "      <th>Day</th>\n",
       "      <th>Hour</th>\n",
       "      <th>Weekday</th>\n",
       "      <th>time_duration</th>\n",
       "    </tr>\n",
       "  </thead>\n",
       "  <tbody>\n",
       "    <tr>\n",
       "      <th>0</th>\n",
       "      <td>0</td>\n",
       "      <td>1</td>\n",
       "      <td>3</td>\n",
       "      <td>2016-02-08 00:37:08</td>\n",
       "      <td>2016-02-08 06:37:08</td>\n",
       "      <td>40.108910</td>\n",
       "      <td>-83.092860</td>\n",
       "      <td>3.230</td>\n",
       "      <td>Outerbelt E</td>\n",
       "      <td>R</td>\n",
       "      <td>...</td>\n",
       "      <td>False</td>\n",
       "      <td>False</td>\n",
       "      <td>False</td>\n",
       "      <td>Night</td>\n",
       "      <td>2016</td>\n",
       "      <td>Feb</td>\n",
       "      <td>8</td>\n",
       "      <td>0</td>\n",
       "      <td>Mon</td>\n",
       "      <td>360.0</td>\n",
       "    </tr>\n",
       "    <tr>\n",
       "      <th>1</th>\n",
       "      <td>1</td>\n",
       "      <td>5</td>\n",
       "      <td>3</td>\n",
       "      <td>2016-02-08 07:53:43</td>\n",
       "      <td>2016-02-08 13:53:43</td>\n",
       "      <td>39.172393</td>\n",
       "      <td>-84.492792</td>\n",
       "      <td>0.500</td>\n",
       "      <td>I-75 S</td>\n",
       "      <td>R</td>\n",
       "      <td>...</td>\n",
       "      <td>False</td>\n",
       "      <td>False</td>\n",
       "      <td>False</td>\n",
       "      <td>Day</td>\n",
       "      <td>2016</td>\n",
       "      <td>Feb</td>\n",
       "      <td>8</td>\n",
       "      <td>7</td>\n",
       "      <td>Mon</td>\n",
       "      <td>360.0</td>\n",
       "    </tr>\n",
       "    <tr>\n",
       "      <th>2</th>\n",
       "      <td>2</td>\n",
       "      <td>8</td>\n",
       "      <td>2</td>\n",
       "      <td>2016-02-08 11:51:46</td>\n",
       "      <td>2016-02-08 17:51:46</td>\n",
       "      <td>41.375310</td>\n",
       "      <td>-81.820170</td>\n",
       "      <td>0.521</td>\n",
       "      <td>I-71 S</td>\n",
       "      <td>R</td>\n",
       "      <td>...</td>\n",
       "      <td>False</td>\n",
       "      <td>False</td>\n",
       "      <td>False</td>\n",
       "      <td>Day</td>\n",
       "      <td>2016</td>\n",
       "      <td>Feb</td>\n",
       "      <td>8</td>\n",
       "      <td>11</td>\n",
       "      <td>Mon</td>\n",
       "      <td>360.0</td>\n",
       "    </tr>\n",
       "    <tr>\n",
       "      <th>3</th>\n",
       "      <td>3</td>\n",
       "      <td>10</td>\n",
       "      <td>2</td>\n",
       "      <td>2016-02-08 15:16:43</td>\n",
       "      <td>2016-02-08 21:16:43</td>\n",
       "      <td>40.109310</td>\n",
       "      <td>-82.968490</td>\n",
       "      <td>0.826</td>\n",
       "      <td>Outerbelt W</td>\n",
       "      <td>R</td>\n",
       "      <td>...</td>\n",
       "      <td>False</td>\n",
       "      <td>False</td>\n",
       "      <td>False</td>\n",
       "      <td>Day</td>\n",
       "      <td>2016</td>\n",
       "      <td>Feb</td>\n",
       "      <td>8</td>\n",
       "      <td>15</td>\n",
       "      <td>Mon</td>\n",
       "      <td>360.0</td>\n",
       "    </tr>\n",
       "    <tr>\n",
       "      <th>4</th>\n",
       "      <td>4</td>\n",
       "      <td>11</td>\n",
       "      <td>2</td>\n",
       "      <td>2016-02-08 15:43:50</td>\n",
       "      <td>2016-02-08 21:43:50</td>\n",
       "      <td>39.192880</td>\n",
       "      <td>-84.477230</td>\n",
       "      <td>0.307</td>\n",
       "      <td>I-75 N</td>\n",
       "      <td>R</td>\n",
       "      <td>...</td>\n",
       "      <td>False</td>\n",
       "      <td>False</td>\n",
       "      <td>False</td>\n",
       "      <td>Day</td>\n",
       "      <td>2016</td>\n",
       "      <td>Feb</td>\n",
       "      <td>8</td>\n",
       "      <td>15</td>\n",
       "      <td>Mon</td>\n",
       "      <td>360.0</td>\n",
       "    </tr>\n",
       "  </tbody>\n",
       "</table>\n",
       "<p>5 rows × 44 columns</p>\n",
       "</div>"
      ],
      "text/plain": [
       "   index  ID  Severity           Start_Time             End_Time  Start_Lat  \\\n",
       "0      0   1         3  2016-02-08 00:37:08  2016-02-08 06:37:08  40.108910   \n",
       "1      1   5         3  2016-02-08 07:53:43  2016-02-08 13:53:43  39.172393   \n",
       "2      2   8         2  2016-02-08 11:51:46  2016-02-08 17:51:46  41.375310   \n",
       "3      3  10         2  2016-02-08 15:16:43  2016-02-08 21:16:43  40.109310   \n",
       "4      4  11         2  2016-02-08 15:43:50  2016-02-08 21:43:50  39.192880   \n",
       "\n",
       "   Start_Lng  Distance(mi)       Street Side  ... Traffic_Calming  \\\n",
       "0 -83.092860         3.230  Outerbelt E    R  ...           False   \n",
       "1 -84.492792         0.500       I-75 S    R  ...           False   \n",
       "2 -81.820170         0.521       I-71 S    R  ...           False   \n",
       "3 -82.968490         0.826  Outerbelt W    R  ...           False   \n",
       "4 -84.477230         0.307       I-75 N    R  ...           False   \n",
       "\n",
       "  Traffic_Signal Turning_Loop Sunrise_Sunset  Year  Month  Day  Hour  Weekday  \\\n",
       "0          False        False          Night  2016    Feb    8     0      Mon   \n",
       "1          False        False            Day  2016    Feb    8     7      Mon   \n",
       "2          False        False            Day  2016    Feb    8    11      Mon   \n",
       "3          False        False            Day  2016    Feb    8    15      Mon   \n",
       "4          False        False            Day  2016    Feb    8    15      Mon   \n",
       "\n",
       "   time_duration  \n",
       "0          360.0  \n",
       "1          360.0  \n",
       "2          360.0  \n",
       "3          360.0  \n",
       "4          360.0  \n",
       "\n",
       "[5 rows x 44 columns]"
      ]
     },
     "execution_count": 10,
     "metadata": {},
     "output_type": "execute_result"
    }
   ],
   "source": [
    "accident_df.head()"
   ]
  },
  {
   "cell_type": "code",
   "execution_count": 11,
   "id": "48c8a61a",
   "metadata": {
    "scrolled": true
   },
   "outputs": [
    {
     "name": "stdout",
     "output_type": "stream",
     "text": [
      "Index(['index', 'ID', 'Severity', 'Start_Time', 'End_Time', 'Start_Lat',\n",
      "       'Start_Lng', 'Distance(mi)', 'Street', 'Side', 'City', 'County',\n",
      "       'State', 'Zipcode', 'Timezone', 'Temperature(F)', 'Wind_Chill(F)',\n",
      "       'Humidity(%)', 'Pressure(in)', 'Visibility(mi)', 'Wind_Direction',\n",
      "       'Wind_Speed(mph)', 'Precipitation(in)', 'Weather_Condition', 'Amenity',\n",
      "       'Bump', 'Crossing', 'Give_Way', 'Junction', 'No_Exit', 'Railway',\n",
      "       'Roundabout', 'Station', 'Stop', 'Traffic_Calming', 'Traffic_Signal',\n",
      "       'Turning_Loop', 'Sunrise_Sunset', 'Year', 'Month', 'Day', 'Hour',\n",
      "       'Weekday', 'time_duration'],\n",
      "      dtype='object')\n"
     ]
    }
   ],
   "source": [
    "print(accident_df.columns)"
   ]
  },
  {
   "cell_type": "code",
   "execution_count": 12,
   "id": "07b1c30d",
   "metadata": {
    "scrolled": true
   },
   "outputs": [],
   "source": [
    "#drop the non-beneficial columns\n",
    "#accident_df=accident_df.drop(columns=['ID','End_Time','End_Lat','End_Lng','Description','Side','Airport_Code','Civil_Twilight','Nautical_Twilight','Astronomical_Twilight',\"Start_Time\",'ID','Weather_Timestamp','Zipcode','Street','Amenity','Bump','Crossing','Give_Way','Junction','No_Exit','Railway','Roundabout','Station','Stop','Traffic_Calming','Traffic_Signal','Turning_Loop','Country'])\n",
    "accident_df=accident_df.drop(columns=['index','ID','Zipcode','Start_Time','End_Time','Street'])"
   ]
  },
  {
   "cell_type": "code",
   "execution_count": 13,
   "id": "8a255644",
   "metadata": {
    "scrolled": true
   },
   "outputs": [
    {
     "data": {
      "text/plain": [
       "(2207325, 38)"
      ]
     },
     "execution_count": 13,
     "metadata": {},
     "output_type": "execute_result"
    }
   ],
   "source": [
    "accident_df.shape"
   ]
  },
  {
   "cell_type": "code",
   "execution_count": 14,
   "id": "10be42bd",
   "metadata": {
    "scrolled": true
   },
   "outputs": [
    {
     "data": {
      "text/plain": [
       "Severity               int64\n",
       "Start_Lat            float64\n",
       "Start_Lng            float64\n",
       "Distance(mi)         float64\n",
       "Side                  object\n",
       "City                  object\n",
       "County                object\n",
       "State                 object\n",
       "Timezone              object\n",
       "Temperature(F)       float64\n",
       "Wind_Chill(F)        float64\n",
       "Humidity(%)          float64\n",
       "Pressure(in)         float64\n",
       "Visibility(mi)       float64\n",
       "Wind_Direction        object\n",
       "Wind_Speed(mph)      float64\n",
       "Precipitation(in)    float64\n",
       "Weather_Condition     object\n",
       "Amenity                 bool\n",
       "Bump                    bool\n",
       "Crossing                bool\n",
       "Give_Way                bool\n",
       "Junction                bool\n",
       "No_Exit                 bool\n",
       "Railway                 bool\n",
       "Roundabout              bool\n",
       "Station                 bool\n",
       "Stop                    bool\n",
       "Traffic_Calming         bool\n",
       "Traffic_Signal          bool\n",
       "Turning_Loop            bool\n",
       "Sunrise_Sunset        object\n",
       "Year                   int64\n",
       "Month                 object\n",
       "Day                    int64\n",
       "Hour                   int64\n",
       "Weekday               object\n",
       "time_duration        float64\n",
       "dtype: object"
      ]
     },
     "execution_count": 14,
     "metadata": {},
     "output_type": "execute_result"
    }
   ],
   "source": [
    "accident_df.dtypes"
   ]
  },
  {
   "cell_type": "code",
   "execution_count": null,
   "id": "ab01d8ac",
   "metadata": {},
   "outputs": [],
   "source": []
  },
  {
   "cell_type": "code",
   "execution_count": 15,
   "id": "cd1a364e",
   "metadata": {
    "scrolled": true
   },
   "outputs": [
    {
     "data": {
      "text/plain": [
       "Severity                  4\n",
       "Start_Lat            887472\n",
       "Start_Lng            904688\n",
       "Distance(mi)          12753\n",
       "Side                      2\n",
       "City                   9723\n",
       "County                 1541\n",
       "State                    49\n",
       "Timezone                  4\n",
       "Temperature(F)          324\n",
       "Wind_Chill(F)           708\n",
       "Humidity(%)             100\n",
       "Pressure(in)           1007\n",
       "Visibility(mi)           55\n",
       "Wind_Direction           23\n",
       "Wind_Speed(mph)         103\n",
       "Precipitation(in)       207\n",
       "Weather_Condition       114\n",
       "Amenity                   2\n",
       "Bump                      2\n",
       "Crossing                  2\n",
       "Give_Way                  2\n",
       "Junction                  2\n",
       "No_Exit                   2\n",
       "Railway                   2\n",
       "Roundabout                2\n",
       "Station                   2\n",
       "Stop                      2\n",
       "Traffic_Calming           2\n",
       "Traffic_Signal            2\n",
       "Turning_Loop              1\n",
       "Sunrise_Sunset            2\n",
       "Year                      6\n",
       "Month                    12\n",
       "Day                      31\n",
       "Hour                     24\n",
       "Weekday                   7\n",
       "time_duration          5235\n",
       "dtype: int64"
      ]
     },
     "execution_count": 15,
     "metadata": {},
     "output_type": "execute_result"
    }
   ],
   "source": [
    "# Determine the number of unique values in each column.\n",
    "accident_df.nunique()"
   ]
  },
  {
   "cell_type": "code",
   "execution_count": 16,
   "id": "4924d5c8",
   "metadata": {
    "scrolled": true
   },
   "outputs": [],
   "source": [
    "# examine home _ownwrship\n",
    "#street_count=accident_df['Street'].value_counts()"
   ]
  },
  {
   "cell_type": "code",
   "execution_count": 17,
   "id": "7c17a7d4",
   "metadata": {
    "scrolled": true
   },
   "outputs": [],
   "source": [
    "#list(street_count[street_count<20].index)"
   ]
  },
  {
   "cell_type": "code",
   "execution_count": 18,
   "id": "7e4210a5",
   "metadata": {
    "scrolled": true
   },
   "outputs": [],
   "source": [
    "# Determine which values to replace if counts are less than ...? less than 20\n",
    "#replace_street = list(street_count[street_count<20].index)\n",
    "\n",
    "# Replace in dataframe\n",
    "#for street in replace_street:\n",
    "    #accident_df.Street = accident_df.Street.replace(street,\"Other\")\n",
    "    \n",
    "# Check to make sure binning was successful\n",
    "#accident_df.Street.value_counts()"
   ]
  },
  {
   "cell_type": "code",
   "execution_count": 19,
   "id": "6f1be3cb",
   "metadata": {
    "scrolled": true
   },
   "outputs": [],
   "source": [
    "accident_df=accident_df.drop(columns=[])"
   ]
  },
  {
   "cell_type": "code",
   "execution_count": null,
   "id": "c632eb30",
   "metadata": {
    "scrolled": true
   },
   "outputs": [],
   "source": []
  },
  {
   "cell_type": "code",
   "execution_count": 20,
   "id": "75d77d39",
   "metadata": {
    "scrolled": true
   },
   "outputs": [],
   "source": [
    "accident_df=accident_df.dropna()"
   ]
  },
  {
   "cell_type": "code",
   "execution_count": 21,
   "id": "60a30c9f",
   "metadata": {
    "scrolled": true
   },
   "outputs": [],
   "source": [
    "# accident_df.to_csv('C:/Users/Helanga/Desktop/THe_Final_Project_Data_Visualization/DataFile/mock_accident_Cleaneddata.csv', sep=',',encoding='utf-8',header='true')"
   ]
  },
  {
   "cell_type": "code",
   "execution_count": 22,
   "id": "cfb67197",
   "metadata": {
    "scrolled": true
   },
   "outputs": [],
   "source": [
    "#replace all bollean values to integer\n",
    "accident_df.replace({False: 0, True: 1}, inplace=True)"
   ]
  },
  {
   "cell_type": "code",
   "execution_count": 23,
   "id": "c7086654",
   "metadata": {
    "scrolled": true
   },
   "outputs": [
    {
     "data": {
      "text/plain": [
       "Severity               int64\n",
       "Start_Lat            float64\n",
       "Start_Lng            float64\n",
       "Distance(mi)         float64\n",
       "Side                  object\n",
       "City                  object\n",
       "County                object\n",
       "State                 object\n",
       "Timezone              object\n",
       "Temperature(F)       float64\n",
       "Wind_Chill(F)        float64\n",
       "Humidity(%)          float64\n",
       "Pressure(in)         float64\n",
       "Visibility(mi)       float64\n",
       "Wind_Direction        object\n",
       "Wind_Speed(mph)      float64\n",
       "Precipitation(in)    float64\n",
       "Weather_Condition     object\n",
       "Amenity                int64\n",
       "Bump                   int64\n",
       "Crossing               int64\n",
       "Give_Way               int64\n",
       "Junction               int64\n",
       "No_Exit                int64\n",
       "Railway                int64\n",
       "Roundabout             int64\n",
       "Station                int64\n",
       "Stop                   int64\n",
       "Traffic_Calming        int64\n",
       "Traffic_Signal         int64\n",
       "Turning_Loop           int64\n",
       "Sunrise_Sunset        object\n",
       "Year                   int64\n",
       "Month                 object\n",
       "Day                    int64\n",
       "Hour                   int64\n",
       "Weekday               object\n",
       "time_duration        float64\n",
       "dtype: object"
      ]
     },
     "execution_count": 23,
     "metadata": {},
     "output_type": "execute_result"
    }
   ],
   "source": [
    "accident_df.dtypes"
   ]
  },
  {
   "cell_type": "code",
   "execution_count": 24,
   "id": "b7e1c8aa",
   "metadata": {
    "scrolled": true
   },
   "outputs": [
    {
     "data": {
      "text/plain": [
       "2    2057075\n",
       "3      64588\n",
       "4      62106\n",
       "1      23556\n",
       "Name: Severity, dtype: int64"
      ]
     },
     "execution_count": 24,
     "metadata": {},
     "output_type": "execute_result"
    }
   ],
   "source": [
    "# check Severity column\n",
    "accident_df['Severity'].value_counts()"
   ]
  },
  {
   "cell_type": "markdown",
   "id": "f84e5ea0",
   "metadata": {},
   "source": [
    "#### converting the string values into numerical ones using label encoder"
   ]
  },
  {
   "cell_type": "code",
   "execution_count": 25,
   "id": "d355f475",
   "metadata": {
    "scrolled": true
   },
   "outputs": [
    {
     "data": {
      "text/plain": [
       "Index(['Side', 'City', 'County', 'State', 'Timezone', 'Wind_Direction',\n",
       "       'Weather_Condition', 'Sunrise_Sunset', 'Month', 'Weekday'],\n",
       "      dtype='object')"
      ]
     },
     "execution_count": 25,
     "metadata": {},
     "output_type": "execute_result"
    }
   ],
   "source": [
    "# To see which columns have categorical value columns\n",
    "X_cat = accident_df.select_dtypes(include='object').columns\n",
    "X_cat"
   ]
  },
  {
   "cell_type": "code",
   "execution_count": 26,
   "id": "515a7b7a",
   "metadata": {
    "scrolled": false
   },
   "outputs": [
    {
     "name": "stdout",
     "output_type": "stream",
     "text": [
      "Side \n",
      " R    1791597\n",
      "L     415728\n",
      "Name: Side, dtype: int64\n",
      "--------------------------------------\n",
      "City \n",
      " Miami                           97723\n",
      "Los Angeles                     56471\n",
      "Orlando                         49691\n",
      "Dallas                          33052\n",
      "Houston                         28385\n",
      "                                ...  \n",
      "Hilltown                            1\n",
      "West Gardiner                       1\n",
      "Chepachet                           1\n",
      "Maineville                          1\n",
      "American Fork-Pleasant Grove        1\n",
      "Name: City, Length: 9723, dtype: int64\n",
      "--------------------------------------\n",
      "County \n",
      " Los Angeles       163524\n",
      "Miami-Dade        132288\n",
      "Orange             98805\n",
      "San Bernardino     44840\n",
      "San Diego          38620\n",
      "                   ...  \n",
      "Ferry                  1\n",
      "La Salle               1\n",
      "Piscataquis            1\n",
      "Payne                  1\n",
      "Walthall               1\n",
      "Name: County, Length: 1541, dtype: int64\n",
      "--------------------------------------\n",
      "State \n",
      " CA    604477\n",
      "FL    350204\n",
      "TX    108714\n",
      "OR     98754\n",
      "VA     92191\n",
      "PA     87882\n",
      "MN     84652\n",
      "NY     84591\n",
      "SC     81962\n",
      "NC     73930\n",
      "TN     45813\n",
      "LA     43587\n",
      "MD     42112\n",
      "AZ     40965\n",
      "NJ     39284\n",
      "UT     33977\n",
      "MI     30805\n",
      "IL     23706\n",
      "CT     23125\n",
      "GA     22978\n",
      "WA     20084\n",
      "MO     19100\n",
      "AL     16917\n",
      "CO     16189\n",
      "MT     14503\n",
      "IN     12313\n",
      "OH     11355\n",
      "AR      9591\n",
      "DC      8006\n",
      "IA      7380\n",
      "OK      6911\n",
      "ID      6889\n",
      "WV      5971\n",
      "KS      5956\n",
      "MS      3941\n",
      "DE      3857\n",
      "MA      3787\n",
      "KY      3569\n",
      "NV      3451\n",
      "WI      2449\n",
      "NE      2306\n",
      "RI      2124\n",
      "NH      1687\n",
      "ND      1672\n",
      "NM      1618\n",
      "ME       964\n",
      "WY       658\n",
      "VT       214\n",
      "SD       154\n",
      "Name: State, dtype: int64\n",
      "--------------------------------------\n",
      "Timezone \n",
      " US/Eastern     980847\n",
      "US/Pacific     734790\n",
      "US/Central     374368\n",
      "US/Mountain    117320\n",
      "Name: Timezone, dtype: int64\n",
      "--------------------------------------\n",
      "Wind_Direction \n",
      " CALM        408032\n",
      "S           163900\n",
      "W           158931\n",
      "E           119700\n",
      "N           119291\n",
      "WNW         115609\n",
      "NW          113674\n",
      "SSW         107042\n",
      "VAR         101032\n",
      "WSW         100606\n",
      "SW          100580\n",
      "SSE          99911\n",
      "NNW          99872\n",
      "SE           87676\n",
      "ESE          83320\n",
      "ENE          78210\n",
      "NE           72642\n",
      "NNE          69145\n",
      "North         2617\n",
      "West          1830\n",
      "South         1597\n",
      "East          1588\n",
      "Variable       520\n",
      "Name: Wind_Direction, dtype: int64\n",
      "--------------------------------------\n",
      "Weather_Condition \n",
      " Fair                              1042415\n",
      "Cloudy                             334793\n",
      "Mostly Cloudy                      285317\n",
      "Partly Cloudy                      195367\n",
      "Light Rain                         106754\n",
      "                                   ...   \n",
      "Heavy Freezing Rain                     1\n",
      "Heavy Freezing Drizzle                  1\n",
      "Heavy Rain Shower / Windy               1\n",
      "Sand / Dust Whirlwinds / Windy          1\n",
      "Thunder and Hail / Windy                1\n",
      "Name: Weather_Condition, Length: 114, dtype: int64\n",
      "--------------------------------------\n",
      "Sunrise_Sunset \n",
      " Day      1374753\n",
      "Night     832572\n",
      "Name: Sunrise_Sunset, dtype: int64\n",
      "--------------------------------------\n",
      "Month \n",
      " Dec    401295\n",
      "Nov    294749\n",
      "Oct    239141\n",
      "Sep    187179\n",
      "Jun    178954\n",
      "Feb    143705\n",
      "Jan    143257\n",
      "May    138586\n",
      "Apr    132845\n",
      "Aug    126871\n",
      "Jul    113117\n",
      "Mar    107626\n",
      "Name: Month, dtype: int64\n",
      "--------------------------------------\n",
      "Weekday \n",
      " Fri    379067\n",
      "Thu    351793\n",
      "Wed    343524\n",
      "Tue    331677\n",
      "Mon    316659\n",
      "Sat    267921\n",
      "Sun    216684\n",
      "Name: Weekday, dtype: int64\n",
      "--------------------------------------\n"
     ]
    }
   ],
   "source": [
    "# examine all the columns\n",
    "for column in accident_df[X_cat]:\n",
    "    print(column,\"\\n\", accident_df[column].value_counts())\n",
    "    print(\"--------------------------------------\")"
   ]
  },
  {
   "cell_type": "code",
   "execution_count": 27,
   "id": "4e62d3a6",
   "metadata": {
    "scrolled": true
   },
   "outputs": [],
   "source": [
    "from sklearn.preprocessing import LabelEncoder\n",
    "#\n",
    "# Instantiate LabelEncoder\n",
    "#\n",
    "le = LabelEncoder()\n"
   ]
  },
  {
   "cell_type": "code",
   "execution_count": 28,
   "id": "89bf1248",
   "metadata": {
    "scrolled": true
   },
   "outputs": [],
   "source": [
    "# Encode single column Side\n",
    "#\n",
    "#accident_df.Street = le.fit_transform(accident_df.Street)\n",
    "#\n",
    "# Print df.head for checking the transformatio"
   ]
  },
  {
   "cell_type": "code",
   "execution_count": 29,
   "id": "0b465b1a",
   "metadata": {
    "scrolled": true
   },
   "outputs": [],
   "source": [
    "#accident_df['Street']"
   ]
  },
  {
   "cell_type": "code",
   "execution_count": 30,
   "id": "956c9fb7",
   "metadata": {
    "scrolled": true
   },
   "outputs": [],
   "source": [
    "#print(accident_df['Street'].nunique())"
   ]
  },
  {
   "cell_type": "code",
   "execution_count": 31,
   "id": "b8f1f7d9",
   "metadata": {
    "scrolled": true
   },
   "outputs": [],
   "source": [
    "# Encode single column Side\n",
    "#\n",
    "accident_df.Side = le.fit_transform(accident_df.Side)\n",
    "#\n",
    "# Print df.head for checking the transformation"
   ]
  },
  {
   "cell_type": "code",
   "execution_count": 32,
   "id": "b3189cac",
   "metadata": {
    "scrolled": true
   },
   "outputs": [
    {
     "data": {
      "text/plain": [
       "0          1\n",
       "1          1\n",
       "2          1\n",
       "3          1\n",
       "4          1\n",
       "          ..\n",
       "2207320    1\n",
       "2207321    1\n",
       "2207322    1\n",
       "2207323    1\n",
       "2207324    1\n",
       "Name: Side, Length: 2207325, dtype: int32"
      ]
     },
     "execution_count": 32,
     "metadata": {},
     "output_type": "execute_result"
    }
   ],
   "source": [
    "accident_df['Side']"
   ]
  },
  {
   "cell_type": "code",
   "execution_count": 33,
   "id": "9a135671",
   "metadata": {
    "scrolled": true
   },
   "outputs": [],
   "source": [
    "# Encode single column City\n",
    "#\n",
    "accident_df.City = le.fit_transform(accident_df.City)\n",
    "#\n",
    "# Print df.head for checking the transformation"
   ]
  },
  {
   "cell_type": "code",
   "execution_count": 34,
   "id": "244cf796",
   "metadata": {
    "scrolled": true
   },
   "outputs": [
    {
     "data": {
      "text/plain": [
       "0          2324\n",
       "1          1569\n",
       "2          1639\n",
       "3          9374\n",
       "4          1569\n",
       "           ... \n",
       "2207320    7336\n",
       "2207321    7663\n",
       "2207322    6416\n",
       "2207323    1997\n",
       "2207324    3842\n",
       "Name: City, Length: 2207325, dtype: int32"
      ]
     },
     "execution_count": 34,
     "metadata": {},
     "output_type": "execute_result"
    }
   ],
   "source": [
    "accident_df['City']"
   ]
  },
  {
   "cell_type": "code",
   "execution_count": 35,
   "id": "67745ba6",
   "metadata": {
    "scrolled": true
   },
   "outputs": [
    {
     "name": "stdout",
     "output_type": "stream",
     "text": [
      "9723\n"
     ]
    }
   ],
   "source": [
    "#accident_df['City'].unique().value_counts\n",
    "print(accident_df['City'].nunique())"
   ]
  },
  {
   "cell_type": "code",
   "execution_count": 36,
   "id": "1b63c1b6",
   "metadata": {
    "scrolled": true
   },
   "outputs": [],
   "source": [
    "# Encode single column County\n",
    "#\n",
    "accident_df.County = le.fit_transform(accident_df.County)\n",
    "#\n",
    "# Print df.head for checking the transformation"
   ]
  },
  {
   "cell_type": "code",
   "execution_count": 37,
   "id": "7f06a65f",
   "metadata": {
    "scrolled": true
   },
   "outputs": [
    {
     "data": {
      "text/plain": [
       "0           495\n",
       "1           589\n",
       "2           364\n",
       "3           495\n",
       "4           589\n",
       "           ... \n",
       "2207320    1169\n",
       "2207321    1215\n",
       "2207322    1016\n",
       "2207323     806\n",
       "2207324    1214\n",
       "Name: County, Length: 2207325, dtype: int32"
      ]
     },
     "execution_count": 37,
     "metadata": {},
     "output_type": "execute_result"
    }
   ],
   "source": [
    "accident_df['County']"
   ]
  },
  {
   "cell_type": "code",
   "execution_count": 38,
   "id": "5082acb0",
   "metadata": {
    "scrolled": true
   },
   "outputs": [
    {
     "name": "stdout",
     "output_type": "stream",
     "text": [
      "1541\n"
     ]
    }
   ],
   "source": [
    "print(accident_df['County'].nunique())"
   ]
  },
  {
   "cell_type": "code",
   "execution_count": 39,
   "id": "df784171",
   "metadata": {
    "scrolled": true
   },
   "outputs": [],
   "source": [
    "# Encode single column State\n",
    "#\n",
    "accident_df.State = le.fit_transform(accident_df.State)\n",
    "#\n",
    "# Print df.head for checking the transformation"
   ]
  },
  {
   "cell_type": "code",
   "execution_count": 40,
   "id": "995ab438",
   "metadata": {
    "scrolled": true
   },
   "outputs": [
    {
     "data": {
      "text/plain": [
       "0          33\n",
       "1          33\n",
       "2          33\n",
       "3          33\n",
       "4          33\n",
       "           ..\n",
       "2207320     3\n",
       "2207321     3\n",
       "2207322     3\n",
       "2207323     3\n",
       "2207324     3\n",
       "Name: State, Length: 2207325, dtype: int32"
      ]
     },
     "execution_count": 40,
     "metadata": {},
     "output_type": "execute_result"
    }
   ],
   "source": [
    "accident_df['State']"
   ]
  },
  {
   "cell_type": "code",
   "execution_count": 41,
   "id": "1e890226",
   "metadata": {
    "scrolled": true
   },
   "outputs": [],
   "source": [
    "# Encode single column Timezone \n",
    "#\n",
    "accident_df.Timezone  = le.fit_transform(accident_df.Timezone)\n",
    "#\n",
    "# Print df.head for checking the transformation"
   ]
  },
  {
   "cell_type": "code",
   "execution_count": 42,
   "id": "01b31f54",
   "metadata": {
    "scrolled": true
   },
   "outputs": [
    {
     "data": {
      "text/plain": [
       "0          1\n",
       "1          1\n",
       "2          1\n",
       "3          1\n",
       "4          1\n",
       "          ..\n",
       "2207320    3\n",
       "2207321    3\n",
       "2207322    3\n",
       "2207323    3\n",
       "2207324    3\n",
       "Name: Timezone, Length: 2207325, dtype: int32"
      ]
     },
     "execution_count": 42,
     "metadata": {},
     "output_type": "execute_result"
    }
   ],
   "source": [
    "accident_df['Timezone']"
   ]
  },
  {
   "cell_type": "code",
   "execution_count": 43,
   "id": "ed789fb5",
   "metadata": {
    "scrolled": true
   },
   "outputs": [],
   "source": [
    "# Encode single column Wind_Direction \n",
    "#\n",
    "accident_df.Wind_Direction  = le.fit_transform(accident_df.Wind_Direction)\n",
    "#\n",
    "# Print df.head for checking the transformation"
   ]
  },
  {
   "cell_type": "code",
   "execution_count": 44,
   "id": "0c7e2b14",
   "metadata": {
    "scrolled": true
   },
   "outputs": [
    {
     "data": {
      "text/plain": [
       "0          15\n",
       "1          21\n",
       "2          15\n",
       "3          22\n",
       "4           8\n",
       "           ..\n",
       "2207320    19\n",
       "2207321    15\n",
       "2207322    14\n",
       "2207323    15\n",
       "2207324    15\n",
       "Name: Wind_Direction, Length: 2207325, dtype: int32"
      ]
     },
     "execution_count": 44,
     "metadata": {},
     "output_type": "execute_result"
    }
   ],
   "source": [
    "accident_df['Wind_Direction']"
   ]
  },
  {
   "cell_type": "code",
   "execution_count": 45,
   "id": "f68f954e",
   "metadata": {
    "scrolled": true
   },
   "outputs": [],
   "source": [
    "# Encode single column Weather_Condition \n",
    "#\n",
    "accident_df.Weather_Condition  = le.fit_transform(accident_df.Weather_Condition)\n",
    "#\n",
    "# Print df.head for checking the transformation"
   ]
  },
  {
   "cell_type": "code",
   "execution_count": 46,
   "id": "4e9b8523",
   "metadata": {
    "scrolled": true
   },
   "outputs": [
    {
     "data": {
      "text/plain": [
       "0          49\n",
       "1          49\n",
       "2          90\n",
       "3          90\n",
       "4          57\n",
       "           ..\n",
       "2207320    13\n",
       "2207321    13\n",
       "2207322    71\n",
       "2207323    13\n",
       "2207324    13\n",
       "Name: Weather_Condition, Length: 2207325, dtype: int32"
      ]
     },
     "execution_count": 46,
     "metadata": {},
     "output_type": "execute_result"
    }
   ],
   "source": [
    "accident_df['Weather_Condition']"
   ]
  },
  {
   "cell_type": "code",
   "execution_count": 47,
   "id": "14fd67c3",
   "metadata": {
    "scrolled": true
   },
   "outputs": [],
   "source": [
    "# Encode single column Sunrise_Sunset \n",
    "#\n",
    "accident_df.Sunrise_Sunset  = le.fit_transform(accident_df.Sunrise_Sunset)\n",
    "#\n",
    "# Print df.head for checking the transformation"
   ]
  },
  {
   "cell_type": "code",
   "execution_count": 48,
   "id": "ea355e37",
   "metadata": {
    "scrolled": true
   },
   "outputs": [
    {
     "data": {
      "text/plain": [
       "0          1\n",
       "1          0\n",
       "2          0\n",
       "3          0\n",
       "4          0\n",
       "          ..\n",
       "2207320    0\n",
       "2207321    0\n",
       "2207322    0\n",
       "2207323    0\n",
       "2207324    0\n",
       "Name: Sunrise_Sunset, Length: 2207325, dtype: int32"
      ]
     },
     "execution_count": 48,
     "metadata": {},
     "output_type": "execute_result"
    }
   ],
   "source": [
    "accident_df['Sunrise_Sunset']"
   ]
  },
  {
   "cell_type": "code",
   "execution_count": 49,
   "id": "ecf029f3",
   "metadata": {
    "scrolled": true
   },
   "outputs": [],
   "source": [
    "# Encode single column Day \n",
    "#\n",
    "accident_df.Day  = le.fit_transform(accident_df.Day)\n",
    "#\n",
    "# Print df.head for checking the transformation"
   ]
  },
  {
   "cell_type": "code",
   "execution_count": 50,
   "id": "6c3e8c05",
   "metadata": {
    "scrolled": true
   },
   "outputs": [
    {
     "data": {
      "text/plain": [
       "0           7\n",
       "1           7\n",
       "2           7\n",
       "3           7\n",
       "4           7\n",
       "           ..\n",
       "2207320    22\n",
       "2207321    22\n",
       "2207322    22\n",
       "2207323    22\n",
       "2207324    22\n",
       "Name: Day, Length: 2207325, dtype: int64"
      ]
     },
     "execution_count": 50,
     "metadata": {},
     "output_type": "execute_result"
    }
   ],
   "source": [
    "accident_df['Day']"
   ]
  },
  {
   "cell_type": "code",
   "execution_count": 51,
   "id": "5e3eecc4",
   "metadata": {},
   "outputs": [],
   "source": [
    "# Encode single column Day \n",
    "#\n",
    "accident_df.Weekday  = le.fit_transform(accident_df.Weekday)\n",
    "#\n",
    "# Print df.head for checking the transformation"
   ]
  },
  {
   "cell_type": "code",
   "execution_count": 52,
   "id": "dc06afef",
   "metadata": {},
   "outputs": [
    {
     "data": {
      "text/plain": [
       "0          1\n",
       "1          1\n",
       "2          1\n",
       "3          1\n",
       "4          1\n",
       "          ..\n",
       "2207320    0\n",
       "2207321    0\n",
       "2207322    0\n",
       "2207323    0\n",
       "2207324    0\n",
       "Name: Weekday, Length: 2207325, dtype: int32"
      ]
     },
     "execution_count": 52,
     "metadata": {},
     "output_type": "execute_result"
    }
   ],
   "source": [
    "accident_df['Weekday']"
   ]
  },
  {
   "cell_type": "code",
   "execution_count": 53,
   "id": "fd63e509",
   "metadata": {},
   "outputs": [],
   "source": [
    "# Encode single column Day \n",
    "#\n",
    "accident_df.Month  = le.fit_transform(accident_df.Month)\n",
    "#\n",
    "# Print df.head for checking the transformation"
   ]
  },
  {
   "cell_type": "code",
   "execution_count": 54,
   "id": "638a95eb",
   "metadata": {},
   "outputs": [
    {
     "data": {
      "text/plain": [
       "0          3\n",
       "1          3\n",
       "2          3\n",
       "3          3\n",
       "4          3\n",
       "          ..\n",
       "2207320    1\n",
       "2207321    1\n",
       "2207322    1\n",
       "2207323    1\n",
       "2207324    1\n",
       "Name: Month, Length: 2207325, dtype: int32"
      ]
     },
     "execution_count": 54,
     "metadata": {},
     "output_type": "execute_result"
    }
   ],
   "source": [
    "accident_df['Month']"
   ]
  },
  {
   "cell_type": "code",
   "execution_count": 55,
   "id": "22cf540c",
   "metadata": {
    "scrolled": true
   },
   "outputs": [
    {
     "data": {
      "text/plain": [
       "Severity               int64\n",
       "Start_Lat            float64\n",
       "Start_Lng            float64\n",
       "Distance(mi)         float64\n",
       "Side                   int32\n",
       "City                   int32\n",
       "County                 int32\n",
       "State                  int32\n",
       "Timezone               int32\n",
       "Temperature(F)       float64\n",
       "Wind_Chill(F)        float64\n",
       "Humidity(%)          float64\n",
       "Pressure(in)         float64\n",
       "Visibility(mi)       float64\n",
       "Wind_Direction         int32\n",
       "Wind_Speed(mph)      float64\n",
       "Precipitation(in)    float64\n",
       "Weather_Condition      int32\n",
       "Amenity                int64\n",
       "Bump                   int64\n",
       "Crossing               int64\n",
       "Give_Way               int64\n",
       "Junction               int64\n",
       "No_Exit                int64\n",
       "Railway                int64\n",
       "Roundabout             int64\n",
       "Station                int64\n",
       "Stop                   int64\n",
       "Traffic_Calming        int64\n",
       "Traffic_Signal         int64\n",
       "Turning_Loop           int64\n",
       "Sunrise_Sunset         int32\n",
       "Year                   int64\n",
       "Month                  int32\n",
       "Day                    int64\n",
       "Hour                   int64\n",
       "Weekday                int32\n",
       "time_duration        float64\n",
       "dtype: object"
      ]
     },
     "execution_count": 55,
     "metadata": {},
     "output_type": "execute_result"
    }
   ],
   "source": [
    "accident_df.dtypes"
   ]
  },
  {
   "cell_type": "markdown",
   "id": "c9e3ef2b",
   "metadata": {},
   "source": [
    "#### Split the Data into Training and Testing"
   ]
  },
  {
   "cell_type": "code",
   "execution_count": 56,
   "id": "c0c81722",
   "metadata": {
    "scrolled": true
   },
   "outputs": [
    {
     "data": {
      "text/html": [
       "<div>\n",
       "<style scoped>\n",
       "    .dataframe tbody tr th:only-of-type {\n",
       "        vertical-align: middle;\n",
       "    }\n",
       "\n",
       "    .dataframe tbody tr th {\n",
       "        vertical-align: top;\n",
       "    }\n",
       "\n",
       "    .dataframe thead th {\n",
       "        text-align: right;\n",
       "    }\n",
       "</style>\n",
       "<table border=\"1\" class=\"dataframe\">\n",
       "  <thead>\n",
       "    <tr style=\"text-align: right;\">\n",
       "      <th></th>\n",
       "      <th>Start_Lat</th>\n",
       "      <th>Start_Lng</th>\n",
       "      <th>Distance(mi)</th>\n",
       "      <th>Side</th>\n",
       "      <th>City</th>\n",
       "      <th>County</th>\n",
       "      <th>State</th>\n",
       "      <th>Timezone</th>\n",
       "      <th>Temperature(F)</th>\n",
       "      <th>Wind_Chill(F)</th>\n",
       "      <th>...</th>\n",
       "      <th>Traffic_Calming</th>\n",
       "      <th>Traffic_Signal</th>\n",
       "      <th>Turning_Loop</th>\n",
       "      <th>Sunrise_Sunset</th>\n",
       "      <th>Year</th>\n",
       "      <th>Month</th>\n",
       "      <th>Day</th>\n",
       "      <th>Hour</th>\n",
       "      <th>Weekday</th>\n",
       "      <th>time_duration</th>\n",
       "    </tr>\n",
       "  </thead>\n",
       "  <tbody>\n",
       "    <tr>\n",
       "      <th>0</th>\n",
       "      <td>40.108910</td>\n",
       "      <td>-83.092860</td>\n",
       "      <td>3.230</td>\n",
       "      <td>1</td>\n",
       "      <td>2324</td>\n",
       "      <td>495</td>\n",
       "      <td>33</td>\n",
       "      <td>1</td>\n",
       "      <td>42.1</td>\n",
       "      <td>36.1</td>\n",
       "      <td>...</td>\n",
       "      <td>0</td>\n",
       "      <td>0</td>\n",
       "      <td>0</td>\n",
       "      <td>1</td>\n",
       "      <td>2016</td>\n",
       "      <td>3</td>\n",
       "      <td>7</td>\n",
       "      <td>0</td>\n",
       "      <td>1</td>\n",
       "      <td>360.0</td>\n",
       "    </tr>\n",
       "    <tr>\n",
       "      <th>1</th>\n",
       "      <td>39.172393</td>\n",
       "      <td>-84.492792</td>\n",
       "      <td>0.500</td>\n",
       "      <td>1</td>\n",
       "      <td>1569</td>\n",
       "      <td>589</td>\n",
       "      <td>33</td>\n",
       "      <td>1</td>\n",
       "      <td>37.0</td>\n",
       "      <td>29.8</td>\n",
       "      <td>...</td>\n",
       "      <td>0</td>\n",
       "      <td>0</td>\n",
       "      <td>0</td>\n",
       "      <td>0</td>\n",
       "      <td>2016</td>\n",
       "      <td>3</td>\n",
       "      <td>7</td>\n",
       "      <td>7</td>\n",
       "      <td>1</td>\n",
       "      <td>360.0</td>\n",
       "    </tr>\n",
       "    <tr>\n",
       "      <th>2</th>\n",
       "      <td>41.375310</td>\n",
       "      <td>-81.820170</td>\n",
       "      <td>0.521</td>\n",
       "      <td>1</td>\n",
       "      <td>1639</td>\n",
       "      <td>364</td>\n",
       "      <td>33</td>\n",
       "      <td>1</td>\n",
       "      <td>33.1</td>\n",
       "      <td>30.0</td>\n",
       "      <td>...</td>\n",
       "      <td>0</td>\n",
       "      <td>0</td>\n",
       "      <td>0</td>\n",
       "      <td>0</td>\n",
       "      <td>2016</td>\n",
       "      <td>3</td>\n",
       "      <td>7</td>\n",
       "      <td>11</td>\n",
       "      <td>1</td>\n",
       "      <td>360.0</td>\n",
       "    </tr>\n",
       "    <tr>\n",
       "      <th>3</th>\n",
       "      <td>40.109310</td>\n",
       "      <td>-82.968490</td>\n",
       "      <td>0.826</td>\n",
       "      <td>1</td>\n",
       "      <td>9374</td>\n",
       "      <td>495</td>\n",
       "      <td>33</td>\n",
       "      <td>1</td>\n",
       "      <td>32.0</td>\n",
       "      <td>28.7</td>\n",
       "      <td>...</td>\n",
       "      <td>0</td>\n",
       "      <td>0</td>\n",
       "      <td>0</td>\n",
       "      <td>0</td>\n",
       "      <td>2016</td>\n",
       "      <td>3</td>\n",
       "      <td>7</td>\n",
       "      <td>15</td>\n",
       "      <td>1</td>\n",
       "      <td>360.0</td>\n",
       "    </tr>\n",
       "    <tr>\n",
       "      <th>4</th>\n",
       "      <td>39.192880</td>\n",
       "      <td>-84.477230</td>\n",
       "      <td>0.307</td>\n",
       "      <td>1</td>\n",
       "      <td>1569</td>\n",
       "      <td>589</td>\n",
       "      <td>33</td>\n",
       "      <td>1</td>\n",
       "      <td>33.8</td>\n",
       "      <td>29.6</td>\n",
       "      <td>...</td>\n",
       "      <td>0</td>\n",
       "      <td>0</td>\n",
       "      <td>0</td>\n",
       "      <td>0</td>\n",
       "      <td>2016</td>\n",
       "      <td>3</td>\n",
       "      <td>7</td>\n",
       "      <td>15</td>\n",
       "      <td>1</td>\n",
       "      <td>360.0</td>\n",
       "    </tr>\n",
       "  </tbody>\n",
       "</table>\n",
       "<p>5 rows × 37 columns</p>\n",
       "</div>"
      ],
      "text/plain": [
       "   Start_Lat  Start_Lng  Distance(mi)  Side  City  County  State  Timezone  \\\n",
       "0  40.108910 -83.092860         3.230     1  2324     495     33         1   \n",
       "1  39.172393 -84.492792         0.500     1  1569     589     33         1   \n",
       "2  41.375310 -81.820170         0.521     1  1639     364     33         1   \n",
       "3  40.109310 -82.968490         0.826     1  9374     495     33         1   \n",
       "4  39.192880 -84.477230         0.307     1  1569     589     33         1   \n",
       "\n",
       "   Temperature(F)  Wind_Chill(F)  ...  Traffic_Calming  Traffic_Signal  \\\n",
       "0            42.1           36.1  ...                0               0   \n",
       "1            37.0           29.8  ...                0               0   \n",
       "2            33.1           30.0  ...                0               0   \n",
       "3            32.0           28.7  ...                0               0   \n",
       "4            33.8           29.6  ...                0               0   \n",
       "\n",
       "   Turning_Loop  Sunrise_Sunset  Year  Month  Day  Hour  Weekday  \\\n",
       "0             0               1  2016      3    7     0        1   \n",
       "1             0               0  2016      3    7     7        1   \n",
       "2             0               0  2016      3    7    11        1   \n",
       "3             0               0  2016      3    7    15        1   \n",
       "4             0               0  2016      3    7    15        1   \n",
       "\n",
       "   time_duration  \n",
       "0          360.0  \n",
       "1          360.0  \n",
       "2          360.0  \n",
       "3          360.0  \n",
       "4          360.0  \n",
       "\n",
       "[5 rows x 37 columns]"
      ]
     },
     "execution_count": 56,
     "metadata": {},
     "output_type": "execute_result"
    }
   ],
   "source": [
    "# Create our features\n",
    "X = accident_df.drop(\"Severity\",axis=1) \n",
    "X.head()"
   ]
  },
  {
   "cell_type": "code",
   "execution_count": 57,
   "id": "216c2b01",
   "metadata": {
    "scrolled": true
   },
   "outputs": [
    {
     "data": {
      "text/html": [
       "<div>\n",
       "<style scoped>\n",
       "    .dataframe tbody tr th:only-of-type {\n",
       "        vertical-align: middle;\n",
       "    }\n",
       "\n",
       "    .dataframe tbody tr th {\n",
       "        vertical-align: top;\n",
       "    }\n",
       "\n",
       "    .dataframe thead th {\n",
       "        text-align: right;\n",
       "    }\n",
       "</style>\n",
       "<table border=\"1\" class=\"dataframe\">\n",
       "  <thead>\n",
       "    <tr style=\"text-align: right;\">\n",
       "      <th></th>\n",
       "      <th>Start_Lat</th>\n",
       "      <th>Start_Lng</th>\n",
       "      <th>Distance(mi)</th>\n",
       "      <th>Side</th>\n",
       "      <th>City</th>\n",
       "      <th>County</th>\n",
       "      <th>State</th>\n",
       "      <th>Timezone</th>\n",
       "      <th>Temperature(F)</th>\n",
       "      <th>Wind_Chill(F)</th>\n",
       "      <th>...</th>\n",
       "      <th>Traffic_Calming</th>\n",
       "      <th>Traffic_Signal</th>\n",
       "      <th>Turning_Loop</th>\n",
       "      <th>Sunrise_Sunset</th>\n",
       "      <th>Year</th>\n",
       "      <th>Month</th>\n",
       "      <th>Day</th>\n",
       "      <th>Hour</th>\n",
       "      <th>Weekday</th>\n",
       "      <th>time_duration</th>\n",
       "    </tr>\n",
       "  </thead>\n",
       "  <tbody>\n",
       "    <tr>\n",
       "      <th>count</th>\n",
       "      <td>2.207325e+06</td>\n",
       "      <td>2.207325e+06</td>\n",
       "      <td>2.207325e+06</td>\n",
       "      <td>2.207325e+06</td>\n",
       "      <td>2.207325e+06</td>\n",
       "      <td>2.207325e+06</td>\n",
       "      <td>2.207325e+06</td>\n",
       "      <td>2.207325e+06</td>\n",
       "      <td>2.207325e+06</td>\n",
       "      <td>2.207325e+06</td>\n",
       "      <td>...</td>\n",
       "      <td>2.207325e+06</td>\n",
       "      <td>2.207325e+06</td>\n",
       "      <td>2207325.0</td>\n",
       "      <td>2.207325e+06</td>\n",
       "      <td>2.207325e+06</td>\n",
       "      <td>2.207325e+06</td>\n",
       "      <td>2.207325e+06</td>\n",
       "      <td>2.207325e+06</td>\n",
       "      <td>2.207325e+06</td>\n",
       "      <td>2.207325e+06</td>\n",
       "    </tr>\n",
       "    <tr>\n",
       "      <th>mean</th>\n",
       "      <td>3.600726e+01</td>\n",
       "      <td>-9.662094e+01</td>\n",
       "      <td>6.967840e-01</td>\n",
       "      <td>8.116598e-01</td>\n",
       "      <td>4.944893e+03</td>\n",
       "      <td>8.323376e+02</td>\n",
       "      <td>1.818565e+01</td>\n",
       "      <td>1.549322e+00</td>\n",
       "      <td>6.183808e+01</td>\n",
       "      <td>6.071642e+01</td>\n",
       "      <td>...</td>\n",
       "      <td>6.673236e-04</td>\n",
       "      <td>9.654944e-02</td>\n",
       "      <td>0.0</td>\n",
       "      <td>3.771860e-01</td>\n",
       "      <td>2.020528e+03</td>\n",
       "      <td>5.680225e+00</td>\n",
       "      <td>1.514983e+01</td>\n",
       "      <td>1.287016e+01</td>\n",
       "      <td>3.003298e+00</td>\n",
       "      <td>3.456354e+02</td>\n",
       "    </tr>\n",
       "    <tr>\n",
       "      <th>std</th>\n",
       "      <td>5.472439e+00</td>\n",
       "      <td>1.826454e+01</td>\n",
       "      <td>1.505373e+00</td>\n",
       "      <td>3.909837e-01</td>\n",
       "      <td>2.662235e+03</td>\n",
       "      <td>3.793475e+02</td>\n",
       "      <td>1.512152e+01</td>\n",
       "      <td>1.119173e+00</td>\n",
       "      <td>1.856172e+01</td>\n",
       "      <td>2.051819e+01</td>\n",
       "      <td>...</td>\n",
       "      <td>2.582399e-02</td>\n",
       "      <td>2.953433e-01</td>\n",
       "      <td>0.0</td>\n",
       "      <td>4.846822e-01</td>\n",
       "      <td>7.241055e-01</td>\n",
       "      <td>3.558370e+00</td>\n",
       "      <td>8.699834e+00</td>\n",
       "      <td>5.927165e+00</td>\n",
       "      <td>2.098063e+00</td>\n",
       "      <td>9.345674e+03</td>\n",
       "    </tr>\n",
       "    <tr>\n",
       "      <th>min</th>\n",
       "      <td>2.456603e+01</td>\n",
       "      <td>-1.245481e+02</td>\n",
       "      <td>0.000000e+00</td>\n",
       "      <td>0.000000e+00</td>\n",
       "      <td>0.000000e+00</td>\n",
       "      <td>0.000000e+00</td>\n",
       "      <td>0.000000e+00</td>\n",
       "      <td>0.000000e+00</td>\n",
       "      <td>-3.300000e+01</td>\n",
       "      <td>-5.010000e+01</td>\n",
       "      <td>...</td>\n",
       "      <td>0.000000e+00</td>\n",
       "      <td>0.000000e+00</td>\n",
       "      <td>0.0</td>\n",
       "      <td>0.000000e+00</td>\n",
       "      <td>2.016000e+03</td>\n",
       "      <td>0.000000e+00</td>\n",
       "      <td>0.000000e+00</td>\n",
       "      <td>0.000000e+00</td>\n",
       "      <td>0.000000e+00</td>\n",
       "      <td>2.000000e+00</td>\n",
       "    </tr>\n",
       "    <tr>\n",
       "      <th>25%</th>\n",
       "      <td>3.296134e+01</td>\n",
       "      <td>-1.179776e+02</td>\n",
       "      <td>4.600000e-02</td>\n",
       "      <td>1.000000e+00</td>\n",
       "      <td>2.791000e+03</td>\n",
       "      <td>5.710000e+02</td>\n",
       "      <td>3.000000e+00</td>\n",
       "      <td>1.000000e+00</td>\n",
       "      <td>5.000000e+01</td>\n",
       "      <td>5.000000e+01</td>\n",
       "      <td>...</td>\n",
       "      <td>0.000000e+00</td>\n",
       "      <td>0.000000e+00</td>\n",
       "      <td>0.0</td>\n",
       "      <td>0.000000e+00</td>\n",
       "      <td>2.020000e+03</td>\n",
       "      <td>2.000000e+00</td>\n",
       "      <td>8.000000e+00</td>\n",
       "      <td>8.000000e+00</td>\n",
       "      <td>1.000000e+00</td>\n",
       "      <td>7.300000e+01</td>\n",
       "    </tr>\n",
       "    <tr>\n",
       "      <th>50%</th>\n",
       "      <td>3.574229e+01</td>\n",
       "      <td>-9.106649e+01</td>\n",
       "      <td>2.100000e-01</td>\n",
       "      <td>1.000000e+00</td>\n",
       "      <td>5.404000e+03</td>\n",
       "      <td>8.810000e+02</td>\n",
       "      <td>1.000000e+01</td>\n",
       "      <td>1.000000e+00</td>\n",
       "      <td>6.400000e+01</td>\n",
       "      <td>6.400000e+01</td>\n",
       "      <td>...</td>\n",
       "      <td>0.000000e+00</td>\n",
       "      <td>0.000000e+00</td>\n",
       "      <td>0.0</td>\n",
       "      <td>0.000000e+00</td>\n",
       "      <td>2.021000e+03</td>\n",
       "      <td>6.000000e+00</td>\n",
       "      <td>1.500000e+01</td>\n",
       "      <td>1.400000e+01</td>\n",
       "      <td>3.000000e+00</td>\n",
       "      <td>1.040000e+02</td>\n",
       "    </tr>\n",
       "    <tr>\n",
       "      <th>75%</th>\n",
       "      <td>4.006834e+01</td>\n",
       "      <td>-8.033520e+01</td>\n",
       "      <td>7.820000e-01</td>\n",
       "      <td>1.000000e+00</td>\n",
       "      <td>7.191000e+03</td>\n",
       "      <td>1.140000e+03</td>\n",
       "      <td>3.500000e+01</td>\n",
       "      <td>3.000000e+00</td>\n",
       "      <td>7.600000e+01</td>\n",
       "      <td>7.600000e+01</td>\n",
       "      <td>...</td>\n",
       "      <td>0.000000e+00</td>\n",
       "      <td>0.000000e+00</td>\n",
       "      <td>0.0</td>\n",
       "      <td>1.000000e+00</td>\n",
       "      <td>2.021000e+03</td>\n",
       "      <td>9.000000e+00</td>\n",
       "      <td>2.200000e+01</td>\n",
       "      <td>1.700000e+01</td>\n",
       "      <td>5.000000e+00</td>\n",
       "      <td>1.540000e+02</td>\n",
       "    </tr>\n",
       "    <tr>\n",
       "      <th>max</th>\n",
       "      <td>4.900058e+01</td>\n",
       "      <td>-6.748413e+01</td>\n",
       "      <td>1.551860e+02</td>\n",
       "      <td>1.000000e+00</td>\n",
       "      <td>9.722000e+03</td>\n",
       "      <td>1.540000e+03</td>\n",
       "      <td>4.800000e+01</td>\n",
       "      <td>3.000000e+00</td>\n",
       "      <td>1.960000e+02</td>\n",
       "      <td>1.960000e+02</td>\n",
       "      <td>...</td>\n",
       "      <td>1.000000e+00</td>\n",
       "      <td>1.000000e+00</td>\n",
       "      <td>0.0</td>\n",
       "      <td>1.000000e+00</td>\n",
       "      <td>2.021000e+03</td>\n",
       "      <td>1.100000e+01</td>\n",
       "      <td>3.000000e+01</td>\n",
       "      <td>2.300000e+01</td>\n",
       "      <td>6.000000e+00</td>\n",
       "      <td>9.613790e+05</td>\n",
       "    </tr>\n",
       "  </tbody>\n",
       "</table>\n",
       "<p>8 rows × 37 columns</p>\n",
       "</div>"
      ],
      "text/plain": [
       "          Start_Lat     Start_Lng  Distance(mi)          Side          City  \\\n",
       "count  2.207325e+06  2.207325e+06  2.207325e+06  2.207325e+06  2.207325e+06   \n",
       "mean   3.600726e+01 -9.662094e+01  6.967840e-01  8.116598e-01  4.944893e+03   \n",
       "std    5.472439e+00  1.826454e+01  1.505373e+00  3.909837e-01  2.662235e+03   \n",
       "min    2.456603e+01 -1.245481e+02  0.000000e+00  0.000000e+00  0.000000e+00   \n",
       "25%    3.296134e+01 -1.179776e+02  4.600000e-02  1.000000e+00  2.791000e+03   \n",
       "50%    3.574229e+01 -9.106649e+01  2.100000e-01  1.000000e+00  5.404000e+03   \n",
       "75%    4.006834e+01 -8.033520e+01  7.820000e-01  1.000000e+00  7.191000e+03   \n",
       "max    4.900058e+01 -6.748413e+01  1.551860e+02  1.000000e+00  9.722000e+03   \n",
       "\n",
       "             County         State      Timezone  Temperature(F)  \\\n",
       "count  2.207325e+06  2.207325e+06  2.207325e+06    2.207325e+06   \n",
       "mean   8.323376e+02  1.818565e+01  1.549322e+00    6.183808e+01   \n",
       "std    3.793475e+02  1.512152e+01  1.119173e+00    1.856172e+01   \n",
       "min    0.000000e+00  0.000000e+00  0.000000e+00   -3.300000e+01   \n",
       "25%    5.710000e+02  3.000000e+00  1.000000e+00    5.000000e+01   \n",
       "50%    8.810000e+02  1.000000e+01  1.000000e+00    6.400000e+01   \n",
       "75%    1.140000e+03  3.500000e+01  3.000000e+00    7.600000e+01   \n",
       "max    1.540000e+03  4.800000e+01  3.000000e+00    1.960000e+02   \n",
       "\n",
       "       Wind_Chill(F)  ...  Traffic_Calming  Traffic_Signal  Turning_Loop  \\\n",
       "count   2.207325e+06  ...     2.207325e+06    2.207325e+06     2207325.0   \n",
       "mean    6.071642e+01  ...     6.673236e-04    9.654944e-02           0.0   \n",
       "std     2.051819e+01  ...     2.582399e-02    2.953433e-01           0.0   \n",
       "min    -5.010000e+01  ...     0.000000e+00    0.000000e+00           0.0   \n",
       "25%     5.000000e+01  ...     0.000000e+00    0.000000e+00           0.0   \n",
       "50%     6.400000e+01  ...     0.000000e+00    0.000000e+00           0.0   \n",
       "75%     7.600000e+01  ...     0.000000e+00    0.000000e+00           0.0   \n",
       "max     1.960000e+02  ...     1.000000e+00    1.000000e+00           0.0   \n",
       "\n",
       "       Sunrise_Sunset          Year         Month           Day          Hour  \\\n",
       "count    2.207325e+06  2.207325e+06  2.207325e+06  2.207325e+06  2.207325e+06   \n",
       "mean     3.771860e-01  2.020528e+03  5.680225e+00  1.514983e+01  1.287016e+01   \n",
       "std      4.846822e-01  7.241055e-01  3.558370e+00  8.699834e+00  5.927165e+00   \n",
       "min      0.000000e+00  2.016000e+03  0.000000e+00  0.000000e+00  0.000000e+00   \n",
       "25%      0.000000e+00  2.020000e+03  2.000000e+00  8.000000e+00  8.000000e+00   \n",
       "50%      0.000000e+00  2.021000e+03  6.000000e+00  1.500000e+01  1.400000e+01   \n",
       "75%      1.000000e+00  2.021000e+03  9.000000e+00  2.200000e+01  1.700000e+01   \n",
       "max      1.000000e+00  2.021000e+03  1.100000e+01  3.000000e+01  2.300000e+01   \n",
       "\n",
       "            Weekday  time_duration  \n",
       "count  2.207325e+06   2.207325e+06  \n",
       "mean   3.003298e+00   3.456354e+02  \n",
       "std    2.098063e+00   9.345674e+03  \n",
       "min    0.000000e+00   2.000000e+00  \n",
       "25%    1.000000e+00   7.300000e+01  \n",
       "50%    3.000000e+00   1.040000e+02  \n",
       "75%    5.000000e+00   1.540000e+02  \n",
       "max    6.000000e+00   9.613790e+05  \n",
       "\n",
       "[8 rows x 37 columns]"
      ]
     },
     "execution_count": 57,
     "metadata": {},
     "output_type": "execute_result"
    }
   ],
   "source": [
    "X.describe()"
   ]
  },
  {
   "cell_type": "code",
   "execution_count": null,
   "id": "e904357f",
   "metadata": {},
   "outputs": [],
   "source": []
  },
  {
   "cell_type": "code",
   "execution_count": 58,
   "id": "c31f1631",
   "metadata": {
    "scrolled": true
   },
   "outputs": [
    {
     "data": {
      "text/plain": [
       "2    2057075\n",
       "3      64588\n",
       "4      62106\n",
       "1      23556\n",
       "Name: Severity, dtype: int64"
      ]
     },
     "execution_count": 58,
     "metadata": {},
     "output_type": "execute_result"
    }
   ],
   "source": [
    "#Create our target\n",
    "y = accident_df['Severity']\n",
    "y.value_counts()"
   ]
  },
  {
   "cell_type": "code",
   "execution_count": 59,
   "id": "a1cdfb3c",
   "metadata": {
    "scrolled": true
   },
   "outputs": [
    {
     "data": {
      "text/plain": [
       "(2207325, 37)"
      ]
     },
     "execution_count": 59,
     "metadata": {},
     "output_type": "execute_result"
    }
   ],
   "source": [
    "# examine shape of X\n",
    "\n",
    "X.shape"
   ]
  },
  {
   "cell_type": "code",
   "execution_count": null,
   "id": "add4c602",
   "metadata": {
    "scrolled": true
   },
   "outputs": [],
   "source": []
  },
  {
   "cell_type": "code",
   "execution_count": 60,
   "id": "227d2ec6",
   "metadata": {
    "scrolled": true
   },
   "outputs": [
    {
     "data": {
      "text/plain": [
       "(2207325,)"
      ]
     },
     "execution_count": 60,
     "metadata": {},
     "output_type": "execute_result"
    }
   ],
   "source": [
    "y.shape"
   ]
  },
  {
   "cell_type": "markdown",
   "id": "18aae6d6",
   "metadata": {},
   "source": [
    "#### Split encoded Data into Training and Testing"
   ]
  },
  {
   "cell_type": "code",
   "execution_count": 61,
   "id": "6ef58a4e",
   "metadata": {
    "scrolled": true
   },
   "outputs": [],
   "source": [
    "from sklearn.model_selection import train_test_split\n",
    "X_train,X_test,y_train,y_test = train_test_split(X,y, random_state = 1)"
   ]
  },
  {
   "cell_type": "code",
   "execution_count": 62,
   "id": "f396e3ba",
   "metadata": {
    "scrolled": true
   },
   "outputs": [],
   "source": [
    "X_train = X_train.replace((np.inf, -np.inf, np.nan), 0).reset_index(drop=True)"
   ]
  },
  {
   "cell_type": "markdown",
   "id": "8f5b1046",
   "metadata": {},
   "source": [
    "###### Standered Scaler to scale data"
   ]
  },
  {
   "cell_type": "code",
   "execution_count": 63,
   "id": "48eb7da2",
   "metadata": {},
   "outputs": [],
   "source": [
    "#from sklearn.preprocessing import StandardScaler\n",
    "# Create a StandardScaler instances\n",
    "#scaler = StandardScaler()\n",
    "\n",
    "# Fit the StandardScaler\n",
    "#X_scaler = scaler.fit(X_train)\n",
    "\n",
    "# Scale the data\n",
    "#X_train_scaled = X_scaler.transform(X_train)\n",
    "#X_test_scaled = X_scaler.transform(X_test)"
   ]
  },
  {
   "cell_type": "code",
   "execution_count": 64,
   "id": "b487746a",
   "metadata": {
    "scrolled": true
   },
   "outputs": [
    {
     "data": {
      "text/plain": [
       "2    1542885\n",
       "3      48384\n",
       "4      46595\n",
       "1      17629\n",
       "Name: Severity, dtype: int64"
      ]
     },
     "execution_count": 64,
     "metadata": {},
     "output_type": "execute_result"
    }
   ],
   "source": [
    "y_train.value_counts()"
   ]
  },
  {
   "cell_type": "code",
   "execution_count": 65,
   "id": "e6267391",
   "metadata": {
    "scrolled": true
   },
   "outputs": [
    {
     "data": {
      "image/png": "[encoded data removed]",
      "text/plain": [
       "<Figure size 720x576 with 1 Axes>"
      ]
     },
     "metadata": {
      "needs_background": "light"
     },
     "output_type": "display_data"
    }
   ],
   "source": [
    "# imbalanced data set\n",
    "import matplotlib.pyplot \n",
    "from scipy import stats\n",
    "import matplotlib.pyplot as plt\n",
    "import seaborn as sns\n",
    "\n",
    "severity_counts = y_train.value_counts()\n",
    "\n",
    "plt.figure(figsize=(10, 8))\n",
    "plt.title(\"Histogram for the severity\")\n",
    "sns.barplot(severity_counts.index, severity_counts.values)\n",
    "plt.xlabel(\"Severity\")\n",
    "plt.ylabel(\"Value\")\n",
    "plt.show()"
   ]
  },
  {
   "cell_type": "markdown",
   "id": "b857e746",
   "metadata": {},
   "source": [
    "### Oversampling\n",
    "###### In this section, compared two oversampling algorithms to determine which algorithm results in the best performance.And oversampled the data using the naive random oversampling algorithm and the SMOTE algorithm. \n"
   ]
  },
  {
   "cell_type": "markdown",
   "id": "1a668d31",
   "metadata": {},
   "source": [
    "#### Naive Random Oversampling"
   ]
  },
  {
   "cell_type": "code",
   "execution_count": 66,
   "id": "adc08ccf",
   "metadata": {
    "scrolled": true
   },
   "outputs": [],
   "source": [
    "# Resample the training data with the RandomOversampler\n",
    "from imblearn.over_sampling import RandomOverSampler\n",
    "ros = RandomOverSampler(random_state=1)\n",
    "#X_resampled,y_resampled =ros.fit_resample(X_train_scaled,y_train)\n",
    "X_resampled,y_resampled =ros.fit_resample(X_train,y_train)"
   ]
  },
  {
   "cell_type": "code",
   "execution_count": 67,
   "id": "eadaca2e",
   "metadata": {
    "scrolled": true
   },
   "outputs": [
    {
     "data": {
      "text/plain": [
       "Counter({2: 1542885, 3: 1542885, 4: 1542885, 1: 1542885})"
      ]
     },
     "execution_count": 67,
     "metadata": {},
     "output_type": "execute_result"
    }
   ],
   "source": [
    "# what is the \"balance\" or mix between Severity\n",
    "Counter(y_resampled)"
   ]
  },
  {
   "cell_type": "code",
   "execution_count": 68,
   "id": "09b641ff",
   "metadata": {
    "scrolled": true
   },
   "outputs": [
    {
     "data": {
      "image/png": "[encoded data removed]",
      "text/plain": [
       "<Figure size 720x576 with 1 Axes>"
      ]
     },
     "metadata": {
      "needs_background": "light"
     },
     "output_type": "display_data"
    }
   ],
   "source": [
    "severity_counts = y_resampled.value_counts()\n",
    "\n",
    "plt.figure(figsize=(10, 8))\n",
    "plt.title(\"Histogram for the severity\")\n",
    "sns.barplot(severity_counts.index, severity_counts.values)\n",
    "plt.xlabel(\"Severity\")\n",
    "plt.ylabel(\"Value\")\n",
    "plt.show()"
   ]
  },
  {
   "cell_type": "code",
   "execution_count": 69,
   "id": "2e608bdd",
   "metadata": {
    "scrolled": true
   },
   "outputs": [],
   "source": [
    "# Train the Logistic Regression model using the resampled data\n",
    "#model\n",
    "from sklearn.linear_model import LogisticRegression\n",
    "\n",
    "clf = LogisticRegression(solver='lbfgs',random_state=1)\n",
    "#fit\n",
    "clf.fit(X_resampled,y_resampled)\n",
    "#predict using the predict method\n",
    "y_pred = clf.predict(X_test)"
   ]
  },
  {
   "cell_type": "code",
   "execution_count": 70,
   "id": "44532482",
   "metadata": {
    "scrolled": true
   },
   "outputs": [
    {
     "data": {
      "text/plain": [
       "0.49117289697726485"
      ]
     },
     "execution_count": 70,
     "metadata": {},
     "output_type": "execute_result"
    }
   ],
   "source": [
    "# Calculated the balanced accuracy score\n",
    "from sklearn.metrics import balanced_accuracy_score\n",
    "balanced_accuracy_score(y_test,y_pred)"
   ]
  },
  {
   "cell_type": "code",
   "execution_count": 71,
   "id": "41669d1c",
   "metadata": {
    "scrolled": true
   },
   "outputs": [
    {
     "data": {
      "text/plain": [
       "array([[  4007,    195,   1537,    188],\n",
       "       [ 61435, 233045,  78203, 141507],\n",
       "       [  6639,    624,   7974,    967],\n",
       "       [  3154,   2822,   4210,   5325]], dtype=int64)"
      ]
     },
     "execution_count": 71,
     "metadata": {},
     "output_type": "execute_result"
    }
   ],
   "source": [
    "# Display the confusion matrix\n",
    "cm = confusion_matrix(y_test,y_pred,labels=clf.classes_)\n",
    "cm"
   ]
  },
  {
   "cell_type": "code",
   "execution_count": 72,
   "id": "40814afe",
   "metadata": {
    "scrolled": true
   },
   "outputs": [
    {
     "data": {
      "text/plain": [
       "<sklearn.metrics._plot.confusion_matrix.ConfusionMatrixDisplay at 0x21a5c23b3a0>"
      ]
     },
     "execution_count": 72,
     "metadata": {},
     "output_type": "execute_result"
    },
    {
     "data": {
      "image/png": "[encoded data removed]",
      "text/plain": [
       "<Figure size 432x288 with 2 Axes>"
      ]
     },
     "metadata": {
      "needs_background": "light"
     },
     "output_type": "display_data"
    }
   ],
   "source": [
    "from sklearn.metrics import ConfusionMatrixDisplay\n",
    "disp = ConfusionMatrixDisplay(confusion_matrix=cm,display_labels= clf.classes_)\n",
    "disp.plot()"
   ]
  },
  {
   "cell_type": "code",
   "execution_count": 73,
   "id": "b033de07",
   "metadata": {
    "scrolled": true
   },
   "outputs": [
    {
     "name": "stdout",
     "output_type": "stream",
     "text": [
      "                   pre       rec       spe        f1       geo       iba       sup\n",
      "\n",
      "          1       0.05      0.68      0.87      0.10      0.77      0.58      5927\n",
      "          2       0.98      0.45      0.90      0.62      0.64      0.39    514190\n",
      "          3       0.09      0.49      0.84      0.15      0.64      0.40     16204\n",
      "          4       0.04      0.34      0.73      0.07      0.50      0.24     15511\n",
      "\n",
      "avg / total       0.92      0.45      0.90      0.59      0.64      0.39    551832\n",
      "\n"
     ]
    }
   ],
   "source": [
    "# Print the imbalanced classification report\n",
    "print(classification_report_imbalanced(y_test, y_pred))"
   ]
  },
  {
   "cell_type": "markdown",
   "id": "62740077",
   "metadata": {},
   "source": [
    "#### Ensemble Learners\n",
    "###### In this section,  compared two ensemble algorithms to determine which algorithm results in the best performance. trained a Balanced Random Forest Classifier and an Easy Ensemble AdaBoost classifier ."
   ]
  },
  {
   "cell_type": "markdown",
   "id": "e33f8f86",
   "metadata": {},
   "source": [
    "#### Balanced Random Forest Classifier"
   ]
  },
  {
   "cell_type": "code",
   "execution_count": 74,
   "id": "2c54ad2f",
   "metadata": {
    "scrolled": true
   },
   "outputs": [],
   "source": [
    "from imblearn.ensemble import BalancedRandomForestClassifier\n",
    "from imblearn.metrics import classification_report_imbalanced\n",
    "from imblearn.ensemble import EasyEnsembleClassifier"
   ]
  },
  {
   "cell_type": "code",
   "execution_count": 75,
   "id": "3404a2e3",
   "metadata": {
    "scrolled": true
   },
   "outputs": [],
   "source": [
    "# Resample the training data with the BalancedRandomForestClassifier\n",
    "\n",
    "#model\n",
    "brf_model = BalancedRandomForestClassifier(random_state=1, n_estimators=100)\n",
    "#fit\n",
    "#brf_model = brf_model.fit(X_train_scaled, y_train)\n",
    "\n",
    "brf_model = brf_model.fit(X_train, y_train)\n",
    "#predict\n",
    "predictions = brf_model.predict(X_test)"
   ]
  },
  {
   "cell_type": "code",
   "execution_count": 76,
   "id": "ee2c3a07",
   "metadata": {
    "scrolled": true
   },
   "outputs": [
    {
     "data": {
      "text/plain": [
       "0.8252815534553988"
      ]
     },
     "execution_count": 76,
     "metadata": {},
     "output_type": "execute_result"
    }
   ],
   "source": [
    "# Calculated the balanced accuracy score\n",
    "balanced_accuracy_score(y_test,predictions)\n"
   ]
  },
  {
   "cell_type": "code",
   "execution_count": 77,
   "id": "42fb8bf6",
   "metadata": {
    "scrolled": true
   },
   "outputs": [
    {
     "data": {
      "text/html": [
       "<div>\n",
       "<style scoped>\n",
       "    .dataframe tbody tr th:only-of-type {\n",
       "        vertical-align: middle;\n",
       "    }\n",
       "\n",
       "    .dataframe tbody tr th {\n",
       "        vertical-align: top;\n",
       "    }\n",
       "\n",
       "    .dataframe thead th {\n",
       "        text-align: right;\n",
       "    }\n",
       "</style>\n",
       "<table border=\"1\" class=\"dataframe\">\n",
       "  <thead>\n",
       "    <tr style=\"text-align: right;\">\n",
       "      <th></th>\n",
       "      <th>Predicted 0</th>\n",
       "      <th>Predicted 1</th>\n",
       "      <th>Predicted 2</th>\n",
       "      <th>Predicted 3</th>\n",
       "    </tr>\n",
       "  </thead>\n",
       "  <tbody>\n",
       "    <tr>\n",
       "      <th>Actual 0</th>\n",
       "      <td>5561</td>\n",
       "      <td>5</td>\n",
       "      <td>320</td>\n",
       "      <td>41</td>\n",
       "    </tr>\n",
       "    <tr>\n",
       "      <th>Actual 1</th>\n",
       "      <td>8832</td>\n",
       "      <td>426212</td>\n",
       "      <td>22725</td>\n",
       "      <td>56421</td>\n",
       "    </tr>\n",
       "    <tr>\n",
       "      <th>Actual 2</th>\n",
       "      <td>1114</td>\n",
       "      <td>222</td>\n",
       "      <td>13339</td>\n",
       "      <td>1529</td>\n",
       "    </tr>\n",
       "    <tr>\n",
       "      <th>Actual 3</th>\n",
       "      <td>366</td>\n",
       "      <td>1977</td>\n",
       "      <td>2143</td>\n",
       "      <td>11025</td>\n",
       "    </tr>\n",
       "  </tbody>\n",
       "</table>\n",
       "</div>"
      ],
      "text/plain": [
       "          Predicted 0  Predicted 1  Predicted 2  Predicted 3\n",
       "Actual 0         5561            5          320           41\n",
       "Actual 1         8832       426212        22725        56421\n",
       "Actual 2         1114          222        13339         1529\n",
       "Actual 3          366         1977         2143        11025"
      ]
     },
     "execution_count": 77,
     "metadata": {},
     "output_type": "execute_result"
    }
   ],
   "source": [
    "# Calculating the confusion matrix.\n",
    "cm = confusion_matrix(y_test, predictions)\n",
    "\n",
    "# Create a DataFrame from the confusion matrix.\n",
    "cm_df = pd.DataFrame(\n",
    "    cm, index=[\"Actual 0\", \"Actual 1\",\"Actual 2\", \"Actual 3\"], columns=[\"Predicted 0\", \"Predicted 1\",\"Predicted 2\", \"Predicted 3\"])\n",
    "\n",
    "cm_df"
   ]
  },
  {
   "cell_type": "code",
   "execution_count": 78,
   "id": "5d118bc9",
   "metadata": {
    "scrolled": true
   },
   "outputs": [
    {
     "name": "stdout",
     "output_type": "stream",
     "text": [
      "                   pre       rec       spe        f1       geo       iba       sup\n",
      "\n",
      "          1       0.35      0.94      0.98      0.51      0.96      0.92      5927\n",
      "          2       0.99      0.83      0.94      0.90      0.88      0.77    514190\n",
      "          3       0.35      0.82      0.95      0.49      0.89      0.77     16204\n",
      "          4       0.16      0.71      0.89      0.26      0.80      0.62     15511\n",
      "\n",
      "avg / total       0.95      0.83      0.94      0.87      0.88      0.77    551832\n",
      "\n"
     ]
    }
   ],
   "source": [
    "# Print the imbalanced classification report\n",
    "print(classification_report_imbalanced(y_test, predictions))"
   ]
  },
  {
   "cell_type": "code",
   "execution_count": 79,
   "id": "ee6e7958",
   "metadata": {
    "scrolled": true
   },
   "outputs": [
    {
     "data": {
      "text/plain": [
       "[(0.1279929456566855, 'time_duration'),\n",
       " (0.11874526194795657, 'Distance(mi)'),\n",
       " (0.1004983178327134, 'Year'),\n",
       " (0.08563525246116671, 'Start_Lat'),\n",
       " (0.08400491901163397, 'Start_Lng'),\n",
       " (0.04550501691945835, 'State'),\n",
       " (0.04301363523702704, 'Pressure(in)'),\n",
       " (0.033555750135654185, 'County'),\n",
       " (0.03217311422645591, 'City'),\n",
       " (0.031605875589450466, 'Month'),\n",
       " (0.03114642966839414, 'Humidity(%)'),\n",
       " (0.02931593289167842, 'Wind_Chill(F)'),\n",
       " (0.028701569021468004, 'Temperature(F)'),\n",
       " (0.027001619749673376, 'Hour'),\n",
       " (0.024850378924006912, 'Day'),\n",
       " (0.022046819985442032, 'Timezone'),\n",
       " (0.02078915232868848, 'Wind_Speed(mph)'),\n",
       " (0.019807768908886546, 'Wind_Direction'),\n",
       " (0.01626456223800721, 'Weekday'),\n",
       " (0.014229143544517452, 'Weather_Condition'),\n",
       " (0.013393783136191688, 'Crossing'),\n",
       " (0.013346647034630383, 'Traffic_Signal'),\n",
       " (0.008681182985680493, 'Side'),\n",
       " (0.007916683612043033, 'Visibility(mi)'),\n",
       " (0.00599333999250975, 'Sunrise_Sunset'),\n",
       " (0.004984470468121937, 'Junction'),\n",
       " (0.0049002975715733, 'Precipitation(in)'),\n",
       " (0.001106793468429089, 'Stop'),\n",
       " (0.0010320275952276233, 'Station'),\n",
       " (0.0006650328941789073, 'Amenity'),\n",
       " (0.0005485008975127041, 'Railway'),\n",
       " (0.0002912097570956107, 'Give_Way'),\n",
       " (0.00015996412531764031, 'No_Exit'),\n",
       " (5.8945519361166845e-05, 'Traffic_Calming'),\n",
       " (3.5979996031340294e-05, 'Bump'),\n",
       " (1.6746671307403513e-06, 'Roundabout'),\n",
       " (0.0, 'Turning_Loop')]"
      ]
     },
     "execution_count": 79,
     "metadata": {},
     "output_type": "execute_result"
    }
   ],
   "source": [
    "# We can sort the features by their importance.\n",
    "sorted (zip(brf_model.feature_importances_,X.columns),reverse=True)"
   ]
  },
  {
   "cell_type": "code",
   "execution_count": 80,
   "id": "4df21dcf",
   "metadata": {
    "scrolled": false
   },
   "outputs": [
    {
     "data": {
      "image/png": "[encoded data removed]",
      "text/plain": [
       "<Figure size 1080x720 with 1 Axes>"
      ]
     },
     "metadata": {
      "needs_background": "light"
     },
     "output_type": "display_data"
    }
   ],
   "source": [
    "importances = pd.DataFrame(np.zeros((X_train.shape[1], 1)), columns=[\"importance\"], index=X_train.columns)\n",
    "\n",
    "importances.iloc[:,0] = brf_model.feature_importances_\n",
    "\n",
    "importances = importances.sort_values(by=\"importance\", ascending=False)[:40]\n",
    "\n",
    "plt.figure(figsize=(15, 10))\n",
    "sns.barplot(x=\"importance\", y=importances.index, data=importances)\n",
    "plt.show()"
   ]
  },
  {
   "cell_type": "code",
   "execution_count": null,
   "id": "a8ab2431",
   "metadata": {
    "scrolled": true
   },
   "outputs": [],
   "source": []
  },
  {
   "cell_type": "code",
   "execution_count": null,
   "id": "6ac59f19",
   "metadata": {
    "scrolled": true
   },
   "outputs": [],
   "source": []
  }
 ],
 "metadata": {
  "kernelspec": {
   "display_name": "mlenv",
   "language": "python",
   "name": "mlenv"
  },
  "language_info": {
   "codemirror_mode": {
    "name": "ipython",
    "version": 3
   },
   "file_extension": ".py",
   "mimetype": "text/x-python",
   "name": "python",
   "nbconvert_exporter": "python",
   "pygments_lexer": "ipython3",
   "version": "3.9.7"
  }
 },
 "nbformat": 4,
 "nbformat_minor": 5
}
