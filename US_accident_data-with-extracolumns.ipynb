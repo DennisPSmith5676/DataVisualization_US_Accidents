{
 "cells": [
  {
   "cell_type": "code",
   "execution_count": 1,
   "id": "6173b22a",
   "metadata": {
    "scrolled": true
   },
   "outputs": [],
   "source": [
    "import warnings\n",
    "warnings.filterwarnings('ignore')"
   ]
  },
  {
   "cell_type": "code",
   "execution_count": 2,
   "id": "e53a8d6e",
   "metadata": {
    "scrolled": true
   },
   "outputs": [],
   "source": [
    "#import dependencies\n",
    "import numpy as np\n",
    "import pandas as pd\n",
    "from pathlib import Path\n",
    "from collections import Counter"
   ]
  },
  {
   "cell_type": "code",
   "execution_count": 3,
   "id": "d5b8cd00",
   "metadata": {
    "scrolled": true
   },
   "outputs": [],
   "source": [
    "from sklearn.metrics import balanced_accuracy_score\n",
    "from sklearn.metrics import confusion_matrix\n",
    "from imblearn.metrics import classification_report_imbalanced\n",
    "from sklearn.preprocessing import LabelEncoder"
   ]
  },
  {
   "cell_type": "code",
   "execution_count": 4,
   "id": "018a7c6e",
   "metadata": {
    "scrolled": true
   },
   "outputs": [],
   "source": [
    "from scipy import stats\n",
    "import matplotlib.pyplot as plt\n",
    "import seaborn as sns"
   ]
  },
  {
   "cell_type": "markdown",
   "id": "59e73064",
   "metadata": {},
   "source": [
    "## how Severity the Accidents is ?"
   ]
  },
  {
   "cell_type": "code",
   "execution_count": 5,
   "id": "f31e557c",
   "metadata": {
    "scrolled": true
   },
   "outputs": [],
   "source": [
    "# Files to laod\n",
    "#accident_data= \"DataFile/mock_accident_data.csv\"\n",
    "accident_data= \"DataFile/US_Accidents_Dec21_updated.csv\"\n",
    "#accident_data=\"https://umausdata.s3.amazonaws.com/DataFile/mock_accident_data.csv\"\n",
    "accident_df=pd.read_csv(accident_data)"
   ]
  },
  {
   "cell_type": "code",
   "execution_count": 6,
   "id": "27aaf4f9",
   "metadata": {
    "scrolled": true
   },
   "outputs": [
    {
     "data": {
      "text/html": [
       "<div>\n",
       "<style scoped>\n",
       "    .dataframe tbody tr th:only-of-type {\n",
       "        vertical-align: middle;\n",
       "    }\n",
       "\n",
       "    .dataframe tbody tr th {\n",
       "        vertical-align: top;\n",
       "    }\n",
       "\n",
       "    .dataframe thead th {\n",
       "        text-align: right;\n",
       "    }\n",
       "</style>\n",
       "<table border=\"1\" class=\"dataframe\">\n",
       "  <thead>\n",
       "    <tr style=\"text-align: right;\">\n",
       "      <th></th>\n",
       "      <th>ID</th>\n",
       "      <th>Severity</th>\n",
       "      <th>Start_Time</th>\n",
       "      <th>End_Time</th>\n",
       "      <th>Start_Lat</th>\n",
       "      <th>Start_Lng</th>\n",
       "      <th>End_Lat</th>\n",
       "      <th>End_Lng</th>\n",
       "      <th>Distance(mi)</th>\n",
       "      <th>Description</th>\n",
       "      <th>...</th>\n",
       "      <th>Roundabout</th>\n",
       "      <th>Station</th>\n",
       "      <th>Stop</th>\n",
       "      <th>Traffic_Calming</th>\n",
       "      <th>Traffic_Signal</th>\n",
       "      <th>Turning_Loop</th>\n",
       "      <th>Sunrise_Sunset</th>\n",
       "      <th>Civil_Twilight</th>\n",
       "      <th>Nautical_Twilight</th>\n",
       "      <th>Astronomical_Twilight</th>\n",
       "    </tr>\n",
       "  </thead>\n",
       "  <tbody>\n",
       "    <tr>\n",
       "      <th>0</th>\n",
       "      <td>A-1</td>\n",
       "      <td>3</td>\n",
       "      <td>2016-02-08 00:37:08</td>\n",
       "      <td>2016-02-08 06:37:08</td>\n",
       "      <td>40.108910</td>\n",
       "      <td>-83.092860</td>\n",
       "      <td>40.112060</td>\n",
       "      <td>-83.031870</td>\n",
       "      <td>3.230</td>\n",
       "      <td>Between Sawmill Rd/Exit 20 and OH-315/Olentang...</td>\n",
       "      <td>...</td>\n",
       "      <td>False</td>\n",
       "      <td>False</td>\n",
       "      <td>False</td>\n",
       "      <td>False</td>\n",
       "      <td>False</td>\n",
       "      <td>False</td>\n",
       "      <td>Night</td>\n",
       "      <td>Night</td>\n",
       "      <td>Night</td>\n",
       "      <td>Night</td>\n",
       "    </tr>\n",
       "    <tr>\n",
       "      <th>1</th>\n",
       "      <td>A-2</td>\n",
       "      <td>2</td>\n",
       "      <td>2016-02-08 05:56:20</td>\n",
       "      <td>2016-02-08 11:56:20</td>\n",
       "      <td>39.865420</td>\n",
       "      <td>-84.062800</td>\n",
       "      <td>39.865010</td>\n",
       "      <td>-84.048730</td>\n",
       "      <td>0.747</td>\n",
       "      <td>At OH-4/OH-235/Exit 41 - Accident.</td>\n",
       "      <td>...</td>\n",
       "      <td>False</td>\n",
       "      <td>False</td>\n",
       "      <td>False</td>\n",
       "      <td>False</td>\n",
       "      <td>False</td>\n",
       "      <td>False</td>\n",
       "      <td>Night</td>\n",
       "      <td>Night</td>\n",
       "      <td>Night</td>\n",
       "      <td>Night</td>\n",
       "    </tr>\n",
       "    <tr>\n",
       "      <th>2</th>\n",
       "      <td>A-3</td>\n",
       "      <td>2</td>\n",
       "      <td>2016-02-08 06:15:39</td>\n",
       "      <td>2016-02-08 12:15:39</td>\n",
       "      <td>39.102660</td>\n",
       "      <td>-84.524680</td>\n",
       "      <td>39.102090</td>\n",
       "      <td>-84.523960</td>\n",
       "      <td>0.055</td>\n",
       "      <td>At I-71/US-50/Exit 1 - Accident.</td>\n",
       "      <td>...</td>\n",
       "      <td>False</td>\n",
       "      <td>False</td>\n",
       "      <td>False</td>\n",
       "      <td>False</td>\n",
       "      <td>False</td>\n",
       "      <td>False</td>\n",
       "      <td>Night</td>\n",
       "      <td>Night</td>\n",
       "      <td>Night</td>\n",
       "      <td>Day</td>\n",
       "    </tr>\n",
       "    <tr>\n",
       "      <th>3</th>\n",
       "      <td>A-4</td>\n",
       "      <td>2</td>\n",
       "      <td>2016-02-08 06:51:45</td>\n",
       "      <td>2016-02-08 12:51:45</td>\n",
       "      <td>41.062130</td>\n",
       "      <td>-81.537840</td>\n",
       "      <td>41.062170</td>\n",
       "      <td>-81.535470</td>\n",
       "      <td>0.123</td>\n",
       "      <td>At Dart Ave/Exit 21 - Accident.</td>\n",
       "      <td>...</td>\n",
       "      <td>False</td>\n",
       "      <td>False</td>\n",
       "      <td>False</td>\n",
       "      <td>False</td>\n",
       "      <td>False</td>\n",
       "      <td>False</td>\n",
       "      <td>Night</td>\n",
       "      <td>Night</td>\n",
       "      <td>Day</td>\n",
       "      <td>Day</td>\n",
       "    </tr>\n",
       "    <tr>\n",
       "      <th>4</th>\n",
       "      <td>A-5</td>\n",
       "      <td>3</td>\n",
       "      <td>2016-02-08 07:53:43</td>\n",
       "      <td>2016-02-08 13:53:43</td>\n",
       "      <td>39.172393</td>\n",
       "      <td>-84.492792</td>\n",
       "      <td>39.170476</td>\n",
       "      <td>-84.501798</td>\n",
       "      <td>0.500</td>\n",
       "      <td>At Mitchell Ave/Exit 6 - Accident.</td>\n",
       "      <td>...</td>\n",
       "      <td>False</td>\n",
       "      <td>False</td>\n",
       "      <td>False</td>\n",
       "      <td>False</td>\n",
       "      <td>False</td>\n",
       "      <td>False</td>\n",
       "      <td>Day</td>\n",
       "      <td>Day</td>\n",
       "      <td>Day</td>\n",
       "      <td>Day</td>\n",
       "    </tr>\n",
       "  </tbody>\n",
       "</table>\n",
       "<p>5 rows × 47 columns</p>\n",
       "</div>"
      ],
      "text/plain": [
       "    ID  Severity           Start_Time             End_Time  Start_Lat  \\\n",
       "0  A-1         3  2016-02-08 00:37:08  2016-02-08 06:37:08  40.108910   \n",
       "1  A-2         2  2016-02-08 05:56:20  2016-02-08 11:56:20  39.865420   \n",
       "2  A-3         2  2016-02-08 06:15:39  2016-02-08 12:15:39  39.102660   \n",
       "3  A-4         2  2016-02-08 06:51:45  2016-02-08 12:51:45  41.062130   \n",
       "4  A-5         3  2016-02-08 07:53:43  2016-02-08 13:53:43  39.172393   \n",
       "\n",
       "   Start_Lng    End_Lat    End_Lng  Distance(mi)  \\\n",
       "0 -83.092860  40.112060 -83.031870         3.230   \n",
       "1 -84.062800  39.865010 -84.048730         0.747   \n",
       "2 -84.524680  39.102090 -84.523960         0.055   \n",
       "3 -81.537840  41.062170 -81.535470         0.123   \n",
       "4 -84.492792  39.170476 -84.501798         0.500   \n",
       "\n",
       "                                         Description  ...  Roundabout Station  \\\n",
       "0  Between Sawmill Rd/Exit 20 and OH-315/Olentang...  ...       False   False   \n",
       "1                 At OH-4/OH-235/Exit 41 - Accident.  ...       False   False   \n",
       "2                   At I-71/US-50/Exit 1 - Accident.  ...       False   False   \n",
       "3                    At Dart Ave/Exit 21 - Accident.  ...       False   False   \n",
       "4                 At Mitchell Ave/Exit 6 - Accident.  ...       False   False   \n",
       "\n",
       "    Stop Traffic_Calming Traffic_Signal Turning_Loop Sunrise_Sunset  \\\n",
       "0  False           False          False        False          Night   \n",
       "1  False           False          False        False          Night   \n",
       "2  False           False          False        False          Night   \n",
       "3  False           False          False        False          Night   \n",
       "4  False           False          False        False            Day   \n",
       "\n",
       "  Civil_Twilight Nautical_Twilight Astronomical_Twilight  \n",
       "0          Night             Night                 Night  \n",
       "1          Night             Night                 Night  \n",
       "2          Night             Night                   Day  \n",
       "3          Night               Day                   Day  \n",
       "4            Day               Day                   Day  \n",
       "\n",
       "[5 rows x 47 columns]"
      ]
     },
     "execution_count": 6,
     "metadata": {},
     "output_type": "execute_result"
    }
   ],
   "source": [
    "accident_df.head()"
   ]
  },
  {
   "cell_type": "code",
   "execution_count": 7,
   "id": "a0799302",
   "metadata": {
    "scrolled": true
   },
   "outputs": [
    {
     "name": "stdout",
     "output_type": "stream",
     "text": [
      "<class 'pandas.core.frame.DataFrame'>\n",
      "RangeIndex: 2845342 entries, 0 to 2845341\n",
      "Data columns (total 47 columns):\n",
      " #   Column                 Dtype  \n",
      "---  ------                 -----  \n",
      " 0   ID                     object \n",
      " 1   Severity               int64  \n",
      " 2   Start_Time             object \n",
      " 3   End_Time               object \n",
      " 4   Start_Lat              float64\n",
      " 5   Start_Lng              float64\n",
      " 6   End_Lat                float64\n",
      " 7   End_Lng                float64\n",
      " 8   Distance(mi)           float64\n",
      " 9   Description            object \n",
      " 10  Number                 float64\n",
      " 11  Street                 object \n",
      " 12  Side                   object \n",
      " 13  City                   object \n",
      " 14  County                 object \n",
      " 15  State                  object \n",
      " 16  Zipcode                object \n",
      " 17  Country                object \n",
      " 18  Timezone               object \n",
      " 19  Airport_Code           object \n",
      " 20  Weather_Timestamp      object \n",
      " 21  Temperature(F)         float64\n",
      " 22  Wind_Chill(F)          float64\n",
      " 23  Humidity(%)            float64\n",
      " 24  Pressure(in)           float64\n",
      " 25  Visibility(mi)         float64\n",
      " 26  Wind_Direction         object \n",
      " 27  Wind_Speed(mph)        float64\n",
      " 28  Precipitation(in)      float64\n",
      " 29  Weather_Condition      object \n",
      " 30  Amenity                bool   \n",
      " 31  Bump                   bool   \n",
      " 32  Crossing               bool   \n",
      " 33  Give_Way               bool   \n",
      " 34  Junction               bool   \n",
      " 35  No_Exit                bool   \n",
      " 36  Railway                bool   \n",
      " 37  Roundabout             bool   \n",
      " 38  Station                bool   \n",
      " 39  Stop                   bool   \n",
      " 40  Traffic_Calming        bool   \n",
      " 41  Traffic_Signal         bool   \n",
      " 42  Turning_Loop           bool   \n",
      " 43  Sunrise_Sunset         object \n",
      " 44  Civil_Twilight         object \n",
      " 45  Nautical_Twilight      object \n",
      " 46  Astronomical_Twilight  object \n",
      "dtypes: bool(13), float64(13), int64(1), object(20)\n",
      "memory usage: 773.4+ MB\n"
     ]
    }
   ],
   "source": [
    "accident_df.info()"
   ]
  },
  {
   "cell_type": "code",
   "execution_count": 8,
   "id": "11a62d0b",
   "metadata": {
    "scrolled": true
   },
   "outputs": [
    {
     "data": {
      "image/png": "[encoded data removed]",
      "text/plain": [
       "<Figure size 864x1296 with 1 Axes>"
      ]
     },
     "metadata": {
      "needs_background": "light"
     },
     "output_type": "display_data"
    }
   ],
   "source": [
    "missing_df = accident_df.isnull().sum(axis=0).reset_index()\n",
    "missing_df.columns = ['column_name','missing_count']\n",
    "missing_df = missing_df.loc[missing_df['missing_count']>0]\n",
    "missing_df = missing_df.sort_values(by='missing_count')\n",
    "\n",
    "ind = np.arange(missing_df.shape[0])\n",
    "width = 0.5\n",
    "fig,ax = plt.subplots(figsize=(12,18))\n",
    "rects = ax.barh(ind,missing_df.missing_count.values,color='blue')\n",
    "ax.set_yticks(ind)\n",
    "ax.set_yticklabels(missing_df.column_name.values, rotation='horizontal')\n",
    "ax.set_xlabel(\"Count of missing values\")\n",
    "ax.set_title(\"Number of missing values in each column\")\n",
    "plt.show()"
   ]
  },
  {
   "cell_type": "code",
   "execution_count": 9,
   "id": "29b02913",
   "metadata": {
    "scrolled": true
   },
   "outputs": [],
   "source": [
    "#Drop the null columns where all values are null\n",
    "accident_df=accident_df.dropna(axis='columns',how='all')"
   ]
  },
  {
   "cell_type": "code",
   "execution_count": 10,
   "id": "c73223b1",
   "metadata": {
    "scrolled": true
   },
   "outputs": [
    {
     "data": {
      "text/plain": [
       "(2845342, 47)"
      ]
     },
     "execution_count": 10,
     "metadata": {},
     "output_type": "execute_result"
    }
   ],
   "source": [
    "accident_df.shape"
   ]
  },
  {
   "cell_type": "code",
   "execution_count": 11,
   "id": "5d455311",
   "metadata": {
    "scrolled": true
   },
   "outputs": [],
   "source": [
    "accident_df['Start_Time'] = pd.to_datetime(accident_df['Start_Time'])"
   ]
  },
  {
   "cell_type": "code",
   "execution_count": 12,
   "id": "653b8e06",
   "metadata": {
    "scrolled": true
   },
   "outputs": [],
   "source": [
    "#accident_df['year'] = pd.DatetimeIndex(accident_df['Start_Time']).year\n",
    "accident_df['Month'] = pd.DatetimeIndex(accident_df['Start_Time']).month\n",
    "accident_df['Day'] = pd.to_datetime(accident_df['Start_Time']).dt.day_name()\n",
    "accident_df['Hour'] = pd.to_datetime(accident_df['Start_Time']).dt.hour"
   ]
  },
  {
   "cell_type": "code",
   "execution_count": 13,
   "id": "67497cdb",
   "metadata": {
    "scrolled": true
   },
   "outputs": [],
   "source": [
    "accident_df['End_Time'] = pd.to_datetime(accident_df['End_Time'])"
   ]
  },
  {
   "cell_type": "code",
   "execution_count": 14,
   "id": "be00565b",
   "metadata": {
    "scrolled": true
   },
   "outputs": [],
   "source": [
    "# Extract the amount of time in the unit of minutes for each accident, round to the nearest integer\n",
    "td='Time_Duration(min)'\n",
    "accident_df[td]=round((accident_df['End_Time']-accident_df['Start_Time'])/np.timedelta64(1,'m'))"
   ]
  },
  {
   "cell_type": "code",
   "execution_count": 15,
   "id": "0d7e9877",
   "metadata": {
    "scrolled": true
   },
   "outputs": [],
   "source": [
    "neg_outliers=accident_df[td]<=0\n",
    "\n",
    "# Set outliers to NAN\n",
    "accident_df[neg_outliers] = np.nan\n",
    "\n",
    "# Drop rows with negative td\n",
    "accident_df.dropna(subset=[td],axis=0,inplace=True)"
   ]
  },
  {
   "cell_type": "code",
   "execution_count": 16,
   "id": "48c8a61a",
   "metadata": {
    "scrolled": true
   },
   "outputs": [
    {
     "name": "stdout",
     "output_type": "stream",
     "text": [
      "Index(['ID', 'Severity', 'Start_Time', 'End_Time', 'Start_Lat', 'Start_Lng',\n",
      "       'End_Lat', 'End_Lng', 'Distance(mi)', 'Description', 'Number', 'Street',\n",
      "       'Side', 'City', 'County', 'State', 'Zipcode', 'Country', 'Timezone',\n",
      "       'Airport_Code', 'Weather_Timestamp', 'Temperature(F)', 'Wind_Chill(F)',\n",
      "       'Humidity(%)', 'Pressure(in)', 'Visibility(mi)', 'Wind_Direction',\n",
      "       'Wind_Speed(mph)', 'Precipitation(in)', 'Weather_Condition', 'Amenity',\n",
      "       'Bump', 'Crossing', 'Give_Way', 'Junction', 'No_Exit', 'Railway',\n",
      "       'Roundabout', 'Station', 'Stop', 'Traffic_Calming', 'Traffic_Signal',\n",
      "       'Turning_Loop', 'Sunrise_Sunset', 'Civil_Twilight', 'Nautical_Twilight',\n",
      "       'Astronomical_Twilight', 'Month', 'Day', 'Hour', 'Time_Duration(min)'],\n",
      "      dtype='object')\n"
     ]
    }
   ],
   "source": [
    "print(accident_df.columns)"
   ]
  },
  {
   "cell_type": "code",
   "execution_count": 17,
   "id": "07b1c30d",
   "metadata": {
    "scrolled": true
   },
   "outputs": [],
   "source": [
    "#drop the non-beneficial columns\n",
    "#accident_df=accident_df.drop(columns=['ID','End_Time','End_Lat','End_Lng','Description','Side','Airport_Code','Civil_Twilight','Nautical_Twilight','Astronomical_Twilight',\"Start_Time\",'ID','Weather_Timestamp','Zipcode','Street','Amenity','Bump','Crossing','Give_Way','Junction','No_Exit','Railway','Roundabout','Station','Stop','Traffic_Calming','Traffic_Signal','Turning_Loop','Country'])\n",
    "accident_df=accident_df.drop(columns=['ID','Description','Airport_Code','Civil_Twilight','Nautical_Twilight','Astronomical_Twilight','Description','Zipcode','Country','Weather_Timestamp','Start_Time','End_Time','Street'])"
   ]
  },
  {
   "cell_type": "code",
   "execution_count": 18,
   "id": "8a255644",
   "metadata": {
    "scrolled": true
   },
   "outputs": [
    {
     "data": {
      "text/plain": [
       "(2845342, 39)"
      ]
     },
     "execution_count": 18,
     "metadata": {},
     "output_type": "execute_result"
    }
   ],
   "source": [
    "accident_df.shape"
   ]
  },
  {
   "cell_type": "code",
   "execution_count": 19,
   "id": "10be42bd",
   "metadata": {
    "scrolled": true
   },
   "outputs": [
    {
     "data": {
      "text/plain": [
       "Severity              float64\n",
       "Start_Lat             float64\n",
       "Start_Lng             float64\n",
       "End_Lat               float64\n",
       "End_Lng               float64\n",
       "Distance(mi)          float64\n",
       "Number                float64\n",
       "Side                   object\n",
       "City                   object\n",
       "County                 object\n",
       "State                  object\n",
       "Timezone               object\n",
       "Temperature(F)        float64\n",
       "Wind_Chill(F)         float64\n",
       "Humidity(%)           float64\n",
       "Pressure(in)          float64\n",
       "Visibility(mi)        float64\n",
       "Wind_Direction         object\n",
       "Wind_Speed(mph)       float64\n",
       "Precipitation(in)     float64\n",
       "Weather_Condition      object\n",
       "Amenity                object\n",
       "Bump                   object\n",
       "Crossing               object\n",
       "Give_Way               object\n",
       "Junction               object\n",
       "No_Exit                object\n",
       "Railway                object\n",
       "Roundabout             object\n",
       "Station                object\n",
       "Stop                   object\n",
       "Traffic_Calming        object\n",
       "Traffic_Signal         object\n",
       "Turning_Loop           object\n",
       "Sunrise_Sunset         object\n",
       "Month                 float64\n",
       "Day                    object\n",
       "Hour                  float64\n",
       "Time_Duration(min)    float64\n",
       "dtype: object"
      ]
     },
     "execution_count": 19,
     "metadata": {},
     "output_type": "execute_result"
    }
   ],
   "source": [
    "accident_df.dtypes"
   ]
  },
  {
   "cell_type": "code",
   "execution_count": null,
   "id": "ab01d8ac",
   "metadata": {},
   "outputs": [],
   "source": []
  },
  {
   "cell_type": "code",
   "execution_count": 20,
   "id": "cd1a364e",
   "metadata": {
    "scrolled": true
   },
   "outputs": [
    {
     "data": {
      "text/plain": [
       "Severity                    4\n",
       "Start_Lat             1093618\n",
       "Start_Lng             1120365\n",
       "End_Lat               1080811\n",
       "End_Lng               1105404\n",
       "Distance(mi)            14165\n",
       "Number                  46402\n",
       "Side                        3\n",
       "City                    11681\n",
       "County                   1707\n",
       "State                      49\n",
       "Timezone                    4\n",
       "Temperature(F)            788\n",
       "Wind_Chill(F)             897\n",
       "Humidity(%)               100\n",
       "Pressure(in)             1068\n",
       "Visibility(mi)             76\n",
       "Wind_Direction             24\n",
       "Wind_Speed(mph)           136\n",
       "Precipitation(in)         230\n",
       "Weather_Condition         127\n",
       "Amenity                     2\n",
       "Bump                        2\n",
       "Crossing                    2\n",
       "Give_Way                    2\n",
       "Junction                    2\n",
       "No_Exit                     2\n",
       "Railway                     2\n",
       "Roundabout                  2\n",
       "Station                     2\n",
       "Stop                        2\n",
       "Traffic_Calming             2\n",
       "Traffic_Signal              2\n",
       "Turning_Loop                1\n",
       "Sunrise_Sunset              2\n",
       "Month                      12\n",
       "Day                         7\n",
       "Hour                       24\n",
       "Time_Duration(min)       5794\n",
       "dtype: int64"
      ]
     },
     "execution_count": 20,
     "metadata": {},
     "output_type": "execute_result"
    }
   ],
   "source": [
    "# Determine the number of unique values in each column.\n",
    "accident_df.nunique()"
   ]
  },
  {
   "cell_type": "code",
   "execution_count": 21,
   "id": "4924d5c8",
   "metadata": {
    "scrolled": true
   },
   "outputs": [],
   "source": [
    "# examine home _ownwrship\n",
    "#street_count=accident_df['Street'].value_counts()"
   ]
  },
  {
   "cell_type": "code",
   "execution_count": 22,
   "id": "7c17a7d4",
   "metadata": {
    "scrolled": true
   },
   "outputs": [],
   "source": [
    "#list(street_count[street_count<20].index)"
   ]
  },
  {
   "cell_type": "code",
   "execution_count": 23,
   "id": "7e4210a5",
   "metadata": {
    "scrolled": true
   },
   "outputs": [],
   "source": [
    "# Determine which values to replace if counts are less than ...? less than 20\n",
    "#replace_street = list(street_count[street_count<20].index)\n",
    "\n",
    "# Replace in dataframe\n",
    "#for street in replace_street:\n",
    "    #accident_df.Street = accident_df.Street.replace(street,\"Other\")\n",
    "    \n",
    "# Check to make sure binning was successful\n",
    "#accident_df.Street.value_counts()"
   ]
  },
  {
   "cell_type": "code",
   "execution_count": 24,
   "id": "6f1be3cb",
   "metadata": {
    "scrolled": true
   },
   "outputs": [],
   "source": [
    "accident_df=accident_df.drop(columns=[])"
   ]
  },
  {
   "cell_type": "code",
   "execution_count": null,
   "id": "c632eb30",
   "metadata": {
    "scrolled": true
   },
   "outputs": [],
   "source": []
  },
  {
   "cell_type": "code",
   "execution_count": 25,
   "id": "75d77d39",
   "metadata": {
    "scrolled": true
   },
   "outputs": [],
   "source": [
    "accident_df=accident_df.dropna()"
   ]
  },
  {
   "cell_type": "code",
   "execution_count": 26,
   "id": "60a30c9f",
   "metadata": {
    "scrolled": true
   },
   "outputs": [],
   "source": [
    "# accident_df.to_csv('C:/Users/Helanga/Desktop/THe_Final_Project_Data_Visualization/DataFile/mock_accident_Cleaneddata.csv', sep=',',encoding='utf-8',header='true')"
   ]
  },
  {
   "cell_type": "code",
   "execution_count": 27,
   "id": "cfb67197",
   "metadata": {
    "scrolled": true
   },
   "outputs": [],
   "source": [
    "#replace all bollean values to integer\n",
    "accident_df.replace({False: 0, True: 1}, inplace=True)"
   ]
  },
  {
   "cell_type": "code",
   "execution_count": 28,
   "id": "c7086654",
   "metadata": {
    "scrolled": true
   },
   "outputs": [
    {
     "data": {
      "text/plain": [
       "Severity              float64\n",
       "Start_Lat             float64\n",
       "Start_Lng             float64\n",
       "End_Lat               float64\n",
       "End_Lng               float64\n",
       "Distance(mi)          float64\n",
       "Number                float64\n",
       "Side                   object\n",
       "City                   object\n",
       "County                 object\n",
       "State                  object\n",
       "Timezone               object\n",
       "Temperature(F)        float64\n",
       "Wind_Chill(F)         float64\n",
       "Humidity(%)           float64\n",
       "Pressure(in)          float64\n",
       "Visibility(mi)        float64\n",
       "Wind_Direction         object\n",
       "Wind_Speed(mph)       float64\n",
       "Precipitation(in)     float64\n",
       "Weather_Condition      object\n",
       "Amenity                 int64\n",
       "Bump                    int64\n",
       "Crossing                int64\n",
       "Give_Way                int64\n",
       "Junction                int64\n",
       "No_Exit                 int64\n",
       "Railway                 int64\n",
       "Roundabout              int64\n",
       "Station                 int64\n",
       "Stop                    int64\n",
       "Traffic_Calming         int64\n",
       "Traffic_Signal          int64\n",
       "Turning_Loop            int64\n",
       "Sunrise_Sunset         object\n",
       "Month                 float64\n",
       "Day                    object\n",
       "Hour                  float64\n",
       "Time_Duration(min)    float64\n",
       "dtype: object"
      ]
     },
     "execution_count": 28,
     "metadata": {},
     "output_type": "execute_result"
    }
   ],
   "source": [
    "accident_df.dtypes"
   ]
  },
  {
   "cell_type": "code",
   "execution_count": 29,
   "id": "b7e1c8aa",
   "metadata": {
    "scrolled": true
   },
   "outputs": [
    {
     "data": {
      "text/plain": [
       "2.0    889905\n",
       "4.0     29073\n",
       "3.0     13716\n",
       "1.0     10625\n",
       "Name: Severity, dtype: int64"
      ]
     },
     "execution_count": 29,
     "metadata": {},
     "output_type": "execute_result"
    }
   ],
   "source": [
    "# check Severity column\n",
    "accident_df['Severity'].value_counts()"
   ]
  },
  {
   "cell_type": "markdown",
   "id": "f84e5ea0",
   "metadata": {},
   "source": [
    "#### converting the string values into numerical ones using label encoder"
   ]
  },
  {
   "cell_type": "code",
   "execution_count": 30,
   "id": "d355f475",
   "metadata": {
    "scrolled": true
   },
   "outputs": [
    {
     "data": {
      "text/plain": [
       "Index(['Side', 'City', 'County', 'State', 'Timezone', 'Wind_Direction',\n",
       "       'Weather_Condition', 'Sunrise_Sunset', 'Day'],\n",
       "      dtype='object')"
      ]
     },
     "execution_count": 30,
     "metadata": {},
     "output_type": "execute_result"
    }
   ],
   "source": [
    "# To see which columns have categorical value columns\n",
    "X_cat = accident_df.select_dtypes(include='object').columns\n",
    "X_cat"
   ]
  },
  {
   "cell_type": "code",
   "execution_count": 31,
   "id": "515a7b7a",
   "metadata": {
    "scrolled": false
   },
   "outputs": [
    {
     "name": "stdout",
     "output_type": "stream",
     "text": [
      "Side \n",
      " R    528173\n",
      "L    415146\n",
      "Name: Side, dtype: int64\n",
      "--------------------------------------\n",
      "City \n",
      " Miami                           67276\n",
      "Orlando                         37644\n",
      "Los Angeles                     20194\n",
      "Houston                         18923\n",
      "Charlotte                       16044\n",
      "                                ...  \n",
      "Asbury                              1\n",
      "Prestonsburg                        1\n",
      "Marble                              1\n",
      "Intervale                           1\n",
      "American Fork-Pleasant Grove        1\n",
      "Name: City, Length: 8504, dtype: int64\n",
      "--------------------------------------\n",
      "County \n",
      " Miami-Dade     93684\n",
      "Los Angeles    51695\n",
      "Orange         48003\n",
      "Montgomery     20955\n",
      "Harris         19302\n",
      "               ...  \n",
      "LaSalle            1\n",
      "Moniteau           1\n",
      "Woodford           1\n",
      "Gregg              1\n",
      "Ness               1\n",
      "Name: County, Length: 1411, dtype: int64\n",
      "--------------------------------------\n",
      "State \n",
      " FL    217566\n",
      "CA    215629\n",
      "SC     57482\n",
      "TX     52073\n",
      "PA     48470\n",
      "OR     45295\n",
      "NC     42677\n",
      "VA     30320\n",
      "MN     26337\n",
      "LA     25843\n",
      "NY     23138\n",
      "TN     21480\n",
      "AZ     20138\n",
      "MD     11635\n",
      "MI     10952\n",
      "UT     10843\n",
      "IL      9853\n",
      "MT      7895\n",
      "NJ      7675\n",
      "OH      6444\n",
      "WA      6418\n",
      "AL      5093\n",
      "OK      5041\n",
      "MO      4184\n",
      "CO      3570\n",
      "ID      3396\n",
      "DC      3385\n",
      "AR      2889\n",
      "GA      2858\n",
      "CT      2571\n",
      "IN      2229\n",
      "DE      1474\n",
      "IA      1318\n",
      "WV      1134\n",
      "KY      1078\n",
      "MS       823\n",
      "NV       788\n",
      "NE       568\n",
      "MA       546\n",
      "WI       496\n",
      "ND       448\n",
      "KS       359\n",
      "NH       218\n",
      "ME       167\n",
      "NM       162\n",
      "SD       122\n",
      "VT       102\n",
      "RI        92\n",
      "WY        45\n",
      "Name: State, dtype: int64\n",
      "--------------------------------------\n",
      "Timezone \n",
      " US/Eastern     469987\n",
      "US/Pacific     273746\n",
      "US/Central     152628\n",
      "US/Mountain     46958\n",
      "Name: Timezone, dtype: int64\n",
      "--------------------------------------\n",
      "Wind_Direction \n",
      " CALM        172190\n",
      "S            68583\n",
      "W            62152\n",
      "E            56742\n",
      "N            52213\n",
      "WNW          47097\n",
      "NW           46654\n",
      "SSW          44746\n",
      "SSE          43951\n",
      "SW           42741\n",
      "VAR          42527\n",
      "NNW          41907\n",
      "WSW          41355\n",
      "SE           39512\n",
      "ESE          39258\n",
      "ENE          36932\n",
      "NE           32762\n",
      "NNE          30205\n",
      "North          500\n",
      "South          464\n",
      "West           388\n",
      "East           330\n",
      "Variable       110\n",
      "Name: Wind_Direction, dtype: int64\n",
      "--------------------------------------\n",
      "Weather_Condition \n",
      " Fair                            466077\n",
      "Cloudy                          139944\n",
      "Mostly Cloudy                   123642\n",
      "Partly Cloudy                    85090\n",
      "Light Rain                       39389\n",
      "                                 ...  \n",
      "Heavy Rain Shower / Windy            1\n",
      "Heavy Sleet                          1\n",
      "Thunder and Hail                     1\n",
      "Light Rain Shower / Windy            1\n",
      "Light Thunderstorms and Rain         1\n",
      "Name: Weather_Condition, Length: 91, dtype: int64\n",
      "--------------------------------------\n",
      "Sunrise_Sunset \n",
      " Day      595987\n",
      "Night    347332\n",
      "Name: Sunrise_Sunset, dtype: int64\n",
      "--------------------------------------\n",
      "Day \n",
      " Friday       162753\n",
      "Wednesday    148521\n",
      "Thursday     148505\n",
      "Tuesday      142507\n",
      "Monday       134229\n",
      "Saturday     117344\n",
      "Sunday        89460\n",
      "Name: Day, dtype: int64\n",
      "--------------------------------------\n"
     ]
    }
   ],
   "source": [
    "# examine all the columns\n",
    "for column in accident_df[X_cat]:\n",
    "    print(column,\"\\n\", accident_df[column].value_counts())\n",
    "    print(\"--------------------------------------\")"
   ]
  },
  {
   "cell_type": "code",
   "execution_count": 32,
   "id": "4e62d3a6",
   "metadata": {
    "scrolled": true
   },
   "outputs": [],
   "source": [
    "from sklearn.preprocessing import LabelEncoder\n",
    "#\n",
    "# Instantiate LabelEncoder\n",
    "#\n",
    "le = LabelEncoder()\n"
   ]
  },
  {
   "cell_type": "code",
   "execution_count": 33,
   "id": "89bf1248",
   "metadata": {
    "scrolled": true
   },
   "outputs": [],
   "source": [
    "# Encode single column Side\n",
    "#\n",
    "#accident_df.Street = le.fit_transform(accident_df.Street)\n",
    "#\n",
    "# Print df.head for checking the transformatio"
   ]
  },
  {
   "cell_type": "code",
   "execution_count": 34,
   "id": "0b465b1a",
   "metadata": {
    "scrolled": true
   },
   "outputs": [],
   "source": [
    "#accident_df['Street']"
   ]
  },
  {
   "cell_type": "code",
   "execution_count": 35,
   "id": "956c9fb7",
   "metadata": {
    "scrolled": true
   },
   "outputs": [],
   "source": [
    "#print(accident_df['Street'].nunique())"
   ]
  },
  {
   "cell_type": "code",
   "execution_count": 36,
   "id": "b8f1f7d9",
   "metadata": {
    "scrolled": true
   },
   "outputs": [],
   "source": [
    "# Encode single column Side\n",
    "#\n",
    "accident_df.Side = le.fit_transform(accident_df.Side)\n",
    "#\n",
    "# Print df.head for checking the transformation"
   ]
  },
  {
   "cell_type": "code",
   "execution_count": 37,
   "id": "b3189cac",
   "metadata": {
    "scrolled": true
   },
   "outputs": [
    {
     "data": {
      "text/plain": [
       "42         1\n",
       "43         1\n",
       "47         1\n",
       "50         0\n",
       "66         0\n",
       "          ..\n",
       "2845298    1\n",
       "2845302    1\n",
       "2845303    1\n",
       "2845304    0\n",
       "2845307    1\n",
       "Name: Side, Length: 943319, dtype: int32"
      ]
     },
     "execution_count": 37,
     "metadata": {},
     "output_type": "execute_result"
    }
   ],
   "source": [
    "accident_df['Side']"
   ]
  },
  {
   "cell_type": "code",
   "execution_count": 38,
   "id": "9a135671",
   "metadata": {
    "scrolled": true
   },
   "outputs": [],
   "source": [
    "# Encode single column City\n",
    "#\n",
    "accident_df.City = le.fit_transform(accident_df.City)\n",
    "#\n",
    "# Print df.head for checking the transformation"
   ]
  },
  {
   "cell_type": "code",
   "execution_count": 39,
   "id": "244cf796",
   "metadata": {
    "scrolled": true
   },
   "outputs": [
    {
     "data": {
      "text/plain": [
       "42         2051\n",
       "43         6318\n",
       "47         8311\n",
       "50         1033\n",
       "66         1429\n",
       "           ... \n",
       "2845298    5727\n",
       "2845302    8477\n",
       "2845303    8477\n",
       "2845304    6718\n",
       "2845307    2913\n",
       "Name: City, Length: 943319, dtype: int32"
      ]
     },
     "execution_count": 39,
     "metadata": {},
     "output_type": "execute_result"
    }
   ],
   "source": [
    "accident_df['City']"
   ]
  },
  {
   "cell_type": "code",
   "execution_count": 40,
   "id": "67745ba6",
   "metadata": {
    "scrolled": true
   },
   "outputs": [
    {
     "name": "stdout",
     "output_type": "stream",
     "text": [
      "8504\n"
     ]
    }
   ],
   "source": [
    "#accident_df['City'].unique().value_counts\n",
    "print(accident_df['City'].nunique())"
   ]
  },
  {
   "cell_type": "code",
   "execution_count": 41,
   "id": "1b63c1b6",
   "metadata": {
    "scrolled": true
   },
   "outputs": [],
   "source": [
    "# Encode single column County\n",
    "#\n",
    "accident_df.County = le.fit_transform(accident_df.County)\n",
    "#\n",
    "# Print df.head for checking the transformation"
   ]
  },
  {
   "cell_type": "code",
   "execution_count": 42,
   "id": "7f06a65f",
   "metadata": {
    "scrolled": true
   },
   "outputs": [
    {
     "data": {
      "text/plain": [
       "42          632\n",
       "43          632\n",
       "47         1304\n",
       "50          316\n",
       "66          333\n",
       "           ... \n",
       "2845298    1121\n",
       "2845302    1235\n",
       "2845303    1235\n",
       "2845304    1115\n",
       "2845307    1127\n",
       "Name: County, Length: 943319, dtype: int32"
      ]
     },
     "execution_count": 42,
     "metadata": {},
     "output_type": "execute_result"
    }
   ],
   "source": [
    "accident_df['County']"
   ]
  },
  {
   "cell_type": "code",
   "execution_count": 43,
   "id": "5082acb0",
   "metadata": {
    "scrolled": true
   },
   "outputs": [
    {
     "name": "stdout",
     "output_type": "stream",
     "text": [
      "1411\n"
     ]
    }
   ],
   "source": [
    "print(accident_df['County'].nunique())"
   ]
  },
  {
   "cell_type": "code",
   "execution_count": 44,
   "id": "df784171",
   "metadata": {
    "scrolled": true
   },
   "outputs": [],
   "source": [
    "# Encode single column State\n",
    "#\n",
    "accident_df.State = le.fit_transform(accident_df.State)\n",
    "#\n",
    "# Print df.head for checking the transformation"
   ]
  },
  {
   "cell_type": "code",
   "execution_count": 45,
   "id": "995ab438",
   "metadata": {
    "scrolled": true
   },
   "outputs": [
    {
     "data": {
      "text/plain": [
       "42         13\n",
       "43         13\n",
       "47         33\n",
       "50         36\n",
       "66         33\n",
       "           ..\n",
       "2845298     3\n",
       "2845302     3\n",
       "2845303     3\n",
       "2845304     3\n",
       "2845307     3\n",
       "Name: State, Length: 943319, dtype: int32"
      ]
     },
     "execution_count": 45,
     "metadata": {},
     "output_type": "execute_result"
    }
   ],
   "source": [
    "accident_df['State']"
   ]
  },
  {
   "cell_type": "code",
   "execution_count": 46,
   "id": "1e890226",
   "metadata": {
    "scrolled": true
   },
   "outputs": [],
   "source": [
    "# Encode single column Timezone \n",
    "#\n",
    "accident_df.Timezone  = le.fit_transform(accident_df.Timezone)\n",
    "#\n",
    "# Print df.head for checking the transformation"
   ]
  },
  {
   "cell_type": "code",
   "execution_count": 47,
   "id": "01b31f54",
   "metadata": {
    "scrolled": true
   },
   "outputs": [
    {
     "data": {
      "text/plain": [
       "42         1\n",
       "43         1\n",
       "47         1\n",
       "50         1\n",
       "66         1\n",
       "          ..\n",
       "2845298    3\n",
       "2845302    3\n",
       "2845303    3\n",
       "2845304    3\n",
       "2845307    3\n",
       "Name: Timezone, Length: 943319, dtype: int32"
      ]
     },
     "execution_count": 47,
     "metadata": {},
     "output_type": "execute_result"
    }
   ],
   "source": [
    "accident_df['Timezone']"
   ]
  },
  {
   "cell_type": "code",
   "execution_count": 48,
   "id": "ed789fb5",
   "metadata": {
    "scrolled": true
   },
   "outputs": [],
   "source": [
    "# Encode single column Wind_Direction \n",
    "#\n",
    "accident_df.Wind_Direction  = le.fit_transform(accident_df.Wind_Direction)\n",
    "#\n",
    "# Print df.head for checking the transformation"
   ]
  },
  {
   "cell_type": "code",
   "execution_count": 49,
   "id": "0c7e2b14",
   "metadata": {
    "scrolled": true
   },
   "outputs": [
    {
     "data": {
      "text/plain": [
       "42         20\n",
       "43         20\n",
       "47         22\n",
       "50         21\n",
       "66         22\n",
       "           ..\n",
       "2845298     7\n",
       "2845302    11\n",
       "2845303    11\n",
       "2845304    19\n",
       "2845307    17\n",
       "Name: Wind_Direction, Length: 943319, dtype: int32"
      ]
     },
     "execution_count": 49,
     "metadata": {},
     "output_type": "execute_result"
    }
   ],
   "source": [
    "accident_df['Wind_Direction']"
   ]
  },
  {
   "cell_type": "code",
   "execution_count": 50,
   "id": "f68f954e",
   "metadata": {
    "scrolled": true
   },
   "outputs": [],
   "source": [
    "# Encode single column Weather_Condition \n",
    "#\n",
    "accident_df.Weather_Condition  = le.fit_transform(accident_df.Weather_Condition)\n",
    "#\n",
    "# Print df.head for checking the transformation"
   ]
  },
  {
   "cell_type": "code",
   "execution_count": 51,
   "id": "4e9b8523",
   "metadata": {
    "scrolled": true
   },
   "outputs": [
    {
     "data": {
      "text/plain": [
       "42         45\n",
       "43         45\n",
       "47         45\n",
       "50         45\n",
       "66         45\n",
       "           ..\n",
       "2845298    10\n",
       "2845302    56\n",
       "2845303    56\n",
       "2845304    10\n",
       "2845307     5\n",
       "Name: Weather_Condition, Length: 943319, dtype: int32"
      ]
     },
     "execution_count": 51,
     "metadata": {},
     "output_type": "execute_result"
    }
   ],
   "source": [
    "accident_df['Weather_Condition']"
   ]
  },
  {
   "cell_type": "code",
   "execution_count": 52,
   "id": "14fd67c3",
   "metadata": {
    "scrolled": true
   },
   "outputs": [],
   "source": [
    "# Encode single column Sunrise_Sunset \n",
    "#\n",
    "accident_df.Sunrise_Sunset  = le.fit_transform(accident_df.Sunrise_Sunset)\n",
    "#\n",
    "# Print df.head for checking the transformation"
   ]
  },
  {
   "cell_type": "code",
   "execution_count": 53,
   "id": "ea355e37",
   "metadata": {
    "scrolled": true
   },
   "outputs": [
    {
     "data": {
      "text/plain": [
       "42         1\n",
       "43         1\n",
       "47         1\n",
       "50         0\n",
       "66         0\n",
       "          ..\n",
       "2845298    0\n",
       "2845302    0\n",
       "2845303    0\n",
       "2845304    1\n",
       "2845307    0\n",
       "Name: Sunrise_Sunset, Length: 943319, dtype: int32"
      ]
     },
     "execution_count": 53,
     "metadata": {},
     "output_type": "execute_result"
    }
   ],
   "source": [
    "accident_df['Sunrise_Sunset']"
   ]
  },
  {
   "cell_type": "code",
   "execution_count": 54,
   "id": "ecf029f3",
   "metadata": {
    "scrolled": true
   },
   "outputs": [],
   "source": [
    "# Encode single column Day \n",
    "#\n",
    "accident_df.Day  = le.fit_transform(accident_df.Day)\n",
    "#\n",
    "# Print df.head for checking the transformation"
   ]
  },
  {
   "cell_type": "code",
   "execution_count": 55,
   "id": "6c3e8c05",
   "metadata": {
    "scrolled": true
   },
   "outputs": [
    {
     "data": {
      "text/plain": [
       "42         5\n",
       "43         5\n",
       "47         6\n",
       "50         6\n",
       "66         6\n",
       "          ..\n",
       "2845298    0\n",
       "2845302    0\n",
       "2845303    0\n",
       "2845304    0\n",
       "2845307    0\n",
       "Name: Day, Length: 943319, dtype: int32"
      ]
     },
     "execution_count": 55,
     "metadata": {},
     "output_type": "execute_result"
    }
   ],
   "source": [
    "accident_df['Day']"
   ]
  },
  {
   "cell_type": "code",
   "execution_count": 56,
   "id": "22cf540c",
   "metadata": {
    "scrolled": true
   },
   "outputs": [
    {
     "data": {
      "text/plain": [
       "Severity              float64\n",
       "Start_Lat             float64\n",
       "Start_Lng             float64\n",
       "End_Lat               float64\n",
       "End_Lng               float64\n",
       "Distance(mi)          float64\n",
       "Number                float64\n",
       "Side                    int32\n",
       "City                    int32\n",
       "County                  int32\n",
       "State                   int32\n",
       "Timezone                int32\n",
       "Temperature(F)        float64\n",
       "Wind_Chill(F)         float64\n",
       "Humidity(%)           float64\n",
       "Pressure(in)          float64\n",
       "Visibility(mi)        float64\n",
       "Wind_Direction          int32\n",
       "Wind_Speed(mph)       float64\n",
       "Precipitation(in)     float64\n",
       "Weather_Condition       int32\n",
       "Amenity                 int64\n",
       "Bump                    int64\n",
       "Crossing                int64\n",
       "Give_Way                int64\n",
       "Junction                int64\n",
       "No_Exit                 int64\n",
       "Railway                 int64\n",
       "Roundabout              int64\n",
       "Station                 int64\n",
       "Stop                    int64\n",
       "Traffic_Calming         int64\n",
       "Traffic_Signal          int64\n",
       "Turning_Loop            int64\n",
       "Sunrise_Sunset          int32\n",
       "Month                 float64\n",
       "Day                     int32\n",
       "Hour                  float64\n",
       "Time_Duration(min)    float64\n",
       "dtype: object"
      ]
     },
     "execution_count": 56,
     "metadata": {},
     "output_type": "execute_result"
    }
   ],
   "source": [
    "accident_df.dtypes"
   ]
  },
  {
   "cell_type": "markdown",
   "id": "c9e3ef2b",
   "metadata": {},
   "source": [
    "#### Split the Data into Training and Testing"
   ]
  },
  {
   "cell_type": "code",
   "execution_count": 57,
   "id": "c0c81722",
   "metadata": {
    "scrolled": true
   },
   "outputs": [
    {
     "data": {
      "text/html": [
       "<div>\n",
       "<style scoped>\n",
       "    .dataframe tbody tr th:only-of-type {\n",
       "        vertical-align: middle;\n",
       "    }\n",
       "\n",
       "    .dataframe tbody tr th {\n",
       "        vertical-align: top;\n",
       "    }\n",
       "\n",
       "    .dataframe thead th {\n",
       "        text-align: right;\n",
       "    }\n",
       "</style>\n",
       "<table border=\"1\" class=\"dataframe\">\n",
       "  <thead>\n",
       "    <tr style=\"text-align: right;\">\n",
       "      <th></th>\n",
       "      <th>Start_Lat</th>\n",
       "      <th>Start_Lng</th>\n",
       "      <th>End_Lat</th>\n",
       "      <th>End_Lng</th>\n",
       "      <th>Distance(mi)</th>\n",
       "      <th>Number</th>\n",
       "      <th>Side</th>\n",
       "      <th>City</th>\n",
       "      <th>County</th>\n",
       "      <th>State</th>\n",
       "      <th>...</th>\n",
       "      <th>Station</th>\n",
       "      <th>Stop</th>\n",
       "      <th>Traffic_Calming</th>\n",
       "      <th>Traffic_Signal</th>\n",
       "      <th>Turning_Loop</th>\n",
       "      <th>Sunrise_Sunset</th>\n",
       "      <th>Month</th>\n",
       "      <th>Day</th>\n",
       "      <th>Hour</th>\n",
       "      <th>Time_Duration(min)</th>\n",
       "    </tr>\n",
       "  </thead>\n",
       "  <tbody>\n",
       "    <tr>\n",
       "      <th>42</th>\n",
       "      <td>40.45112</td>\n",
       "      <td>-85.15048</td>\n",
       "      <td>40.35429</td>\n",
       "      <td>-85.14993</td>\n",
       "      <td>6.690</td>\n",
       "      <td>9001.0</td>\n",
       "      <td>1</td>\n",
       "      <td>2051</td>\n",
       "      <td>632</td>\n",
       "      <td>13</td>\n",
       "      <td>...</td>\n",
       "      <td>0</td>\n",
       "      <td>0</td>\n",
       "      <td>0</td>\n",
       "      <td>0</td>\n",
       "      <td>0</td>\n",
       "      <td>1</td>\n",
       "      <td>2.0</td>\n",
       "      <td>5</td>\n",
       "      <td>18.0</td>\n",
       "      <td>360.0</td>\n",
       "    </tr>\n",
       "    <tr>\n",
       "      <th>43</th>\n",
       "      <td>40.35429</td>\n",
       "      <td>-85.14993</td>\n",
       "      <td>40.45112</td>\n",
       "      <td>-85.15048</td>\n",
       "      <td>6.690</td>\n",
       "      <td>473.0</td>\n",
       "      <td>1</td>\n",
       "      <td>6318</td>\n",
       "      <td>632</td>\n",
       "      <td>13</td>\n",
       "      <td>...</td>\n",
       "      <td>0</td>\n",
       "      <td>0</td>\n",
       "      <td>0</td>\n",
       "      <td>0</td>\n",
       "      <td>0</td>\n",
       "      <td>1</td>\n",
       "      <td>2.0</td>\n",
       "      <td>5</td>\n",
       "      <td>18.0</td>\n",
       "      <td>360.0</td>\n",
       "    </tr>\n",
       "    <tr>\n",
       "      <th>47</th>\n",
       "      <td>40.72813</td>\n",
       "      <td>-84.78965</td>\n",
       "      <td>40.74559</td>\n",
       "      <td>-84.78962</td>\n",
       "      <td>1.206</td>\n",
       "      <td>12998.0</td>\n",
       "      <td>1</td>\n",
       "      <td>8311</td>\n",
       "      <td>1304</td>\n",
       "      <td>33</td>\n",
       "      <td>...</td>\n",
       "      <td>0</td>\n",
       "      <td>0</td>\n",
       "      <td>0</td>\n",
       "      <td>0</td>\n",
       "      <td>0</td>\n",
       "      <td>1</td>\n",
       "      <td>2.0</td>\n",
       "      <td>6</td>\n",
       "      <td>6.0</td>\n",
       "      <td>360.0</td>\n",
       "    </tr>\n",
       "    <tr>\n",
       "      <th>50</th>\n",
       "      <td>41.83193</td>\n",
       "      <td>-80.10143</td>\n",
       "      <td>41.84149</td>\n",
       "      <td>-80.11099</td>\n",
       "      <td>0.824</td>\n",
       "      <td>25529.0</td>\n",
       "      <td>0</td>\n",
       "      <td>1033</td>\n",
       "      <td>316</td>\n",
       "      <td>36</td>\n",
       "      <td>...</td>\n",
       "      <td>0</td>\n",
       "      <td>0</td>\n",
       "      <td>0</td>\n",
       "      <td>0</td>\n",
       "      <td>0</td>\n",
       "      <td>0</td>\n",
       "      <td>2.0</td>\n",
       "      <td>6</td>\n",
       "      <td>8.0</td>\n",
       "      <td>360.0</td>\n",
       "    </tr>\n",
       "    <tr>\n",
       "      <th>66</th>\n",
       "      <td>41.48339</td>\n",
       "      <td>-81.66297</td>\n",
       "      <td>41.47692</td>\n",
       "      <td>-81.66075</td>\n",
       "      <td>0.462</td>\n",
       "      <td>3937.0</td>\n",
       "      <td>0</td>\n",
       "      <td>1429</td>\n",
       "      <td>333</td>\n",
       "      <td>33</td>\n",
       "      <td>...</td>\n",
       "      <td>0</td>\n",
       "      <td>0</td>\n",
       "      <td>0</td>\n",
       "      <td>0</td>\n",
       "      <td>0</td>\n",
       "      <td>0</td>\n",
       "      <td>2.0</td>\n",
       "      <td>6</td>\n",
       "      <td>12.0</td>\n",
       "      <td>360.0</td>\n",
       "    </tr>\n",
       "  </tbody>\n",
       "</table>\n",
       "<p>5 rows × 38 columns</p>\n",
       "</div>"
      ],
      "text/plain": [
       "    Start_Lat  Start_Lng   End_Lat   End_Lng  Distance(mi)   Number  Side  \\\n",
       "42   40.45112  -85.15048  40.35429 -85.14993         6.690   9001.0     1   \n",
       "43   40.35429  -85.14993  40.45112 -85.15048         6.690    473.0     1   \n",
       "47   40.72813  -84.78965  40.74559 -84.78962         1.206  12998.0     1   \n",
       "50   41.83193  -80.10143  41.84149 -80.11099         0.824  25529.0     0   \n",
       "66   41.48339  -81.66297  41.47692 -81.66075         0.462   3937.0     0   \n",
       "\n",
       "    City  County  State  ...  Station  Stop  Traffic_Calming  Traffic_Signal  \\\n",
       "42  2051     632     13  ...        0     0                0               0   \n",
       "43  6318     632     13  ...        0     0                0               0   \n",
       "47  8311    1304     33  ...        0     0                0               0   \n",
       "50  1033     316     36  ...        0     0                0               0   \n",
       "66  1429     333     33  ...        0     0                0               0   \n",
       "\n",
       "    Turning_Loop  Sunrise_Sunset  Month  Day  Hour  Time_Duration(min)  \n",
       "42             0               1    2.0    5  18.0               360.0  \n",
       "43             0               1    2.0    5  18.0               360.0  \n",
       "47             0               1    2.0    6   6.0               360.0  \n",
       "50             0               0    2.0    6   8.0               360.0  \n",
       "66             0               0    2.0    6  12.0               360.0  \n",
       "\n",
       "[5 rows x 38 columns]"
      ]
     },
     "execution_count": 57,
     "metadata": {},
     "output_type": "execute_result"
    }
   ],
   "source": [
    "# Create our features\n",
    "X = accident_df.drop(\"Severity\",axis=1) \n",
    "X.head()"
   ]
  },
  {
   "cell_type": "code",
   "execution_count": 58,
   "id": "216c2b01",
   "metadata": {
    "scrolled": true
   },
   "outputs": [
    {
     "data": {
      "text/html": [
       "<div>\n",
       "<style scoped>\n",
       "    .dataframe tbody tr th:only-of-type {\n",
       "        vertical-align: middle;\n",
       "    }\n",
       "\n",
       "    .dataframe tbody tr th {\n",
       "        vertical-align: top;\n",
       "    }\n",
       "\n",
       "    .dataframe thead th {\n",
       "        text-align: right;\n",
       "    }\n",
       "</style>\n",
       "<table border=\"1\" class=\"dataframe\">\n",
       "  <thead>\n",
       "    <tr style=\"text-align: right;\">\n",
       "      <th></th>\n",
       "      <th>Start_Lat</th>\n",
       "      <th>Start_Lng</th>\n",
       "      <th>End_Lat</th>\n",
       "      <th>End_Lng</th>\n",
       "      <th>Distance(mi)</th>\n",
       "      <th>Number</th>\n",
       "      <th>Side</th>\n",
       "      <th>City</th>\n",
       "      <th>County</th>\n",
       "      <th>State</th>\n",
       "      <th>...</th>\n",
       "      <th>Station</th>\n",
       "      <th>Stop</th>\n",
       "      <th>Traffic_Calming</th>\n",
       "      <th>Traffic_Signal</th>\n",
       "      <th>Turning_Loop</th>\n",
       "      <th>Sunrise_Sunset</th>\n",
       "      <th>Month</th>\n",
       "      <th>Day</th>\n",
       "      <th>Hour</th>\n",
       "      <th>Time_Duration(min)</th>\n",
       "    </tr>\n",
       "  </thead>\n",
       "  <tbody>\n",
       "    <tr>\n",
       "      <th>count</th>\n",
       "      <td>943319.000000</td>\n",
       "      <td>943319.000000</td>\n",
       "      <td>943319.000000</td>\n",
       "      <td>943319.000000</td>\n",
       "      <td>943319.000000</td>\n",
       "      <td>9.433190e+05</td>\n",
       "      <td>943319.000000</td>\n",
       "      <td>943319.000000</td>\n",
       "      <td>943319.000000</td>\n",
       "      <td>943319.000000</td>\n",
       "      <td>...</td>\n",
       "      <td>943319.000000</td>\n",
       "      <td>943319.000000</td>\n",
       "      <td>943319.000000</td>\n",
       "      <td>943319.000000</td>\n",
       "      <td>943319.0</td>\n",
       "      <td>943319.000000</td>\n",
       "      <td>943319.000000</td>\n",
       "      <td>943319.000000</td>\n",
       "      <td>943319.000000</td>\n",
       "      <td>943319.000000</td>\n",
       "    </tr>\n",
       "    <tr>\n",
       "      <th>mean</th>\n",
       "      <td>35.069960</td>\n",
       "      <td>-95.102555</td>\n",
       "      <td>35.070232</td>\n",
       "      <td>-95.102258</td>\n",
       "      <td>0.274626</td>\n",
       "      <td>7.924180e+03</td>\n",
       "      <td>0.559909</td>\n",
       "      <td>4367.526769</td>\n",
       "      <td>773.522960</td>\n",
       "      <td>18.620370</td>\n",
       "      <td>...</td>\n",
       "      <td>0.050687</td>\n",
       "      <td>0.036233</td>\n",
       "      <td>0.001007</td>\n",
       "      <td>0.136188</td>\n",
       "      <td>0.0</td>\n",
       "      <td>0.368202</td>\n",
       "      <td>7.894550</td>\n",
       "      <td>3.005323</td>\n",
       "      <td>13.116501</td>\n",
       "      <td>253.481295</td>\n",
       "    </tr>\n",
       "    <tr>\n",
       "      <th>std</th>\n",
       "      <td>5.796631</td>\n",
       "      <td>17.794338</td>\n",
       "      <td>5.796704</td>\n",
       "      <td>17.794093</td>\n",
       "      <td>0.883254</td>\n",
       "      <td>1.838707e+04</td>\n",
       "      <td>0.496398</td>\n",
       "      <td>2297.616253</td>\n",
       "      <td>331.079789</td>\n",
       "      <td>15.016266</td>\n",
       "      <td>...</td>\n",
       "      <td>0.219358</td>\n",
       "      <td>0.186869</td>\n",
       "      <td>0.031719</td>\n",
       "      <td>0.342989</td>\n",
       "      <td>0.0</td>\n",
       "      <td>0.482317</td>\n",
       "      <td>3.580055</td>\n",
       "      <td>2.103581</td>\n",
       "      <td>5.828700</td>\n",
       "      <td>5077.800324</td>\n",
       "    </tr>\n",
       "    <tr>\n",
       "      <th>min</th>\n",
       "      <td>24.566027</td>\n",
       "      <td>-124.517744</td>\n",
       "      <td>24.566013</td>\n",
       "      <td>-124.509263</td>\n",
       "      <td>0.000000</td>\n",
       "      <td>0.000000e+00</td>\n",
       "      <td>0.000000</td>\n",
       "      <td>0.000000</td>\n",
       "      <td>0.000000</td>\n",
       "      <td>0.000000</td>\n",
       "      <td>...</td>\n",
       "      <td>0.000000</td>\n",
       "      <td>0.000000</td>\n",
       "      <td>0.000000</td>\n",
       "      <td>0.000000</td>\n",
       "      <td>0.0</td>\n",
       "      <td>0.000000</td>\n",
       "      <td>1.000000</td>\n",
       "      <td>0.000000</td>\n",
       "      <td>0.000000</td>\n",
       "      <td>5.000000</td>\n",
       "    </tr>\n",
       "    <tr>\n",
       "      <th>25%</th>\n",
       "      <td>30.229959</td>\n",
       "      <td>-117.833326</td>\n",
       "      <td>30.230207</td>\n",
       "      <td>-117.833756</td>\n",
       "      <td>0.040000</td>\n",
       "      <td>1.274000e+03</td>\n",
       "      <td>0.000000</td>\n",
       "      <td>2537.000000</td>\n",
       "      <td>553.000000</td>\n",
       "      <td>3.000000</td>\n",
       "      <td>...</td>\n",
       "      <td>0.000000</td>\n",
       "      <td>0.000000</td>\n",
       "      <td>0.000000</td>\n",
       "      <td>0.000000</td>\n",
       "      <td>0.0</td>\n",
       "      <td>0.000000</td>\n",
       "      <td>5.000000</td>\n",
       "      <td>1.000000</td>\n",
       "      <td>9.000000</td>\n",
       "      <td>77.000000</td>\n",
       "    </tr>\n",
       "    <tr>\n",
       "      <th>50%</th>\n",
       "      <td>34.976102</td>\n",
       "      <td>-86.136779</td>\n",
       "      <td>34.976489</td>\n",
       "      <td>-86.137770</td>\n",
       "      <td>0.111000</td>\n",
       "      <td>4.001000e+03</td>\n",
       "      <td>1.000000</td>\n",
       "      <td>4796.000000</td>\n",
       "      <td>820.000000</td>\n",
       "      <td>8.000000</td>\n",
       "      <td>...</td>\n",
       "      <td>0.000000</td>\n",
       "      <td>0.000000</td>\n",
       "      <td>0.000000</td>\n",
       "      <td>0.000000</td>\n",
       "      <td>0.0</td>\n",
       "      <td>0.000000</td>\n",
       "      <td>9.000000</td>\n",
       "      <td>3.000000</td>\n",
       "      <td>14.000000</td>\n",
       "      <td>120.000000</td>\n",
       "    </tr>\n",
       "    <tr>\n",
       "      <th>75%</th>\n",
       "      <td>39.232680</td>\n",
       "      <td>-80.359478</td>\n",
       "      <td>39.232685</td>\n",
       "      <td>-80.358917</td>\n",
       "      <td>0.255000</td>\n",
       "      <td>9.467000e+03</td>\n",
       "      <td>1.000000</td>\n",
       "      <td>6249.000000</td>\n",
       "      <td>992.000000</td>\n",
       "      <td>35.000000</td>\n",
       "      <td>...</td>\n",
       "      <td>0.000000</td>\n",
       "      <td>0.000000</td>\n",
       "      <td>0.000000</td>\n",
       "      <td>0.000000</td>\n",
       "      <td>0.0</td>\n",
       "      <td>1.000000</td>\n",
       "      <td>11.000000</td>\n",
       "      <td>5.000000</td>\n",
       "      <td>17.000000</td>\n",
       "      <td>162.000000</td>\n",
       "    </tr>\n",
       "    <tr>\n",
       "      <th>max</th>\n",
       "      <td>48.996539</td>\n",
       "      <td>-67.484130</td>\n",
       "      <td>48.998144</td>\n",
       "      <td>-67.484130</td>\n",
       "      <td>112.968000</td>\n",
       "      <td>9.999997e+06</td>\n",
       "      <td>1.000000</td>\n",
       "      <td>8503.000000</td>\n",
       "      <td>1410.000000</td>\n",
       "      <td>48.000000</td>\n",
       "      <td>...</td>\n",
       "      <td>1.000000</td>\n",
       "      <td>1.000000</td>\n",
       "      <td>1.000000</td>\n",
       "      <td>1.000000</td>\n",
       "      <td>0.0</td>\n",
       "      <td>1.000000</td>\n",
       "      <td>12.000000</td>\n",
       "      <td>6.000000</td>\n",
       "      <td>23.000000</td>\n",
       "      <td>961379.000000</td>\n",
       "    </tr>\n",
       "  </tbody>\n",
       "</table>\n",
       "<p>8 rows × 38 columns</p>\n",
       "</div>"
      ],
      "text/plain": [
       "           Start_Lat      Start_Lng        End_Lat        End_Lng  \\\n",
       "count  943319.000000  943319.000000  943319.000000  943319.000000   \n",
       "mean       35.069960     -95.102555      35.070232     -95.102258   \n",
       "std         5.796631      17.794338       5.796704      17.794093   \n",
       "min        24.566027    -124.517744      24.566013    -124.509263   \n",
       "25%        30.229959    -117.833326      30.230207    -117.833756   \n",
       "50%        34.976102     -86.136779      34.976489     -86.137770   \n",
       "75%        39.232680     -80.359478      39.232685     -80.358917   \n",
       "max        48.996539     -67.484130      48.998144     -67.484130   \n",
       "\n",
       "        Distance(mi)        Number           Side           City  \\\n",
       "count  943319.000000  9.433190e+05  943319.000000  943319.000000   \n",
       "mean        0.274626  7.924180e+03       0.559909    4367.526769   \n",
       "std         0.883254  1.838707e+04       0.496398    2297.616253   \n",
       "min         0.000000  0.000000e+00       0.000000       0.000000   \n",
       "25%         0.040000  1.274000e+03       0.000000    2537.000000   \n",
       "50%         0.111000  4.001000e+03       1.000000    4796.000000   \n",
       "75%         0.255000  9.467000e+03       1.000000    6249.000000   \n",
       "max       112.968000  9.999997e+06       1.000000    8503.000000   \n",
       "\n",
       "              County          State  ...        Station           Stop  \\\n",
       "count  943319.000000  943319.000000  ...  943319.000000  943319.000000   \n",
       "mean      773.522960      18.620370  ...       0.050687       0.036233   \n",
       "std       331.079789      15.016266  ...       0.219358       0.186869   \n",
       "min         0.000000       0.000000  ...       0.000000       0.000000   \n",
       "25%       553.000000       3.000000  ...       0.000000       0.000000   \n",
       "50%       820.000000       8.000000  ...       0.000000       0.000000   \n",
       "75%       992.000000      35.000000  ...       0.000000       0.000000   \n",
       "max      1410.000000      48.000000  ...       1.000000       1.000000   \n",
       "\n",
       "       Traffic_Calming  Traffic_Signal  Turning_Loop  Sunrise_Sunset  \\\n",
       "count    943319.000000   943319.000000      943319.0   943319.000000   \n",
       "mean          0.001007        0.136188           0.0        0.368202   \n",
       "std           0.031719        0.342989           0.0        0.482317   \n",
       "min           0.000000        0.000000           0.0        0.000000   \n",
       "25%           0.000000        0.000000           0.0        0.000000   \n",
       "50%           0.000000        0.000000           0.0        0.000000   \n",
       "75%           0.000000        0.000000           0.0        1.000000   \n",
       "max           1.000000        1.000000           0.0        1.000000   \n",
       "\n",
       "               Month            Day           Hour  Time_Duration(min)  \n",
       "count  943319.000000  943319.000000  943319.000000       943319.000000  \n",
       "mean        7.894550       3.005323      13.116501          253.481295  \n",
       "std         3.580055       2.103581       5.828700         5077.800324  \n",
       "min         1.000000       0.000000       0.000000            5.000000  \n",
       "25%         5.000000       1.000000       9.000000           77.000000  \n",
       "50%         9.000000       3.000000      14.000000          120.000000  \n",
       "75%        11.000000       5.000000      17.000000          162.000000  \n",
       "max        12.000000       6.000000      23.000000       961379.000000  \n",
       "\n",
       "[8 rows x 38 columns]"
      ]
     },
     "execution_count": 58,
     "metadata": {},
     "output_type": "execute_result"
    }
   ],
   "source": [
    "X.describe()"
   ]
  },
  {
   "cell_type": "code",
   "execution_count": null,
   "id": "e904357f",
   "metadata": {},
   "outputs": [],
   "source": []
  },
  {
   "cell_type": "code",
   "execution_count": 59,
   "id": "c31f1631",
   "metadata": {
    "scrolled": true
   },
   "outputs": [
    {
     "data": {
      "text/plain": [
       "2.0    889905\n",
       "4.0     29073\n",
       "3.0     13716\n",
       "1.0     10625\n",
       "Name: Severity, dtype: int64"
      ]
     },
     "execution_count": 59,
     "metadata": {},
     "output_type": "execute_result"
    }
   ],
   "source": [
    "#Create our target\n",
    "y = accident_df['Severity']\n",
    "y.value_counts()"
   ]
  },
  {
   "cell_type": "code",
   "execution_count": 60,
   "id": "a1cdfb3c",
   "metadata": {
    "scrolled": true
   },
   "outputs": [
    {
     "data": {
      "text/plain": [
       "(943319, 38)"
      ]
     },
     "execution_count": 60,
     "metadata": {},
     "output_type": "execute_result"
    }
   ],
   "source": [
    "# examine shape of X\n",
    "\n",
    "X.shape"
   ]
  },
  {
   "cell_type": "code",
   "execution_count": null,
   "id": "add4c602",
   "metadata": {
    "scrolled": true
   },
   "outputs": [],
   "source": []
  },
  {
   "cell_type": "code",
   "execution_count": 61,
   "id": "227d2ec6",
   "metadata": {
    "scrolled": true
   },
   "outputs": [
    {
     "data": {
      "text/plain": [
       "(943319,)"
      ]
     },
     "execution_count": 61,
     "metadata": {},
     "output_type": "execute_result"
    }
   ],
   "source": [
    "y.shape"
   ]
  },
  {
   "cell_type": "markdown",
   "id": "18aae6d6",
   "metadata": {},
   "source": [
    "#### Split encoded Data into Training and Testing"
   ]
  },
  {
   "cell_type": "code",
   "execution_count": 62,
   "id": "6ef58a4e",
   "metadata": {
    "scrolled": true
   },
   "outputs": [],
   "source": [
    "from sklearn.model_selection import train_test_split\n",
    "X_train,X_test,y_train,y_test = train_test_split(X,y, random_state = 1)"
   ]
  },
  {
   "cell_type": "code",
   "execution_count": 63,
   "id": "f396e3ba",
   "metadata": {
    "scrolled": true
   },
   "outputs": [],
   "source": [
    "X_train = X_train.replace((np.inf, -np.inf, np.nan), 0).reset_index(drop=True)"
   ]
  },
  {
   "cell_type": "markdown",
   "id": "8f5b1046",
   "metadata": {},
   "source": [
    "###### Standered Scaler to scale data"
   ]
  },
  {
   "cell_type": "code",
   "execution_count": 64,
   "id": "48eb7da2",
   "metadata": {},
   "outputs": [],
   "source": [
    "#from sklearn.preprocessing import StandardScaler\n",
    "# Create a StandardScaler instances\n",
    "#scaler = StandardScaler()\n",
    "\n",
    "# Fit the StandardScaler\n",
    "#X_scaler = scaler.fit(X_train)\n",
    "\n",
    "# Scale the data\n",
    "#X_train_scaled = X_scaler.transform(X_train)\n",
    "#X_test_scaled = X_scaler.transform(X_test)"
   ]
  },
  {
   "cell_type": "code",
   "execution_count": 65,
   "id": "b487746a",
   "metadata": {
    "scrolled": true
   },
   "outputs": [
    {
     "data": {
      "text/plain": [
       "2.0    667409\n",
       "4.0     21848\n",
       "3.0     10314\n",
       "1.0      7918\n",
       "Name: Severity, dtype: int64"
      ]
     },
     "execution_count": 65,
     "metadata": {},
     "output_type": "execute_result"
    }
   ],
   "source": [
    "y_train.value_counts()"
   ]
  },
  {
   "cell_type": "code",
   "execution_count": 66,
   "id": "e6267391",
   "metadata": {
    "scrolled": true
   },
   "outputs": [
    {
     "data": {
      "image/png": "[encoded data removed]",
      "text/plain": [
       "<Figure size 720x576 with 1 Axes>"
      ]
     },
     "metadata": {
      "needs_background": "light"
     },
     "output_type": "display_data"
    }
   ],
   "source": [
    "# imbalanced data set\n",
    "import matplotlib.pyplot \n",
    "from scipy import stats\n",
    "import matplotlib.pyplot as plt\n",
    "import seaborn as sns\n",
    "\n",
    "severity_counts = y_train.value_counts()\n",
    "\n",
    "plt.figure(figsize=(10, 8))\n",
    "plt.title(\"Histogram for the severity\")\n",
    "sns.barplot(severity_counts.index, severity_counts.values)\n",
    "plt.xlabel(\"Severity\")\n",
    "plt.ylabel(\"Value\")\n",
    "plt.show()"
   ]
  },
  {
   "cell_type": "markdown",
   "id": "b857e746",
   "metadata": {},
   "source": [
    "### Oversampling\n",
    "###### In this section, compared two oversampling algorithms to determine which algorithm results in the best performance.And oversampled the data using the naive random oversampling algorithm and the SMOTE algorithm. \n"
   ]
  },
  {
   "cell_type": "markdown",
   "id": "1a668d31",
   "metadata": {},
   "source": [
    "#### Naive Random Oversampling"
   ]
  },
  {
   "cell_type": "code",
   "execution_count": 68,
   "id": "adc08ccf",
   "metadata": {
    "scrolled": true
   },
   "outputs": [],
   "source": [
    "# Resample the training data with the RandomOversampler\n",
    "from imblearn.over_sampling import RandomOverSampler\n",
    "ros = RandomOverSampler(random_state=1)\n",
    "#X_resampled,y_resampled =ros.fit_resample(X_train_scaled,y_train)\n",
    "X_resampled,y_resampled =ros.fit_resample(X_train,y_train)"
   ]
  },
  {
   "cell_type": "code",
   "execution_count": 69,
   "id": "eadaca2e",
   "metadata": {
    "scrolled": true
   },
   "outputs": [
    {
     "data": {
      "text/plain": [
       "Counter({2.0: 667409, 4.0: 667409, 1.0: 667409, 3.0: 667409})"
      ]
     },
     "execution_count": 69,
     "metadata": {},
     "output_type": "execute_result"
    }
   ],
   "source": [
    "# what is the \"balance\" or mix between Severity\n",
    "Counter(y_resampled)"
   ]
  },
  {
   "cell_type": "code",
   "execution_count": 70,
   "id": "09b641ff",
   "metadata": {
    "scrolled": true
   },
   "outputs": [
    {
     "data": {
      "image/png": "[encoded data removed]",
      "text/plain": [
       "<Figure size 720x576 with 1 Axes>"
      ]
     },
     "metadata": {
      "needs_background": "light"
     },
     "output_type": "display_data"
    }
   ],
   "source": [
    "severity_counts = y_resampled.value_counts()\n",
    "\n",
    "plt.figure(figsize=(10, 8))\n",
    "plt.title(\"Histogram for the severity\")\n",
    "sns.barplot(severity_counts.index, severity_counts.values)\n",
    "plt.xlabel(\"Severity\")\n",
    "plt.ylabel(\"Value\")\n",
    "plt.show()"
   ]
  },
  {
   "cell_type": "code",
   "execution_count": 71,
   "id": "2e608bdd",
   "metadata": {
    "scrolled": true
   },
   "outputs": [],
   "source": [
    "# Train the Logistic Regression model using the resampled data\n",
    "#model\n",
    "from sklearn.linear_model import LogisticRegression\n",
    "\n",
    "clf = LogisticRegression(solver='lbfgs',random_state=1)\n",
    "#fit\n",
    "clf.fit(X_resampled,y_resampled)\n",
    "#predict using the predict method\n",
    "y_pred = clf.predict(X_test)"
   ]
  },
  {
   "cell_type": "code",
   "execution_count": 72,
   "id": "44532482",
   "metadata": {
    "scrolled": true
   },
   "outputs": [
    {
     "data": {
      "text/plain": [
       "0.4617083760293368"
      ]
     },
     "execution_count": 72,
     "metadata": {},
     "output_type": "execute_result"
    }
   ],
   "source": [
    "# Calculated the balanced accuracy score\n",
    "from sklearn.metrics import balanced_accuracy_score\n",
    "balanced_accuracy_score(y_test,y_pred)"
   ]
  },
  {
   "cell_type": "code",
   "execution_count": 73,
   "id": "41669d1c",
   "metadata": {
    "scrolled": true
   },
   "outputs": [
    {
     "data": {
      "text/plain": [
       "array([[ 2037,    79,   552,    39],\n",
       "       [21705, 90652, 73189, 36950],\n",
       "       [ 1463,   225,  1373,   341],\n",
       "       [ 1664,  1254,  2260,  2047]], dtype=int64)"
      ]
     },
     "execution_count": 73,
     "metadata": {},
     "output_type": "execute_result"
    }
   ],
   "source": [
    "# Display the confusion matrix\n",
    "cm = confusion_matrix(y_test,y_pred,labels=clf.classes_)\n",
    "cm"
   ]
  },
  {
   "cell_type": "code",
   "execution_count": 74,
   "id": "40814afe",
   "metadata": {
    "scrolled": true
   },
   "outputs": [
    {
     "data": {
      "text/plain": [
       "<sklearn.metrics._plot.confusion_matrix.ConfusionMatrixDisplay at 0x25515baf2e0>"
      ]
     },
     "execution_count": 74,
     "metadata": {},
     "output_type": "execute_result"
    },
    {
     "data": {
      "image/png": "[encoded data removed]",
      "text/plain": [
       "<Figure size 432x288 with 2 Axes>"
      ]
     },
     "metadata": {
      "needs_background": "light"
     },
     "output_type": "display_data"
    }
   ],
   "source": [
    "from sklearn.metrics import ConfusionMatrixDisplay\n",
    "disp = ConfusionMatrixDisplay(confusion_matrix=cm,display_labels= clf.classes_)\n",
    "disp.plot()"
   ]
  },
  {
   "cell_type": "code",
   "execution_count": 75,
   "id": "b033de07",
   "metadata": {
    "scrolled": true
   },
   "outputs": [
    {
     "name": "stdout",
     "output_type": "stream",
     "text": [
      "                   pre       rec       spe        f1       geo       iba       sup\n",
      "\n",
      "        1.0       0.08      0.75      0.89      0.14      0.82      0.66      2707\n",
      "        2.0       0.98      0.41      0.88      0.58      0.60      0.34    222496\n",
      "        3.0       0.02      0.40      0.67      0.03      0.52      0.26      3402\n",
      "        4.0       0.05      0.28      0.84      0.09      0.49      0.22      7225\n",
      "\n",
      "avg / total       0.93      0.41      0.88      0.55      0.60      0.34    235830\n",
      "\n"
     ]
    }
   ],
   "source": [
    "# Print the imbalanced classification report\n",
    "print(classification_report_imbalanced(y_test, y_pred))"
   ]
  },
  {
   "cell_type": "markdown",
   "id": "62740077",
   "metadata": {},
   "source": [
    "#### Ensemble Learners\n",
    "###### In this section,  compared two ensemble algorithms to determine which algorithm results in the best performance. trained a Balanced Random Forest Classifier and an Easy Ensemble AdaBoost classifier ."
   ]
  },
  {
   "cell_type": "markdown",
   "id": "e33f8f86",
   "metadata": {},
   "source": [
    "#### Balanced Random Forest Classifier"
   ]
  },
  {
   "cell_type": "code",
   "execution_count": 76,
   "id": "2c54ad2f",
   "metadata": {
    "scrolled": true
   },
   "outputs": [],
   "source": [
    "from imblearn.ensemble import BalancedRandomForestClassifier\n",
    "from imblearn.metrics import classification_report_imbalanced\n",
    "from imblearn.ensemble import EasyEnsembleClassifier"
   ]
  },
  {
   "cell_type": "code",
   "execution_count": 77,
   "id": "3404a2e3",
   "metadata": {
    "scrolled": true
   },
   "outputs": [],
   "source": [
    "# Resample the training data with the BalancedRandomForestClassifier\n",
    "\n",
    "#model\n",
    "brf_model = BalancedRandomForestClassifier(random_state=1, n_estimators=100)\n",
    "#fit\n",
    "#brf_model = brf_model.fit(X_train_scaled, y_train)\n",
    "\n",
    "brf_model = brf_model.fit(X_train, y_train)\n",
    "#predict\n",
    "predictions = brf_model.predict(X_test)"
   ]
  },
  {
   "cell_type": "code",
   "execution_count": 78,
   "id": "ee2c3a07",
   "metadata": {
    "scrolled": true
   },
   "outputs": [
    {
     "data": {
      "text/plain": [
       "0.8624535928679388"
      ]
     },
     "execution_count": 78,
     "metadata": {},
     "output_type": "execute_result"
    }
   ],
   "source": [
    "# Calculated the balanced accuracy score\n",
    "balanced_accuracy_score(y_test,predictions)\n"
   ]
  },
  {
   "cell_type": "code",
   "execution_count": 79,
   "id": "42fb8bf6",
   "metadata": {
    "scrolled": true
   },
   "outputs": [
    {
     "data": {
      "text/html": [
       "<div>\n",
       "<style scoped>\n",
       "    .dataframe tbody tr th:only-of-type {\n",
       "        vertical-align: middle;\n",
       "    }\n",
       "\n",
       "    .dataframe tbody tr th {\n",
       "        vertical-align: top;\n",
       "    }\n",
       "\n",
       "    .dataframe thead th {\n",
       "        text-align: right;\n",
       "    }\n",
       "</style>\n",
       "<table border=\"1\" class=\"dataframe\">\n",
       "  <thead>\n",
       "    <tr style=\"text-align: right;\">\n",
       "      <th></th>\n",
       "      <th>Predicted 0</th>\n",
       "      <th>Predicted 1</th>\n",
       "      <th>Predicted 2</th>\n",
       "      <th>Predicted 3</th>\n",
       "    </tr>\n",
       "  </thead>\n",
       "  <tbody>\n",
       "    <tr>\n",
       "      <th>Actual 0</th>\n",
       "      <td>2563</td>\n",
       "      <td>5</td>\n",
       "      <td>108</td>\n",
       "      <td>31</td>\n",
       "    </tr>\n",
       "    <tr>\n",
       "      <th>Actual 1</th>\n",
       "      <td>3039</td>\n",
       "      <td>186189</td>\n",
       "      <td>9146</td>\n",
       "      <td>24122</td>\n",
       "    </tr>\n",
       "    <tr>\n",
       "      <th>Actual 2</th>\n",
       "      <td>215</td>\n",
       "      <td>56</td>\n",
       "      <td>2822</td>\n",
       "      <td>309</td>\n",
       "    </tr>\n",
       "    <tr>\n",
       "      <th>Actual 3</th>\n",
       "      <td>105</td>\n",
       "      <td>672</td>\n",
       "      <td>403</td>\n",
       "      <td>6045</td>\n",
       "    </tr>\n",
       "  </tbody>\n",
       "</table>\n",
       "</div>"
      ],
      "text/plain": [
       "          Predicted 0  Predicted 1  Predicted 2  Predicted 3\n",
       "Actual 0         2563            5          108           31\n",
       "Actual 1         3039       186189         9146        24122\n",
       "Actual 2          215           56         2822          309\n",
       "Actual 3          105          672          403         6045"
      ]
     },
     "execution_count": 79,
     "metadata": {},
     "output_type": "execute_result"
    }
   ],
   "source": [
    "# Calculating the confusion matrix.\n",
    "cm = confusion_matrix(y_test, predictions)\n",
    "\n",
    "# Create a DataFrame from the confusion matrix.\n",
    "cm_df = pd.DataFrame(\n",
    "    cm, index=[\"Actual 0\", \"Actual 1\",\"Actual 2\", \"Actual 3\"], columns=[\"Predicted 0\", \"Predicted 1\",\"Predicted 2\", \"Predicted 3\"])\n",
    "\n",
    "cm_df"
   ]
  },
  {
   "cell_type": "code",
   "execution_count": 80,
   "id": "5d118bc9",
   "metadata": {
    "scrolled": true
   },
   "outputs": [
    {
     "name": "stdout",
     "output_type": "stream",
     "text": [
      "                   pre       rec       spe        f1       geo       iba       sup\n",
      "\n",
      "        1.0       0.43      0.95      0.99      0.59      0.97      0.93      2707\n",
      "        2.0       1.00      0.84      0.95      0.91      0.89      0.78    222496\n",
      "        3.0       0.23      0.83      0.96      0.36      0.89      0.78      3402\n",
      "        4.0       0.20      0.84      0.89      0.32      0.86      0.74      7225\n",
      "\n",
      "avg / total       0.95      0.84      0.94      0.88      0.89      0.78    235830\n",
      "\n"
     ]
    }
   ],
   "source": [
    "# Print the imbalanced classification report\n",
    "print(classification_report_imbalanced(y_test, predictions))"
   ]
  },
  {
   "cell_type": "code",
   "execution_count": 81,
   "id": "ee6e7958",
   "metadata": {
    "scrolled": true
   },
   "outputs": [
    {
     "data": {
      "text/plain": [
       "[(0.14885699279072115, 'Distance(mi)'),\n",
       " (0.1313910142115974, 'Time_Duration(min)'),\n",
       " (0.07393241093839359, 'Start_Lat'),\n",
       " (0.06858770794147913, 'End_Lat'),\n",
       " (0.06667689720977885, 'End_Lng'),\n",
       " (0.06460060387491633, 'Start_Lng'),\n",
       " (0.05577723504953518, 'Month'),\n",
       " (0.04924539005362143, 'State'),\n",
       " (0.03907290224063054, 'Pressure(in)'),\n",
       " (0.029535000132104444, 'County'),\n",
       " (0.0258657965263429, 'Number'),\n",
       " (0.025760000937639648, 'City'),\n",
       " (0.025147955988698182, 'Timezone'),\n",
       " (0.025125488190040145, 'Humidity(%)'),\n",
       " (0.023519942442245517, 'Temperature(F)'),\n",
       " (0.022697789950915186, 'Wind_Chill(F)'),\n",
       " (0.022164570361060423, 'Hour'),\n",
       " (0.015951921347184272, 'Wind_Speed(mph)'),\n",
       " (0.015448398037099619, 'Wind_Direction'),\n",
       " (0.014487219792759055, 'Traffic_Signal'),\n",
       " (0.012543396480559518, 'Day'),\n",
       " (0.011154278533379634, 'Weather_Condition'),\n",
       " (0.008426008121058004, 'Crossing'),\n",
       " (0.005750272045432845, 'Visibility(mi)'),\n",
       " (0.004966278039927395, 'Sunrise_Sunset'),\n",
       " (0.004224033224034819, 'Side'),\n",
       " (0.0030236646524655544, 'Precipitation(in)'),\n",
       " (0.0014605383292625829, 'Station'),\n",
       " (0.0012871757131495756, 'Stop'),\n",
       " (0.001067686340443502, 'Amenity'),\n",
       " (0.0010279247944963794, 'Junction'),\n",
       " (0.000763676111751301, 'Railway'),\n",
       " (0.0002568101219176411, 'Give_Way'),\n",
       " (0.00015743224886878647, 'No_Exit'),\n",
       " (3.402025305648475e-05, 'Traffic_Calming'),\n",
       " (1.013341175672674e-05, 'Bump'),\n",
       " (1.4335616760488383e-06, 'Roundabout'),\n",
       " (0.0, 'Turning_Loop')]"
      ]
     },
     "execution_count": 81,
     "metadata": {},
     "output_type": "execute_result"
    }
   ],
   "source": [
    "# We can sort the features by their importance.\n",
    "sorted (zip(brf_model.feature_importances_,X.columns),reverse=True)"
   ]
  },
  {
   "cell_type": "code",
   "execution_count": 82,
   "id": "4df21dcf",
   "metadata": {
    "scrolled": false
   },
   "outputs": [
    {
     "data": {
      "image/png": "[encoded data removed]",
      "text/plain": [
       "<Figure size 1080x720 with 1 Axes>"
      ]
     },
     "metadata": {
      "needs_background": "light"
     },
     "output_type": "display_data"
    }
   ],
   "source": [
    "importances = pd.DataFrame(np.zeros((X_train.shape[1], 1)), columns=[\"importance\"], index=X_train.columns)\n",
    "\n",
    "importances.iloc[:,0] = brf_model.feature_importances_\n",
    "\n",
    "importances = importances.sort_values(by=\"importance\", ascending=False)[:40]\n",
    "\n",
    "plt.figure(figsize=(15, 10))\n",
    "sns.barplot(x=\"importance\", y=importances.index, data=importances)\n",
    "plt.show()"
   ]
  },
  {
   "cell_type": "code",
   "execution_count": null,
   "id": "a8ab2431",
   "metadata": {
    "scrolled": true
   },
   "outputs": [],
   "source": []
  },
  {
   "cell_type": "code",
   "execution_count": null,
   "id": "6ac59f19",
   "metadata": {
    "scrolled": true
   },
   "outputs": [],
   "source": []
  }
 ],
 "metadata": {
  "kernelspec": {
   "display_name": "mlenv",
   "language": "python",
   "name": "mlenv"
  },
  "language_info": {
   "codemirror_mode": {
    "name": "ipython",
    "version": 3
   },
   "file_extension": ".py",
   "mimetype": "text/x-python",
   "name": "python",
   "nbconvert_exporter": "python",
   "pygments_lexer": "ipython3",
   "version": "3.9.7"
  }
 },
 "nbformat": 4,
 "nbformat_minor": 5
}
