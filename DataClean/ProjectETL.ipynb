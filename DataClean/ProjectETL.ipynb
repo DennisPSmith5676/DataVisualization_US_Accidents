{
 "cells": [
  {
   "cell_type": "code",
   "execution_count": null,
   "id": "cadbe7e8",
   "metadata": {},
   "outputs": [],
   "source": [
    "# Import Dependency \n",
    "import pandas as pd\n",
    "import numpy as np\n",
    "import psycopg2\n",
    "import re # Import regex Regular Expressions\n",
    "import time\n",
    "from sqlalchemy import create_engine"
   ]
  },
  {
   "cell_type": "code",
   "execution_count": null,
   "id": "57e8c6fa",
   "metadata": {},
   "outputs": [],
   "source": [
    "# Files to laod\n",
    "accident_data=\"https://umausdata.s3.amazonaws.com/US_Accidents_Dec21_updated.csv\"\n",
    "accident_df=pd.read_csv(accident_data)"
   ]
  },
  {
   "cell_type": "code",
   "execution_count": null,
   "id": "57735c20",
   "metadata": {},
   "outputs": [],
   "source": [
    "accident_df.head()"
   ]
  },
  {
   "cell_type": "code",
   "execution_count": null,
   "id": "ab743f8d",
   "metadata": {},
   "outputs": [],
   "source": [
    "# drop the Number column\n",
    "accident_df.drop(\"Number\", axis=1, inplace=True)\n",
    "accident_df.shape"
   ]
  },
  {
   "cell_type": "code",
   "execution_count": null,
   "id": "dd416b43",
   "metadata": {},
   "outputs": [],
   "source": [
    "# Drop Null rows\n",
    "accident_df=accident_df.dropna()\n",
    "accident_df.shape"
   ]
  },
  {
   "cell_type": "code",
   "execution_count": null,
   "id": "e41aa0ba",
   "metadata": {},
   "outputs": [],
   "source": [
    "# Change Start Time & End Time Object  to Date \n",
    "accident_df[\"Start_Time\"] = pd.to_datetime(accident_df['Start_Time'])\n",
    "accident_df[\"End_Time\"] = pd.to_datetime(accident_df['End_Time'])\n",
    "\n",
    "# Add Year, Month, Day, Hour,weekday, column\n",
    "accident_df[\"Year\"]=pd.DatetimeIndex(accident_df[\"Start_Time\"]).year\n",
    "accident_df['Month']=accident_df['Start_Time'].dt.strftime('%b')\n",
    "accident_df['Day']=accident_df['Start_Time'].dt.day\n",
    "accident_df['Hour']=accident_df['Start_Time'].dt.hour\n",
    "accident_df['Weekday']=accident_df['Start_Time'].dt.strftime('%a')\n",
    "\n",
    "# Extract the amount of time in the unit of minutes for each accident, round to the nearest integer\n",
    "td='time_duration'\n",
    "accident_df[td]=round((accident_df['End_Time']-accident_df['Start_Time'])/np.timedelta64(1,'m'))\n"
   ]
  },
  {
   "cell_type": "code",
   "execution_count": null,
   "id": "eaea5795",
   "metadata": {},
   "outputs": [],
   "source": [
    "# Convert ID attribute to Integer\n",
    "accident_df['ID']=accident_df['ID'].str[2:]\n",
    "accident_df['ID']=pd.to_numeric(accident_df['ID'])"
   ]
  },
  {
   "cell_type": "code",
   "execution_count": null,
   "id": "61574899",
   "metadata": {},
   "outputs": [],
   "source": [
    "# Create Locate dataframe \"ID\",\"Severity\",\"Start_Time\",\"Year\",\"Start_Lat\",\"Start_Lng\",\"Distance(mi)\",\"Street\",\n",
    "# \"City\",\"State\",\"Zipcode\"\n",
    "\n",
    "location_df= accident_df[[\"ID\",\"Severity\",\"Start_Time\",\"End_Time\",\"Year\",\"Month\",\"Day\",\"Hour\",\n",
    "                          \"Weekday\",\"time_duration\",\"Start_Lat\",\"Start_Lng\",\"Distance(mi)\",\n",
    "                          \"Street\", \"City\",\"County\",\"Side\",\"State\",\"Zipcode\"]]\n",
    "location_df.columns = location_df.columns.str.lower()\n",
    "location_df.rename(columns = {'distance(mi)':'distance'}, inplace = True)\n",
    "location_df"
   ]
  },
  {
   "cell_type": "code",
   "execution_count": null,
   "id": "2b42e45e",
   "metadata": {},
   "outputs": [],
   "source": [
    "# Create Weather dataframe with\"ID\",\"Temperature(F)\",\"Wind_Chill(F)\",\"Humidity(%)\",\"Pressure(in)\",\"Visibility(mi)\",\"Wind_Direction\",\"Wind_Speed(mph)\",\"Precipitation(in)\",\n",
    "# \"Weather_Condition\",\"Sunrise_Sunset\"\n",
    "\n",
    "weather_df=accident_df[[\"ID\",\"Temperature(F)\",\"Wind_Chill(F)\",\"Humidity(%)\",\"Pressure(in)\",\"Visibility(mi)\",\"Wind_Direction\",\n",
    "                        \"Wind_Speed(mph)\",\"Precipitation(in)\",\"Weather_Condition\",\"Sunrise_Sunset\"]]\n",
    "weather_df.columns = weather_df.columns.str.lower()\n",
    "weather_df.rename(columns={'temperature(f)':'temperature',\n",
    "                            'wind_chill(f)':'wind_chill',\n",
    "                            'humidity(%)':'humidity',\n",
    "                            'pressure(in)':'pressure',\n",
    "                            'visibility(mi)':'visibility',\n",
    "                            'wind_speed(mph)':'wind_speed',\n",
    "                            'precipitation(in)' : 'precipitation'}, inplace = True) \n",
    "weather_df\n",
    "                           "
   ]
  },
  {
   "cell_type": "code",
   "execution_count": null,
   "id": "b52bc75e",
   "metadata": {},
   "outputs": [],
   "source": [
    "# Create Geography Data Frame \"ID\",\"Amenity\",\"Bump\",\"Crossing\",\"Give_Way\",\"Junction\",\"No_Exit\",\"Railway\",\"Roundabout\",\"Station\",\"Stop\",\"Traffic_Calming\",\n",
    "# \"Traffic_Signal\",\"Turning_Loop\"\n",
    "\n",
    "geography_df=accident_df[[\"ID\",\"Amenity\",\"Bump\",\"Crossing\",\"Give_Way\",\"Junction\",\n",
    "                          \"No_Exit\",\"Railway\",\"Roundabout\",\"Station\",\"Stop\",\"Traffic_Calming\",\n",
    "                          \"Traffic_Signal\",\"Turning_Loop\"]]\n",
    "geography_df.columns = geography_df.columns.str.lower()\n",
    "geography_df"
   ]
  },
  {
   "cell_type": "code",
   "execution_count": null,
   "id": "a58eeb1f",
   "metadata": {},
   "outputs": [],
   "source": [
    "clean_accident_data_df= accident_df[['ID', 'Severity', 'Start_Time', 'End_Time', 'Start_Lat', 'Start_Lng',\n",
    "       'Distance(mi)', 'Street', 'Side',\n",
    "       'City', 'County', 'State', 'Zipcode', 'Timezone',\n",
    "       'Temperature(F)', 'Wind_Chill(F)',\n",
    "       'Humidity(%)', 'Pressure(in)', 'Visibility(mi)', 'Wind_Direction',\n",
    "       'Wind_Speed(mph)', 'Precipitation(in)', 'Weather_Condition', 'Amenity',\n",
    "       'Bump', 'Crossing', 'Give_Way', 'Junction', 'No_Exit', 'Railway',\n",
    "       'Roundabout', 'Station', 'Stop', 'Traffic_Calming', 'Traffic_Signal',\n",
    "       'Turning_Loop', 'Sunrise_Sunset','Year', 'Month', 'Day', 'Hour', 'Weekday',\n",
    "       'time_duration']]"
   ]
  },
  {
   "cell_type": "code",
   "execution_count": null,
   "id": "f1986bec",
   "metadata": {},
   "outputs": [],
   "source": [
    "clean_accident_data_df.columns"
   ]
  },
  {
   "cell_type": "code",
   "execution_count": null,
   "id": "662fe2e2",
   "metadata": {},
   "outputs": [],
   "source": [
    "# Select random 1000 rows for Mock DataSet\n",
    "mock_accident_df=clean_accident_data_df.sample(n=50000)"
   ]
  },
  {
   "cell_type": "code",
   "execution_count": null,
   "id": "251aeb6a",
   "metadata": {},
   "outputs": [],
   "source": [
    "# Save the dataframe Location to CSV file\n",
    "file_dir = '../DataFile/acci_location.csv'\n",
    "location_df.to_csv(file_dir,index=False)"
   ]
  },
  {
   "cell_type": "code",
   "execution_count": null,
   "id": "0344b0b2",
   "metadata": {},
   "outputs": [],
   "source": [
    "# Save the dataframe Weather  to CSV file\n",
    "file_dir = '../DataFile/acci_weather.csv'\n",
    "weather_df.to_csv(file_dir,index=False)"
   ]
  },
  {
   "cell_type": "code",
   "execution_count": null,
   "id": "3b54c2fd",
   "metadata": {},
   "outputs": [],
   "source": [
    "# Save the dataframe Geography to CSV file\n",
    "file_dir = '../DataFile/acci_geography.csv'\n",
    "geography_df.to_csv(file_dir,index=False)"
   ]
  },
  {
   "cell_type": "code",
   "execution_count": null,
   "id": "b9f41aa2",
   "metadata": {},
   "outputs": [],
   "source": [
    "# Save the mock DataFrame  to CSV file\n",
    "file_dir = '../DataFile/mock_accident_data.csv'\n",
    "mock_accident_df.to_csv(file_dir,index=False)"
   ]
  },
  {
   "cell_type": "code",
   "execution_count": null,
   "id": "37f6c352",
   "metadata": {},
   "outputs": [],
   "source": [
    "# Save the clean Accident DataFrame  to CSV file\n",
    "file_dir = '../DataFile/clean_accident_data_df.csv'\n",
    "clean_accident_data_df.to_csv(file_dir,index=False)"
   ]
  },
  {
   "cell_type": "code",
   "execution_count": null,
   "id": "e6b19747",
   "metadata": {},
   "outputs": [],
   "source": []
  }
 ],
 "metadata": {
  "kernelspec": {
   "display_name": "Pythondata",
   "language": "python",
   "name": "pythondata"
  },
  "language_info": {
   "codemirror_mode": {
    "name": "ipython",
    "version": 3
   },
   "file_extension": ".py",
   "mimetype": "text/x-python",
   "name": "python",
   "nbconvert_exporter": "python",
   "pygments_lexer": "ipython3",
   "version": "3.9.7"
  }
 },
 "nbformat": 4,
 "nbformat_minor": 5
}
