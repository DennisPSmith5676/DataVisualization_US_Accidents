{
 "cells": [
  {
   "cell_type": "markdown",
   "id": "771705eb",
   "metadata": {
    "scrolled": true
   },
   "source": [
    "#### Required Libraries"
   ]
  },
  {
   "cell_type": "code",
   "execution_count": 1,
   "id": "5255be83",
   "metadata": {},
   "outputs": [],
   "source": [
    "import warnings\n",
    "warnings.filterwarnings('ignore')"
   ]
  },
  {
   "cell_type": "code",
   "execution_count": 2,
   "id": "e53a8d6e",
   "metadata": {
    "scrolled": true
   },
   "outputs": [],
   "source": [
    "#import dependencies\n",
    "import numpy as np\n",
    "import pandas as pd\n",
    "from pathlib import Path\n",
    "from collections import Counter\n",
    "from config import awspassword"
   ]
  },
  {
   "cell_type": "code",
   "execution_count": 3,
   "id": "d5b8cd00",
   "metadata": {
    "scrolled": true
   },
   "outputs": [],
   "source": [
    "from sklearn.metrics import balanced_accuracy_score\n",
    "from sklearn.metrics import confusion_matrix\n",
    "from imblearn.metrics import classification_report_imbalanced\n",
    "from sklearn.preprocessing import LabelEncoder"
   ]
  },
  {
   "cell_type": "code",
   "execution_count": 4,
   "id": "16db403a",
   "metadata": {},
   "outputs": [],
   "source": [
    "from imblearn.ensemble import BalancedRandomForestClassifier\n",
    "from imblearn.metrics import classification_report_imbalanced\n",
    "from imblearn.ensemble import EasyEnsembleClassifier"
   ]
  },
  {
   "cell_type": "code",
   "execution_count": 5,
   "id": "018a7c6e",
   "metadata": {
    "scrolled": true
   },
   "outputs": [],
   "source": [
    "from scipy import stats\n",
    "import matplotlib.pyplot as plt\n",
    "import seaborn as sns\n",
    "##"
   ]
  },
  {
   "cell_type": "code",
   "execution_count": 6,
   "id": "f722e39a",
   "metadata": {},
   "outputs": [],
   "source": [
    "import sqlalchemy \n",
    "import pandas"
   ]
  },
  {
   "cell_type": "markdown",
   "id": "26e57076",
   "metadata": {},
   "source": [
    "#### Import Dataset"
   ]
  },
  {
   "cell_type": "code",
   "execution_count": 7,
   "id": "0291f2bf",
   "metadata": {},
   "outputs": [],
   "source": [
    "#### DB Connection configuration\n",
    "username = \"postgres\"\n",
    "password = awspassword\n",
    "endpoint = \"us-accident.cnnhjjyro1tm.us-east-1.rds.amazonaws.com\"  # something like amazonaws.com:5432\n",
    "dbname   = \"US_Accident\""
   ]
  },
  {
   "cell_type": "code",
   "execution_count": 8,
   "id": "c8ab26b2",
   "metadata": {},
   "outputs": [],
   "source": [
    "## Connect to Db\n",
    "con = sqlalchemy.create_engine(\"postgresql://%s:%s@%s/%s\" % (username, password, endpoint, dbname))"
   ]
  },
  {
   "cell_type": "code",
   "execution_count": 9,
   "id": "386f0133",
   "metadata": {},
   "outputs": [],
   "source": [
    "## Get Data\n",
    "accident_df = pandas.read_sql(\"select * from clean_accident_data;\", con)\n",
    "#print(accident_df)"
   ]
  },
  {
   "cell_type": "markdown",
   "id": "59e73064",
   "metadata": {},
   "source": [
    "## How Severity the Accidents is ?"
   ]
  },
  {
   "cell_type": "markdown",
   "id": "0f9ed3e5",
   "metadata": {},
   "source": [
    "##### Data preprocessing"
   ]
  },
  {
   "cell_type": "code",
   "execution_count": 10,
   "id": "27aaf4f9",
   "metadata": {
    "scrolled": true
   },
   "outputs": [
    {
     "data": {
      "text/html": [
       "<div>\n",
       "<style scoped>\n",
       "    .dataframe tbody tr th:only-of-type {\n",
       "        vertical-align: middle;\n",
       "    }\n",
       "\n",
       "    .dataframe tbody tr th {\n",
       "        vertical-align: top;\n",
       "    }\n",
       "\n",
       "    .dataframe thead th {\n",
       "        text-align: right;\n",
       "    }\n",
       "</style>\n",
       "<table border=\"1\" class=\"dataframe\">\n",
       "  <thead>\n",
       "    <tr style=\"text-align: right;\">\n",
       "      <th></th>\n",
       "      <th>index</th>\n",
       "      <th>ID</th>\n",
       "      <th>Severity</th>\n",
       "      <th>Start_Time</th>\n",
       "      <th>End_Time</th>\n",
       "      <th>Start_Lat</th>\n",
       "      <th>Start_Lng</th>\n",
       "      <th>Distance(mi)</th>\n",
       "      <th>Street</th>\n",
       "      <th>Side</th>\n",
       "      <th>...</th>\n",
       "      <th>Traffic_Calming</th>\n",
       "      <th>Traffic_Signal</th>\n",
       "      <th>Turning_Loop</th>\n",
       "      <th>Sunrise_Sunset</th>\n",
       "      <th>Year</th>\n",
       "      <th>Month</th>\n",
       "      <th>Day</th>\n",
       "      <th>Hour</th>\n",
       "      <th>Weekday</th>\n",
       "      <th>time_duration</th>\n",
       "    </tr>\n",
       "  </thead>\n",
       "  <tbody>\n",
       "    <tr>\n",
       "      <th>0</th>\n",
       "      <td>714730</td>\n",
       "      <td>976504</td>\n",
       "      <td>2</td>\n",
       "      <td>2021-11-30 12:03:00</td>\n",
       "      <td>2021-11-30 14:35:28</td>\n",
       "      <td>40.017779</td>\n",
       "      <td>-79.588926</td>\n",
       "      <td>0.019</td>\n",
       "      <td>E Crawford Ave</td>\n",
       "      <td>L</td>\n",
       "      <td>...</td>\n",
       "      <td>False</td>\n",
       "      <td>False</td>\n",
       "      <td>False</td>\n",
       "      <td>Day</td>\n",
       "      <td>2021</td>\n",
       "      <td>Nov</td>\n",
       "      <td>30</td>\n",
       "      <td>12</td>\n",
       "      <td>Tue</td>\n",
       "      <td>152.0</td>\n",
       "    </tr>\n",
       "    <tr>\n",
       "      <th>1</th>\n",
       "      <td>714731</td>\n",
       "      <td>976505</td>\n",
       "      <td>2</td>\n",
       "      <td>2021-11-09 03:40:42</td>\n",
       "      <td>2021-11-09 04:58:09</td>\n",
       "      <td>40.358217</td>\n",
       "      <td>-75.481838</td>\n",
       "      <td>0.016</td>\n",
       "      <td>W Campbell Rd</td>\n",
       "      <td>R</td>\n",
       "      <td>...</td>\n",
       "      <td>False</td>\n",
       "      <td>False</td>\n",
       "      <td>False</td>\n",
       "      <td>Night</td>\n",
       "      <td>2021</td>\n",
       "      <td>Nov</td>\n",
       "      <td>9</td>\n",
       "      <td>3</td>\n",
       "      <td>Tue</td>\n",
       "      <td>77.0</td>\n",
       "    </tr>\n",
       "    <tr>\n",
       "      <th>2</th>\n",
       "      <td>714732</td>\n",
       "      <td>976506</td>\n",
       "      <td>2</td>\n",
       "      <td>2021-06-15 13:04:20</td>\n",
       "      <td>2021-06-15 15:11:07</td>\n",
       "      <td>34.752959</td>\n",
       "      <td>-92.358407</td>\n",
       "      <td>0.026</td>\n",
       "      <td>W Markham St</td>\n",
       "      <td>L</td>\n",
       "      <td>...</td>\n",
       "      <td>False</td>\n",
       "      <td>False</td>\n",
       "      <td>False</td>\n",
       "      <td>Day</td>\n",
       "      <td>2021</td>\n",
       "      <td>Jun</td>\n",
       "      <td>15</td>\n",
       "      <td>13</td>\n",
       "      <td>Tue</td>\n",
       "      <td>127.0</td>\n",
       "    </tr>\n",
       "    <tr>\n",
       "      <th>3</th>\n",
       "      <td>714733</td>\n",
       "      <td>976507</td>\n",
       "      <td>2</td>\n",
       "      <td>2021-05-08 11:23:22</td>\n",
       "      <td>2021-05-08 13:30:34</td>\n",
       "      <td>34.752616</td>\n",
       "      <td>-92.350012</td>\n",
       "      <td>0.028</td>\n",
       "      <td>W Markham St</td>\n",
       "      <td>R</td>\n",
       "      <td>...</td>\n",
       "      <td>False</td>\n",
       "      <td>False</td>\n",
       "      <td>False</td>\n",
       "      <td>Day</td>\n",
       "      <td>2021</td>\n",
       "      <td>May</td>\n",
       "      <td>8</td>\n",
       "      <td>11</td>\n",
       "      <td>Sat</td>\n",
       "      <td>127.0</td>\n",
       "    </tr>\n",
       "    <tr>\n",
       "      <th>4</th>\n",
       "      <td>714734</td>\n",
       "      <td>976508</td>\n",
       "      <td>2</td>\n",
       "      <td>2021-05-03 10:23:00</td>\n",
       "      <td>2021-05-03 11:42:33</td>\n",
       "      <td>39.143345</td>\n",
       "      <td>-121.911514</td>\n",
       "      <td>0.127</td>\n",
       "      <td>Central St</td>\n",
       "      <td>L</td>\n",
       "      <td>...</td>\n",
       "      <td>False</td>\n",
       "      <td>False</td>\n",
       "      <td>False</td>\n",
       "      <td>Day</td>\n",
       "      <td>2021</td>\n",
       "      <td>May</td>\n",
       "      <td>3</td>\n",
       "      <td>10</td>\n",
       "      <td>Mon</td>\n",
       "      <td>80.0</td>\n",
       "    </tr>\n",
       "  </tbody>\n",
       "</table>\n",
       "<p>5 rows × 44 columns</p>\n",
       "</div>"
      ],
      "text/plain": [
       "    index      ID  Severity           Start_Time             End_Time  \\\n",
       "0  714730  976504         2  2021-11-30 12:03:00  2021-11-30 14:35:28   \n",
       "1  714731  976505         2  2021-11-09 03:40:42  2021-11-09 04:58:09   \n",
       "2  714732  976506         2  2021-06-15 13:04:20  2021-06-15 15:11:07   \n",
       "3  714733  976507         2  2021-05-08 11:23:22  2021-05-08 13:30:34   \n",
       "4  714734  976508         2  2021-05-03 10:23:00  2021-05-03 11:42:33   \n",
       "\n",
       "   Start_Lat   Start_Lng  Distance(mi)           Street Side  ...  \\\n",
       "0  40.017779  -79.588926         0.019   E Crawford Ave    L  ...   \n",
       "1  40.358217  -75.481838         0.016    W Campbell Rd    R  ...   \n",
       "2  34.752959  -92.358407         0.026     W Markham St    L  ...   \n",
       "3  34.752616  -92.350012         0.028     W Markham St    R  ...   \n",
       "4  39.143345 -121.911514         0.127       Central St    L  ...   \n",
       "\n",
       "  Traffic_Calming Traffic_Signal Turning_Loop Sunrise_Sunset  Year  Month  \\\n",
       "0           False          False        False            Day  2021    Nov   \n",
       "1           False          False        False          Night  2021    Nov   \n",
       "2           False          False        False            Day  2021    Jun   \n",
       "3           False          False        False            Day  2021    May   \n",
       "4           False          False        False            Day  2021    May   \n",
       "\n",
       "   Day  Hour  Weekday  time_duration  \n",
       "0   30    12      Tue          152.0  \n",
       "1    9     3      Tue           77.0  \n",
       "2   15    13      Tue          127.0  \n",
       "3    8    11      Sat          127.0  \n",
       "4    3    10      Mon           80.0  \n",
       "\n",
       "[5 rows x 44 columns]"
      ]
     },
     "execution_count": 10,
     "metadata": {},
     "output_type": "execute_result"
    }
   ],
   "source": [
    "accident_df.head()"
   ]
  },
  {
   "cell_type": "code",
   "execution_count": 11,
   "id": "48c8a61a",
   "metadata": {
    "scrolled": true
   },
   "outputs": [
    {
     "name": "stdout",
     "output_type": "stream",
     "text": [
      "Index(['index', 'ID', 'Severity', 'Start_Time', 'End_Time', 'Start_Lat',\n",
      "       'Start_Lng', 'Distance(mi)', 'Street', 'Side', 'City', 'County',\n",
      "       'State', 'Zipcode', 'Timezone', 'Temperature(F)', 'Wind_Chill(F)',\n",
      "       'Humidity(%)', 'Pressure(in)', 'Visibility(mi)', 'Wind_Direction',\n",
      "       'Wind_Speed(mph)', 'Precipitation(in)', 'Weather_Condition', 'Amenity',\n",
      "       'Bump', 'Crossing', 'Give_Way', 'Junction', 'No_Exit', 'Railway',\n",
      "       'Roundabout', 'Station', 'Stop', 'Traffic_Calming', 'Traffic_Signal',\n",
      "       'Turning_Loop', 'Sunrise_Sunset', 'Year', 'Month', 'Day', 'Hour',\n",
      "       'Weekday', 'time_duration'],\n",
      "      dtype='object')\n"
     ]
    }
   ],
   "source": [
    "print(accident_df.columns)"
   ]
  },
  {
   "cell_type": "code",
   "execution_count": 12,
   "id": "07b1c30d",
   "metadata": {
    "scrolled": true
   },
   "outputs": [],
   "source": [
    "#drop the non-beneficial columns\n",
    "#accident_df=accident_df.drop(columns=['ID','End_Time','End_Lat','End_Lng','Description','Side','Airport_Code','Civil_Twilight','Nautical_Twilight','Astronomical_Twilight',\"Start_Time\",'ID','Weather_Timestamp','Zipcode','Street','Amenity','Bump','Crossing','Give_Way','Junction','No_Exit','Railway','Roundabout','Station','Stop','Traffic_Calming','Traffic_Signal','Turning_Loop','Country'])\n",
    "accident_df=accident_df.drop(columns=['index','ID','Zipcode','Start_Time','End_Time','Street'])\n",
    "\n",
    "##reaso for droping columns\n",
    "#ID: since they don't carry any information for the severity\n",
    "#Start_Time,End_Time :because it was decomposed by the time features added before (day, month, weekday,Year)\n",
    "#Zipcode :because we just focus on the City,County,state where the accident happened\n",
    "#when considering whole dataset street column is too noisy ,so desided to drop it"
   ]
  },
  {
   "cell_type": "markdown",
   "id": "ccfe3de1",
   "metadata": {},
   "source": [
    "##### Feature selection"
   ]
  },
  {
   "cell_type": "code",
   "execution_count": 13,
   "id": "374265fc",
   "metadata": {},
   "outputs": [],
   "source": [
    "#In the process of feature selection,in order to select best features from which our model can learn\n",
    "#Observations from mock accedent datset ,feature by their importency Balance Random forest classifier we can drop least 5 impotence features:\n",
    "# No_Exit,Traffic_Calming,Bump,Turning_Loop,Roundabout"
   ]
  },
  {
   "cell_type": "code",
   "execution_count": 14,
   "id": "c7164cbd",
   "metadata": {},
   "outputs": [],
   "source": [
    "accident_df=accident_df.drop(columns=['No_Exit','Traffic_Calming','Roundabout','Bump','Turning_Loop'])\n"
   ]
  },
  {
   "cell_type": "code",
   "execution_count": 15,
   "id": "8a255644",
   "metadata": {
    "scrolled": true
   },
   "outputs": [
    {
     "data": {
      "text/plain": [
       "(2207325, 33)"
      ]
     },
     "execution_count": 15,
     "metadata": {},
     "output_type": "execute_result"
    }
   ],
   "source": [
    "accident_df.shape"
   ]
  },
  {
   "cell_type": "code",
   "execution_count": 16,
   "id": "10be42bd",
   "metadata": {
    "scrolled": true
   },
   "outputs": [
    {
     "data": {
      "text/plain": [
       "Severity               int64\n",
       "Start_Lat            float64\n",
       "Start_Lng            float64\n",
       "Distance(mi)         float64\n",
       "Side                  object\n",
       "City                  object\n",
       "County                object\n",
       "State                 object\n",
       "Timezone              object\n",
       "Temperature(F)       float64\n",
       "Wind_Chill(F)        float64\n",
       "Humidity(%)          float64\n",
       "Pressure(in)         float64\n",
       "Visibility(mi)       float64\n",
       "Wind_Direction        object\n",
       "Wind_Speed(mph)      float64\n",
       "Precipitation(in)    float64\n",
       "Weather_Condition     object\n",
       "Amenity                 bool\n",
       "Crossing                bool\n",
       "Give_Way                bool\n",
       "Junction                bool\n",
       "Railway                 bool\n",
       "Station                 bool\n",
       "Stop                    bool\n",
       "Traffic_Signal          bool\n",
       "Sunrise_Sunset        object\n",
       "Year                   int64\n",
       "Month                 object\n",
       "Day                    int64\n",
       "Hour                   int64\n",
       "Weekday               object\n",
       "time_duration        float64\n",
       "dtype: object"
      ]
     },
     "execution_count": 16,
     "metadata": {},
     "output_type": "execute_result"
    }
   ],
   "source": [
    "accident_df.dtypes"
   ]
  },
  {
   "cell_type": "code",
   "execution_count": 17,
   "id": "cd1a364e",
   "metadata": {
    "scrolled": true
   },
   "outputs": [
    {
     "data": {
      "text/plain": [
       "Severity                  4\n",
       "Start_Lat            887472\n",
       "Start_Lng            904688\n",
       "Distance(mi)          12753\n",
       "Side                      2\n",
       "City                   9723\n",
       "County                 1541\n",
       "State                    49\n",
       "Timezone                  4\n",
       "Temperature(F)          324\n",
       "Wind_Chill(F)           708\n",
       "Humidity(%)             100\n",
       "Pressure(in)           1007\n",
       "Visibility(mi)           55\n",
       "Wind_Direction           23\n",
       "Wind_Speed(mph)         103\n",
       "Precipitation(in)       207\n",
       "Weather_Condition       114\n",
       "Amenity                   2\n",
       "Crossing                  2\n",
       "Give_Way                  2\n",
       "Junction                  2\n",
       "Railway                   2\n",
       "Station                   2\n",
       "Stop                      2\n",
       "Traffic_Signal            2\n",
       "Sunrise_Sunset            2\n",
       "Year                      6\n",
       "Month                    12\n",
       "Day                      31\n",
       "Hour                     24\n",
       "Weekday                   7\n",
       "time_duration          5235\n",
       "dtype: int64"
      ]
     },
     "execution_count": 17,
     "metadata": {},
     "output_type": "execute_result"
    }
   ],
   "source": [
    "# Determine the number of unique values in each column.\n",
    "accident_df.nunique()"
   ]
  },
  {
   "cell_type": "code",
   "execution_count": 18,
   "id": "6f1be3cb",
   "metadata": {
    "scrolled": true
   },
   "outputs": [],
   "source": [
    "accident_df=accident_df.drop(columns=[])"
   ]
  },
  {
   "cell_type": "code",
   "execution_count": 19,
   "id": "75d77d39",
   "metadata": {
    "scrolled": true
   },
   "outputs": [],
   "source": [
    "accident_df=accident_df.dropna()"
   ]
  },
  {
   "cell_type": "code",
   "execution_count": 21,
   "id": "cfb67197",
   "metadata": {
    "scrolled": true
   },
   "outputs": [],
   "source": [
    "#replace all bollean values to integer\n",
    "accident_df.replace({False: 0, True: 1}, inplace=True)"
   ]
  },
  {
   "cell_type": "code",
   "execution_count": 22,
   "id": "c7086654",
   "metadata": {
    "scrolled": true
   },
   "outputs": [
    {
     "data": {
      "text/plain": [
       "Severity               int64\n",
       "Start_Lat            float64\n",
       "Start_Lng            float64\n",
       "Distance(mi)         float64\n",
       "Side                  object\n",
       "City                  object\n",
       "County                object\n",
       "State                 object\n",
       "Timezone              object\n",
       "Temperature(F)       float64\n",
       "Wind_Chill(F)        float64\n",
       "Humidity(%)          float64\n",
       "Pressure(in)         float64\n",
       "Visibility(mi)       float64\n",
       "Wind_Direction        object\n",
       "Wind_Speed(mph)      float64\n",
       "Precipitation(in)    float64\n",
       "Weather_Condition     object\n",
       "Amenity                int64\n",
       "Crossing               int64\n",
       "Give_Way               int64\n",
       "Junction               int64\n",
       "Railway                int64\n",
       "Station                int64\n",
       "Stop                   int64\n",
       "Traffic_Signal         int64\n",
       "Sunrise_Sunset        object\n",
       "Year                   int64\n",
       "Month                 object\n",
       "Day                    int64\n",
       "Hour                   int64\n",
       "Weekday               object\n",
       "time_duration        float64\n",
       "dtype: object"
      ]
     },
     "execution_count": 22,
     "metadata": {},
     "output_type": "execute_result"
    }
   ],
   "source": [
    "accident_df.dtypes"
   ]
  },
  {
   "cell_type": "code",
   "execution_count": 23,
   "id": "b7e1c8aa",
   "metadata": {
    "scrolled": true
   },
   "outputs": [
    {
     "data": {
      "text/plain": [
       "2    2057075\n",
       "3      64588\n",
       "4      62106\n",
       "1      23556\n",
       "Name: Severity, dtype: int64"
      ]
     },
     "execution_count": 23,
     "metadata": {},
     "output_type": "execute_result"
    }
   ],
   "source": [
    "#Severity of the accident is our target\n",
    "# check Severity column\n",
    "accident_df['Severity'].value_counts()"
   ]
  },
  {
   "cell_type": "markdown",
   "id": "f84e5ea0",
   "metadata": {},
   "source": [
    "#### converting the string values into numerical ones using label encoder"
   ]
  },
  {
   "cell_type": "code",
   "execution_count": 24,
   "id": "d355f475",
   "metadata": {
    "scrolled": true
   },
   "outputs": [
    {
     "data": {
      "text/plain": [
       "Index(['Side', 'City', 'County', 'State', 'Timezone', 'Wind_Direction',\n",
       "       'Weather_Condition', 'Sunrise_Sunset', 'Month', 'Weekday'],\n",
       "      dtype='object')"
      ]
     },
     "execution_count": 24,
     "metadata": {},
     "output_type": "execute_result"
    }
   ],
   "source": [
    "# To see which columns have categorical value columns\n",
    "X_cat = accident_df.select_dtypes(include='object').columns\n",
    "X_cat"
   ]
  },
  {
   "cell_type": "code",
   "execution_count": 25,
   "id": "515a7b7a",
   "metadata": {
    "scrolled": false
   },
   "outputs": [
    {
     "name": "stdout",
     "output_type": "stream",
     "text": [
      "Side \n",
      " R    1791597\n",
      "L     415728\n",
      "Name: Side, dtype: int64\n",
      "--------------------------------------\n",
      "City \n",
      " Miami            97723\n",
      "Los Angeles      56471\n",
      "Orlando          49691\n",
      "Dallas           33052\n",
      "Houston          28385\n",
      "                 ...  \n",
      "Miromar Lakes        1\n",
      "Bridport             1\n",
      "Polo                 1\n",
      "Patten               1\n",
      "Mescalero            1\n",
      "Name: City, Length: 9723, dtype: int64\n",
      "--------------------------------------\n",
      "County \n",
      " Los Angeles       163524\n",
      "Miami-Dade        132288\n",
      "Orange             98805\n",
      "San Bernardino     44840\n",
      "San Diego          38620\n",
      "                   ...  \n",
      "La Salle               1\n",
      "Burnett                1\n",
      "Ferry                  1\n",
      "Macoupin               1\n",
      "Norfolk City           1\n",
      "Name: County, Length: 1541, dtype: int64\n",
      "--------------------------------------\n",
      "State \n",
      " CA    604477\n",
      "FL    350204\n",
      "TX    108714\n",
      "OR     98754\n",
      "VA     92191\n",
      "PA     87882\n",
      "MN     84652\n",
      "NY     84591\n",
      "SC     81962\n",
      "NC     73930\n",
      "TN     45813\n",
      "LA     43587\n",
      "MD     42112\n",
      "AZ     40965\n",
      "NJ     39284\n",
      "UT     33977\n",
      "MI     30805\n",
      "IL     23706\n",
      "CT     23125\n",
      "GA     22978\n",
      "WA     20084\n",
      "MO     19100\n",
      "AL     16917\n",
      "CO     16189\n",
      "MT     14503\n",
      "IN     12313\n",
      "OH     11355\n",
      "AR      9591\n",
      "DC      8006\n",
      "IA      7380\n",
      "OK      6911\n",
      "ID      6889\n",
      "WV      5971\n",
      "KS      5956\n",
      "MS      3941\n",
      "DE      3857\n",
      "MA      3787\n",
      "KY      3569\n",
      "NV      3451\n",
      "WI      2449\n",
      "NE      2306\n",
      "RI      2124\n",
      "NH      1687\n",
      "ND      1672\n",
      "NM      1618\n",
      "ME       964\n",
      "WY       658\n",
      "VT       214\n",
      "SD       154\n",
      "Name: State, dtype: int64\n",
      "--------------------------------------\n",
      "Timezone \n",
      " US/Eastern     980847\n",
      "US/Pacific     734790\n",
      "US/Central     374368\n",
      "US/Mountain    117320\n",
      "Name: Timezone, dtype: int64\n",
      "--------------------------------------\n",
      "Wind_Direction \n",
      " CALM        408032\n",
      "S           163900\n",
      "W           158931\n",
      "E           119700\n",
      "N           119291\n",
      "WNW         115609\n",
      "NW          113674\n",
      "SSW         107042\n",
      "VAR         101032\n",
      "WSW         100606\n",
      "SW          100580\n",
      "SSE          99911\n",
      "NNW          99872\n",
      "SE           87676\n",
      "ESE          83320\n",
      "ENE          78210\n",
      "NE           72642\n",
      "NNE          69145\n",
      "North         2617\n",
      "West          1830\n",
      "South         1597\n",
      "East          1588\n",
      "Variable       520\n",
      "Name: Wind_Direction, dtype: int64\n",
      "--------------------------------------\n",
      "Weather_Condition \n",
      " Fair                              1042415\n",
      "Cloudy                             334793\n",
      "Mostly Cloudy                      285317\n",
      "Partly Cloudy                      195367\n",
      "Light Rain                         106754\n",
      "                                   ...   \n",
      "Heavy Freezing Drizzle                  1\n",
      "Heavy Freezing Rain                     1\n",
      "Blowing Sand                            1\n",
      "Sleet / Windy                           1\n",
      "Sand / Dust Whirlwinds / Windy          1\n",
      "Name: Weather_Condition, Length: 114, dtype: int64\n",
      "--------------------------------------\n",
      "Sunrise_Sunset \n",
      " Day      1374753\n",
      "Night     832572\n",
      "Name: Sunrise_Sunset, dtype: int64\n",
      "--------------------------------------\n",
      "Month \n",
      " Dec    401295\n",
      "Nov    294749\n",
      "Oct    239141\n",
      "Sep    187179\n",
      "Jun    178954\n",
      "Feb    143705\n",
      "Jan    143257\n",
      "May    138586\n",
      "Apr    132845\n",
      "Aug    126871\n",
      "Jul    113117\n",
      "Mar    107626\n",
      "Name: Month, dtype: int64\n",
      "--------------------------------------\n",
      "Weekday \n",
      " Fri    379067\n",
      "Thu    351793\n",
      "Wed    343524\n",
      "Tue    331677\n",
      "Mon    316659\n",
      "Sat    267921\n",
      "Sun    216684\n",
      "Name: Weekday, dtype: int64\n",
      "--------------------------------------\n"
     ]
    }
   ],
   "source": [
    "# examine all the catogorical columns\n",
    "for column in accident_df[X_cat]:\n",
    "    print(column,\"\\n\", accident_df[column].value_counts())\n",
    "    print(\"--------------------------------------\")"
   ]
  },
  {
   "cell_type": "markdown",
   "id": "129f2c1f",
   "metadata": {},
   "source": [
    "#### converting the string values into numerical ones using label encoder"
   ]
  },
  {
   "cell_type": "code",
   "execution_count": 27,
   "id": "4e62d3a6",
   "metadata": {
    "scrolled": true
   },
   "outputs": [],
   "source": [
    "from sklearn.preprocessing import LabelEncoder\n",
    "#\n",
    "# Instantiate LabelEncoder\n",
    "#\n",
    "le = LabelEncoder()\n"
   ]
  },
  {
   "cell_type": "code",
   "execution_count": 28,
   "id": "b8f1f7d9",
   "metadata": {
    "scrolled": true
   },
   "outputs": [],
   "source": [
    "# Encode single column Side\n",
    "#\n",
    "accident_df.Side = le.fit_transform(accident_df.Side)\n",
    "#\n",
    "# Print df.head for checking the transformation"
   ]
  },
  {
   "cell_type": "code",
   "execution_count": 29,
   "id": "b3189cac",
   "metadata": {
    "scrolled": true
   },
   "outputs": [
    {
     "data": {
      "text/plain": [
       "0          0\n",
       "1          1\n",
       "2          0\n",
       "3          1\n",
       "4          0\n",
       "          ..\n",
       "2207320    1\n",
       "2207321    1\n",
       "2207322    1\n",
       "2207323    0\n",
       "2207324    1\n",
       "Name: Side, Length: 2207325, dtype: int32"
      ]
     },
     "execution_count": 29,
     "metadata": {},
     "output_type": "execute_result"
    }
   ],
   "source": [
    "accident_df['Side']"
   ]
  },
  {
   "cell_type": "code",
   "execution_count": 30,
   "id": "9a135671",
   "metadata": {
    "scrolled": true
   },
   "outputs": [],
   "source": [
    "# Encode single column City\n",
    "#\n",
    "accident_df.City = le.fit_transform(accident_df.City)\n",
    "#\n",
    "# Print df.head for checking the transformation"
   ]
  },
  {
   "cell_type": "code",
   "execution_count": 31,
   "id": "244cf796",
   "metadata": {
    "scrolled": true
   },
   "outputs": [
    {
     "data": {
      "text/plain": [
       "0          1784\n",
       "1          3460\n",
       "2          4865\n",
       "3          4865\n",
       "4          5452\n",
       "           ... \n",
       "2207320    1087\n",
       "2207321    1087\n",
       "2207322    6136\n",
       "2207323    6136\n",
       "2207324    6446\n",
       "Name: City, Length: 2207325, dtype: int32"
      ]
     },
     "execution_count": 31,
     "metadata": {},
     "output_type": "execute_result"
    }
   ],
   "source": [
    "accident_df['City']"
   ]
  },
  {
   "cell_type": "code",
   "execution_count": 32,
   "id": "67745ba6",
   "metadata": {
    "scrolled": true
   },
   "outputs": [
    {
     "name": "stdout",
     "output_type": "stream",
     "text": [
      "9723\n"
     ]
    }
   ],
   "source": [
    "#accident_df['City'].unique().value_counts\n",
    "print(accident_df['City'].nunique())"
   ]
  },
  {
   "cell_type": "code",
   "execution_count": 33,
   "id": "1b63c1b6",
   "metadata": {
    "scrolled": true
   },
   "outputs": [],
   "source": [
    "# Encode single column County\n",
    "#\n",
    "accident_df.County = le.fit_transform(accident_df.County)\n",
    "#\n",
    "# Print df.head for checking the transformation"
   ]
  },
  {
   "cell_type": "code",
   "execution_count": 34,
   "id": "7f06a65f",
   "metadata": {
    "scrolled": true
   },
   "outputs": [
    {
     "data": {
      "text/plain": [
       "0           476\n",
       "1           929\n",
       "2          1128\n",
       "3          1128\n",
       "4          1345\n",
       "           ... \n",
       "2207320     694\n",
       "2207321     694\n",
       "2207322     929\n",
       "2207323     929\n",
       "2207324    1016\n",
       "Name: County, Length: 2207325, dtype: int32"
      ]
     },
     "execution_count": 34,
     "metadata": {},
     "output_type": "execute_result"
    }
   ],
   "source": [
    "accident_df['County']"
   ]
  },
  {
   "cell_type": "code",
   "execution_count": 35,
   "id": "5082acb0",
   "metadata": {
    "scrolled": true
   },
   "outputs": [
    {
     "name": "stdout",
     "output_type": "stream",
     "text": [
      "1541\n"
     ]
    }
   ],
   "source": [
    "print(accident_df['County'].nunique())"
   ]
  },
  {
   "cell_type": "code",
   "execution_count": 36,
   "id": "df784171",
   "metadata": {
    "scrolled": true
   },
   "outputs": [],
   "source": [
    "# Encode single column State\n",
    "#\n",
    "accident_df.State = le.fit_transform(accident_df.State)\n",
    "#\n",
    "# Print df.head for checking the transformation"
   ]
  },
  {
   "cell_type": "code",
   "execution_count": 37,
   "id": "995ab438",
   "metadata": {
    "scrolled": true
   },
   "outputs": [
    {
     "data": {
      "text/plain": [
       "0          36\n",
       "1          36\n",
       "2           1\n",
       "3           1\n",
       "4           3\n",
       "           ..\n",
       "2207320    41\n",
       "2207321    41\n",
       "2207322    36\n",
       "2207323    36\n",
       "2207324     8\n",
       "Name: State, Length: 2207325, dtype: int32"
      ]
     },
     "execution_count": 37,
     "metadata": {},
     "output_type": "execute_result"
    }
   ],
   "source": [
    "accident_df['State']"
   ]
  },
  {
   "cell_type": "code",
   "execution_count": 38,
   "id": "1e890226",
   "metadata": {
    "scrolled": true
   },
   "outputs": [],
   "source": [
    "# Encode single column Timezone \n",
    "#\n",
    "accident_df.Timezone  = le.fit_transform(accident_df.Timezone)\n",
    "#\n",
    "# Print df.head for checking the transformation"
   ]
  },
  {
   "cell_type": "code",
   "execution_count": 39,
   "id": "01b31f54",
   "metadata": {
    "scrolled": true
   },
   "outputs": [
    {
     "data": {
      "text/plain": [
       "0          1\n",
       "1          1\n",
       "2          0\n",
       "3          0\n",
       "4          3\n",
       "          ..\n",
       "2207320    0\n",
       "2207321    0\n",
       "2207322    1\n",
       "2207323    1\n",
       "2207324    1\n",
       "Name: Timezone, Length: 2207325, dtype: int32"
      ]
     },
     "execution_count": 39,
     "metadata": {},
     "output_type": "execute_result"
    }
   ],
   "source": [
    "accident_df['Timezone']"
   ]
  },
  {
   "cell_type": "code",
   "execution_count": 40,
   "id": "ed789fb5",
   "metadata": {
    "scrolled": true
   },
   "outputs": [],
   "source": [
    "# Encode single column Wind_Direction \n",
    "#\n",
    "accident_df.Wind_Direction  = le.fit_transform(accident_df.Wind_Direction)\n",
    "#\n",
    "# Print df.head for checking the transformation"
   ]
  },
  {
   "cell_type": "code",
   "execution_count": 41,
   "id": "0c7e2b14",
   "metadata": {
    "scrolled": true
   },
   "outputs": [
    {
     "data": {
      "text/plain": [
       "0          15\n",
       "1           0\n",
       "2           6\n",
       "3          14\n",
       "4           8\n",
       "           ..\n",
       "2207320    13\n",
       "2207321     1\n",
       "2207322     6\n",
       "2207323     9\n",
       "2207324     7\n",
       "Name: Wind_Direction, Length: 2207325, dtype: int32"
      ]
     },
     "execution_count": 41,
     "metadata": {},
     "output_type": "execute_result"
    }
   ],
   "source": [
    "accident_df['Wind_Direction']"
   ]
  },
  {
   "cell_type": "code",
   "execution_count": 42,
   "id": "f68f954e",
   "metadata": {
    "scrolled": true
   },
   "outputs": [],
   "source": [
    "# Encode single column Weather_Condition \n",
    "#\n",
    "accident_df.Weather_Condition  = le.fit_transform(accident_df.Weather_Condition)\n",
    "#\n",
    "# Print df.head for checking the transformation"
   ]
  },
  {
   "cell_type": "code",
   "execution_count": 43,
   "id": "4e9b8523",
   "metadata": {
    "scrolled": true
   },
   "outputs": [
    {
     "data": {
      "text/plain": [
       "0          66\n",
       "1          13\n",
       "2          13\n",
       "3          71\n",
       "4          14\n",
       "           ..\n",
       "2207320    98\n",
       "2207321    71\n",
       "2207322     7\n",
       "2207323    13\n",
       "2207324    71\n",
       "Name: Weather_Condition, Length: 2207325, dtype: int32"
      ]
     },
     "execution_count": 43,
     "metadata": {},
     "output_type": "execute_result"
    }
   ],
   "source": [
    "accident_df['Weather_Condition']"
   ]
  },
  {
   "cell_type": "code",
   "execution_count": 44,
   "id": "14fd67c3",
   "metadata": {
    "scrolled": true
   },
   "outputs": [],
   "source": [
    "# Encode single column Sunrise_Sunset \n",
    "#\n",
    "accident_df.Sunrise_Sunset  = le.fit_transform(accident_df.Sunrise_Sunset)\n",
    "#\n",
    "# Print df.head for checking the transformation"
   ]
  },
  {
   "cell_type": "code",
   "execution_count": 45,
   "id": "ea355e37",
   "metadata": {
    "scrolled": true
   },
   "outputs": [
    {
     "data": {
      "text/plain": [
       "0          0\n",
       "1          1\n",
       "2          0\n",
       "3          0\n",
       "4          0\n",
       "          ..\n",
       "2207320    0\n",
       "2207321    0\n",
       "2207322    0\n",
       "2207323    0\n",
       "2207324    0\n",
       "Name: Sunrise_Sunset, Length: 2207325, dtype: int32"
      ]
     },
     "execution_count": 45,
     "metadata": {},
     "output_type": "execute_result"
    }
   ],
   "source": [
    "accident_df['Sunrise_Sunset']"
   ]
  },
  {
   "cell_type": "code",
   "execution_count": 46,
   "id": "ecf029f3",
   "metadata": {
    "scrolled": true
   },
   "outputs": [],
   "source": [
    "# Encode single column Day \n",
    "#\n",
    "accident_df.Day  = le.fit_transform(accident_df.Day)\n",
    "#\n",
    "# Print df.head for checking the transformation"
   ]
  },
  {
   "cell_type": "code",
   "execution_count": 47,
   "id": "6c3e8c05",
   "metadata": {
    "scrolled": true
   },
   "outputs": [
    {
     "data": {
      "text/plain": [
       "0          29\n",
       "1           8\n",
       "2          14\n",
       "3           7\n",
       "4           2\n",
       "           ..\n",
       "2207320     0\n",
       "2207321    17\n",
       "2207322     4\n",
       "2207323     6\n",
       "2207324    27\n",
       "Name: Day, Length: 2207325, dtype: int64"
      ]
     },
     "execution_count": 47,
     "metadata": {},
     "output_type": "execute_result"
    }
   ],
   "source": [
    "accident_df['Day']"
   ]
  },
  {
   "cell_type": "code",
   "execution_count": 48,
   "id": "5e3eecc4",
   "metadata": {},
   "outputs": [],
   "source": [
    "# Encode single column Day \n",
    "#\n",
    "accident_df.Weekday  = le.fit_transform(accident_df.Weekday)\n",
    "#\n",
    "# Print df.head for checking the transformation"
   ]
  },
  {
   "cell_type": "code",
   "execution_count": 49,
   "id": "dc06afef",
   "metadata": {},
   "outputs": [
    {
     "data": {
      "text/plain": [
       "0          5\n",
       "1          5\n",
       "2          5\n",
       "3          2\n",
       "4          1\n",
       "          ..\n",
       "2207320    3\n",
       "2207321    0\n",
       "2207322    5\n",
       "2207323    3\n",
       "2207324    5\n",
       "Name: Weekday, Length: 2207325, dtype: int32"
      ]
     },
     "execution_count": 49,
     "metadata": {},
     "output_type": "execute_result"
    }
   ],
   "source": [
    "accident_df['Weekday']"
   ]
  },
  {
   "cell_type": "code",
   "execution_count": 50,
   "id": "fd63e509",
   "metadata": {},
   "outputs": [],
   "source": [
    "# Encode single column Day \n",
    "#\n",
    "accident_df.Month  = le.fit_transform(accident_df.Month)\n",
    "#\n",
    "# Print df.head for checking the transformation"
   ]
  },
  {
   "cell_type": "code",
   "execution_count": 51,
   "id": "638a95eb",
   "metadata": {},
   "outputs": [
    {
     "data": {
      "text/plain": [
       "0           9\n",
       "1           9\n",
       "2           6\n",
       "3           8\n",
       "4           8\n",
       "           ..\n",
       "2207320     1\n",
       "2207321     6\n",
       "2207322    10\n",
       "2207323     7\n",
       "2207324    11\n",
       "Name: Month, Length: 2207325, dtype: int32"
      ]
     },
     "execution_count": 51,
     "metadata": {},
     "output_type": "execute_result"
    }
   ],
   "source": [
    "accident_df['Month']"
   ]
  },
  {
   "cell_type": "code",
   "execution_count": 52,
   "id": "22cf540c",
   "metadata": {
    "scrolled": true
   },
   "outputs": [
    {
     "data": {
      "text/plain": [
       "Severity               int64\n",
       "Start_Lat            float64\n",
       "Start_Lng            float64\n",
       "Distance(mi)         float64\n",
       "Side                   int32\n",
       "City                   int32\n",
       "County                 int32\n",
       "State                  int32\n",
       "Timezone               int32\n",
       "Temperature(F)       float64\n",
       "Wind_Chill(F)        float64\n",
       "Humidity(%)          float64\n",
       "Pressure(in)         float64\n",
       "Visibility(mi)       float64\n",
       "Wind_Direction         int32\n",
       "Wind_Speed(mph)      float64\n",
       "Precipitation(in)    float64\n",
       "Weather_Condition      int32\n",
       "Amenity                int64\n",
       "Crossing               int64\n",
       "Give_Way               int64\n",
       "Junction               int64\n",
       "Railway                int64\n",
       "Station                int64\n",
       "Stop                   int64\n",
       "Traffic_Signal         int64\n",
       "Sunrise_Sunset         int32\n",
       "Year                   int64\n",
       "Month                  int32\n",
       "Day                    int64\n",
       "Hour                   int64\n",
       "Weekday                int32\n",
       "time_duration        float64\n",
       "dtype: object"
      ]
     },
     "execution_count": 52,
     "metadata": {},
     "output_type": "execute_result"
    }
   ],
   "source": [
    "accident_df.dtypes"
   ]
  },
  {
   "cell_type": "markdown",
   "id": "c9e3ef2b",
   "metadata": {},
   "source": [
    "#### Split the Data into Training and Testing"
   ]
  },
  {
   "cell_type": "code",
   "execution_count": 53,
   "id": "c0c81722",
   "metadata": {
    "scrolled": true
   },
   "outputs": [
    {
     "data": {
      "text/html": [
       "<div>\n",
       "<style scoped>\n",
       "    .dataframe tbody tr th:only-of-type {\n",
       "        vertical-align: middle;\n",
       "    }\n",
       "\n",
       "    .dataframe tbody tr th {\n",
       "        vertical-align: top;\n",
       "    }\n",
       "\n",
       "    .dataframe thead th {\n",
       "        text-align: right;\n",
       "    }\n",
       "</style>\n",
       "<table border=\"1\" class=\"dataframe\">\n",
       "  <thead>\n",
       "    <tr style=\"text-align: right;\">\n",
       "      <th></th>\n",
       "      <th>Start_Lat</th>\n",
       "      <th>Start_Lng</th>\n",
       "      <th>Distance(mi)</th>\n",
       "      <th>Side</th>\n",
       "      <th>City</th>\n",
       "      <th>County</th>\n",
       "      <th>State</th>\n",
       "      <th>Timezone</th>\n",
       "      <th>Temperature(F)</th>\n",
       "      <th>Wind_Chill(F)</th>\n",
       "      <th>...</th>\n",
       "      <th>Station</th>\n",
       "      <th>Stop</th>\n",
       "      <th>Traffic_Signal</th>\n",
       "      <th>Sunrise_Sunset</th>\n",
       "      <th>Year</th>\n",
       "      <th>Month</th>\n",
       "      <th>Day</th>\n",
       "      <th>Hour</th>\n",
       "      <th>Weekday</th>\n",
       "      <th>time_duration</th>\n",
       "    </tr>\n",
       "  </thead>\n",
       "  <tbody>\n",
       "    <tr>\n",
       "      <th>0</th>\n",
       "      <td>40.017779</td>\n",
       "      <td>-79.588926</td>\n",
       "      <td>0.019</td>\n",
       "      <td>0</td>\n",
       "      <td>1784</td>\n",
       "      <td>476</td>\n",
       "      <td>36</td>\n",
       "      <td>1</td>\n",
       "      <td>39.0</td>\n",
       "      <td>32.0</td>\n",
       "      <td>...</td>\n",
       "      <td>0</td>\n",
       "      <td>0</td>\n",
       "      <td>0</td>\n",
       "      <td>0</td>\n",
       "      <td>2021</td>\n",
       "      <td>9</td>\n",
       "      <td>29</td>\n",
       "      <td>12</td>\n",
       "      <td>5</td>\n",
       "      <td>152.0</td>\n",
       "    </tr>\n",
       "    <tr>\n",
       "      <th>1</th>\n",
       "      <td>40.358217</td>\n",
       "      <td>-75.481838</td>\n",
       "      <td>0.016</td>\n",
       "      <td>1</td>\n",
       "      <td>3460</td>\n",
       "      <td>929</td>\n",
       "      <td>36</td>\n",
       "      <td>1</td>\n",
       "      <td>36.0</td>\n",
       "      <td>36.0</td>\n",
       "      <td>...</td>\n",
       "      <td>0</td>\n",
       "      <td>0</td>\n",
       "      <td>0</td>\n",
       "      <td>1</td>\n",
       "      <td>2021</td>\n",
       "      <td>9</td>\n",
       "      <td>8</td>\n",
       "      <td>3</td>\n",
       "      <td>5</td>\n",
       "      <td>77.0</td>\n",
       "    </tr>\n",
       "    <tr>\n",
       "      <th>2</th>\n",
       "      <td>34.752959</td>\n",
       "      <td>-92.358407</td>\n",
       "      <td>0.026</td>\n",
       "      <td>0</td>\n",
       "      <td>4865</td>\n",
       "      <td>1128</td>\n",
       "      <td>1</td>\n",
       "      <td>0</td>\n",
       "      <td>90.0</td>\n",
       "      <td>90.0</td>\n",
       "      <td>...</td>\n",
       "      <td>0</td>\n",
       "      <td>0</td>\n",
       "      <td>0</td>\n",
       "      <td>0</td>\n",
       "      <td>2021</td>\n",
       "      <td>6</td>\n",
       "      <td>14</td>\n",
       "      <td>13</td>\n",
       "      <td>5</td>\n",
       "      <td>127.0</td>\n",
       "    </tr>\n",
       "    <tr>\n",
       "      <th>3</th>\n",
       "      <td>34.752616</td>\n",
       "      <td>-92.350012</td>\n",
       "      <td>0.028</td>\n",
       "      <td>1</td>\n",
       "      <td>4865</td>\n",
       "      <td>1128</td>\n",
       "      <td>1</td>\n",
       "      <td>0</td>\n",
       "      <td>77.0</td>\n",
       "      <td>77.0</td>\n",
       "      <td>...</td>\n",
       "      <td>0</td>\n",
       "      <td>0</td>\n",
       "      <td>0</td>\n",
       "      <td>0</td>\n",
       "      <td>2021</td>\n",
       "      <td>8</td>\n",
       "      <td>7</td>\n",
       "      <td>11</td>\n",
       "      <td>2</td>\n",
       "      <td>127.0</td>\n",
       "    </tr>\n",
       "    <tr>\n",
       "      <th>4</th>\n",
       "      <td>39.143345</td>\n",
       "      <td>-121.911514</td>\n",
       "      <td>0.127</td>\n",
       "      <td>0</td>\n",
       "      <td>5452</td>\n",
       "      <td>1345</td>\n",
       "      <td>3</td>\n",
       "      <td>3</td>\n",
       "      <td>73.0</td>\n",
       "      <td>73.0</td>\n",
       "      <td>...</td>\n",
       "      <td>0</td>\n",
       "      <td>0</td>\n",
       "      <td>0</td>\n",
       "      <td>0</td>\n",
       "      <td>2021</td>\n",
       "      <td>8</td>\n",
       "      <td>2</td>\n",
       "      <td>10</td>\n",
       "      <td>1</td>\n",
       "      <td>80.0</td>\n",
       "    </tr>\n",
       "  </tbody>\n",
       "</table>\n",
       "<p>5 rows × 32 columns</p>\n",
       "</div>"
      ],
      "text/plain": [
       "   Start_Lat   Start_Lng  Distance(mi)  Side  City  County  State  Timezone  \\\n",
       "0  40.017779  -79.588926         0.019     0  1784     476     36         1   \n",
       "1  40.358217  -75.481838         0.016     1  3460     929     36         1   \n",
       "2  34.752959  -92.358407         0.026     0  4865    1128      1         0   \n",
       "3  34.752616  -92.350012         0.028     1  4865    1128      1         0   \n",
       "4  39.143345 -121.911514         0.127     0  5452    1345      3         3   \n",
       "\n",
       "   Temperature(F)  Wind_Chill(F)  ...  Station  Stop  Traffic_Signal  \\\n",
       "0            39.0           32.0  ...        0     0               0   \n",
       "1            36.0           36.0  ...        0     0               0   \n",
       "2            90.0           90.0  ...        0     0               0   \n",
       "3            77.0           77.0  ...        0     0               0   \n",
       "4            73.0           73.0  ...        0     0               0   \n",
       "\n",
       "   Sunrise_Sunset  Year  Month  Day  Hour  Weekday  time_duration  \n",
       "0               0  2021      9   29    12        5          152.0  \n",
       "1               1  2021      9    8     3        5           77.0  \n",
       "2               0  2021      6   14    13        5          127.0  \n",
       "3               0  2021      8    7    11        2          127.0  \n",
       "4               0  2021      8    2    10        1           80.0  \n",
       "\n",
       "[5 rows x 32 columns]"
      ]
     },
     "execution_count": 53,
     "metadata": {},
     "output_type": "execute_result"
    }
   ],
   "source": [
    "# Create our features\n",
    "X = accident_df.drop(\"Severity\",axis=1) \n",
    "X.head()"
   ]
  },
  {
   "cell_type": "markdown",
   "id": "4059cbf5",
   "metadata": {},
   "source": [
    "##### Check features variance\n",
    "In this section we are going to check the variance for each feature in order to remove features with a very low variance beacuse they can't help to discriminate instances."
   ]
  },
  {
   "cell_type": "code",
   "execution_count": 54,
   "id": "216c2b01",
   "metadata": {
    "scrolled": true
   },
   "outputs": [
    {
     "data": {
      "text/html": [
       "<div>\n",
       "<style scoped>\n",
       "    .dataframe tbody tr th:only-of-type {\n",
       "        vertical-align: middle;\n",
       "    }\n",
       "\n",
       "    .dataframe tbody tr th {\n",
       "        vertical-align: top;\n",
       "    }\n",
       "\n",
       "    .dataframe thead th {\n",
       "        text-align: right;\n",
       "    }\n",
       "</style>\n",
       "<table border=\"1\" class=\"dataframe\">\n",
       "  <thead>\n",
       "    <tr style=\"text-align: right;\">\n",
       "      <th></th>\n",
       "      <th>Start_Lat</th>\n",
       "      <th>Start_Lng</th>\n",
       "      <th>Distance(mi)</th>\n",
       "      <th>Side</th>\n",
       "      <th>City</th>\n",
       "      <th>County</th>\n",
       "      <th>State</th>\n",
       "      <th>Timezone</th>\n",
       "      <th>Temperature(F)</th>\n",
       "      <th>Wind_Chill(F)</th>\n",
       "      <th>...</th>\n",
       "      <th>Station</th>\n",
       "      <th>Stop</th>\n",
       "      <th>Traffic_Signal</th>\n",
       "      <th>Sunrise_Sunset</th>\n",
       "      <th>Year</th>\n",
       "      <th>Month</th>\n",
       "      <th>Day</th>\n",
       "      <th>Hour</th>\n",
       "      <th>Weekday</th>\n",
       "      <th>time_duration</th>\n",
       "    </tr>\n",
       "  </thead>\n",
       "  <tbody>\n",
       "    <tr>\n",
       "      <th>count</th>\n",
       "      <td>2207325.00</td>\n",
       "      <td>2207325.00</td>\n",
       "      <td>2207325.00</td>\n",
       "      <td>2207325.00</td>\n",
       "      <td>2207325.00</td>\n",
       "      <td>2207325.00</td>\n",
       "      <td>2207325.00</td>\n",
       "      <td>2207325.00</td>\n",
       "      <td>2207325.00</td>\n",
       "      <td>2207325.00</td>\n",
       "      <td>...</td>\n",
       "      <td>2207325.00</td>\n",
       "      <td>2207325.00</td>\n",
       "      <td>2207325.0</td>\n",
       "      <td>2207325.00</td>\n",
       "      <td>2207325.00</td>\n",
       "      <td>2207325.00</td>\n",
       "      <td>2207325.00</td>\n",
       "      <td>2207325.00</td>\n",
       "      <td>2207325.0</td>\n",
       "      <td>2207325.00</td>\n",
       "    </tr>\n",
       "    <tr>\n",
       "      <th>mean</th>\n",
       "      <td>36.01</td>\n",
       "      <td>-96.62</td>\n",
       "      <td>0.70</td>\n",
       "      <td>0.81</td>\n",
       "      <td>4944.89</td>\n",
       "      <td>832.34</td>\n",
       "      <td>18.19</td>\n",
       "      <td>1.55</td>\n",
       "      <td>61.84</td>\n",
       "      <td>60.72</td>\n",
       "      <td>...</td>\n",
       "      <td>0.03</td>\n",
       "      <td>0.02</td>\n",
       "      <td>0.1</td>\n",
       "      <td>0.38</td>\n",
       "      <td>2020.53</td>\n",
       "      <td>5.68</td>\n",
       "      <td>15.15</td>\n",
       "      <td>12.87</td>\n",
       "      <td>3.0</td>\n",
       "      <td>345.64</td>\n",
       "    </tr>\n",
       "    <tr>\n",
       "      <th>std</th>\n",
       "      <td>5.47</td>\n",
       "      <td>18.26</td>\n",
       "      <td>1.51</td>\n",
       "      <td>0.39</td>\n",
       "      <td>2662.24</td>\n",
       "      <td>379.35</td>\n",
       "      <td>15.12</td>\n",
       "      <td>1.12</td>\n",
       "      <td>18.56</td>\n",
       "      <td>20.52</td>\n",
       "      <td>...</td>\n",
       "      <td>0.16</td>\n",
       "      <td>0.14</td>\n",
       "      <td>0.3</td>\n",
       "      <td>0.48</td>\n",
       "      <td>0.72</td>\n",
       "      <td>3.56</td>\n",
       "      <td>8.70</td>\n",
       "      <td>5.93</td>\n",
       "      <td>2.1</td>\n",
       "      <td>9345.67</td>\n",
       "    </tr>\n",
       "    <tr>\n",
       "      <th>min</th>\n",
       "      <td>24.57</td>\n",
       "      <td>-124.55</td>\n",
       "      <td>0.00</td>\n",
       "      <td>0.00</td>\n",
       "      <td>0.00</td>\n",
       "      <td>0.00</td>\n",
       "      <td>0.00</td>\n",
       "      <td>0.00</td>\n",
       "      <td>-33.00</td>\n",
       "      <td>-50.10</td>\n",
       "      <td>...</td>\n",
       "      <td>0.00</td>\n",
       "      <td>0.00</td>\n",
       "      <td>0.0</td>\n",
       "      <td>0.00</td>\n",
       "      <td>2016.00</td>\n",
       "      <td>0.00</td>\n",
       "      <td>0.00</td>\n",
       "      <td>0.00</td>\n",
       "      <td>0.0</td>\n",
       "      <td>2.00</td>\n",
       "    </tr>\n",
       "    <tr>\n",
       "      <th>25%</th>\n",
       "      <td>32.96</td>\n",
       "      <td>-117.98</td>\n",
       "      <td>0.05</td>\n",
       "      <td>1.00</td>\n",
       "      <td>2791.00</td>\n",
       "      <td>571.00</td>\n",
       "      <td>3.00</td>\n",
       "      <td>1.00</td>\n",
       "      <td>50.00</td>\n",
       "      <td>50.00</td>\n",
       "      <td>...</td>\n",
       "      <td>0.00</td>\n",
       "      <td>0.00</td>\n",
       "      <td>0.0</td>\n",
       "      <td>0.00</td>\n",
       "      <td>2020.00</td>\n",
       "      <td>2.00</td>\n",
       "      <td>8.00</td>\n",
       "      <td>8.00</td>\n",
       "      <td>1.0</td>\n",
       "      <td>73.00</td>\n",
       "    </tr>\n",
       "    <tr>\n",
       "      <th>50%</th>\n",
       "      <td>35.74</td>\n",
       "      <td>-91.07</td>\n",
       "      <td>0.21</td>\n",
       "      <td>1.00</td>\n",
       "      <td>5404.00</td>\n",
       "      <td>881.00</td>\n",
       "      <td>10.00</td>\n",
       "      <td>1.00</td>\n",
       "      <td>64.00</td>\n",
       "      <td>64.00</td>\n",
       "      <td>...</td>\n",
       "      <td>0.00</td>\n",
       "      <td>0.00</td>\n",
       "      <td>0.0</td>\n",
       "      <td>0.00</td>\n",
       "      <td>2021.00</td>\n",
       "      <td>6.00</td>\n",
       "      <td>15.00</td>\n",
       "      <td>14.00</td>\n",
       "      <td>3.0</td>\n",
       "      <td>104.00</td>\n",
       "    </tr>\n",
       "    <tr>\n",
       "      <th>75%</th>\n",
       "      <td>40.07</td>\n",
       "      <td>-80.34</td>\n",
       "      <td>0.78</td>\n",
       "      <td>1.00</td>\n",
       "      <td>7191.00</td>\n",
       "      <td>1140.00</td>\n",
       "      <td>35.00</td>\n",
       "      <td>3.00</td>\n",
       "      <td>76.00</td>\n",
       "      <td>76.00</td>\n",
       "      <td>...</td>\n",
       "      <td>0.00</td>\n",
       "      <td>0.00</td>\n",
       "      <td>0.0</td>\n",
       "      <td>1.00</td>\n",
       "      <td>2021.00</td>\n",
       "      <td>9.00</td>\n",
       "      <td>22.00</td>\n",
       "      <td>17.00</td>\n",
       "      <td>5.0</td>\n",
       "      <td>154.00</td>\n",
       "    </tr>\n",
       "    <tr>\n",
       "      <th>max</th>\n",
       "      <td>49.00</td>\n",
       "      <td>-67.48</td>\n",
       "      <td>155.19</td>\n",
       "      <td>1.00</td>\n",
       "      <td>9722.00</td>\n",
       "      <td>1540.00</td>\n",
       "      <td>48.00</td>\n",
       "      <td>3.00</td>\n",
       "      <td>196.00</td>\n",
       "      <td>196.00</td>\n",
       "      <td>...</td>\n",
       "      <td>1.00</td>\n",
       "      <td>1.00</td>\n",
       "      <td>1.0</td>\n",
       "      <td>1.00</td>\n",
       "      <td>2021.00</td>\n",
       "      <td>11.00</td>\n",
       "      <td>30.00</td>\n",
       "      <td>23.00</td>\n",
       "      <td>6.0</td>\n",
       "      <td>961379.00</td>\n",
       "    </tr>\n",
       "  </tbody>\n",
       "</table>\n",
       "<p>8 rows × 32 columns</p>\n",
       "</div>"
      ],
      "text/plain": [
       "        Start_Lat   Start_Lng  Distance(mi)        Side        City  \\\n",
       "count  2207325.00  2207325.00    2207325.00  2207325.00  2207325.00   \n",
       "mean        36.01      -96.62          0.70        0.81     4944.89   \n",
       "std          5.47       18.26          1.51        0.39     2662.24   \n",
       "min         24.57     -124.55          0.00        0.00        0.00   \n",
       "25%         32.96     -117.98          0.05        1.00     2791.00   \n",
       "50%         35.74      -91.07          0.21        1.00     5404.00   \n",
       "75%         40.07      -80.34          0.78        1.00     7191.00   \n",
       "max         49.00      -67.48        155.19        1.00     9722.00   \n",
       "\n",
       "           County       State    Timezone  Temperature(F)  Wind_Chill(F)  ...  \\\n",
       "count  2207325.00  2207325.00  2207325.00      2207325.00     2207325.00  ...   \n",
       "mean       832.34       18.19        1.55           61.84          60.72  ...   \n",
       "std        379.35       15.12        1.12           18.56          20.52  ...   \n",
       "min          0.00        0.00        0.00          -33.00         -50.10  ...   \n",
       "25%        571.00        3.00        1.00           50.00          50.00  ...   \n",
       "50%        881.00       10.00        1.00           64.00          64.00  ...   \n",
       "75%       1140.00       35.00        3.00           76.00          76.00  ...   \n",
       "max       1540.00       48.00        3.00          196.00         196.00  ...   \n",
       "\n",
       "          Station        Stop  Traffic_Signal  Sunrise_Sunset        Year  \\\n",
       "count  2207325.00  2207325.00       2207325.0      2207325.00  2207325.00   \n",
       "mean         0.03        0.02             0.1            0.38     2020.53   \n",
       "std          0.16        0.14             0.3            0.48        0.72   \n",
       "min          0.00        0.00             0.0            0.00     2016.00   \n",
       "25%          0.00        0.00             0.0            0.00     2020.00   \n",
       "50%          0.00        0.00             0.0            0.00     2021.00   \n",
       "75%          0.00        0.00             0.0            1.00     2021.00   \n",
       "max          1.00        1.00             1.0            1.00     2021.00   \n",
       "\n",
       "            Month         Day        Hour    Weekday  time_duration  \n",
       "count  2207325.00  2207325.00  2207325.00  2207325.0     2207325.00  \n",
       "mean         5.68       15.15       12.87        3.0         345.64  \n",
       "std          3.56        8.70        5.93        2.1        9345.67  \n",
       "min          0.00        0.00        0.00        0.0           2.00  \n",
       "25%          2.00        8.00        8.00        1.0          73.00  \n",
       "50%          6.00       15.00       14.00        3.0         104.00  \n",
       "75%          9.00       22.00       17.00        5.0         154.00  \n",
       "max         11.00       30.00       23.00        6.0      961379.00  \n",
       "\n",
       "[8 rows x 32 columns]"
      ]
     },
     "execution_count": 54,
     "metadata": {},
     "output_type": "execute_result"
    }
   ],
   "source": [
    "X.describe().round(2)"
   ]
  },
  {
   "cell_type": "code",
   "execution_count": 55,
   "id": "a39f08f7",
   "metadata": {},
   "outputs": [
    {
     "data": {
      "text/plain": [
       "count    2207325.00\n",
       "mean           0.01\n",
       "std            0.06\n",
       "min            0.00\n",
       "25%            0.00\n",
       "50%            0.00\n",
       "75%            0.00\n",
       "max           24.00\n",
       "Name: Precipitation(in), dtype: float64"
      ]
     },
     "execution_count": 55,
     "metadata": {},
     "output_type": "execute_result"
    }
   ],
   "source": [
    "X['Precipitation(in)'].describe().round(2)"
   ]
  },
  {
   "cell_type": "code",
   "execution_count": 56,
   "id": "c971024e",
   "metadata": {},
   "outputs": [
    {
     "data": {
      "text/plain": [
       "count    2207325.00\n",
       "mean          29.37\n",
       "std            1.09\n",
       "min           16.72\n",
       "25%           29.21\n",
       "50%           29.73\n",
       "75%           29.97\n",
       "max           58.90\n",
       "Name: Pressure(in), dtype: float64"
      ]
     },
     "execution_count": 56,
     "metadata": {},
     "output_type": "execute_result"
    }
   ],
   "source": [
    "X['Pressure(in)'].describe().round(2)"
   ]
  },
  {
   "cell_type": "markdown",
   "id": "ab124017",
   "metadata": {},
   "source": [
    "Even though Precipitation and Pressure have a small variance, there is no need to drop them since they usually have small increments."
   ]
  },
  {
   "cell_type": "code",
   "execution_count": 57,
   "id": "c31f1631",
   "metadata": {
    "scrolled": true
   },
   "outputs": [
    {
     "data": {
      "text/plain": [
       "2    2057075\n",
       "3      64588\n",
       "4      62106\n",
       "1      23556\n",
       "Name: Severity, dtype: int64"
      ]
     },
     "execution_count": 57,
     "metadata": {},
     "output_type": "execute_result"
    }
   ],
   "source": [
    "#Create our target\n",
    "y = accident_df['Severity']\n",
    "y.value_counts()"
   ]
  },
  {
   "cell_type": "code",
   "execution_count": 58,
   "id": "a1cdfb3c",
   "metadata": {
    "scrolled": true
   },
   "outputs": [
    {
     "data": {
      "text/plain": [
       "(2207325, 32)"
      ]
     },
     "execution_count": 58,
     "metadata": {},
     "output_type": "execute_result"
    }
   ],
   "source": [
    "# examine shape of X\n",
    "\n",
    "X.shape"
   ]
  },
  {
   "cell_type": "code",
   "execution_count": null,
   "id": "add4c602",
   "metadata": {
    "scrolled": true
   },
   "outputs": [],
   "source": []
  },
  {
   "cell_type": "code",
   "execution_count": 59,
   "id": "227d2ec6",
   "metadata": {
    "scrolled": true
   },
   "outputs": [
    {
     "data": {
      "text/plain": [
       "(2207325,)"
      ]
     },
     "execution_count": 59,
     "metadata": {},
     "output_type": "execute_result"
    }
   ],
   "source": [
    "y.shape"
   ]
  },
  {
   "cell_type": "markdown",
   "id": "18aae6d6",
   "metadata": {},
   "source": [
    "#### Split encoded Data into Training and Testing"
   ]
  },
  {
   "cell_type": "code",
   "execution_count": 60,
   "id": "6ef58a4e",
   "metadata": {
    "scrolled": true
   },
   "outputs": [],
   "source": [
    "from sklearn.model_selection import train_test_split\n",
    "X_train,X_test,y_train,y_test = train_test_split(X,y, random_state = 1)"
   ]
  },
  {
   "cell_type": "code",
   "execution_count": 61,
   "id": "f396e3ba",
   "metadata": {
    "scrolled": true
   },
   "outputs": [],
   "source": [
    "X_train = X_train.replace((np.inf, -np.inf, np.nan), 0).reset_index(drop=True)"
   ]
  },
  {
   "cell_type": "markdown",
   "id": "8f5b1046",
   "metadata": {},
   "source": [
    "###### Standered Scaler to scale data"
   ]
  },
  {
   "cell_type": "code",
   "execution_count": 62,
   "id": "48eb7da2",
   "metadata": {},
   "outputs": [],
   "source": [
    "#from sklearn.preprocessing import StandardScaler\n",
    "# Create a StandardScaler instances\n",
    "#scaler = StandardScaler()\n",
    "\n",
    "# Fit the StandardScaler\n",
    "#X_scaler = scaler.fit(X_train)\n",
    "\n",
    "# Scale the data\n",
    "#X_train_scaled = X_scaler.transform(X_train)\n",
    "#X_test_scaled = X_scaler.transform(X_test)"
   ]
  },
  {
   "cell_type": "code",
   "execution_count": 63,
   "id": "b487746a",
   "metadata": {
    "scrolled": true
   },
   "outputs": [
    {
     "data": {
      "text/plain": [
       "2    1542695\n",
       "3      48586\n",
       "4      46549\n",
       "1      17663\n",
       "Name: Severity, dtype: int64"
      ]
     },
     "execution_count": 63,
     "metadata": {},
     "output_type": "execute_result"
    }
   ],
   "source": [
    "y_train.value_counts()"
   ]
  },
  {
   "cell_type": "markdown",
   "id": "3453a09b",
   "metadata": {},
   "source": [
    "### Handle unbalanced data"
   ]
  },
  {
   "cell_type": "code",
   "execution_count": 64,
   "id": "e6267391",
   "metadata": {
    "scrolled": true
   },
   "outputs": [
    {
     "data": {
      "image/png": "[encoded data removed]",
      "text/plain": [
       "<Figure size 720x576 with 1 Axes>"
      ]
     },
     "metadata": {
      "needs_background": "light"
     },
     "output_type": "display_data"
    }
   ],
   "source": [
    "# imbalanced data set\n",
    "import matplotlib.pyplot \n",
    "from scipy import stats\n",
    "import matplotlib.pyplot as plt\n",
    "import seaborn as sns\n",
    "\n",
    "severity_counts = y_train.value_counts()\n",
    "\n",
    "plt.figure(figsize=(10, 8))\n",
    "plt.title(\"Histogram for the severity\")\n",
    "sns.barplot(severity_counts.index, severity_counts.values)\n",
    "plt.xlabel(\"Severity\")\n",
    "plt.ylabel(\"Value\")\n",
    "plt.show()"
   ]
  },
  {
   "cell_type": "markdown",
   "id": "21a88cb9",
   "metadata": {},
   "source": [
    "### Model\n",
    "By testing mock accident datset (with 50000) raws we desided to use below algorthems for whole US accident datset\n",
    "Naive Random Oversampling\n",
    "\n",
    "Balanced Random Forest Classifier\n",
    "\n",
    "AdaBoost classifier"
   ]
  },
  {
   "cell_type": "markdown",
   "id": "b857e746",
   "metadata": {},
   "source": [
    "### Oversampling\n",
    "###### In this section, compared two oversampling algorithms to determine which algorithm results in the best performance.And oversampled the data using the naive random oversampling algorithm and the SMOTE algorithm. \n"
   ]
  },
  {
   "cell_type": "markdown",
   "id": "1a668d31",
   "metadata": {},
   "source": [
    "#### Naive Random Oversampling"
   ]
  },
  {
   "cell_type": "code",
   "execution_count": 65,
   "id": "adc08ccf",
   "metadata": {
    "scrolled": true
   },
   "outputs": [],
   "source": [
    "# Resample the training data with the RandomOversampler\n",
    "from imblearn.over_sampling import RandomOverSampler\n",
    "ros = RandomOverSampler(random_state=1)\n",
    "#X_resampled,y_resampled =ros.fit_resample(X_train_scaled,y_train)\n",
    "X_resampled,y_resampled =ros.fit_resample(X_train,y_train)"
   ]
  },
  {
   "cell_type": "code",
   "execution_count": 66,
   "id": "eadaca2e",
   "metadata": {
    "scrolled": true
   },
   "outputs": [
    {
     "data": {
      "text/plain": [
       "Counter({2: 1542695, 3: 1542695, 4: 1542695, 1: 1542695})"
      ]
     },
     "execution_count": 66,
     "metadata": {},
     "output_type": "execute_result"
    }
   ],
   "source": [
    "# what is the \"balance\" or mix between Severity\n",
    "Counter(y_resampled)"
   ]
  },
  {
   "cell_type": "code",
   "execution_count": 67,
   "id": "09b641ff",
   "metadata": {
    "scrolled": true
   },
   "outputs": [
    {
     "data": {
      "image/png": "[encoded data removed]",
      "text/plain": [
       "<Figure size 720x576 with 1 Axes>"
      ]
     },
     "metadata": {
      "needs_background": "light"
     },
     "output_type": "display_data"
    }
   ],
   "source": [
    "severity_counts = y_resampled.value_counts()\n",
    "\n",
    "plt.figure(figsize=(10, 8))\n",
    "plt.title(\"Histogram for the severity\")\n",
    "sns.barplot(severity_counts.index, severity_counts.values)\n",
    "plt.xlabel(\"Severity\")\n",
    "plt.ylabel(\"Value\")\n",
    "plt.show()"
   ]
  },
  {
   "cell_type": "code",
   "execution_count": 68,
   "id": "2e608bdd",
   "metadata": {
    "scrolled": true
   },
   "outputs": [],
   "source": [
    "# Train the Logistic Regression model using the resampled data\n",
    "#model\n",
    "from sklearn.linear_model import LogisticRegression\n",
    "\n",
    "clf = LogisticRegression(solver='lbfgs',random_state=1)\n",
    "#fit\n",
    "clf.fit(X_resampled,y_resampled)\n",
    "#predict using the predict method\n",
    "y_pred = clf.predict(X_test)"
   ]
  },
  {
   "cell_type": "code",
   "execution_count": 69,
   "id": "44532482",
   "metadata": {
    "scrolled": true
   },
   "outputs": [
    {
     "data": {
      "text/plain": [
       "0.4731558143660684"
      ]
     },
     "execution_count": 69,
     "metadata": {},
     "output_type": "execute_result"
    }
   ],
   "source": [
    "# Calculated the balanced accuracy score\n",
    "from sklearn.metrics import balanced_accuracy_score\n",
    "Naive_acuracy = balanced_accuracy_score(y_test,y_pred)\n",
    "Naive_acuracy"
   ]
  },
  {
   "cell_type": "code",
   "execution_count": 70,
   "id": "41669d1c",
   "metadata": {
    "scrolled": true
   },
   "outputs": [
    {
     "data": {
      "text/plain": [
       "array([[  4234,    180,   1308,    171],\n",
       "       [ 71715, 214606,  95837, 132222],\n",
       "       [  7605,    672,   6596,   1129],\n",
       "       [  3804,   2658,   3732,   5363]], dtype=int64)"
      ]
     },
     "execution_count": 70,
     "metadata": {},
     "output_type": "execute_result"
    }
   ],
   "source": [
    "# Display the confusion matrix\n",
    "cm = confusion_matrix(y_test,y_pred,labels=clf.classes_)\n",
    "cm"
   ]
  },
  {
   "cell_type": "code",
   "execution_count": 71,
   "id": "40814afe",
   "metadata": {
    "scrolled": true
   },
   "outputs": [
    {
     "data": {
      "text/plain": [
       "<sklearn.metrics._plot.confusion_matrix.ConfusionMatrixDisplay at 0x2bea01cbb20>"
      ]
     },
     "execution_count": 71,
     "metadata": {},
     "output_type": "execute_result"
    },
    {
     "data": {
      "image/png": "[encoded data removed]",
      "text/plain": [
       "<Figure size 432x288 with 2 Axes>"
      ]
     },
     "metadata": {
      "needs_background": "light"
     },
     "output_type": "display_data"
    }
   ],
   "source": [
    "from sklearn.metrics import ConfusionMatrixDisplay\n",
    "disp = ConfusionMatrixDisplay(confusion_matrix=cm,display_labels= clf.classes_)\n",
    "disp.plot()"
   ]
  },
  {
   "cell_type": "code",
   "execution_count": 72,
   "id": "b033de07",
   "metadata": {
    "scrolled": true
   },
   "outputs": [
    {
     "name": "stdout",
     "output_type": "stream",
     "text": [
      "                   pre       rec       spe        f1       geo       iba       sup\n",
      "\n",
      "          1       0.05      0.72      0.85      0.09      0.78      0.60      5893\n",
      "          2       0.98      0.42      0.91      0.59      0.61      0.36    514380\n",
      "          3       0.06      0.41      0.81      0.11      0.58      0.32     16002\n",
      "          4       0.04      0.34      0.75      0.07      0.51      0.25     15557\n",
      "\n",
      "avg / total       0.92      0.42      0.90      0.55      0.61      0.36    551832\n",
      "\n"
     ]
    }
   ],
   "source": [
    "# Print the imbalanced classification report\n",
    "print(classification_report_imbalanced(y_test, y_pred))"
   ]
  },
  {
   "cell_type": "markdown",
   "id": "62740077",
   "metadata": {},
   "source": [
    "#### Ensemble Learners\n",
    "###### In this section,  compared two ensemble algorithms to determine which algorithm results in the best performance. trained a Balanced Random Forest Classifier and an Easy Ensemble AdaBoost classifier ."
   ]
  },
  {
   "cell_type": "markdown",
   "id": "e33f8f86",
   "metadata": {},
   "source": [
    "#### Balanced Random Forest Classifier"
   ]
  },
  {
   "cell_type": "code",
   "execution_count": 73,
   "id": "396fa805",
   "metadata": {},
   "outputs": [],
   "source": [
    "# Resample the training data with the BalancedRandomForestClassifier\n",
    "\n",
    "#model\n",
    "brf_model = BalancedRandomForestClassifier(random_state=1, n_estimators=200)\n",
    "#fit\n",
    "brf_model = brf_model.fit(X_train, y_train)\n",
    "\n",
    "#predict\n",
    "predictions = brf_model.predict(X_test)"
   ]
  },
  {
   "cell_type": "code",
   "execution_count": 74,
   "id": "d36b47b6",
   "metadata": {},
   "outputs": [
    {
     "data": {
      "text/plain": [
       "0.8282682562848659"
      ]
     },
     "execution_count": 74,
     "metadata": {},
     "output_type": "execute_result"
    }
   ],
   "source": [
    "# Calculated the balanced accuracy score\n",
    "RandomForest_accuracy = balanced_accuracy_score(y_test,predictions)\n",
    "RandomForest_accuracy\n"
   ]
  },
  {
   "cell_type": "code",
   "execution_count": 75,
   "id": "42fb8bf6",
   "metadata": {
    "scrolled": true
   },
   "outputs": [
    {
     "data": {
      "text/html": [
       "<div>\n",
       "<style scoped>\n",
       "    .dataframe tbody tr th:only-of-type {\n",
       "        vertical-align: middle;\n",
       "    }\n",
       "\n",
       "    .dataframe tbody tr th {\n",
       "        vertical-align: top;\n",
       "    }\n",
       "\n",
       "    .dataframe thead th {\n",
       "        text-align: right;\n",
       "    }\n",
       "</style>\n",
       "<table border=\"1\" class=\"dataframe\">\n",
       "  <thead>\n",
       "    <tr style=\"text-align: right;\">\n",
       "      <th></th>\n",
       "      <th>Predicted 0</th>\n",
       "      <th>Predicted 1</th>\n",
       "      <th>Predicted 2</th>\n",
       "      <th>Predicted 3</th>\n",
       "    </tr>\n",
       "  </thead>\n",
       "  <tbody>\n",
       "    <tr>\n",
       "      <th>Actual 0</th>\n",
       "      <td>5536</td>\n",
       "      <td>0</td>\n",
       "      <td>315</td>\n",
       "      <td>42</td>\n",
       "    </tr>\n",
       "    <tr>\n",
       "      <th>Actual 1</th>\n",
       "      <td>8587</td>\n",
       "      <td>427222</td>\n",
       "      <td>22541</td>\n",
       "      <td>56030</td>\n",
       "    </tr>\n",
       "    <tr>\n",
       "      <th>Actual 2</th>\n",
       "      <td>1095</td>\n",
       "      <td>215</td>\n",
       "      <td>13235</td>\n",
       "      <td>1457</td>\n",
       "    </tr>\n",
       "    <tr>\n",
       "      <th>Actual 3</th>\n",
       "      <td>352</td>\n",
       "      <td>2003</td>\n",
       "      <td>2063</td>\n",
       "      <td>11139</td>\n",
       "    </tr>\n",
       "  </tbody>\n",
       "</table>\n",
       "</div>"
      ],
      "text/plain": [
       "          Predicted 0  Predicted 1  Predicted 2  Predicted 3\n",
       "Actual 0         5536            0          315           42\n",
       "Actual 1         8587       427222        22541        56030\n",
       "Actual 2         1095          215        13235         1457\n",
       "Actual 3          352         2003         2063        11139"
      ]
     },
     "execution_count": 75,
     "metadata": {},
     "output_type": "execute_result"
    }
   ],
   "source": [
    "# Calculating the confusion matrix.\n",
    "cm = confusion_matrix(y_test, predictions)\n",
    "\n",
    "# Create a DataFrame from the confusion matrix.\n",
    "cm_df = pd.DataFrame(\n",
    "    cm, index=[\"Actual 0\", \"Actual 1\",\"Actual 2\", \"Actual 3\"], columns=[\"Predicted 0\", \"Predicted 1\",\"Predicted 2\", \"Predicted 3\"])\n",
    "\n",
    "cm_df"
   ]
  },
  {
   "cell_type": "code",
   "execution_count": 76,
   "id": "5d118bc9",
   "metadata": {
    "scrolled": true
   },
   "outputs": [
    {
     "name": "stdout",
     "output_type": "stream",
     "text": [
      "                   pre       rec       spe        f1       geo       iba       sup\n",
      "\n",
      "          1       0.36      0.94      0.98      0.52      0.96      0.92      5893\n",
      "          2       0.99      0.83      0.94      0.91      0.88      0.77    514380\n",
      "          3       0.35      0.83      0.95      0.49      0.89      0.78     16002\n",
      "          4       0.16      0.72      0.89      0.26      0.80      0.63     15557\n",
      "\n",
      "avg / total       0.95      0.83      0.94      0.87      0.88      0.77    551832\n",
      "\n"
     ]
    }
   ],
   "source": [
    "# Print the imbalanced classification report\n",
    "print(classification_report_imbalanced(y_test, predictions))"
   ]
  },
  {
   "cell_type": "code",
   "execution_count": 77,
   "id": "ee6e7958",
   "metadata": {
    "scrolled": true
   },
   "outputs": [
    {
     "data": {
      "text/plain": [
       "[(0.11871342712976353, 'time_duration'),\n",
       " (0.11801873136728051, 'Distance(mi)'),\n",
       " (0.10406652432262242, 'Year'),\n",
       " (0.08739942484772453, 'Start_Lng'),\n",
       " (0.08251959768728306, 'Start_Lat'),\n",
       " (0.0457665476029537, 'State'),\n",
       " (0.04271156787315825, 'Pressure(in)'),\n",
       " (0.03588971529393809, 'Month'),\n",
       " (0.033174105269417296, 'County'),\n",
       " (0.032379147772793875, 'City'),\n",
       " (0.031050259728677004, 'Humidity(%)'),\n",
       " (0.029338904150356372, 'Temperature(F)'),\n",
       " (0.0292852527026022, 'Wind_Chill(F)'),\n",
       " (0.0271898464186041, 'Hour'),\n",
       " (0.025096877005376366, 'Day'),\n",
       " (0.022700351189995093, 'Timezone'),\n",
       " (0.02103228756758055, 'Wind_Speed(mph)'),\n",
       " (0.020339081415260942, 'Wind_Direction'),\n",
       " (0.016267140566087936, 'Weekday'),\n",
       " (0.014934929316676207, 'Traffic_Signal'),\n",
       " (0.014488501000175713, 'Weather_Condition'),\n",
       " (0.011210567113317213, 'Crossing'),\n",
       " (0.008252669305536095, 'Side'),\n",
       " (0.008087976587139223, 'Visibility(mi)'),\n",
       " (0.006733038609766684, 'Sunrise_Sunset'),\n",
       " (0.005053446762918434, 'Junction'),\n",
       " (0.004763632044147213, 'Precipitation(in)'),\n",
       " (0.0010790316403584573, 'Stop'),\n",
       " (0.0010125721764290979, 'Station'),\n",
       " (0.0006380444411984641, 'Amenity'),\n",
       " (0.0005407434414284664, 'Railway'),\n",
       " (0.00026605764943295955, 'Give_Way')]"
      ]
     },
     "execution_count": 77,
     "metadata": {},
     "output_type": "execute_result"
    }
   ],
   "source": [
    "# We can sort the features by their importance.\n",
    "sorted (zip(brf_model.feature_importances_,X.columns),reverse=True)"
   ]
  },
  {
   "cell_type": "code",
   "execution_count": 78,
   "id": "4df21dcf",
   "metadata": {
    "scrolled": true
   },
   "outputs": [
    {
     "data": {
      "image/png": "[encoded data removed]",
      "text/plain": [
       "<Figure size 1080x720 with 1 Axes>"
      ]
     },
     "metadata": {
      "needs_background": "light"
     },
     "output_type": "display_data"
    }
   ],
   "source": [
    "importances = pd.DataFrame(np.zeros((X_train.shape[1], 1)), columns=[\"importance\"], index=X_train.columns)\n",
    "\n",
    "importances.iloc[:,0] = brf_model.feature_importances_\n",
    "\n",
    "importances = importances.sort_values(by=\"importance\", ascending=False)[:40]\n",
    "\n",
    "plt.figure(figsize=(15, 10))\n",
    "sns.barplot(x=\"importance\", y=importances.index, data=importances)\n",
    "plt.show()"
   ]
  },
  {
   "cell_type": "markdown",
   "id": "9e46397f",
   "metadata": {},
   "source": [
    "#### Easy Ensemble AdaBoost classifier ."
   ]
  },
  {
   "cell_type": "code",
   "execution_count": 79,
   "id": "f3a814a0",
   "metadata": {},
   "outputs": [],
   "source": [
    "# Train the EasyEnsembleClassifier\n",
    "# YOUR CODE HERE\n",
    "from imblearn.ensemble import EasyEnsembleClassifier\n",
    "#model\n",
    "ee_clf = EasyEnsembleClassifier(n_estimators=100,random_state=1)\n",
    "#fit/train\n",
    "ee_clf.fit(X_train,y_train)\n",
    "#predict\n",
    "y_pred=ee_clf.predict(X_test)"
   ]
  },
  {
   "cell_type": "code",
   "execution_count": 80,
   "id": "ebc05527",
   "metadata": {},
   "outputs": [
    {
     "data": {
      "text/plain": [
       "0.6267950728439297"
      ]
     },
     "execution_count": 80,
     "metadata": {},
     "output_type": "execute_result"
    }
   ],
   "source": [
    "# Calculated the balanced accuracy score\n",
    "AdaBoost_classifier_accuracy = balanced_accuracy_score(y_test,y_pred)\n",
    "AdaBoost_classifier_accuracy"
   ]
  },
  {
   "cell_type": "code",
   "execution_count": 81,
   "id": "68411320",
   "metadata": {},
   "outputs": [
    {
     "data": {
      "text/plain": [
       "array([[  5177,     46,    594,     76],\n",
       "       [ 15959, 316244,  20539, 161638],\n",
       "       [  2563,    328,   9535,   3576],\n",
       "       [   477,   4647,   3930,   6503]], dtype=int64)"
      ]
     },
     "execution_count": 81,
     "metadata": {},
     "output_type": "execute_result"
    }
   ],
   "source": [
    "# Display the confusion matrix\n",
    "confusion_matrix(y_test,y_pred)"
   ]
  },
  {
   "cell_type": "code",
   "execution_count": 82,
   "id": "d9918049",
   "metadata": {},
   "outputs": [
    {
     "name": "stdout",
     "output_type": "stream",
     "text": [
      "                   pre       rec       spe        f1       geo       iba       sup\n",
      "\n",
      "          1       0.21      0.88      0.97      0.34      0.92      0.84      5893\n",
      "          2       0.98      0.61      0.87      0.76      0.73      0.52    514380\n",
      "          3       0.28      0.60      0.95      0.38      0.75      0.55     16002\n",
      "          4       0.04      0.42      0.69      0.07      0.54      0.28     15557\n",
      "\n",
      "avg / total       0.93      0.61      0.86      0.72      0.73      0.52    551832\n",
      "\n"
     ]
    }
   ],
   "source": [
    "# Print the imbalanced classification report\n",
    "print(classification_report_imbalanced(y_test, y_pred))"
   ]
  },
  {
   "cell_type": "code",
   "execution_count": 83,
   "id": "35c24581",
   "metadata": {},
   "outputs": [
    {
     "data": {
      "text/html": [
       "<div>\n",
       "<style scoped>\n",
       "    .dataframe tbody tr th:only-of-type {\n",
       "        vertical-align: middle;\n",
       "    }\n",
       "\n",
       "    .dataframe tbody tr th {\n",
       "        vertical-align: top;\n",
       "    }\n",
       "\n",
       "    .dataframe thead th {\n",
       "        text-align: right;\n",
       "    }\n",
       "</style>\n",
       "<table border=\"1\" class=\"dataframe\">\n",
       "  <thead>\n",
       "    <tr style=\"text-align: right;\">\n",
       "      <th></th>\n",
       "      <th>Algorithm</th>\n",
       "      <th>Acuuracy_Score</th>\n",
       "    </tr>\n",
       "  </thead>\n",
       "  <tbody>\n",
       "    <tr>\n",
       "      <th>0</th>\n",
       "      <td>Naive Random Oversampling</td>\n",
       "      <td>47.315581</td>\n",
       "    </tr>\n",
       "    <tr>\n",
       "      <th>1</th>\n",
       "      <td>Random Forest Classifier</td>\n",
       "      <td>82.826826</td>\n",
       "    </tr>\n",
       "    <tr>\n",
       "      <th>2</th>\n",
       "      <td>Easy Ensemble AdaBoost classifier</td>\n",
       "      <td>62.679507</td>\n",
       "    </tr>\n",
       "  </tbody>\n",
       "</table>\n",
       "</div>"
      ],
      "text/plain": [
       "                           Algorithm  Acuuracy_Score\n",
       "0          Naive Random Oversampling       47.315581\n",
       "1           Random Forest Classifier       82.826826\n",
       "2  Easy Ensemble AdaBoost classifier       62.679507"
      ]
     },
     "execution_count": 83,
     "metadata": {},
     "output_type": "execute_result"
    }
   ],
   "source": [
    "# Report\n",
    "#train_data=[(accuracy_train*100), (tree_accuracy_train*100), (rf_train_accuracy*100),(xgb_accuracy_train*100)]\n",
    "accuracy=[(Naive_acuracy*100),(RandomForest_accuracy*100),(AdaBoost_classifier_accuracy*100)]\n",
    "\n",
    "#F1_score = [f1_lr,f1_tree,f1_rf,f1_xgb]\n",
    "\n",
    "    \n",
    "df = {'Algorithm': ['Naive Random Oversampling','Random Forest Classifier','Easy Ensemble AdaBoost classifier'], \\\n",
    "      'Acuuracy_Score':accuracy}\n",
    "\n",
    "#Report = pd.DataFrame(data=df, columns=['Algorithm','Train Data', 'Test Data', 'F1-score'], index=None)\n",
    "Report = pd.DataFrame(data=df, columns=['Algorithm','Acuuracy_Score'], index=None)\n",
    "Report"
   ]
  },
  {
   "cell_type": "code",
   "execution_count": null,
   "id": "e00f2c2c",
   "metadata": {},
   "outputs": [],
   "source": []
  }
 ],
 "metadata": {
  "kernelspec": {
   "display_name": "mlenv",
   "language": "python",
   "name": "mlenv"
  },
  "language_info": {
   "codemirror_mode": {
    "name": "ipython",
    "version": 3
   },
   "file_extension": ".py",
   "mimetype": "text/x-python",
   "name": "python",
   "nbconvert_exporter": "python",
   "pygments_lexer": "ipython3",
   "version": "3.9.7"
  }
 },
 "nbformat": 4,
 "nbformat_minor": 5
}
